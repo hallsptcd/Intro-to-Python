{
 "cells": [
  {
   "cell_type": "markdown",
   "metadata": {},
   "source": [
    "# Introduction to Python <a class=\"anchor\" id=\"top\"></a>"
   ]
  },
  {
   "cell_type": "markdown",
   "metadata": {},
   "source": [
    "**Simon Hall**"
   ]
  },
  {
   "cell_type": "markdown",
   "metadata": {},
   "source": [
    "This notebook is an introduction to the world of Python. We'll begin with a review of data types, operators, functions, and then move to the main data structures used in Python: *tuples*, *lists*, *dictionaries* and *sets*. We will also look at more advanced features, such as lambdas and list comprehensions."
   ]
  },
  {
   "cell_type": "markdown",
   "metadata": {},
   "source": [
    "## Contents:\n",
    "* [1. Data Types](#first-bullet)\n",
    "     * [Numbers](#numbers-bullet)\n",
    "     * [Strings](#strings-bullet)\n",
    "     * [Booleans](#bools-bullet)\n",
    "     * [None and NaN](#none-bullet)\n",
    "     * [Coverting Types](#conv-bullet)\n",
    "* [2. Operators](#second-bullet)\n",
    "* [3. Functions](#third-bullet)\n",
    "     * [Chaining Functions](#chains-bullet)\n",
    "     * [Mapping Functions](#maps-bullet)\n",
    "     * [Lambdas](#lambdas-bullet)\n",
    "* [4. IF Statements and Loops](#fourth-bullet)\n",
    "     * [IF Statements](#ifs-bullet)\n",
    "     * [FOR Loops](#fors-bullet)\n",
    "     * [WHILE Loops](#whiles-bullet)\n",
    "* [5. Data Structures](#fifth-bullet)\n",
    "     * [Tuples](#tuples-bullet)\n",
    "     * [Lists](#lists-bullet)\n",
    "     * [Dictionaries](#dicts-bullet)\n",
    "     * [Sets](#sets-bullet)\n",
    "* [6. NumPy and Pandas](#sixth-bullet)\n",
    "     * [NumPy](#numpy-bullet)\n",
    "     * [Pandas](#pandas-bullet)\n",
    "* [7. Classes](#seventh-bullet)\n",
    "* [8. Web Scraping](#eighth-bullet)"
   ]
  },
  {
   "cell_type": "markdown",
   "metadata": {},
   "source": [
    "## 1. Data Types <a class=\"anchor\" id=\"first-bullet\"></a>"
   ]
  },
  {
   "cell_type": "markdown",
   "metadata": {},
   "source": [
    "[TOP ↑](#top)"
   ]
  },
  {
   "cell_type": "markdown",
   "metadata": {},
   "source": [
    "Python is an object-oriented language, so data is typically stored and manipulated in objects or structures. The data contains values which have their own **type**, which tells us whether that value is a number, a string, or a boolean. You can check the type of a variable using the **type()** function."
   ]
  },
  {
   "cell_type": "markdown",
   "metadata": {},
   "source": [
    "### Numbers <a class=\"anchor\" id=\"numbers-bullet\"></a>"
   ]
  },
  {
   "cell_type": "markdown",
   "metadata": {},
   "source": [
    "[TOP ↑](#top)"
   ]
  },
  {
   "cell_type": "markdown",
   "metadata": {},
   "source": [
    "There are two number types: *integer* and *float*."
   ]
  },
  {
   "cell_type": "code",
   "execution_count": 2,
   "metadata": {},
   "outputs": [
    {
     "data": {
      "text/plain": [
       "int"
      ]
     },
     "execution_count": 2,
     "metadata": {},
     "output_type": "execute_result"
    }
   ],
   "source": [
    "# The integer type is referred to as int\n",
    "count = 8\n",
    "type(count)"
   ]
  },
  {
   "cell_type": "code",
   "execution_count": 2,
   "metadata": {},
   "outputs": [
    {
     "data": {
      "text/plain": [
       "float"
      ]
     },
     "execution_count": 2,
     "metadata": {},
     "output_type": "execute_result"
    }
   ],
   "source": [
    "# All decimals are float type\n",
    "distance = 5\n",
    "time = 8\n",
    "velocity = distance / time\n",
    "type(velocity)"
   ]
  },
  {
   "cell_type": "code",
   "execution_count": 3,
   "metadata": {},
   "outputs": [
    {
     "name": "stdout",
     "output_type": "stream",
     "text": [
      "0.625\n"
     ]
    }
   ],
   "source": [
    "print(velocity)"
   ]
  },
  {
   "cell_type": "markdown",
   "metadata": {},
   "source": [
    "### Strings <a class=\"anchor\" id=\"strings-bullet\"></a>"
   ]
  },
  {
   "cell_type": "markdown",
   "metadata": {},
   "source": [
    "[TOP ↑](#top)"
   ]
  },
  {
   "cell_type": "markdown",
   "metadata": {},
   "source": [
    "A *string* is a character or text type."
   ]
  },
  {
   "cell_type": "code",
   "execution_count": 6,
   "metadata": {},
   "outputs": [
    {
     "data": {
      "text/plain": [
       "str"
      ]
     },
     "execution_count": 6,
     "metadata": {},
     "output_type": "execute_result"
    }
   ],
   "source": [
    "# The string type is referred to as str\n",
    "first_name = \"Simon\"\n",
    "type(first_name)"
   ]
  },
  {
   "cell_type": "code",
   "execution_count": 8,
   "metadata": {},
   "outputs": [
    {
     "data": {
      "text/plain": [
       "str"
      ]
     },
     "execution_count": 8,
     "metadata": {},
     "output_type": "execute_result"
    }
   ],
   "source": [
    "# You can use single or double quotes\n",
    "surname = 'Hall'\n",
    "type(surname)"
   ]
  },
  {
   "cell_type": "markdown",
   "metadata": {},
   "source": [
    "We can output strings using the **print()** function. This requires the output variables to be strings. However, in order to place other variables inside a string for output, we can use format strings or f-strings, generated by putting the letter f just before a string. If we prefix a string with f we can add a variable using curly brackets. The interpreter will then convert the variable to a string."
   ]
  },
  {
   "cell_type": "code",
   "execution_count": 1,
   "metadata": {},
   "outputs": [
    {
     "name": "stdout",
     "output_type": "stream",
     "text": [
      "Hello Simon\n",
      "The answer to life, the universe and everything is 42\n",
      "The answer to life, the universe and everything is 42\n"
     ]
    }
   ],
   "source": [
    "# Formerly, without using f-strings, we could do this:\n",
    "name = \"Simon\"\n",
    "greeting = \"Hello \" + name\n",
    "print(greeting)\n",
    "\n",
    "# The output must be a string, so we often have to convert using str()\n",
    "answer = 42\n",
    "line = \"The answer to life, the universe and everything is \" + str(answer)\n",
    "print(line)\n",
    "\n",
    "# The easiest method is to use an f-string\n",
    "line = f\"The answer to life, the universe and everything is {answer}\"\n",
    "print(line)"
   ]
  },
  {
   "cell_type": "markdown",
   "metadata": {},
   "source": [
    "### Booleans <a class=\"anchor\" id=\"bools-bullet\"></a>"
   ]
  },
  {
   "cell_type": "markdown",
   "metadata": {},
   "source": [
    "[TOP ↑](#top)"
   ]
  },
  {
   "cell_type": "markdown",
   "metadata": {},
   "source": [
    "A *boolean* is a logical True/False data type."
   ]
  },
  {
   "cell_type": "code",
   "execution_count": 2,
   "metadata": {},
   "outputs": [
    {
     "data": {
      "text/plain": [
       "bool"
      ]
     },
     "execution_count": 2,
     "metadata": {},
     "output_type": "execute_result"
    }
   ],
   "source": [
    "# The boolean type is referred to as bool\n",
    "prime = True\n",
    "type(prime)"
   ]
  },
  {
   "cell_type": "markdown",
   "metadata": {},
   "source": [
    "### None <a class=\"anchor\" id=\"none-bullet\"></a>"
   ]
  },
  {
   "cell_type": "markdown",
   "metadata": {},
   "source": [
    "[TOP ↑](#top)"
   ]
  },
  {
   "cell_type": "markdown",
   "metadata": {},
   "source": [
    "The ```None``` keyword is used to define a null value, or no value at all. This is a special data type in Python, called ```NoneType```. It is not equivalent to 0, nor False, nor an empty string. It's its own thing. "
   ]
  },
  {
   "cell_type": "code",
   "execution_count": 1,
   "metadata": {},
   "outputs": [
    {
     "data": {
      "text/plain": [
       "NoneType"
      ]
     },
     "execution_count": 1,
     "metadata": {},
     "output_type": "execute_result"
    }
   ],
   "source": [
    "#None is its own data type\n",
    "x = None\n",
    "type(x)"
   ]
  },
  {
   "cell_type": "markdown",
   "metadata": {},
   "source": [
    "### Converting Types <a class=\"anchor\" id=\"conv-bullet\"></a>"
   ]
  },
  {
   "cell_type": "markdown",
   "metadata": {},
   "source": [
    "[TOP ↑](#top)"
   ]
  },
  {
   "cell_type": "markdown",
   "metadata": {},
   "source": [
    "Each data type has a corresponding function which converts any value to that type so long as there's a sensible way to do so. Python will sometimes automatically convert between types for us. As we have seen, for example, *ints* will automatically be converted to *floats* if a division operation leaves a decimal place. The principle functions are **int()**, **bool()**, **float()** and **str()**."
   ]
  },
  {
   "cell_type": "code",
   "execution_count": 5,
   "metadata": {},
   "outputs": [
    {
     "name": "stdout",
     "output_type": "stream",
     "text": [
      "The population of Ireland is approximately 4 million?\n",
      "Actually, the population of Ireland is approximately 5 million.\n"
     ]
    }
   ],
   "source": [
    "# The int() function converts a value to an integer.\n",
    "# Note that this function completely ignores the decimal place, it doesn't round\n",
    "\n",
    "population_ireland = 4.9\n",
    "\n",
    "population_ireland_int = int(population_ireland)\n",
    "\n",
    "print(f\"The population of Ireland is approximately {population_ireland_int} million?\")\n",
    "\n",
    "population_rounded = round(4.9)\n",
    "print(f\"Actually, the population of Ireland is approximately {population_rounded} million.\")"
   ]
  },
  {
   "cell_type": "code",
   "execution_count": 6,
   "metadata": {},
   "outputs": [
    {
     "name": "stdout",
     "output_type": "stream",
     "text": [
      "In total we flipped 2 heads.\n"
     ]
    }
   ],
   "source": [
    "# An old convention means that bool types can be converted to ints, where False is 0 and True is 1.\n",
    "\n",
    "coin1_heads = True\n",
    "coin2_heads = True\n",
    "coin3_heads = False\n",
    "\n",
    "total_heads = coin1_heads + coin2_heads + coin3_heads\n",
    "\n",
    "print(f\"In total we flipped {total_heads} heads.\")"
   ]
  },
  {
   "cell_type": "code",
   "execution_count": 8,
   "metadata": {},
   "outputs": [
    {
     "name": "stdout",
     "output_type": "stream",
     "text": [
      "sides_of_triangle_string is of data type: <class 'str'>\n",
      "sides_of_triangle is of data type: <class 'int'>\n"
     ]
    }
   ],
   "source": [
    "# Strings can also be converted to numbers\n",
    "\n",
    "sides_of_triangle_string = \"3\"\n",
    "print(f\"sides_of_triangle_string is of data type: {type(sides_of_triangle_string)}\")\n",
    "\n",
    "sides_of_triangle = int(sides_of_triangle_string)\n",
    "print(f\"sides_of_triangle is of data type: {type(sides_of_triangle)}\")"
   ]
  },
  {
   "cell_type": "markdown",
   "metadata": {},
   "source": [
    "You can also use the **bool()**, **float()** and **str()** functions to convert to the other types."
   ]
  },
  {
   "cell_type": "markdown",
   "metadata": {},
   "source": [
    "## 2. Operators <a class=\"anchor\" id=\"second-bullet\"></a>"
   ]
  },
  {
   "cell_type": "markdown",
   "metadata": {},
   "source": [
    "[TOP ↑](#top)"
   ]
  },
  {
   "cell_type": "markdown",
   "metadata": {},
   "source": [
    "Operations are mappings or functions that act on elements to produce other elements. Operators are symbols which represent these operations. They take one or more values and produce some result. The most common operators are things like **+**, **-**, **&ast;** and **/** which add, subtract, multiply and divide values."
   ]
  },
  {
   "cell_type": "code",
   "execution_count": 5,
   "metadata": {},
   "outputs": [
    {
     "name": "stdout",
     "output_type": "stream",
     "text": [
      "When we're working with numbers, 1 + 1 = 2.\n",
      "When we're working with strings, 1 + 1 = 11!\n",
      "If we mix a string and a number we get an error.\n",
      "2\n"
     ]
    }
   ],
   "source": [
    "arithmetic_addition = 1 + 1\n",
    "string_addition = \"1\" + \"1\"\n",
    "\n",
    "print(f\"When we're working with numbers, 1 + 1 = {1 + 1}.\")\n",
    "print(f\"When we're working with strings, 1 + 1 = {'1' + '1'}!\")\n",
    "print(\"If we mix a string and a number we get an error.\")\n",
    "print(1 + int(\"1\"))"
   ]
  },
  {
   "cell_type": "markdown",
   "metadata": {},
   "source": [
    "Python also supports comparison operators. The most common comparison operators are **&gt;**, **&lt;**, **&ge;**, **&le;**, **==**, and **!=**. The one which trips people up the most is remembering the double equals sign. The double equals sign checks for equality, rather than assigning a value. != is the opposite of ==, returning True if the operands are different."
   ]
  },
  {
   "cell_type": "code",
   "execution_count": 74,
   "metadata": {},
   "outputs": [
    {
     "name": "stdout",
     "output_type": "stream",
     "text": [
      "5 > 7 : False\n",
      "6 >= 6 : True\n",
      "14 <= 12 : False\n",
      "5 == 5 : True\n",
      "5 != 5 : False\n",
      "8 == '8' : False\n"
     ]
    }
   ],
   "source": [
    "print(f\"5 > 7 : {5 > 7}\")\n",
    "print(f\"6 >= 6 : {6 >= 6}\")\n",
    "print(f\"14 <= 12 : {14 <= 12}\")\n",
    "print(f\"5 == 5 : {5 == 5}\")\n",
    "print(f\"5 != 5 : {5 != 5}\")\n",
    "print(f\"8 == '8' : {8 == '8'}\")"
   ]
  },
  {
   "cell_type": "markdown",
   "metadata": {},
   "source": [
    "Boolean operators allow us to combine two boolean values using **and**/**or**. Unlike many programming languages which use ampersands, &amp;, and vertical bars, |, for this operator, Python uses the plain English words **and** and **or**. We can use the keyword **not** to flip a bool from True to False or False to True."
   ]
  },
  {
   "cell_type": "code",
   "execution_count": 15,
   "metadata": {},
   "outputs": [
    {
     "name": "stdout",
     "output_type": "stream",
     "text": [
      "*and* returns true if both operands are true: t and f is False, t and t is True\n",
      "*or* returns true if either operand is true: t or f is False, f or not t is False\n"
     ]
    }
   ],
   "source": [
    "t = True\n",
    "f = False\n",
    "\n",
    "print(f\"*and* returns true if both operands are true: t and f is {t and f}, t and t is {t and t}\")\n",
    "print(f\"*or* returns true if either operand is true: t or f is {f or not t}, f or not t is {f or not t}\")"
   ]
  },
  {
   "cell_type": "markdown",
   "metadata": {},
   "source": [
    "### Modulo Arithmetic"
   ]
  },
  {
   "cell_type": "markdown",
   "metadata": {},
   "source": [
    "The modulo operator, **&#37;**, divides the first number by the second and returns the remainder. This operator comes from the days when you couldn't automatically convert types and would need to check the remainder after performing any kind of division."
   ]
  },
  {
   "cell_type": "code",
   "execution_count": 9,
   "metadata": {},
   "outputs": [
    {
     "name": "stdout",
     "output_type": "stream",
     "text": [
      "2\n"
     ]
    }
   ],
   "source": [
    "# 7/5 = 1 with remainder 2 \n",
    "\n",
    "remainder = 7%5\n",
    "print(remainder)"
   ]
  },
  {
   "cell_type": "code",
   "execution_count": 16,
   "metadata": {},
   "outputs": [
    {
     "name": "stdout",
     "output_type": "stream",
     "text": [
      "5 divided by 2 is 2 with 1 left over\n",
      "1 is odd\n",
      "3 is odd\n",
      "4 is even\n",
      "5 is odd\n",
      "12 is even\n"
     ]
    }
   ],
   "source": [
    "print(f\"5 divided by 2 is {int(5 / 2)} with {5 % 2} left over\")\n",
    "\n",
    "# If a % b is 0 then b divides into a evenly\n",
    "\n",
    "for number in [1, 3, 4, 5, 12]:\n",
    "    if number % 2 == 0:\n",
    "        print(f\"{number} is even\")\n",
    "    else:\n",
    "        print(f\"{number} is odd\")"
   ]
  },
  {
   "cell_type": "markdown",
   "metadata": {},
   "source": [
    "## 3. Functions <a class=\"anchor\" id=\"third-bullet\"></a>"
   ]
  },
  {
   "cell_type": "markdown",
   "metadata": {},
   "source": [
    "[TOP ↑](#top)"
   ]
  },
  {
   "cell_type": "markdown",
   "metadata": {},
   "source": [
    "A function is a re-usable block of code. We need to *define* our function using the **def** keyword, followed by the name of the function. If the function is going to take any inputs we also need to give them a name, these are included in parentheses. Functions are useful because they cut down the amount of code we have to write, they make our code more readable, it's easy to re-use functions in other scripts, and they make it easier to test and debug our code."
   ]
  },
  {
   "cell_type": "code",
   "execution_count": 17,
   "metadata": {},
   "outputs": [
    {
     "name": "stdout",
     "output_type": "stream",
     "text": [
      "Before we can use a function we need to define it\n",
      "When we want to use a function we need to call it\n",
      "2 is even? True\n",
      "3 is even? False\n"
     ]
    }
   ],
   "source": [
    "# We can create a function which tells us whether a number is even or not\n",
    "\n",
    "def isEven(number):\n",
    "    if number % 2 == 0:\n",
    "        return True\n",
    "    else:\n",
    "        return False\n",
    "    \n",
    "print(\"Before we can use a function we need to define it\")\n",
    "print(\"When we want to use a function we need to call it\")\n",
    "print(f\"2 is even? {isEven(2)}\")\n",
    "print(f\"3 is even? {isEven(3)}\")"
   ]
  },
  {
   "cell_type": "code",
   "execution_count": 18,
   "metadata": {},
   "outputs": [
    {
     "name": "stdout",
     "output_type": "stream",
     "text": [
      "The larger number of 2 and 12 is 12\n",
      "The larger number of 8 and 3 is 8\n",
      "The larger number of 6 and 6 is None\n"
     ]
    },
    {
     "data": {
      "text/plain": [
       "19"
      ]
     },
     "execution_count": 18,
     "metadata": {},
     "output_type": "execute_result"
    }
   ],
   "source": [
    "# We can create another function which takes two inputs and tells us which is largest\n",
    "# If both are the same it returns \"None\", the Python equivalent of null\n",
    "\n",
    "def theLargerOf(first, second):\n",
    "    if first > second:\n",
    "        return first\n",
    "    elif second > first:\n",
    "        return second\n",
    "    else:\n",
    "        return None\n",
    "    \n",
    "print(f\"The larger number of 2 and 12 is {theLargerOf(2, 12)}\")\n",
    "print(f\"The larger number of 8 and 3 is {theLargerOf(8, 3)}\")\n",
    "print(f\"The larger number of 6 and 6 is {theLargerOf(6, 6)}\")\n",
    "\n",
    "# This will become 14 + 5\n",
    "theLargerOf(6, 14) + theLargerOf(3, 5)"
   ]
  },
  {
   "cell_type": "markdown",
   "metadata": {},
   "source": [
    "### Chaining Functions <a class=\"anchor\" id=\"chains-bullet\"></a>"
   ]
  },
  {
   "cell_type": "markdown",
   "metadata": {},
   "source": [
    "[TOP ↑](#top)"
   ]
  },
  {
   "cell_type": "markdown",
   "metadata": {},
   "source": [
    "Pythonic code is terse. Hence, chaining functions is very common."
   ]
  },
  {
   "cell_type": "code",
   "execution_count": 2,
   "metadata": {},
   "outputs": [
    {
     "data": {
      "text/plain": [
       "4"
      ]
     },
     "execution_count": 2,
     "metadata": {},
     "output_type": "execute_result"
    }
   ],
   "source": [
    "def double(number):\n",
    "    return number * 2\n",
    "\n",
    "x = 1\n",
    "x = double(x)\n",
    "x = double(x)\n",
    "x"
   ]
  },
  {
   "cell_type": "markdown",
   "metadata": {},
   "source": [
    "This code assigns a value of 1 to x and then doubles it twice (quadruples it). We can put all of this on a single line using function chaining."
   ]
  },
  {
   "cell_type": "code",
   "execution_count": 6,
   "metadata": {},
   "outputs": [
    {
     "ename": "NameError",
     "evalue": "name 'double' is not defined",
     "output_type": "error",
     "traceback": [
      "\u001b[1;31m---------------------------------------------------------------------------\u001b[0m",
      "\u001b[1;31mNameError\u001b[0m                                 Traceback (most recent call last)",
      "\u001b[1;32m~\\AppData\\Local\\Temp\\ipykernel_19108\\2560215952.py\u001b[0m in \u001b[0;36m<module>\u001b[1;34m\u001b[0m\n\u001b[1;32m----> 1\u001b[1;33m \u001b[0mx\u001b[0m \u001b[1;33m=\u001b[0m \u001b[0mdouble\u001b[0m\u001b[1;33m(\u001b[0m\u001b[0mdouble\u001b[0m\u001b[1;33m(\u001b[0m\u001b[1;36m1\u001b[0m\u001b[1;33m)\u001b[0m\u001b[1;33m)\u001b[0m\u001b[1;33m\u001b[0m\u001b[1;33m\u001b[0m\u001b[0m\n\u001b[0m\u001b[0;32m      2\u001b[0m \u001b[0mx\u001b[0m\u001b[1;33m\u001b[0m\u001b[1;33m\u001b[0m\u001b[0m\n",
      "\u001b[1;31mNameError\u001b[0m: name 'double' is not defined"
     ]
    }
   ],
   "source": [
    "x = double(double(1))\n",
    "x"
   ]
  },
  {
   "cell_type": "markdown",
   "metadata": {},
   "source": [
    "The python interpreter starts from the innermost function and works its way out. Behind the scenes this line of code unfolds like this\n",
    "\n",
    "```python\n",
    "x = double(double(1))\n",
    "# First the interpreter evaluates double(1) (which gives 2)\n",
    "x = double(2)\n",
    "# Then the interpreter evalues double(2) (which gives 4)\n",
    "x = 4\n",
    "# Finally it assigns the value 4 to the variable x\n",
    "```"
   ]
  },
  {
   "cell_type": "markdown",
   "metadata": {},
   "source": [
    "### Mapping Functions <a class=\"anchor\" id=\"maps-bullet\"></a>"
   ]
  },
  {
   "cell_type": "markdown",
   "metadata": {},
   "source": [
    "[TOP ↑](#top)"
   ]
  },
  {
   "cell_type": "markdown",
   "metadata": {},
   "source": [
    "It's very common in Python to want to apply a function to every element in a list. Lists and other compound data structures will be covered shortly. We come up against this kind of situation when we're normalising data, for example. We could do it using a loop, but it's not very readable and often not very efficient."
   ]
  },
  {
   "cell_type": "code",
   "execution_count": 19,
   "metadata": {},
   "outputs": [
    {
     "data": {
      "text/plain": [
       "[2, 4, 6, 8, 10, 12, 14, 16, 18, 20]"
      ]
     },
     "execution_count": 19,
     "metadata": {},
     "output_type": "execute_result"
    }
   ],
   "source": [
    "# Create a list which doubles the value of every item in numbers\n",
    "numbers = [1, 2, 3, 4, 5, 6, 7, 8, 9, 10]\n",
    "\n",
    "def double(number):\n",
    "    return number * 2\n",
    "\n",
    "# Create a new list to hold our doubled numbers\n",
    "doubles = []\n",
    "for number in numbers:\n",
    "    doubled_number = double(number)\n",
    "    doubles.append(doubled_number)\n",
    "    \n",
    "# Jupyter Notebook prints the last line of a cell.\n",
    "doubles"
   ]
  },
  {
   "cell_type": "markdown",
   "metadata": {},
   "source": [
    "This works just fine, but it's quite a lot of code. It's difficult to tell exactly what's going on without reading through the code line by line. The python **map()** function allows us to take a function and apply it to every value in a list. Using the **map()** function we can reduce the number of lines of code significantly."
   ]
  },
  {
   "cell_type": "code",
   "execution_count": 10,
   "metadata": {},
   "outputs": [],
   "source": [
    "numbers = [1, 2, 3, 4, 5, 6, 7, 8, 9, 10]\n",
    "\n",
    "def double(number):\n",
    "    return number * 2\n",
    "\n",
    "# The first parameter to map is the name of the function we want to apply\n",
    "# The second parameter is a list of values to apply it to\n",
    "doubles = map(double, numbers)"
   ]
  },
  {
   "cell_type": "code",
   "execution_count": 11,
   "metadata": {},
   "outputs": [
    {
     "data": {
      "text/plain": [
       "map"
      ]
     },
     "execution_count": 11,
     "metadata": {},
     "output_type": "execute_result"
    }
   ],
   "source": [
    "type(doubles)"
   ]
  },
  {
   "cell_type": "code",
   "execution_count": 12,
   "metadata": {},
   "outputs": [
    {
     "data": {
      "text/plain": [
       "[2, 4, 6, 8, 10, 12, 14, 16, 18, 20]"
      ]
     },
     "execution_count": 12,
     "metadata": {},
     "output_type": "execute_result"
    }
   ],
   "source": [
    "# We need to convert the output of map() back to a list to print it\n",
    "list(doubles)"
   ]
  },
  {
   "cell_type": "markdown",
   "metadata": {},
   "source": [
    "In the example above we tell the Python interpreter that we'd like to run every number in the numbers list through the *double()* function. The map function will create a new list for us with the output of that function for each item. Note that when we want to print the output we need to convert it back to a list using the **list()** function."
   ]
  },
  {
   "cell_type": "markdown",
   "metadata": {},
   "source": [
    "### Lambdas <a class=\"anchor\" id=\"lambdas-bullet\"></a>"
   ]
  },
  {
   "cell_type": "markdown",
   "metadata": {},
   "source": [
    "[TOP ↑](#top)"
   ]
  },
  {
   "cell_type": "markdown",
   "metadata": {},
   "source": [
    "We can reduce the lines of code here even further using a **lambda**. A lambda is a one-line anonymous function. It gives us a short-hand way to write a function. It has the following syntax:\n",
    "\n",
    "```python\n",
    "lambda x: f(x)\n",
    "````"
   ]
  },
  {
   "cell_type": "markdown",
   "metadata": {},
   "source": [
    "The following are equivalent."
   ]
  },
  {
   "cell_type": "code",
   "execution_count": null,
   "metadata": {},
   "outputs": [],
   "source": [
    "def double(number):\n",
    "    return number * 2\n",
    "\n",
    "lambda number: number * 2"
   ]
  },
  {
   "cell_type": "markdown",
   "metadata": {},
   "source": [
    "You can see above that a lambda leaves out the **def** and **return** keywords. It doesn't have a name so all we have to write is the name of the parameter and what we'd like to return. We use the keyword **lambda** to tell the interpreter this is a lambda function. By convention, people tend to use **x** as the parameter name when writing a lambda. Putting it altogether we have"
   ]
  },
  {
   "cell_type": "code",
   "execution_count": 21,
   "metadata": {},
   "outputs": [
    {
     "data": {
      "text/plain": [
       "[2, 4, 6, 8, 10, 12, 14, 16, 18, 20]"
      ]
     },
     "execution_count": 21,
     "metadata": {},
     "output_type": "execute_result"
    }
   ],
   "source": [
    "numbers = [1, 2, 3, 4, 5, 6, 7, 8, 9, 10]\n",
    "\n",
    "doubles = map(lambda x: x * 2, numbers)\n",
    "\n",
    "# We need to convert the output of map() back to a list to print it\n",
    "list(doubles)"
   ]
  },
  {
   "cell_type": "markdown",
   "metadata": {},
   "source": [
    "## 4. IF Statements and Loops <a class=\"anchor\" id=\"fourth-bullet\"></a>"
   ]
  },
  {
   "cell_type": "markdown",
   "metadata": {},
   "source": [
    "[TOP ↑](#top)"
   ]
  },
  {
   "cell_type": "markdown",
   "metadata": {},
   "source": [
    "As with most programming languages, Python supports the use of conditional ```if``` statements utilising the comparison operators and logical conditioning, as well as the ubiquitous ```for``` and ```while``` loops."
   ]
  },
  {
   "cell_type": "markdown",
   "metadata": {},
   "source": [
    "### IF Statements <a class=\"anchor\" id=\"ifs-bullet\"></a>"
   ]
  },
  {
   "cell_type": "markdown",
   "metadata": {},
   "source": [
    "[TOP ↑](#top)"
   ]
  },
  {
   "cell_type": "markdown",
   "metadata": {},
   "source": [
    "In Python, an ```if``` statement has the following syntax: \n",
    "\n",
    "```python\n",
    "if condition:\n",
    "    do something\n",
    "```\n",
    "\n",
    "We can also choose to use ```elif``` (else if) and ```else``` key words to include other conditions. "
   ]
  },
  {
   "cell_type": "markdown",
   "metadata": {},
   "source": [
    "### FOR Loops <a class=\"anchor\" id=\"fors-bullet\"></a>"
   ]
  },
  {
   "cell_type": "markdown",
   "metadata": {},
   "source": [
    "[TOP ↑](#top)"
   ]
  },
  {
   "cell_type": "markdown",
   "metadata": {},
   "source": [
    "In Python, a ```for``` loop is used for iterating over compound data structures (covered in the next section), either a list, a tuple, a dictionary, a set, or a string, and has the following syntax: \n",
    "\n",
    "```python\n",
    "for variable_name in list:\n",
    "    do something\n",
    "```\n",
    "\n",
    "We can choose any variable name we like in a for loop, though it's best to make it descriptive."
   ]
  },
  {
   "cell_type": "markdown",
   "metadata": {},
   "source": [
    "### WHILE Loops <a class=\"anchor\" id=\"whiles-bullet\"></a>"
   ]
  },
  {
   "cell_type": "markdown",
   "metadata": {},
   "source": [
    "[TOP ↑](#top)"
   ]
  },
  {
   "cell_type": "markdown",
   "metadata": {},
   "source": [
    "In Python, a ```while``` loop can execute a set of statements as long as some condition holds true, and has the following syntax: \n",
    "\n",
    "```python\n",
    "while condition:\n",
    "    do something\n",
    "```\n",
    "\n",
    "We can also use the key word ```break``` to break out from a loop even while the condition remains true, ```continue``` to interrupt the current iteration and move to the next one, and ```else``` to run a block of code once the condition is no longer true."
   ]
  },
  {
   "cell_type": "markdown",
   "metadata": {},
   "source": [
    "## 5. Data Structures <a class=\"anchor\" id=\"fifth-bullet\"></a>"
   ]
  },
  {
   "cell_type": "markdown",
   "metadata": {},
   "source": [
    "[TOP ↑](#top)"
   ]
  },
  {
   "cell_type": "markdown",
   "metadata": {},
   "source": [
    "We've so far mostly been working with fundamental, primitive data types: *int*, *float*, *str*, and *bool*. However, most real-world problems are easier to solve when these simple data types are combined into more complex data structures.\n",
    "\n",
    "A data structure is a collection of data, such as a list of numbers or a record in a database. Python has four built-in data structures: **tuples**, **lists**, **dictionaries**, and **sets**. Each has its own characteristics and features."
   ]
  },
  {
   "cell_type": "markdown",
   "metadata": {},
   "source": [
    "### Tuples <a class=\"anchor\" id=\"tuples-bullet\"></a>"
   ]
  },
  {
   "cell_type": "markdown",
   "metadata": {},
   "source": [
    "[TOP ↑](#top)"
   ]
  },
  {
   "cell_type": "markdown",
   "metadata": {},
   "source": [
    "A tuple is used to store multiple items in a single variable. It's a collection which is ordered, indexed, and which permits duplicate values. However, tuples are immutable. These objects cannot be changed or altered, and are often useful for containing data which must be retained in its original form. A tuple is written with parentheses, or round brackets: **( )**."
   ]
  },
  {
   "cell_type": "code",
   "execution_count": null,
   "metadata": {},
   "outputs": [],
   "source": [
    "my_tuple = (\"red\", \"green\", \"blue\")"
   ]
  },
  {
   "cell_type": "markdown",
   "metadata": {},
   "source": [
    "You can also use the *tuple()* constructor:"
   ]
  },
  {
   "cell_type": "code",
   "execution_count": null,
   "metadata": {},
   "outputs": [],
   "source": [
    "new_tuple = tuple((\"red\", \"green\", \"blue\"))"
   ]
  },
  {
   "cell_type": "markdown",
   "metadata": {},
   "source": [
    "### Lists <a class=\"anchor\" id=\"lists-bullet\"></a>"
   ]
  },
  {
   "cell_type": "markdown",
   "metadata": {},
   "source": [
    "[TOP ↑](#top)"
   ]
  },
  {
   "cell_type": "markdown",
   "metadata": {},
   "source": [
    "A list is also used to store multiple items in a single variable. It's a collection which is also ordered, indexed, and which permits duplicate values. However, unlike tuples, lists are very much mutable. A list is written with square brackets: **[ ]**. Each item in the list has an **index**, or position within that list. In Python, we start counting from 0 rather than 1. As a result, python lists are **zero-indexed**."
   ]
  },
  {
   "cell_type": "code",
   "execution_count": 21,
   "metadata": {},
   "outputs": [],
   "source": [
    "my_list = [\"red\", \"green\", \"blue\", \"black\"]"
   ]
  },
  {
   "cell_type": "markdown",
   "metadata": {},
   "source": [
    "#### Indexing"
   ]
  },
  {
   "cell_type": "markdown",
   "metadata": {},
   "source": [
    "Items can be accessed using square bracket notation. Python also allows us to count backwards from the end of the list if we prefer. An index of -1 gives us the last item, -2 gives us the second last item."
   ]
  },
  {
   "cell_type": "code",
   "execution_count": 22,
   "metadata": {},
   "outputs": [
    {
     "name": "stdout",
     "output_type": "stream",
     "text": [
      "The first colour is: red\n",
      "The second colour is: green\n",
      "The third colour is: blue\n",
      "The final colour is: black\n"
     ]
    }
   ],
   "source": [
    "print(f\"The first colour is: {my_list[0]}\")\n",
    "print(f\"The second colour is: {my_list[1]}\")\n",
    "print(f\"The third colour is: {my_list[2]}\")\n",
    "print(f\"The final colour is: {my_list[-1]}\")"
   ]
  },
  {
   "cell_type": "markdown",
   "metadata": {},
   "source": [
    "#### Slicing"
   ]
  },
  {
   "cell_type": "markdown",
   "metadata": {},
   "source": [
    "If we want to access multiple items we can use slicing: my_list[a:b] gives us every item from index a (inclusive) to index b (exclusive)."
   ]
  },
  {
   "cell_type": "code",
   "execution_count": 32,
   "metadata": {},
   "outputs": [
    {
     "name": "stdout",
     "output_type": "stream",
     "text": [
      "We can get the second and third items using [1:3]\n",
      "['green', 'blue']\n"
     ]
    }
   ],
   "source": [
    "print(\"We can get the second and third items using [1:3]\")\n",
    "print(my_list[1:3]) # Gives us items 1 and 2"
   ]
  },
  {
   "cell_type": "markdown",
   "metadata": {},
   "source": [
    "We can get everything up to a specified index by leaving the left-hand-side of the colon blank."
   ]
  },
  {
   "cell_type": "code",
   "execution_count": 28,
   "metadata": {},
   "outputs": [
    {
     "name": "stdout",
     "output_type": "stream",
     "text": [
      "We can get the first three items using [:3]\n",
      "['red', 'green', 'blue']\n"
     ]
    }
   ],
   "source": [
    "print(\"We can get the first three items using [:3]\")\n",
    "print(my_list[:3])"
   ]
  },
  {
   "cell_type": "code",
   "execution_count": 33,
   "metadata": {},
   "outputs": [
    {
     "name": "stdout",
     "output_type": "stream",
     "text": [
      "We can get the first two items using [:-2]\n",
      "['red', 'green']\n"
     ]
    }
   ],
   "source": [
    "print(\"We can get the first two items using [:-2]\")\n",
    "print(my_list[:-2])"
   ]
  },
  {
   "cell_type": "markdown",
   "metadata": {},
   "source": [
    "We can get everything starting from some index to the end by leaving the right-hand-side of the colon blank."
   ]
  },
  {
   "cell_type": "code",
   "execution_count": 34,
   "metadata": {},
   "outputs": [
    {
     "name": "stdout",
     "output_type": "stream",
     "text": [
      "We can get the final two items using [-2:]\n",
      "['blue', 'black']\n"
     ]
    }
   ],
   "source": [
    "print(\"We can get the final two items using [-2:]\")\n",
    "print(my_list[-2:])"
   ]
  },
  {
   "cell_type": "markdown",
   "metadata": {},
   "source": [
    "We can get all items as follows:"
   ]
  },
  {
   "cell_type": "code",
   "execution_count": 19,
   "metadata": {},
   "outputs": [
    {
     "name": "stdout",
     "output_type": "stream",
     "text": [
      "We can get all items using [:]\n",
      "['red', 'green', 'blue']\n"
     ]
    }
   ],
   "source": [
    "print(\"We can get all items using [:]\")\n",
    "print(my_list[:])"
   ]
  },
  {
   "cell_type": "markdown",
   "metadata": {},
   "source": [
    "#### Dynamic Lists"
   ]
  },
  {
   "cell_type": "markdown",
   "metadata": {},
   "source": [
    "We can create a list using a list *literal*, the square bracket notation. The problem with this method is that we need to know every value at the time we create the list. If we want to create a list *dynamically* we can use the list append() method."
   ]
  },
  {
   "cell_type": "code",
   "execution_count": 38,
   "metadata": {},
   "outputs": [
    {
     "name": "stdout",
     "output_type": "stream",
     "text": [
      "[2, 4, 6, 8, 10, 12, 14, 16, 18, 20]\n"
     ]
    }
   ],
   "source": [
    "numbers = range(1, 21) # This is exclusive: [1, 2, 3,...,19,20]\n",
    "evens = [] # Create an empty list\n",
    "\n",
    "for number in numbers:\n",
    "    if number % 2 == 0:\n",
    "        evens.append(number)\n",
    "        \n",
    "print(evens)"
   ]
  },
  {
   "cell_type": "markdown",
   "metadata": {},
   "source": [
    "The append() method inserts an item at the end of the list. Alternatively, you may want to insert an item into a specific position. The insert() method allows you to specify where you want to insert the item. The syntax is:\n",
    "\n",
    "```python\n",
    "my_list.insert(index, item)\n",
    "````\n",
    "\n",
    "The code above inserts *item* into list *my_list* at position *index*."
   ]
  },
  {
   "cell_type": "markdown",
   "metadata": {},
   "source": [
    "Finally, items can be removed using the remove() method. It looks through the list and deletes the first occurrence of that value.\n",
    "\n",
    "```python\n",
    "my_list.remove(item)\n",
    "````"
   ]
  },
  {
   "cell_type": "markdown",
   "metadata": {},
   "source": [
    "#### List Comprehensions"
   ]
  },
  {
   "cell_type": "markdown",
   "metadata": {},
   "source": [
    "A list comprehension is a short-hand way of defining lists, which is quite similar to a loop. It allows for the construction of a new list based on lists that already exist. The inspiration comes from mathematical set comprehension notation (or set-builder notation), where the set is defined, for example, as {x ∈ ℝ | x > 3}. This is the set of all real numbers x such that x is greater than zero. In Python, we can build a new list in the following way:"
   ]
  },
  {
   "cell_type": "markdown",
   "metadata": {},
   "source": [
    "```python\n",
    "new_set = [f(x) for x in old_set]\n",
    "```"
   ]
  },
  {
   "cell_type": "markdown",
   "metadata": {},
   "source": [
    "We can also include conditions, such as if statments inside the comprehension. Let's take a concrete example:"
   ]
  },
  {
   "cell_type": "code",
   "execution_count": 39,
   "metadata": {},
   "outputs": [
    {
     "name": "stdout",
     "output_type": "stream",
     "text": [
      "[2, 4, 6]\n"
     ]
    }
   ],
   "source": [
    "odds = [1, 3, 5]\n",
    "evens = [x + 1 for x in odds]\n",
    "print(evens)"
   ]
  },
  {
   "cell_type": "code",
   "execution_count": 53,
   "metadata": {},
   "outputs": [
    {
     "name": "stdout",
     "output_type": "stream",
     "text": [
      "[62, 12, 18, 46, 108, 22, 2]\n"
     ]
    }
   ],
   "source": [
    "randoms = [31, 6, 9, 23, 54, 11, 1]\n",
    "doubled_randoms = [x*2 for x in randoms]\n",
    "print(doubled_randoms)"
   ]
  },
  {
   "cell_type": "code",
   "execution_count": 54,
   "metadata": {},
   "outputs": [
    {
     "data": {
      "text/plain": [
       "[62, 12, 18, 46, 108, 22, 2]"
      ]
     },
     "execution_count": 54,
     "metadata": {},
     "output_type": "execute_result"
    }
   ],
   "source": [
    "# The same thing can be accomplished using a lambda\n",
    "\n",
    "doubled_randoms_lambda = map(lambda x: x*2, randoms)\n",
    "\n",
    "# We need to convert the output of map() back to a list to print it\n",
    "list(doubled_randoms_lambda)"
   ]
  },
  {
   "cell_type": "markdown",
   "metadata": {},
   "source": [
    "#### Sorting"
   ]
  },
  {
   "cell_type": "markdown",
   "metadata": {},
   "source": [
    "We can use the sort() method to sort a list. In the example below we are using the random module to generate a list of random numbers, which we then sort."
   ]
  },
  {
   "cell_type": "code",
   "execution_count": 45,
   "metadata": {},
   "outputs": [
    {
     "name": "stdout",
     "output_type": "stream",
     "text": [
      "List of random numbers:\n",
      "[10, 29, 17, 17, 30, 19, 24, 21, 7, 15]\n",
      "Sorted random numbers:\n",
      "[7, 10, 15, 17, 17, 19, 21, 24, 29, 30]\n"
     ]
    }
   ],
   "source": [
    "import random\n",
    "\n",
    "random.randint(0, 30) # This returns a random number between 0 and 30 (inclusive)\n",
    "\n",
    "random_numbers = [random.randint(0, 30) for x in range(0, 10)] # Generates a list of 10 random numbers between 0 and 30\n",
    "\n",
    "print(\"List of random numbers:\")\n",
    "print(random_numbers)\n",
    "\n",
    "print(\"Sorted random numbers:\")\n",
    "random_numbers.sort()\n",
    "print(random_numbers)"
   ]
  },
  {
   "cell_type": "markdown",
   "metadata": {},
   "source": [
    "### Dictionaries <a class=\"anchor\" id=\"dicts-bullet\"></a>"
   ]
  },
  {
   "cell_type": "markdown",
   "metadata": {},
   "source": [
    "[TOP ↑](#top)"
   ]
  },
  {
   "cell_type": "markdown",
   "metadata": {},
   "source": [
    "In Python, a dictionary contains a look-up **key** and a corresponding **value**. It's a collection which is ordered and mutable. It does not permit duplicate items. A dictionary is written with curly brackets: **{ }**. The keys are strings, but the values can take any data type."
   ]
  },
  {
   "cell_type": "markdown",
   "metadata": {},
   "source": [
    "The syntax is:\n",
    "\n",
    "```python\n",
    "{key1: value1, key2: value2, key3: value3}\n",
    "```"
   ]
  },
  {
   "cell_type": "code",
   "execution_count": 49,
   "metadata": {},
   "outputs": [
    {
     "name": "stdout",
     "output_type": "stream",
     "text": [
      "People's first and second names: {'Simon': 'Hall', 'Brad': 'Pitt', 'Tom': 'Hardy'}\n"
     ]
    }
   ],
   "source": [
    "my_dictionary = {\"Simon\": \"Hall\", \"Brad\": \"Pitt\", \"Tom\": \"Hardy\"}\n",
    "print(f\"People's first and second names: {my_dictionary}\")"
   ]
  },
  {
   "cell_type": "markdown",
   "metadata": {},
   "source": [
    "Alternatively, we can use dict()."
   ]
  },
  {
   "cell_type": "code",
   "execution_count": 57,
   "metadata": {},
   "outputs": [
    {
     "name": "stdout",
     "output_type": "stream",
     "text": [
      "People's first and second names: {'Simon': 'Hall', 'Brad': 'Pitt', 'Tom': 'Hardy'}\n"
     ]
    }
   ],
   "source": [
    "surnames = dict()\n",
    "surnames[\"Simon\"] = \"Hall\"\n",
    "surnames[\"Brad\"] = \"Pitt\"\n",
    "surnames[\"Tom\"] = \"Hardy\"\n",
    "print(f\"People's first and second names: {surnames}\")"
   ]
  },
  {
   "cell_type": "markdown",
   "metadata": {},
   "source": [
    "#### Retrieving Values"
   ]
  },
  {
   "cell_type": "markdown",
   "metadata": {},
   "source": [
    "We can retrieve items from a dictionary just like we would from a list, using square brackets and passing in the key."
   ]
  },
  {
   "cell_type": "code",
   "execution_count": 58,
   "metadata": {},
   "outputs": [
    {
     "name": "stdout",
     "output_type": "stream",
     "text": [
      "Pitt\n"
     ]
    }
   ],
   "source": [
    "print(surnames[\"Brad\"])"
   ]
  },
  {
   "cell_type": "markdown",
   "metadata": {},
   "source": [
    "#### Adding Items"
   ]
  },
  {
   "cell_type": "markdown",
   "metadata": {},
   "source": [
    "Adding items to a dictionary is very similar to retrieving them. Again, we use square bracket notation."
   ]
  },
  {
   "cell_type": "code",
   "execution_count": 59,
   "metadata": {},
   "outputs": [
    {
     "name": "stdout",
     "output_type": "stream",
     "text": [
      "{'Simon': 'Hall', 'Brad': 'Pitt', 'Tom': 'Hardy', 'Matt': 'Damon'}\n"
     ]
    }
   ],
   "source": [
    "surnames[\"Matt\"] = \"Damon\"\n",
    "print(surnames)"
   ]
  },
  {
   "cell_type": "markdown",
   "metadata": {},
   "source": [
    "#### Deleting Items"
   ]
  },
  {
   "cell_type": "markdown",
   "metadata": {},
   "source": [
    "We can use the key word, **del**."
   ]
  },
  {
   "cell_type": "code",
   "execution_count": 60,
   "metadata": {},
   "outputs": [
    {
     "name": "stdout",
     "output_type": "stream",
     "text": [
      "{'Simon': 'Hall', 'Tom': 'Hardy', 'Matt': 'Damon'}\n"
     ]
    }
   ],
   "source": [
    "del surnames[\"Brad\"]\n",
    "print(surnames)"
   ]
  },
  {
   "cell_type": "markdown",
   "metadata": {},
   "source": [
    "#### Keys & Values"
   ]
  },
  {
   "cell_type": "markdown",
   "metadata": {},
   "source": [
    "If we want to extract the keys and values from a dictionary we can use .keys() and .values(). We can also use .items() to get both."
   ]
  },
  {
   "cell_type": "code",
   "execution_count": 61,
   "metadata": {},
   "outputs": [
    {
     "name": "stdout",
     "output_type": "stream",
     "text": [
      "Simon\n",
      "Tom\n",
      "Matt\n"
     ]
    }
   ],
   "source": [
    "all_keys = surnames.keys()\n",
    "for key in all_keys:\n",
    "    print(key)"
   ]
  },
  {
   "cell_type": "code",
   "execution_count": 62,
   "metadata": {},
   "outputs": [
    {
     "name": "stdout",
     "output_type": "stream",
     "text": [
      "Hall\n",
      "Hardy\n",
      "Damon\n"
     ]
    }
   ],
   "source": [
    "all_values = surnames.values()\n",
    "for value in all_values:\n",
    "    print(value)"
   ]
  },
  {
   "cell_type": "code",
   "execution_count": 64,
   "metadata": {},
   "outputs": [
    {
     "name": "stdout",
     "output_type": "stream",
     "text": [
      "Simon, Hall\n",
      "Tom, Hardy\n",
      "Matt, Damon\n"
     ]
    }
   ],
   "source": [
    "all_items = surnames.items()\n",
    "for key, value in all_items:\n",
    "    print(f\"{key}, {value}\")"
   ]
  },
  {
   "cell_type": "markdown",
   "metadata": {},
   "source": [
    "We can also use the .get() method. The syntax is:\n",
    "\n",
    "```python\n",
    "dictionary.get(keyname, value)\n",
    "```"
   ]
  },
  {
   "cell_type": "markdown",
   "metadata": {},
   "source": [
    "### Sets <a class=\"anchor\" id=\"sets-bullet\"></a>"
   ]
  },
  {
   "cell_type": "markdown",
   "metadata": {},
   "source": [
    "[TOP ↑](#top)"
   ]
  },
  {
   "cell_type": "markdown",
   "metadata": {},
   "source": [
    "A set is a collection which is unordered and unindexed. The set items are immutable, but items can be added or removed. No duplicate items are permitted. A set is written with curly brackets, **{ }**, like a dictionary, but does not have keys."
   ]
  },
  {
   "cell_type": "code",
   "execution_count": 75,
   "metadata": {},
   "outputs": [
    {
     "name": "stdout",
     "output_type": "stream",
     "text": [
      "{'banana', 'apple', 'cherry'}\n"
     ]
    }
   ],
   "source": [
    "my_set = {\"apple\", \"banana\", \"cherry\"}\n",
    "print(my_set)"
   ]
  },
  {
   "cell_type": "markdown",
   "metadata": {},
   "source": [
    "We can also use the set() method."
   ]
  },
  {
   "cell_type": "code",
   "execution_count": 76,
   "metadata": {},
   "outputs": [
    {
     "name": "stdout",
     "output_type": "stream",
     "text": [
      "{'banana', 'apple', 'cherry'}\n"
     ]
    }
   ],
   "source": [
    "fruits = set([\"apple\", \"banana\", \"cherry\"])\n",
    "print(fruits)"
   ]
  },
  {
   "cell_type": "markdown",
   "metadata": {},
   "source": [
    "We can add() and remove(), etc. "
   ]
  },
  {
   "cell_type": "markdown",
   "metadata": {},
   "source": [
    "#### Searching"
   ]
  },
  {
   "cell_type": "markdown",
   "metadata": {},
   "source": [
    "We can use the key word **in**:"
   ]
  },
  {
   "cell_type": "code",
   "execution_count": 77,
   "metadata": {},
   "outputs": [
    {
     "name": "stdout",
     "output_type": "stream",
     "text": [
      "Does our set contain the fruit 'banana'? True\n"
     ]
    }
   ],
   "source": [
    "print(f\"Does our set contain the fruit 'banana'? {'banana' in fruits}\")"
   ]
  },
  {
   "cell_type": "markdown",
   "metadata": {},
   "source": [
    "#### Operations"
   ]
  },
  {
   "cell_type": "markdown",
   "metadata": {},
   "source": [
    "The set operations *.union()*, *.intersection()*, *.difference()*, and *.symmetric_difference()* can be used to find combinations of sets."
   ]
  },
  {
   "cell_type": "code",
   "execution_count": 79,
   "metadata": {},
   "outputs": [
    {
     "name": "stdout",
     "output_type": "stream",
     "text": [
      "Multiples of three: {3, 6, 9, 12, 15, 18, 21, 24, 27, 30}\n",
      "Multiples of five: {5, 10, 15, 20, 25, 30}\n",
      "Multiples of either 3 or 5: {3, 5, 6, 9, 10, 12, 15, 18, 20, 21, 24, 25, 27, 30}\n"
     ]
    }
   ],
   "source": [
    "threes = set(range(3, 31, 3))\n",
    "print(f\"Multiples of three: {threes}\")\n",
    "\n",
    "fives = set(range(5, 31, 5))\n",
    "print(f\"Multiples of five: {fives}\")\n",
    "\n",
    "print(f\"Multiples of either 3 or 5: {threes.union(fives)}\")"
   ]
  },
  {
   "cell_type": "markdown",
   "metadata": {},
   "source": [
    "## 6. NumPy and Pandas <a class=\"anchor\" id=\"sixth-bullet\"></a>"
   ]
  },
  {
   "cell_type": "markdown",
   "metadata": {},
   "source": [
    "[TOP ↑](#top)"
   ]
  },
  {
   "cell_type": "markdown",
   "metadata": {},
   "source": [
    "Python lists are very versatile, and list items can be anything from floats to strings and even lists themselves.  The NumPy package gives us efficient R-style vectors, called arrays, containing elements of the same type which are optimised for batch processing. NumPy is very useful for data processing in general. NumPy vectors are used as columns in the Pandas package to generate dataframes, similar to R. A Pandas dataframe consists of a collection of columns, where each column is a NumPy vector containing values."
   ]
  },
  {
   "cell_type": "markdown",
   "metadata": {},
   "source": [
    "### NumPy <a class=\"anchor\" id=\"numpy-bullet\"></a>"
   ]
  },
  {
   "cell_type": "markdown",
   "metadata": {},
   "source": [
    "[TOP ↑](#top)"
   ]
  },
  {
   "cell_type": "markdown",
   "metadata": {},
   "source": [
    "A NumPy array is similar to a list. However, there are a some key differences. Arrays have items all of the same type, and they add and multiply element-wise, exactly like vectors but unlike lists."
   ]
  },
  {
   "cell_type": "code",
   "execution_count": 13,
   "metadata": {},
   "outputs": [
    {
     "name": "stdout",
     "output_type": "stream",
     "text": [
      "List Addition:[1, 2, 3, 4, 5, 6]\n",
      "Array Addition:[5 7 9]\n",
      "Array Multiplication:[ 4 10 18]\n"
     ]
    }
   ],
   "source": [
    "import numpy as np\n",
    "\n",
    "l1 = [1,2,3]\n",
    "l2 = [4,5,6]\n",
    "\n",
    "a1 = np.array(l1)\n",
    "a2 = np.array(l2)\n",
    "\n",
    "print(\"List Addition:\" + str(l1+l2))\n",
    "print(\"Array Addition:\" + str(a1+a2))\n",
    "print(\"Array Multiplication:\" + str(a1*a2))"
   ]
  },
  {
   "cell_type": "markdown",
   "metadata": {},
   "source": [
    "**Generating Sequences**"
   ]
  },
  {
   "cell_type": "code",
   "execution_count": 16,
   "metadata": {},
   "outputs": [
    {
     "name": "stdout",
     "output_type": "stream",
     "text": [
      "[ 10.  20.  30.  40.  50.  60.  70.  80.  90. 100.]\n"
     ]
    }
   ],
   "source": [
    "# The linspace() function is inclusive, and produces floats\n",
    "gen = np.linspace(10,100,10)\n",
    "print(gen)"
   ]
  },
  {
   "cell_type": "code",
   "execution_count": 17,
   "metadata": {},
   "outputs": [
    {
     "name": "stdout",
     "output_type": "stream",
     "text": [
      "[ 10  20  30  40  50  60  70  80  90 100]\n"
     ]
    }
   ],
   "source": [
    "# The arange() function is exclusive, and produces ints\n",
    "gen2 = np.arange(10,110,10)\n",
    "print(gen2)"
   ]
  },
  {
   "cell_type": "code",
   "execution_count": 19,
   "metadata": {},
   "outputs": [
    {
     "data": {
      "text/plain": [
       "numpy.int64"
      ]
     },
     "execution_count": 19,
     "metadata": {},
     "output_type": "execute_result"
    }
   ],
   "source": [
    "type(gen2[0])"
   ]
  },
  {
   "cell_type": "markdown",
   "metadata": {},
   "source": [
    "**Array Shape**"
   ]
  },
  {
   "cell_type": "markdown",
   "metadata": {},
   "source": [
    "Arrays can be 1-dimensional lists with a single index. They can also be 2-dimensional arrays, commonly known as a matrix. Matrices consist of rows and columns, so require two indices to poinpoint a value, one for the row and one for the column, (r, c). Dataframes are similar to 2-D arrays, but not exactly the same. Matrices are arrays of pure numbers, for one thing, wherease dataframes can be of mixed data type. You can check a NumPy array's dimensionality using the shape property."
   ]
  },
  {
   "cell_type": "code",
   "execution_count": 20,
   "metadata": {},
   "outputs": [
    {
     "name": "stdout",
     "output_type": "stream",
     "text": [
      "a3 has shape (9,)\n",
      "a4 has shape (3, 3)\n",
      "2D Array: [[1, 2, 3], [4, 5, 6], [7, 8, 9]]\n",
      "Element at (0,0) is 1\n",
      "Element at (1,1) is 5\n",
      "Element at (2,1) is 8\n"
     ]
    }
   ],
   "source": [
    "oneDValues = [1, 2, 3, 4, 5, 6, 7, 8, 9]\n",
    "twoDValues = [[1, 2, 3], [4, 5, 6], [7, 8, 9]]\n",
    "\n",
    "a3 = np.array(oneDValues)\n",
    "a4 = np.array(twoDValues)\n",
    "print(\"a3 has shape \" + str(a3.shape))\n",
    "print(\"a4 has shape \" + str(a4.shape))\n",
    "\n",
    "print(\"2D Array: \" + str(twoDValues))\n",
    "print(\"Element at (0,0) is \" + str(a4[0, 0]))\n",
    "print(\"Element at (1,1) is \" + str(a4[1, 1]))\n",
    "print(\"Element at (2,1) is \" + str(a4[2, 1]))"
   ]
  },
  {
   "cell_type": "markdown",
   "metadata": {},
   "source": [
    "NumPy arrays can be sliced using a similar syntax to regular list slicing. Remember that lists were sliced using [start_index:end_index]. We can also provide an additional step parameter to allow us to choose the step by which we increase the index [start_index:end_index:step]."
   ]
  },
  {
   "cell_type": "code",
   "execution_count": 21,
   "metadata": {},
   "outputs": [
    {
     "name": "stdout",
     "output_type": "stream",
     "text": [
      "[1, 3, 5, 7, 9]\n"
     ]
    }
   ],
   "source": [
    "# Take every second item from the oneDValues array\n",
    "print(oneDValues[0:9:2])"
   ]
  },
  {
   "cell_type": "code",
   "execution_count": 22,
   "metadata": {},
   "outputs": [
    {
     "name": "stdout",
     "output_type": "stream",
     "text": [
      "6\n",
      "[1 4 7]\n",
      "[3 6 9]\n"
     ]
    }
   ],
   "source": [
    "# second row, third column of a4\n",
    "print(a4[1,2])\n",
    "\n",
    "# all rows, first column of a4\n",
    "print(a4[0:3,0])\n",
    "\n",
    "# all rows, last column of a4\n",
    "print(a4[0:3,2])"
   ]
  },
  {
   "cell_type": "markdown",
   "metadata": {},
   "source": [
    "### Pandas <a class=\"anchor\" id=\"pandas-bullet\"></a>"
   ]
  },
  {
   "cell_type": "markdown",
   "metadata": {},
   "source": [
    "[TOP ↑](#top)"
   ]
  },
  {
   "cell_type": "markdown",
   "metadata": {},
   "source": [
    "Pandas, short for Panel Data, is a library in Python which allows for working with dataframes. It's quite similar to the R implementation of dataframes. Pandas represents a table as a dataframe where each column in a is a NumPy array and each row is implemented as a Pandas Series."
   ]
  },
  {
   "cell_type": "markdown",
   "metadata": {},
   "source": [
    "**Data Types**"
   ]
  },
  {
   "cell_type": "markdown",
   "metadata": {},
   "source": [
    "Pandas has several different data types, including integers (```int8```, ```int16```, ```int32```, ```int64```, all of which can be negative or positive, plus ```uint8```, ```uint16```, ```uint32```, and ```uint64``` which are \"unsigned\" and solely positive), floats (```float64```), bools (```bool```), date/time (```datetime64```), date/time differences (```timedelta```), finite categorical data (```category```), and object type (```object```) which is used to store strings and combinations of numeric and non-numeric data. Finally, in addition to ```None```, which is a primitive data type in Python, there is also ```NaN``` (Not-a-Number), which is used to indicate missing values in both NumPy and Pandas. ```NaN``` is an IEEE floating-point value which represents null values in numerical data. In NumPy and Pandas, an object's ```dtype``` specifies the data type and the size of the elements inside a NumPy array or a Pandas column. "
   ]
  },
  {
   "cell_type": "markdown",
   "metadata": {},
   "source": [
    "#### Pandas Series"
   ]
  },
  {
   "cell_type": "markdown",
   "metadata": {},
   "source": [
    "This is the primary data structure in Pandas. A Series is an array-like data structure where each element is assigned a unique label, known as an index, and where each element can be accessed either by name (its label) or by numbered index. \n",
    "\n",
    "In order to create a Series we need to supply both the series values and the labels. We can keep our labels and values in python lists and pass them as parameters to the series function, or we can use a python dictionary, which can be converted directly into a series."
   ]
  },
  {
   "cell_type": "code",
   "execution_count": 23,
   "metadata": {},
   "outputs": [
    {
     "name": "stdout",
     "output_type": "stream",
     "text": [
      "a    10\n",
      "b    20\n",
      "c    30\n",
      "dtype: int64\n"
     ]
    }
   ],
   "source": [
    "import pandas as pd\n",
    "\n",
    "labels = ['a','b','c']\n",
    "values = np.array([10,20,30])\n",
    "\n",
    "s1 = pd.Series(data=values, index=labels)\n",
    "print(s1)"
   ]
  },
  {
   "cell_type": "code",
   "execution_count": 24,
   "metadata": {},
   "outputs": [
    {
     "name": "stdout",
     "output_type": "stream",
     "text": [
      "a    10\n",
      "b    20\n",
      "c    30\n",
      "dtype: int64\n"
     ]
    }
   ],
   "source": [
    "rowDict = dict({'a': 10, 'b': 20, 'c': 30})\n",
    "s2 = pd.Series(rowDict)\n",
    "print(s2)"
   ]
  },
  {
   "cell_type": "markdown",
   "metadata": {},
   "source": [
    "#### Accessing Values"
   ]
  },
  {
   "cell_type": "markdown",
   "metadata": {},
   "source": [
    "We have three ways of accessing values in a series. \n",
    "\n",
    "1. Using the label name with dot notation (like the dollar ($) sign in R).\n",
    "2. Using the label names with square bracket notation.\n",
    "3. Using the label index with square bracket notation."
   ]
  },
  {
   "cell_type": "code",
   "execution_count": 2,
   "metadata": {},
   "outputs": [
    {
     "ename": "NameError",
     "evalue": "name 's1' is not defined",
     "output_type": "error",
     "traceback": [
      "\u001b[0;31m---------------------------------------------------------------------------\u001b[0m",
      "\u001b[0;31mNameError\u001b[0m                                 Traceback (most recent call last)",
      "Cell \u001b[0;32mIn[2], line 2\u001b[0m\n\u001b[1;32m      1\u001b[0m \u001b[38;5;66;03m#1 dot notation\u001b[39;00m\n\u001b[0;32m----> 2\u001b[0m \u001b[38;5;28mprint\u001b[39m(\u001b[38;5;124m\"\u001b[39m\u001b[38;5;124mThe label \u001b[39m\u001b[38;5;124m'\u001b[39m\u001b[38;5;124ma\u001b[39m\u001b[38;5;124m'\u001b[39m\u001b[38;5;124m has value: \u001b[39m\u001b[38;5;124m\"\u001b[39m \u001b[38;5;241m+\u001b[39m \u001b[38;5;28mstr\u001b[39m(\u001b[43ms1\u001b[49m\u001b[38;5;241m.\u001b[39ma))\n\u001b[1;32m      4\u001b[0m \u001b[38;5;66;03m#2 square bracket name notation\u001b[39;00m\n\u001b[1;32m      5\u001b[0m \u001b[38;5;28mprint\u001b[39m(\u001b[38;5;124m\"\u001b[39m\u001b[38;5;124mThe label \u001b[39m\u001b[38;5;124m'\u001b[39m\u001b[38;5;124ma\u001b[39m\u001b[38;5;124m'\u001b[39m\u001b[38;5;124m has value: \u001b[39m\u001b[38;5;124m\"\u001b[39m \u001b[38;5;241m+\u001b[39m \u001b[38;5;28mstr\u001b[39m(s1[\u001b[38;5;124m'\u001b[39m\u001b[38;5;124ma\u001b[39m\u001b[38;5;124m'\u001b[39m]))\n",
      "\u001b[0;31mNameError\u001b[0m: name 's1' is not defined"
     ]
    }
   ],
   "source": [
    "#1 dot notation\n",
    "print(\"The label 'a' has value: \" + str(s1.a))\n",
    "\n",
    "#2 square bracket name notation\n",
    "print(\"The label 'a' has value: \" + str(s1['a']))\n",
    "\n",
    "#3 square bracket column index\n",
    "print(\"The label 'a' has value: \" + str(s1[0]))"
   ]
  },
  {
   "cell_type": "markdown",
   "metadata": {},
   "source": [
    "#### DataFrames"
   ]
  },
  {
   "cell_type": "markdown",
   "metadata": {},
   "source": [
    "A Pandas DataFrame is a two-dimensional table-like data structure consisting of rows and columns, where each column can contain data of a different type (e.g., numeric, string, or boolean), and each row represents a unique observation or record. A DataFrame is made up of a collection of Pandas Series objects, where each Series represents a column of data in the DataFrame.\n",
    "\n",
    "The easiest way to create a a Pandas DataFrame is to use a list of python dictionaries. We've seen above that we can easily create a row (or Series from a python dictionary). The dictionary key is taken to represent the column name while the value represents the value for that row. By creating a list of dictionaries we can gather together our initial data for creating a dataframe."
   ]
  },
  {
   "cell_type": "code",
   "execution_count": 27,
   "metadata": {},
   "outputs": [
    {
     "data": {
      "text/html": [
       "<div>\n",
       "<style scoped>\n",
       "    .dataframe tbody tr th:only-of-type {\n",
       "        vertical-align: middle;\n",
       "    }\n",
       "\n",
       "    .dataframe tbody tr th {\n",
       "        vertical-align: top;\n",
       "    }\n",
       "\n",
       "    .dataframe thead th {\n",
       "        text-align: right;\n",
       "    }\n",
       "</style>\n",
       "<table border=\"1\" class=\"dataframe\">\n",
       "  <thead>\n",
       "    <tr style=\"text-align: right;\">\n",
       "      <th></th>\n",
       "      <th>name</th>\n",
       "      <th>breed</th>\n",
       "      <th>height</th>\n",
       "    </tr>\n",
       "  </thead>\n",
       "  <tbody>\n",
       "    <tr>\n",
       "      <th>0</th>\n",
       "      <td>Mutt</td>\n",
       "      <td>terrier</td>\n",
       "      <td>1.2</td>\n",
       "    </tr>\n",
       "    <tr>\n",
       "      <th>1</th>\n",
       "      <td>Bonnie</td>\n",
       "      <td>bichon</td>\n",
       "      <td>0.6</td>\n",
       "    </tr>\n",
       "  </tbody>\n",
       "</table>\n",
       "</div>"
      ],
      "text/plain": [
       "     name    breed  height\n",
       "0    Mutt  terrier     1.2\n",
       "1  Bonnie   bichon     0.6"
      ]
     },
     "execution_count": 27,
     "metadata": {},
     "output_type": "execute_result"
    }
   ],
   "source": [
    "# Create a dictionary\n",
    "mutt = dict({\"name\": \"Mutt\", \"breed\": \"Terrier\", \"height\": 1.2})\n",
    "\n",
    "# Create another dictionary in an alternative manner\n",
    "bonnie = {}\n",
    "bonnie[\"name\"] = \"Bonnie\"\n",
    "bonnie[\"breed\"] = \"Bichon\"\n",
    "bonnie[\"height\"] = 0.6\n",
    "\n",
    "# Append these dictionaries to a list, and convert to DataFrame\n",
    "dogs = list()\n",
    "dogs.append(mutt)\n",
    "dogs.append(bonnie)\n",
    "pd.DataFrame(dogs)\n",
    "\n",
    "# We could shorten the above code to the following\n",
    "dogs = [{\"name\": \"Mutt\", \"breed\": \"terrier\", \"height\": 1.2}, {\"name\": \"Bonnie\", \"breed\": \"bichon\", \"height\": 0.6}]\n",
    "pd.DataFrame(dogs)"
   ]
  },
  {
   "cell_type": "markdown",
   "metadata": {},
   "source": [
    "We can also create a dataframe directly from a CSV file, using pd.read_csv()."
   ]
  },
  {
   "cell_type": "code",
   "execution_count": 28,
   "metadata": {},
   "outputs": [
    {
     "data": {
      "text/html": [
       "<div>\n",
       "<style scoped>\n",
       "    .dataframe tbody tr th:only-of-type {\n",
       "        vertical-align: middle;\n",
       "    }\n",
       "\n",
       "    .dataframe tbody tr th {\n",
       "        vertical-align: top;\n",
       "    }\n",
       "\n",
       "    .dataframe thead th {\n",
       "        text-align: right;\n",
       "    }\n",
       "</style>\n",
       "<table border=\"1\" class=\"dataframe\">\n",
       "  <thead>\n",
       "    <tr style=\"text-align: right;\">\n",
       "      <th></th>\n",
       "      <th>sepal.length</th>\n",
       "      <th>sepal.width</th>\n",
       "      <th>petal.length</th>\n",
       "      <th>petal.width</th>\n",
       "      <th>variety</th>\n",
       "    </tr>\n",
       "  </thead>\n",
       "  <tbody>\n",
       "    <tr>\n",
       "      <th>0</th>\n",
       "      <td>5.1</td>\n",
       "      <td>3.5</td>\n",
       "      <td>1.4</td>\n",
       "      <td>0.2</td>\n",
       "      <td>Setosa</td>\n",
       "    </tr>\n",
       "    <tr>\n",
       "      <th>1</th>\n",
       "      <td>4.9</td>\n",
       "      <td>3.0</td>\n",
       "      <td>1.4</td>\n",
       "      <td>0.2</td>\n",
       "      <td>Setosa</td>\n",
       "    </tr>\n",
       "    <tr>\n",
       "      <th>2</th>\n",
       "      <td>4.7</td>\n",
       "      <td>3.2</td>\n",
       "      <td>1.3</td>\n",
       "      <td>0.2</td>\n",
       "      <td>Setosa</td>\n",
       "    </tr>\n",
       "    <tr>\n",
       "      <th>3</th>\n",
       "      <td>4.6</td>\n",
       "      <td>3.1</td>\n",
       "      <td>1.5</td>\n",
       "      <td>0.2</td>\n",
       "      <td>Setosa</td>\n",
       "    </tr>\n",
       "    <tr>\n",
       "      <th>4</th>\n",
       "      <td>5.0</td>\n",
       "      <td>3.6</td>\n",
       "      <td>1.4</td>\n",
       "      <td>0.2</td>\n",
       "      <td>Setosa</td>\n",
       "    </tr>\n",
       "    <tr>\n",
       "      <th>...</th>\n",
       "      <td>...</td>\n",
       "      <td>...</td>\n",
       "      <td>...</td>\n",
       "      <td>...</td>\n",
       "      <td>...</td>\n",
       "    </tr>\n",
       "    <tr>\n",
       "      <th>145</th>\n",
       "      <td>6.7</td>\n",
       "      <td>3.0</td>\n",
       "      <td>5.2</td>\n",
       "      <td>2.3</td>\n",
       "      <td>Virginica</td>\n",
       "    </tr>\n",
       "    <tr>\n",
       "      <th>146</th>\n",
       "      <td>6.3</td>\n",
       "      <td>2.5</td>\n",
       "      <td>5.0</td>\n",
       "      <td>1.9</td>\n",
       "      <td>Virginica</td>\n",
       "    </tr>\n",
       "    <tr>\n",
       "      <th>147</th>\n",
       "      <td>6.5</td>\n",
       "      <td>3.0</td>\n",
       "      <td>5.2</td>\n",
       "      <td>2.0</td>\n",
       "      <td>Virginica</td>\n",
       "    </tr>\n",
       "    <tr>\n",
       "      <th>148</th>\n",
       "      <td>6.2</td>\n",
       "      <td>3.4</td>\n",
       "      <td>5.4</td>\n",
       "      <td>2.3</td>\n",
       "      <td>Virginica</td>\n",
       "    </tr>\n",
       "    <tr>\n",
       "      <th>149</th>\n",
       "      <td>5.9</td>\n",
       "      <td>3.0</td>\n",
       "      <td>5.1</td>\n",
       "      <td>1.8</td>\n",
       "      <td>Virginica</td>\n",
       "    </tr>\n",
       "  </tbody>\n",
       "</table>\n",
       "<p>150 rows × 5 columns</p>\n",
       "</div>"
      ],
      "text/plain": [
       "     sepal.length  sepal.width  petal.length  petal.width    variety\n",
       "0             5.1          3.5           1.4          0.2     Setosa\n",
       "1             4.9          3.0           1.4          0.2     Setosa\n",
       "2             4.7          3.2           1.3          0.2     Setosa\n",
       "3             4.6          3.1           1.5          0.2     Setosa\n",
       "4             5.0          3.6           1.4          0.2     Setosa\n",
       "..            ...          ...           ...          ...        ...\n",
       "145           6.7          3.0           5.2          2.3  Virginica\n",
       "146           6.3          2.5           5.0          1.9  Virginica\n",
       "147           6.5          3.0           5.2          2.0  Virginica\n",
       "148           6.2          3.4           5.4          2.3  Virginica\n",
       "149           5.9          3.0           5.1          1.8  Virginica\n",
       "\n",
       "[150 rows x 5 columns]"
      ]
     },
     "execution_count": 28,
     "metadata": {},
     "output_type": "execute_result"
    }
   ],
   "source": [
    "df = pd.read_csv(\"iris.csv\")\n",
    "df"
   ]
  },
  {
   "cell_type": "markdown",
   "metadata": {},
   "source": [
    "We can also copy a dataframe using copy(), df2 = df.copy()."
   ]
  },
  {
   "cell_type": "markdown",
   "metadata": {},
   "source": [
    "#### Exploration"
   ]
  },
  {
   "cell_type": "code",
   "execution_count": 31,
   "metadata": {},
   "outputs": [
    {
     "data": {
      "text/plain": [
       "(150, 5)"
      ]
     },
     "execution_count": 31,
     "metadata": {},
     "output_type": "execute_result"
    }
   ],
   "source": [
    "df.shape"
   ]
  },
  {
   "cell_type": "code",
   "execution_count": 29,
   "metadata": {},
   "outputs": [
    {
     "data": {
      "text/html": [
       "<div>\n",
       "<style scoped>\n",
       "    .dataframe tbody tr th:only-of-type {\n",
       "        vertical-align: middle;\n",
       "    }\n",
       "\n",
       "    .dataframe tbody tr th {\n",
       "        vertical-align: top;\n",
       "    }\n",
       "\n",
       "    .dataframe thead th {\n",
       "        text-align: right;\n",
       "    }\n",
       "</style>\n",
       "<table border=\"1\" class=\"dataframe\">\n",
       "  <thead>\n",
       "    <tr style=\"text-align: right;\">\n",
       "      <th></th>\n",
       "      <th>sepal.length</th>\n",
       "      <th>sepal.width</th>\n",
       "      <th>petal.length</th>\n",
       "      <th>petal.width</th>\n",
       "      <th>variety</th>\n",
       "    </tr>\n",
       "  </thead>\n",
       "  <tbody>\n",
       "    <tr>\n",
       "      <th>0</th>\n",
       "      <td>5.1</td>\n",
       "      <td>3.5</td>\n",
       "      <td>1.4</td>\n",
       "      <td>0.2</td>\n",
       "      <td>Setosa</td>\n",
       "    </tr>\n",
       "    <tr>\n",
       "      <th>1</th>\n",
       "      <td>4.9</td>\n",
       "      <td>3.0</td>\n",
       "      <td>1.4</td>\n",
       "      <td>0.2</td>\n",
       "      <td>Setosa</td>\n",
       "    </tr>\n",
       "    <tr>\n",
       "      <th>2</th>\n",
       "      <td>4.7</td>\n",
       "      <td>3.2</td>\n",
       "      <td>1.3</td>\n",
       "      <td>0.2</td>\n",
       "      <td>Setosa</td>\n",
       "    </tr>\n",
       "    <tr>\n",
       "      <th>3</th>\n",
       "      <td>4.6</td>\n",
       "      <td>3.1</td>\n",
       "      <td>1.5</td>\n",
       "      <td>0.2</td>\n",
       "      <td>Setosa</td>\n",
       "    </tr>\n",
       "    <tr>\n",
       "      <th>4</th>\n",
       "      <td>5.0</td>\n",
       "      <td>3.6</td>\n",
       "      <td>1.4</td>\n",
       "      <td>0.2</td>\n",
       "      <td>Setosa</td>\n",
       "    </tr>\n",
       "  </tbody>\n",
       "</table>\n",
       "</div>"
      ],
      "text/plain": [
       "   sepal.length  sepal.width  petal.length  petal.width variety\n",
       "0           5.1          3.5           1.4          0.2  Setosa\n",
       "1           4.9          3.0           1.4          0.2  Setosa\n",
       "2           4.7          3.2           1.3          0.2  Setosa\n",
       "3           4.6          3.1           1.5          0.2  Setosa\n",
       "4           5.0          3.6           1.4          0.2  Setosa"
      ]
     },
     "execution_count": 29,
     "metadata": {},
     "output_type": "execute_result"
    }
   ],
   "source": [
    "df.head()"
   ]
  },
  {
   "cell_type": "code",
   "execution_count": 30,
   "metadata": {},
   "outputs": [
    {
     "data": {
      "text/html": [
       "<div>\n",
       "<style scoped>\n",
       "    .dataframe tbody tr th:only-of-type {\n",
       "        vertical-align: middle;\n",
       "    }\n",
       "\n",
       "    .dataframe tbody tr th {\n",
       "        vertical-align: top;\n",
       "    }\n",
       "\n",
       "    .dataframe thead th {\n",
       "        text-align: right;\n",
       "    }\n",
       "</style>\n",
       "<table border=\"1\" class=\"dataframe\">\n",
       "  <thead>\n",
       "    <tr style=\"text-align: right;\">\n",
       "      <th></th>\n",
       "      <th>sepal.length</th>\n",
       "      <th>sepal.width</th>\n",
       "      <th>petal.length</th>\n",
       "      <th>petal.width</th>\n",
       "      <th>variety</th>\n",
       "    </tr>\n",
       "  </thead>\n",
       "  <tbody>\n",
       "    <tr>\n",
       "      <th>145</th>\n",
       "      <td>6.7</td>\n",
       "      <td>3.0</td>\n",
       "      <td>5.2</td>\n",
       "      <td>2.3</td>\n",
       "      <td>Virginica</td>\n",
       "    </tr>\n",
       "    <tr>\n",
       "      <th>146</th>\n",
       "      <td>6.3</td>\n",
       "      <td>2.5</td>\n",
       "      <td>5.0</td>\n",
       "      <td>1.9</td>\n",
       "      <td>Virginica</td>\n",
       "    </tr>\n",
       "    <tr>\n",
       "      <th>147</th>\n",
       "      <td>6.5</td>\n",
       "      <td>3.0</td>\n",
       "      <td>5.2</td>\n",
       "      <td>2.0</td>\n",
       "      <td>Virginica</td>\n",
       "    </tr>\n",
       "    <tr>\n",
       "      <th>148</th>\n",
       "      <td>6.2</td>\n",
       "      <td>3.4</td>\n",
       "      <td>5.4</td>\n",
       "      <td>2.3</td>\n",
       "      <td>Virginica</td>\n",
       "    </tr>\n",
       "    <tr>\n",
       "      <th>149</th>\n",
       "      <td>5.9</td>\n",
       "      <td>3.0</td>\n",
       "      <td>5.1</td>\n",
       "      <td>1.8</td>\n",
       "      <td>Virginica</td>\n",
       "    </tr>\n",
       "  </tbody>\n",
       "</table>\n",
       "</div>"
      ],
      "text/plain": [
       "     sepal.length  sepal.width  petal.length  petal.width    variety\n",
       "145           6.7          3.0           5.2          2.3  Virginica\n",
       "146           6.3          2.5           5.0          1.9  Virginica\n",
       "147           6.5          3.0           5.2          2.0  Virginica\n",
       "148           6.2          3.4           5.4          2.3  Virginica\n",
       "149           5.9          3.0           5.1          1.8  Virginica"
      ]
     },
     "execution_count": 30,
     "metadata": {},
     "output_type": "execute_result"
    }
   ],
   "source": [
    "df.tail()"
   ]
  },
  {
   "cell_type": "markdown",
   "metadata": {},
   "source": [
    "#### Accessing Values"
   ]
  },
  {
   "cell_type": "code",
   "execution_count": 34,
   "metadata": {},
   "outputs": [
    {
     "data": {
      "text/plain": [
       "0         Setosa\n",
       "1         Setosa\n",
       "2         Setosa\n",
       "3         Setosa\n",
       "4         Setosa\n",
       "         ...    \n",
       "145    Virginica\n",
       "146    Virginica\n",
       "147    Virginica\n",
       "148    Virginica\n",
       "149    Virginica\n",
       "Name: variety, Length: 150, dtype: object"
      ]
     },
     "execution_count": 34,
     "metadata": {},
     "output_type": "execute_result"
    }
   ],
   "source": [
    "df.variety"
   ]
  },
  {
   "cell_type": "code",
   "execution_count": 35,
   "metadata": {},
   "outputs": [
    {
     "data": {
      "text/plain": [
       "0         Setosa\n",
       "1         Setosa\n",
       "2         Setosa\n",
       "3         Setosa\n",
       "4         Setosa\n",
       "         ...    \n",
       "145    Virginica\n",
       "146    Virginica\n",
       "147    Virginica\n",
       "148    Virginica\n",
       "149    Virginica\n",
       "Name: variety, Length: 150, dtype: object"
      ]
     },
     "execution_count": 35,
     "metadata": {},
     "output_type": "execute_result"
    }
   ],
   "source": [
    "df[\"variety\"]"
   ]
  },
  {
   "cell_type": "code",
   "execution_count": 37,
   "metadata": {},
   "outputs": [
    {
     "data": {
      "text/html": [
       "<div>\n",
       "<style scoped>\n",
       "    .dataframe tbody tr th:only-of-type {\n",
       "        vertical-align: middle;\n",
       "    }\n",
       "\n",
       "    .dataframe tbody tr th {\n",
       "        vertical-align: top;\n",
       "    }\n",
       "\n",
       "    .dataframe thead th {\n",
       "        text-align: right;\n",
       "    }\n",
       "</style>\n",
       "<table border=\"1\" class=\"dataframe\">\n",
       "  <thead>\n",
       "    <tr style=\"text-align: right;\">\n",
       "      <th></th>\n",
       "      <th>variety</th>\n",
       "      <th>sepal.length</th>\n",
       "    </tr>\n",
       "  </thead>\n",
       "  <tbody>\n",
       "    <tr>\n",
       "      <th>0</th>\n",
       "      <td>Setosa</td>\n",
       "      <td>5.1</td>\n",
       "    </tr>\n",
       "    <tr>\n",
       "      <th>1</th>\n",
       "      <td>Setosa</td>\n",
       "      <td>4.9</td>\n",
       "    </tr>\n",
       "    <tr>\n",
       "      <th>2</th>\n",
       "      <td>Setosa</td>\n",
       "      <td>4.7</td>\n",
       "    </tr>\n",
       "    <tr>\n",
       "      <th>3</th>\n",
       "      <td>Setosa</td>\n",
       "      <td>4.6</td>\n",
       "    </tr>\n",
       "    <tr>\n",
       "      <th>4</th>\n",
       "      <td>Setosa</td>\n",
       "      <td>5.0</td>\n",
       "    </tr>\n",
       "    <tr>\n",
       "      <th>...</th>\n",
       "      <td>...</td>\n",
       "      <td>...</td>\n",
       "    </tr>\n",
       "    <tr>\n",
       "      <th>145</th>\n",
       "      <td>Virginica</td>\n",
       "      <td>6.7</td>\n",
       "    </tr>\n",
       "    <tr>\n",
       "      <th>146</th>\n",
       "      <td>Virginica</td>\n",
       "      <td>6.3</td>\n",
       "    </tr>\n",
       "    <tr>\n",
       "      <th>147</th>\n",
       "      <td>Virginica</td>\n",
       "      <td>6.5</td>\n",
       "    </tr>\n",
       "    <tr>\n",
       "      <th>148</th>\n",
       "      <td>Virginica</td>\n",
       "      <td>6.2</td>\n",
       "    </tr>\n",
       "    <tr>\n",
       "      <th>149</th>\n",
       "      <td>Virginica</td>\n",
       "      <td>5.9</td>\n",
       "    </tr>\n",
       "  </tbody>\n",
       "</table>\n",
       "<p>150 rows × 2 columns</p>\n",
       "</div>"
      ],
      "text/plain": [
       "       variety  sepal.length\n",
       "0       Setosa           5.1\n",
       "1       Setosa           4.9\n",
       "2       Setosa           4.7\n",
       "3       Setosa           4.6\n",
       "4       Setosa           5.0\n",
       "..         ...           ...\n",
       "145  Virginica           6.7\n",
       "146  Virginica           6.3\n",
       "147  Virginica           6.5\n",
       "148  Virginica           6.2\n",
       "149  Virginica           5.9\n",
       "\n",
       "[150 rows x 2 columns]"
      ]
     },
     "execution_count": 37,
     "metadata": {},
     "output_type": "execute_result"
    }
   ],
   "source": [
    "df[[\"variety\", \"sepal.length\"]]"
   ]
  },
  {
   "cell_type": "markdown",
   "metadata": {},
   "source": [
    "#### Indexing and Slicing"
   ]
  },
  {
   "cell_type": "markdown",
   "metadata": {},
   "source": [
    "We can select rows from a pandas dataframe using the .loc and .iloc properties. The .loc method allows us to select rows and columns by name, whereas .iloc allows us to select rows and columns by index. Usually rows have a numeric index, although it is possible to give rows a named index. If the index is numeric (as is default) we can use row indexing with .loc."
   ]
  },
  {
   "cell_type": "code",
   "execution_count": 38,
   "metadata": {},
   "outputs": [
    {
     "data": {
      "text/html": [
       "<div>\n",
       "<style scoped>\n",
       "    .dataframe tbody tr th:only-of-type {\n",
       "        vertical-align: middle;\n",
       "    }\n",
       "\n",
       "    .dataframe tbody tr th {\n",
       "        vertical-align: top;\n",
       "    }\n",
       "\n",
       "    .dataframe thead th {\n",
       "        text-align: right;\n",
       "    }\n",
       "</style>\n",
       "<table border=\"1\" class=\"dataframe\">\n",
       "  <thead>\n",
       "    <tr style=\"text-align: right;\">\n",
       "      <th></th>\n",
       "      <th>variety</th>\n",
       "      <th>sepal.length</th>\n",
       "      <th>sepal.width</th>\n",
       "    </tr>\n",
       "  </thead>\n",
       "  <tbody>\n",
       "    <tr>\n",
       "      <th>0</th>\n",
       "      <td>Setosa</td>\n",
       "      <td>5.1</td>\n",
       "      <td>3.5</td>\n",
       "    </tr>\n",
       "    <tr>\n",
       "      <th>1</th>\n",
       "      <td>Setosa</td>\n",
       "      <td>4.9</td>\n",
       "      <td>3.0</td>\n",
       "    </tr>\n",
       "    <tr>\n",
       "      <th>2</th>\n",
       "      <td>Setosa</td>\n",
       "      <td>4.7</td>\n",
       "      <td>3.2</td>\n",
       "    </tr>\n",
       "    <tr>\n",
       "      <th>3</th>\n",
       "      <td>Setosa</td>\n",
       "      <td>4.6</td>\n",
       "      <td>3.1</td>\n",
       "    </tr>\n",
       "    <tr>\n",
       "      <th>4</th>\n",
       "      <td>Setosa</td>\n",
       "      <td>5.0</td>\n",
       "      <td>3.6</td>\n",
       "    </tr>\n",
       "  </tbody>\n",
       "</table>\n",
       "</div>"
      ],
      "text/plain": [
       "  variety  sepal.length  sepal.width\n",
       "0  Setosa           5.1          3.5\n",
       "1  Setosa           4.9          3.0\n",
       "2  Setosa           4.7          3.2\n",
       "3  Setosa           4.6          3.1\n",
       "4  Setosa           5.0          3.6"
      ]
     },
     "execution_count": 38,
     "metadata": {},
     "output_type": "execute_result"
    }
   ],
   "source": [
    "# Get the first five rows with .loc, selecting the columns we want by name\n",
    "# Note that .loc is inclusive\n",
    "df.loc[0:4, [\"variety\", \"sepal.length\", \"sepal.width\"]]"
   ]
  },
  {
   "cell_type": "code",
   "execution_count": 39,
   "metadata": {},
   "outputs": [
    {
     "data": {
      "text/html": [
       "<div>\n",
       "<style scoped>\n",
       "    .dataframe tbody tr th:only-of-type {\n",
       "        vertical-align: middle;\n",
       "    }\n",
       "\n",
       "    .dataframe tbody tr th {\n",
       "        vertical-align: top;\n",
       "    }\n",
       "\n",
       "    .dataframe thead th {\n",
       "        text-align: right;\n",
       "    }\n",
       "</style>\n",
       "<table border=\"1\" class=\"dataframe\">\n",
       "  <thead>\n",
       "    <tr style=\"text-align: right;\">\n",
       "      <th></th>\n",
       "      <th>variety</th>\n",
       "      <th>sepal.length</th>\n",
       "      <th>sepal.width</th>\n",
       "    </tr>\n",
       "  </thead>\n",
       "  <tbody>\n",
       "    <tr>\n",
       "      <th>0</th>\n",
       "      <td>Setosa</td>\n",
       "      <td>5.1</td>\n",
       "      <td>3.5</td>\n",
       "    </tr>\n",
       "    <tr>\n",
       "      <th>1</th>\n",
       "      <td>Setosa</td>\n",
       "      <td>4.9</td>\n",
       "      <td>3.0</td>\n",
       "    </tr>\n",
       "    <tr>\n",
       "      <th>2</th>\n",
       "      <td>Setosa</td>\n",
       "      <td>4.7</td>\n",
       "      <td>3.2</td>\n",
       "    </tr>\n",
       "    <tr>\n",
       "      <th>3</th>\n",
       "      <td>Setosa</td>\n",
       "      <td>4.6</td>\n",
       "      <td>3.1</td>\n",
       "    </tr>\n",
       "    <tr>\n",
       "      <th>4</th>\n",
       "      <td>Setosa</td>\n",
       "      <td>5.0</td>\n",
       "      <td>3.6</td>\n",
       "    </tr>\n",
       "  </tbody>\n",
       "</table>\n",
       "</div>"
      ],
      "text/plain": [
       "  variety  sepal.length  sepal.width\n",
       "0  Setosa           5.1          3.5\n",
       "1  Setosa           4.9          3.0\n",
       "2  Setosa           4.7          3.2\n",
       "3  Setosa           4.6          3.1\n",
       "4  Setosa           5.0          3.6"
      ]
     },
     "execution_count": 39,
     "metadata": {},
     "output_type": "execute_result"
    }
   ],
   "source": [
    "# Get the first five rows with .iloc, selecting the columns we want by index\n",
    "# Note that .iloc is exclusive\n",
    "df.iloc[0:5, [4,0,1]]"
   ]
  },
  {
   "cell_type": "markdown",
   "metadata": {},
   "source": [
    "We can also use Boolean logic to access information. This is known as logical indexing. It's much more common that we might want to select all rows meeting a certain condition (e.g. all rows where the label is True). The .loc function also lets us pass an array of True/False values, and will return only rows corresponding to True in the array."
   ]
  },
  {
   "cell_type": "code",
   "execution_count": 40,
   "metadata": {},
   "outputs": [
    {
     "name": "stdout",
     "output_type": "stream",
     "text": [
      "   StudentNo FirstName LastName\n",
      "0  d19122334      John    Smith\n",
      "2  c18155334      Enda    Smith\n"
     ]
    }
   ],
   "source": [
    "# Use logical indexing to select the first and third rows only\n",
    "students = pd.DataFrame([['d19122334', 'John', 'Smith'], ['d19155667', 'Jane', 'Doe'], ['c18155334', 'Enda', 'Smith']], columns=[\"StudentNo\", \"FirstName\", \"LastName\"])\n",
    "print(students.loc[[True, False, True]])"
   ]
  },
  {
   "cell_type": "markdown",
   "metadata": {},
   "source": [
    "We can use this to create complex queries to retrieve certain rows in our dataset."
   ]
  },
  {
   "cell_type": "code",
   "execution_count": 42,
   "metadata": {},
   "outputs": [
    {
     "name": "stdout",
     "output_type": "stream",
     "text": [
      "0     True\n",
      "1    False\n",
      "2     True\n",
      "Name: LastName, dtype: bool\n",
      "   StudentNo FirstName LastName\n",
      "0  d19122334      John    Smith\n",
      "2  c18155334      Enda    Smith\n"
     ]
    },
    {
     "data": {
      "text/html": [
       "<div>\n",
       "<style scoped>\n",
       "    .dataframe tbody tr th:only-of-type {\n",
       "        vertical-align: middle;\n",
       "    }\n",
       "\n",
       "    .dataframe tbody tr th {\n",
       "        vertical-align: top;\n",
       "    }\n",
       "\n",
       "    .dataframe thead th {\n",
       "        text-align: right;\n",
       "    }\n",
       "</style>\n",
       "<table border=\"1\" class=\"dataframe\">\n",
       "  <thead>\n",
       "    <tr style=\"text-align: right;\">\n",
       "      <th></th>\n",
       "      <th>StudentNo</th>\n",
       "      <th>FirstName</th>\n",
       "      <th>LastName</th>\n",
       "    </tr>\n",
       "  </thead>\n",
       "  <tbody>\n",
       "    <tr>\n",
       "      <th>0</th>\n",
       "      <td>d19122334</td>\n",
       "      <td>John</td>\n",
       "      <td>Smith</td>\n",
       "    </tr>\n",
       "    <tr>\n",
       "      <th>2</th>\n",
       "      <td>c18155334</td>\n",
       "      <td>Enda</td>\n",
       "      <td>Smith</td>\n",
       "    </tr>\n",
       "  </tbody>\n",
       "</table>\n",
       "</div>"
      ],
      "text/plain": [
       "   StudentNo FirstName LastName\n",
       "0  d19122334      John    Smith\n",
       "2  c18155334      Enda    Smith"
      ]
     },
     "execution_count": 42,
     "metadata": {},
     "output_type": "execute_result"
    }
   ],
   "source": [
    "isSmith = students[\"LastName\"] == \"Smith\"\n",
    "\n",
    "# Gives us [True, False, True]\n",
    "print(isSmith)\n",
    "\n",
    "print(students.loc[isSmith])\n",
    "\n",
    "# Putting all of this together in one row we get\n",
    "students.loc[students[\"LastName\"] == \"Smith\"]"
   ]
  },
  {
   "cell_type": "markdown",
   "metadata": {},
   "source": [
    "We can build up complex queries using the python logical-and and logical-or operators. If combinations are used,  we must put both sides of the equation inside parentheses."
   ]
  },
  {
   "cell_type": "code",
   "execution_count": 43,
   "metadata": {},
   "outputs": [
    {
     "data": {
      "text/html": [
       "<div>\n",
       "<style scoped>\n",
       "    .dataframe tbody tr th:only-of-type {\n",
       "        vertical-align: middle;\n",
       "    }\n",
       "\n",
       "    .dataframe tbody tr th {\n",
       "        vertical-align: top;\n",
       "    }\n",
       "\n",
       "    .dataframe thead th {\n",
       "        text-align: right;\n",
       "    }\n",
       "</style>\n",
       "<table border=\"1\" class=\"dataframe\">\n",
       "  <thead>\n",
       "    <tr style=\"text-align: right;\">\n",
       "      <th></th>\n",
       "      <th>StudentNo</th>\n",
       "      <th>FirstName</th>\n",
       "      <th>LastName</th>\n",
       "    </tr>\n",
       "  </thead>\n",
       "  <tbody>\n",
       "    <tr>\n",
       "      <th>0</th>\n",
       "      <td>d19122334</td>\n",
       "      <td>John</td>\n",
       "      <td>Smith</td>\n",
       "    </tr>\n",
       "    <tr>\n",
       "      <th>1</th>\n",
       "      <td>d19155667</td>\n",
       "      <td>Jane</td>\n",
       "      <td>Doe</td>\n",
       "    </tr>\n",
       "  </tbody>\n",
       "</table>\n",
       "</div>"
      ],
      "text/plain": [
       "   StudentNo FirstName LastName\n",
       "0  d19122334      John    Smith\n",
       "1  d19155667      Jane      Doe"
      ]
     },
     "execution_count": 43,
     "metadata": {},
     "output_type": "execute_result"
    }
   ],
   "source": [
    "students.loc[(students[\"LastName\"]==\"Doe\")|(students[\"FirstName\"]==\"John\")]"
   ]
  },
  {
   "cell_type": "code",
   "execution_count": 48,
   "metadata": {},
   "outputs": [
    {
     "data": {
      "text/html": [
       "<div>\n",
       "<style scoped>\n",
       "    .dataframe tbody tr th:only-of-type {\n",
       "        vertical-align: middle;\n",
       "    }\n",
       "\n",
       "    .dataframe tbody tr th {\n",
       "        vertical-align: top;\n",
       "    }\n",
       "\n",
       "    .dataframe thead th {\n",
       "        text-align: right;\n",
       "    }\n",
       "</style>\n",
       "<table border=\"1\" class=\"dataframe\">\n",
       "  <thead>\n",
       "    <tr style=\"text-align: right;\">\n",
       "      <th></th>\n",
       "      <th>sepal.length</th>\n",
       "      <th>sepal.width</th>\n",
       "      <th>petal.length</th>\n",
       "      <th>petal.width</th>\n",
       "      <th>variety</th>\n",
       "    </tr>\n",
       "  </thead>\n",
       "  <tbody>\n",
       "    <tr>\n",
       "      <th>0</th>\n",
       "      <td>5.1</td>\n",
       "      <td>3.5</td>\n",
       "      <td>1.4</td>\n",
       "      <td>0.2</td>\n",
       "      <td>Setosa</td>\n",
       "    </tr>\n",
       "    <tr>\n",
       "      <th>1</th>\n",
       "      <td>4.9</td>\n",
       "      <td>3.0</td>\n",
       "      <td>1.4</td>\n",
       "      <td>0.2</td>\n",
       "      <td>Setosa</td>\n",
       "    </tr>\n",
       "    <tr>\n",
       "      <th>2</th>\n",
       "      <td>4.7</td>\n",
       "      <td>3.2</td>\n",
       "      <td>1.3</td>\n",
       "      <td>0.2</td>\n",
       "      <td>Setosa</td>\n",
       "    </tr>\n",
       "    <tr>\n",
       "      <th>3</th>\n",
       "      <td>4.6</td>\n",
       "      <td>3.1</td>\n",
       "      <td>1.5</td>\n",
       "      <td>0.2</td>\n",
       "      <td>Setosa</td>\n",
       "    </tr>\n",
       "    <tr>\n",
       "      <th>4</th>\n",
       "      <td>5.0</td>\n",
       "      <td>3.6</td>\n",
       "      <td>1.4</td>\n",
       "      <td>0.2</td>\n",
       "      <td>Setosa</td>\n",
       "    </tr>\n",
       "    <tr>\n",
       "      <th>...</th>\n",
       "      <td>...</td>\n",
       "      <td>...</td>\n",
       "      <td>...</td>\n",
       "      <td>...</td>\n",
       "      <td>...</td>\n",
       "    </tr>\n",
       "    <tr>\n",
       "      <th>113</th>\n",
       "      <td>5.7</td>\n",
       "      <td>2.5</td>\n",
       "      <td>5.0</td>\n",
       "      <td>2.0</td>\n",
       "      <td>Virginica</td>\n",
       "    </tr>\n",
       "    <tr>\n",
       "      <th>114</th>\n",
       "      <td>5.8</td>\n",
       "      <td>2.8</td>\n",
       "      <td>5.1</td>\n",
       "      <td>2.4</td>\n",
       "      <td>Virginica</td>\n",
       "    </tr>\n",
       "    <tr>\n",
       "      <th>121</th>\n",
       "      <td>5.6</td>\n",
       "      <td>2.8</td>\n",
       "      <td>4.9</td>\n",
       "      <td>2.0</td>\n",
       "      <td>Virginica</td>\n",
       "    </tr>\n",
       "    <tr>\n",
       "      <th>142</th>\n",
       "      <td>5.8</td>\n",
       "      <td>2.7</td>\n",
       "      <td>5.1</td>\n",
       "      <td>1.9</td>\n",
       "      <td>Virginica</td>\n",
       "    </tr>\n",
       "    <tr>\n",
       "      <th>149</th>\n",
       "      <td>5.9</td>\n",
       "      <td>3.0</td>\n",
       "      <td>5.1</td>\n",
       "      <td>1.8</td>\n",
       "      <td>Virginica</td>\n",
       "    </tr>\n",
       "  </tbody>\n",
       "</table>\n",
       "<p>83 rows × 5 columns</p>\n",
       "</div>"
      ],
      "text/plain": [
       "     sepal.length  sepal.width  petal.length  petal.width    variety\n",
       "0             5.1          3.5           1.4          0.2     Setosa\n",
       "1             4.9          3.0           1.4          0.2     Setosa\n",
       "2             4.7          3.2           1.3          0.2     Setosa\n",
       "3             4.6          3.1           1.5          0.2     Setosa\n",
       "4             5.0          3.6           1.4          0.2     Setosa\n",
       "..            ...          ...           ...          ...        ...\n",
       "113           5.7          2.5           5.0          2.0  Virginica\n",
       "114           5.8          2.8           5.1          2.4  Virginica\n",
       "121           5.6          2.8           4.9          2.0  Virginica\n",
       "142           5.8          2.7           5.1          1.9  Virginica\n",
       "149           5.9          3.0           5.1          1.8  Virginica\n",
       "\n",
       "[83 rows x 5 columns]"
      ]
     },
     "execution_count": 48,
     "metadata": {},
     "output_type": "execute_result"
    }
   ],
   "source": [
    "# Get all rows in the iris dataset with sepal length less than 6.0\n",
    "df.loc[df[\"sepal.length\"]<6.0]"
   ]
  },
  {
   "cell_type": "markdown",
   "metadata": {},
   "source": [
    "#### Dropping Rows & Columns"
   ]
  },
  {
   "cell_type": "markdown",
   "metadata": {},
   "source": [
    "We can drop rows and columns using the drop() method. If we're dropping a columns we need to set the axis parameter to tell Pandas we're dropping a column and not a row. In general axis 0 mean rows and axis 1 means columns."
   ]
  },
  {
   "cell_type": "code",
   "execution_count": 49,
   "metadata": {},
   "outputs": [
    {
     "data": {
      "text/html": [
       "<div>\n",
       "<style scoped>\n",
       "    .dataframe tbody tr th:only-of-type {\n",
       "        vertical-align: middle;\n",
       "    }\n",
       "\n",
       "    .dataframe tbody tr th {\n",
       "        vertical-align: top;\n",
       "    }\n",
       "\n",
       "    .dataframe thead th {\n",
       "        text-align: right;\n",
       "    }\n",
       "</style>\n",
       "<table border=\"1\" class=\"dataframe\">\n",
       "  <thead>\n",
       "    <tr style=\"text-align: right;\">\n",
       "      <th></th>\n",
       "      <th>sepal.length</th>\n",
       "      <th>sepal.width</th>\n",
       "      <th>petal.length</th>\n",
       "      <th>petal.width</th>\n",
       "    </tr>\n",
       "  </thead>\n",
       "  <tbody>\n",
       "    <tr>\n",
       "      <th>0</th>\n",
       "      <td>5.1</td>\n",
       "      <td>3.5</td>\n",
       "      <td>1.4</td>\n",
       "      <td>0.2</td>\n",
       "    </tr>\n",
       "    <tr>\n",
       "      <th>1</th>\n",
       "      <td>4.9</td>\n",
       "      <td>3.0</td>\n",
       "      <td>1.4</td>\n",
       "      <td>0.2</td>\n",
       "    </tr>\n",
       "    <tr>\n",
       "      <th>2</th>\n",
       "      <td>4.7</td>\n",
       "      <td>3.2</td>\n",
       "      <td>1.3</td>\n",
       "      <td>0.2</td>\n",
       "    </tr>\n",
       "    <tr>\n",
       "      <th>3</th>\n",
       "      <td>4.6</td>\n",
       "      <td>3.1</td>\n",
       "      <td>1.5</td>\n",
       "      <td>0.2</td>\n",
       "    </tr>\n",
       "    <tr>\n",
       "      <th>4</th>\n",
       "      <td>5.0</td>\n",
       "      <td>3.6</td>\n",
       "      <td>1.4</td>\n",
       "      <td>0.2</td>\n",
       "    </tr>\n",
       "    <tr>\n",
       "      <th>...</th>\n",
       "      <td>...</td>\n",
       "      <td>...</td>\n",
       "      <td>...</td>\n",
       "      <td>...</td>\n",
       "    </tr>\n",
       "    <tr>\n",
       "      <th>145</th>\n",
       "      <td>6.7</td>\n",
       "      <td>3.0</td>\n",
       "      <td>5.2</td>\n",
       "      <td>2.3</td>\n",
       "    </tr>\n",
       "    <tr>\n",
       "      <th>146</th>\n",
       "      <td>6.3</td>\n",
       "      <td>2.5</td>\n",
       "      <td>5.0</td>\n",
       "      <td>1.9</td>\n",
       "    </tr>\n",
       "    <tr>\n",
       "      <th>147</th>\n",
       "      <td>6.5</td>\n",
       "      <td>3.0</td>\n",
       "      <td>5.2</td>\n",
       "      <td>2.0</td>\n",
       "    </tr>\n",
       "    <tr>\n",
       "      <th>148</th>\n",
       "      <td>6.2</td>\n",
       "      <td>3.4</td>\n",
       "      <td>5.4</td>\n",
       "      <td>2.3</td>\n",
       "    </tr>\n",
       "    <tr>\n",
       "      <th>149</th>\n",
       "      <td>5.9</td>\n",
       "      <td>3.0</td>\n",
       "      <td>5.1</td>\n",
       "      <td>1.8</td>\n",
       "    </tr>\n",
       "  </tbody>\n",
       "</table>\n",
       "<p>150 rows × 4 columns</p>\n",
       "</div>"
      ],
      "text/plain": [
       "     sepal.length  sepal.width  petal.length  petal.width\n",
       "0             5.1          3.5           1.4          0.2\n",
       "1             4.9          3.0           1.4          0.2\n",
       "2             4.7          3.2           1.3          0.2\n",
       "3             4.6          3.1           1.5          0.2\n",
       "4             5.0          3.6           1.4          0.2\n",
       "..            ...          ...           ...          ...\n",
       "145           6.7          3.0           5.2          2.3\n",
       "146           6.3          2.5           5.0          1.9\n",
       "147           6.5          3.0           5.2          2.0\n",
       "148           6.2          3.4           5.4          2.3\n",
       "149           5.9          3.0           5.1          1.8\n",
       "\n",
       "[150 rows x 4 columns]"
      ]
     },
     "execution_count": 49,
     "metadata": {},
     "output_type": "execute_result"
    }
   ],
   "source": [
    "df2 = df.copy()\n",
    "df2 = df.drop(\"variety\", axis=1)\n",
    "df2"
   ]
  },
  {
   "cell_type": "markdown",
   "metadata": {},
   "source": [
    "#### Summary Statistics"
   ]
  },
  {
   "cell_type": "markdown",
   "metadata": {},
   "source": [
    "We can find summary statistics using min(), max(), mean(), median(), mode(), std(), sum(). We can also call NumPy functions, such as percentile."
   ]
  },
  {
   "cell_type": "code",
   "execution_count": 52,
   "metadata": {},
   "outputs": [
    {
     "data": {
      "text/plain": [
       "sepal.length    5.843333\n",
       "sepal.width     3.057333\n",
       "petal.length    3.758000\n",
       "petal.width     1.199333\n",
       "dtype: float64"
      ]
     },
     "execution_count": 52,
     "metadata": {},
     "output_type": "execute_result"
    }
   ],
   "source": [
    "df2.mean()"
   ]
  },
  {
   "cell_type": "code",
   "execution_count": 50,
   "metadata": {},
   "outputs": [
    {
     "data": {
      "text/plain": [
       "6.4"
      ]
     },
     "execution_count": 50,
     "metadata": {},
     "output_type": "execute_result"
    }
   ],
   "source": [
    "np.percentile(df[\"sepal.length\"], 75)"
   ]
  },
  {
   "cell_type": "markdown",
   "metadata": {},
   "source": [
    "**Dealing with NaNs**\n",
    "\n",
    "We need to watch out for missing values. NaNs in the dataset can cause issues. We can remove rows or columns containing NaN values using the **dropna()** method. By default, this method drops any row containing at least one NaN value. You can also specify the axis and threshold for dropping NaN values. However, dropping NaNs can lead to loss of valuable information and may not always be the best strategy. We can also replace NaN values with a specified value using the **fillna()** method. For example, you can replace all NaN values with 0 using **df.fillna(0)**. You can also use other methods, such as forward or backward filling, where missing values are replaced by the value from the preceding or proceeding row or column. You can also interpolate NaN values using **interpolate()** to fill in missing values with interpolated values based on neighboring data points. This can be useful when dealing with time-series data. Finally, we can simply keep the NaN values and work around them by using logical operations like **isna()** and **notna()** to check for missing values in your data."
   ]
  },
  {
   "cell_type": "markdown",
   "metadata": {},
   "source": [
    "## 7. Classes <a class=\"anchor\" id=\"seventh-bullet\"></a>"
   ]
  },
  {
   "cell_type": "markdown",
   "metadata": {},
   "source": [
    "[TOP ↑](#top)"
   ]
  },
  {
   "cell_type": "markdown",
   "metadata": {},
   "source": [
    "Python is an object-oriented programming language. Therefore, almost everything in Python is an object, with its associated properties and methods. A **class** is an object constructor, or a \"blueprint\" for creating new objects."
   ]
  },
  {
   "cell_type": "markdown",
   "metadata": {},
   "source": [
    "In order to create a new object, we must use the class keyword, with the following syntax:\n",
    "\n",
    "```python\n",
    "class NameOfClass:\n",
    "    body\n",
    "```"
   ]
  },
  {
   "cell_type": "markdown",
   "metadata": {},
   "source": [
    "All classes have a special function, `__init__()`, which is executed when the class is being initiated. It's used to assign values to object properties, or other operations that are necessary when the object is being created. We can, for example, create a class named Company, to which we assign values for its name and year of establishment:"
   ]
  },
  {
   "cell_type": "markdown",
   "metadata": {},
   "source": [
    "```python\n",
    "class Company:\n",
    "  def __init__(self, name, established):\n",
    "    self.name = name\n",
    "    self.established = established\n",
    "\n",
    "company1 = Company(\"KPMG\", 1987)\n",
    "\n",
    "print(p1.name)\n",
    "print(p1.established)\n",
    "```"
   ]
  },
  {
   "cell_type": "markdown",
   "metadata": {},
   "source": [
    "The `__init__()` function is called automatically every time the class is being used to create a new object. The `self` parameter is a reference to the current instance of the class, and is used to access variables that belongs to the class."
   ]
  },
  {
   "cell_type": "markdown",
   "metadata": {},
   "source": [
    "Objects in Python can also contain methods, which are functions that belong to the object."
   ]
  },
  {
   "cell_type": "markdown",
   "metadata": {},
   "source": [
    "```python\n",
    "class Company:\n",
    "  def __init__(self, name, established):\n",
    "    self.name = name\n",
    "    self.established = established\n",
    "    \n",
    "  def myfunc(self):\n",
    "    print(\"The company name is \" + self.name)\n",
    "\n",
    "company1 = Company(\"KPMG\", 1987)\n",
    "\n",
    "p1.myfunc()\n",
    "```"
   ]
  },
  {
   "cell_type": "markdown",
   "metadata": {},
   "source": [
    "## 8. Web Scraping <a class=\"anchor\" id=\"eighth-bullet\"></a>"
   ]
  },
  {
   "cell_type": "markdown",
   "metadata": {},
   "source": [
    "[TOP ↑](#top)"
   ]
  },
  {
   "cell_type": "markdown",
   "metadata": {},
   "source": [
    "https://www.freecodecamp.org/news/web-scraping-python-tutorial-how-to-scrape-data-from-a-website/"
   ]
  },
  {
   "cell_type": "markdown",
   "metadata": {},
   "source": [
    "We want to be able to scrape information from the worldwide web."
   ]
  },
  {
   "cell_type": "code",
   "execution_count": 55,
   "metadata": {},
   "outputs": [
    {
     "name": "stdout",
     "output_type": "stream",
     "text": [
      "<!DOCTYPE html>\n",
      "<html lang=\"en\">\n",
      "\t<head>\n",
      "\t\t<!-- Anti-flicker snippet (recommended)  -->\n",
      "\t\t<style>\n",
      "\t\t\t.async-hide {\n",
      "\t\t\t\topacity: 0 !important;\n",
      "\t\t\t}\n",
      "\t\t</style>\n",
      "\t\t<title>codedamn Web Scraper demo</title>\n",
      "\t\t<meta charset=\"utf-8\" />\n",
      "\t\t<meta http-equiv=\"X-UA-Compatible\" content=\"IE=edge,chrome=1\" />\n",
      "\n",
      "\t\t<meta\n",
      "\t\t\tname=\"keywords\"\n",
      "\t\t\tcontent=\"web scraping,Web Scraper,Chrome extension,Crawling,Cross platform scraper, \"\n",
      "\t\t/>\n",
      "\t\t<meta name=\"description\" content=\"The most popular web scraping website.\" />\n",
      "\t\t<link\n",
      "\t\t\trel=\"icon\"\n",
      "\t\t\tsizes=\"128x128\"\n",
      "\t\t\thref=\"/webscraper-python-codedamn-classroom-website/favicon.png\"\n",
      "\t\t/>\n",
      "\n",
      "\t\t<meta name=\"viewport\" content=\"width=device-width, initial-scale=1.0\" />\n",
      "\n",
      "\t\t<link rel=\"stylesheet\" href=\"/webscraper-python-codedamn-classroom-website/app.css\" />\n",
      "\n",
      "\t\t<link\n",
      "\t\t\trel=\"apple-touch-icon\"\n",
      "\t\t\thref=\"/webscraper-python-codedamn-classroom-website/logo-icon.png\"\n",
      "\t\t/>\n",
      "\n",
      "\t\t<script defer src=\"/webscraper-python-codedamn-classroom-website/app.js\"></script>\n",
      "\t</head>\n",
      "\t<body>\n",
      "\t\t<header role=\"banner\" class=\"navbar navbar-fixed-top navbar-static\">\n",
      "\t\t\t<div class=\"container\">\n",
      "\t\t\t\t<div class=\"navbar-header\">\n",
      "\t\t\t\t\t<a\n",
      "\t\t\t\t\t\tdata-toggle=\"collapse-side\"\n",
      "\t\t\t\t\t\tdata-target=\".side-collapse\"\n",
      "\t\t\t\t\t\tdata-target-2=\".side-collapse-container\"\n",
      "\t\t\t\t\t>\n",
      "\t\t\t\t\t\t<button\n",
      "\t\t\t\t\t\t\ttype=\"button\"\n",
      "\t\t\t\t\t\t\tclass=\"navbar-toggle pull-right collapsed\"\n",
      "\t\t\t\t\t\t\tdata-toggle=\"collapse\"\n",
      "\t\t\t\t\t\t\tdata-target=\"#navbar\"\n",
      "\t\t\t\t\t\t\tdata-target-2=\".side-collapse-container\"\n",
      "\t\t\t\t\t\t\tdata-target-3=\".side-collapse\"\n",
      "\t\t\t\t\t\t\taria-expanded=\"false\"\n",
      "\t\t\t\t\t\t\taria-controls=\"navbar\"\n",
      "\t\t\t\t\t\t>\n",
      "\t\t\t\t\t\t\t<span class=\"sr-only\">Toggle navigation</span>\n",
      "\t\t\t\t\t\t\t<span class=\"icon-bar top-bar\"></span>\n",
      "\t\t\t\t\t\t\t<span class=\"icon-bar middle-bar\"></span>\n",
      "\t\t\t\t\t\t\t<span class=\"icon-bar bottom-bar\"></span>\n",
      "\t\t\t\t\t\t</button>\n",
      "\t\t\t\t\t</a>\n",
      "\t\t\t\t\t<div class=\"navbar-brand\">\n",
      "\t\t\t\t\t\t<a href=\"/webscraper-python-codedamn-classroom-website/\"\n",
      "\t\t\t\t\t\t\t><img\n",
      "\t\t\t\t\t\t\t\tsrc=\"/webscraper-python-codedamn-classroom-website/logo_white.svg\"\n",
      "\t\t\t\t\t\t\t\talt=\"Web Scraper\"\n",
      "\t\t\t\t\t\t/></a>\n",
      "\t\t\t\t\t</div>\n",
      "\t\t\t\t</div>\n",
      "\n",
      "\t\t\t\t<div class=\"side-collapse in\">\n",
      "\t\t\t\t\t<nav id=\"navbar\" role=\"navigation\" class=\"navbar-collapse collapse\">\n",
      "\t\t\t\t\t\t<ul class=\"nav navbar-nav navbar-right\">\n",
      "\t\t\t\t\t\t\t<li class=\"hidden\">\n",
      "\t\t\t\t\t\t\t\t<a href=\"#page-top\"></a>\n",
      "\t\t\t\t\t\t\t</li>\n",
      "\n",
      "\t\t\t\t\t\t\t<li>\n",
      "\t\t\t\t\t\t\t\t<a\n",
      "\t\t\t\t\t\t\t\t\thref=\"/webscraper-python-codedamn-classroom-website/\"\n",
      "\t\t\t\t\t\t\t\t\tclass=\"menuitm\"\n",
      "\t\t\t\t\t\t\t\t>\n",
      "\t\t\t\t\t\t\t\t\t<p>Web Scraper</p>\n",
      "\t\t\t\t\t\t\t\t\t<div class=\"crta\"></div>\n",
      "\t\t\t\t\t\t\t\t</a>\n",
      "\t\t\t\t\t\t\t</li>\n",
      "\t\t\t\t\t\t\t<li>\n",
      "\t\t\t\t\t\t\t\t<a\n",
      "\t\t\t\t\t\t\t\t\thref=\"/webscraper-python-codedamn-classroom-website/cloud-scraper\"\n",
      "\t\t\t\t\t\t\t\t\tclass=\"menuitm\"\n",
      "\t\t\t\t\t\t\t\t>\n",
      "\t\t\t\t\t\t\t\t\t<p>Cloud Scraper</p>\n",
      "\t\t\t\t\t\t\t\t\t<div class=\"crta\"></div>\n",
      "\t\t\t\t\t\t\t\t</a>\n",
      "\t\t\t\t\t\t\t</li>\n",
      "\t\t\t\t\t\t\t<li>\n",
      "\t\t\t\t\t\t\t\t<a\n",
      "\t\t\t\t\t\t\t\t\thref=\"/webscraper-python-codedamn-classroom-website/pricing\"\n",
      "\t\t\t\t\t\t\t\t\tclass=\"menuitm\"\n",
      "\t\t\t\t\t\t\t\t>\n",
      "\t\t\t\t\t\t\t\t\t<p>Pricing</p>\n",
      "\t\t\t\t\t\t\t\t\t<div class=\"crta\"></div>\n",
      "\t\t\t\t\t\t\t\t</a>\n",
      "\t\t\t\t\t\t\t</li>\n",
      "\n",
      "\t\t\t\t\t\t\t<li class=\"dropdown\">\n",
      "\t\t\t\t\t\t\t\t<a\n",
      "\t\t\t\t\t\t\t\t\thref=\"#section3\"\n",
      "\t\t\t\t\t\t\t\t\tclass=\"menuitm dropdown-toggle\"\n",
      "\t\t\t\t\t\t\t\t\tdata-toggle=\"dropdown\"\n",
      "\t\t\t\t\t\t\t\t>\n",
      "\t\t\t\t\t\t\t\t\t<p>Learn</p>\n",
      "\t\t\t\t\t\t\t\t\t<div class=\"crta\"></div>\n",
      "\t\t\t\t\t\t\t\t</a>\n",
      "\t\t\t\t\t\t\t\t<ul class=\"dropdown-menu\">\n",
      "\t\t\t\t\t\t\t\t\t<li>\n",
      "\t\t\t\t\t\t\t\t\t\t<a\n",
      "\t\t\t\t\t\t\t\t\t\t\thref=\"/webscraper-python-codedamn-classroom-website/documentation\"\n",
      "\t\t\t\t\t\t\t\t\t\t\t>Documentation</a\n",
      "\t\t\t\t\t\t\t\t\t\t>\n",
      "\t\t\t\t\t\t\t\t\t</li>\n",
      "\t\t\t\t\t\t\t\t\t<li>\n",
      "\t\t\t\t\t\t\t\t\t\t<a\n",
      "\t\t\t\t\t\t\t\t\t\t\thref=\"/webscraper-python-codedamn-classroom-website/tutorials\"\n",
      "\t\t\t\t\t\t\t\t\t\t\t>Video Tutorials</a\n",
      "\t\t\t\t\t\t\t\t\t\t>\n",
      "\t\t\t\t\t\t\t\t\t</li>\n",
      "\t\t\t\t\t\t\t\t\t<li>\n",
      "\t\t\t\t\t\t\t\t\t\t<a\n",
      "\t\t\t\t\t\t\t\t\t\t\thref=\"/webscraper-python-codedamn-classroom-website/how-to-videos\"\n",
      "\t\t\t\t\t\t\t\t\t\t\t>How to</a\n",
      "\t\t\t\t\t\t\t\t\t\t>\n",
      "\t\t\t\t\t\t\t\t\t</li>\n",
      "\t\t\t\t\t\t\t\t\t<li>\n",
      "\t\t\t\t\t\t\t\t\t\t<a\n",
      "\t\t\t\t\t\t\t\t\t\t\thref=\"/webscraper-python-codedamn-classroom-website/test-sites\"\n",
      "\t\t\t\t\t\t\t\t\t\t\t>Test Sites</a\n",
      "\t\t\t\t\t\t\t\t\t\t>\n",
      "\t\t\t\t\t\t\t\t\t</li>\n",
      "\t\t\t\t\t\t\t\t\t<li>\n",
      "\t\t\t\t\t\t\t\t\t\t<a\n",
      "\t\t\t\t\t\t\t\t\t\t\thref=\"https://forum.webscraper.io/\"\n",
      "\t\t\t\t\t\t\t\t\t\t\ttarget=\"_blank\"\n",
      "\t\t\t\t\t\t\t\t\t\t\trel=\"noopener\"\n",
      "\t\t\t\t\t\t\t\t\t\t\t>Forum</a\n",
      "\t\t\t\t\t\t\t\t\t\t>\n",
      "\t\t\t\t\t\t\t\t\t</li>\n",
      "\t\t\t\t\t\t\t\t</ul>\n",
      "\t\t\t\t\t\t\t</li>\n",
      "\t\t\t\t\t\t\t<li>\n",
      "\t\t\t\t\t\t\t\t<a\n",
      "\t\t\t\t\t\t\t\t\ttarget=\"_blank\"\n",
      "\t\t\t\t\t\t\t\t\thref=\"https://chrome.google.com/webstore/detail/web-scraper/jnhgnonknehpejjnehehllkliplmbmhn?hl=en\"\n",
      "\t\t\t\t\t\t\t\t\tclass=\"btn-menu1 install-extension\"\n",
      "\t\t\t\t\t\t\t\t\trel=\"noopener\"\n",
      "\t\t\t\t\t\t\t\t\t>Install</a\n",
      "\t\t\t\t\t\t\t\t>\n",
      "\t\t\t\t\t\t\t</li>\n",
      "\t\t\t\t\t\t\t<li>\n",
      "\t\t\t\t\t\t\t\t<a href=\"https://cloud.webscraper.io/\" class=\"btn-menu2\">Login</a>\n",
      "\t\t\t\t\t\t\t</li>\n",
      "\t\t\t\t\t\t</ul>\n",
      "\t\t\t\t\t</nav>\n",
      "\t\t\t\t</div>\n",
      "\t\t\t</div>\n",
      "\t\t</header>\n",
      "\n",
      "\t\t<div class=\"wrapper\">\n",
      "\t\t\t<div class=\"formenu-here container-fluid\"></div>\n",
      "\t\t\t<div class=\"container-fluid blog-hero\">\n",
      "\t\t\t\t<div class=\"container\">\n",
      "\t\t\t\t\t<div class=\"row\">\n",
      "\t\t\t\t\t\t<div class=\"col-md-12\">\n",
      "\t\t\t\t\t\t\t<h1>Test Sites</h1>\n",
      "\t\t\t\t\t\t</div>\n",
      "\t\t\t\t\t</div>\n",
      "\t\t\t\t</div>\n",
      "\t\t\t</div>\n",
      "\n",
      "\t\t\t<div class=\"container test-site\">\n",
      "\t\t\t\t<div class=\"row\">\n",
      "\t\t\t\t\t<div class=\"col-md-3 sidebar\">\n",
      "\t\t\t\t\t\t<div class=\"navbar-default sidebar\" role=\"navigation\">\n",
      "\t\t\t\t\t\t\t<div class=\"sidebar-nav navbar-collapse\">\n",
      "\t\t\t\t\t\t\t\t<ul class=\"nav\" id=\"side-menu\">\n",
      "\t\t\t\t\t\t\t\t\t<li class=\"active\">\n",
      "\t\t\t\t\t\t\t\t\t\t<a\n",
      "\t\t\t\t\t\t\t\t\t\t\thref=\"/webscraper-python-codedamn-classroom-website/test-sites/e-commerce/allinone\"\n",
      "\t\t\t\t\t\t\t\t\t\t\t>Home</a\n",
      "\t\t\t\t\t\t\t\t\t\t>\n",
      "\t\t\t\t\t\t\t\t\t</li>\n",
      "\n",
      "\t\t\t\t\t\t\t\t\t<li>\n",
      "\t\t\t\t\t\t\t\t\t\t<a\n",
      "\t\t\t\t\t\t\t\t\t\t\thref=\"/webscraper-python-codedamn-classroom-website/test-sites/e-commerce/allinone/computers\"\n",
      "\t\t\t\t\t\t\t\t\t\t\tclass=\"category-link\"\n",
      "\t\t\t\t\t\t\t\t\t\t>\n",
      "\t\t\t\t\t\t\t\t\t\t\tComputers\n",
      "\t\t\t\t\t\t\t\t\t\t\t<span class=\"fa arrow\"></span>\n",
      "\t\t\t\t\t\t\t\t\t\t</a>\n",
      "\t\t\t\t\t\t\t\t\t</li>\n",
      "\t\t\t\t\t\t\t\t\t<li>\n",
      "\t\t\t\t\t\t\t\t\t\t<a\n",
      "\t\t\t\t\t\t\t\t\t\t\thref=\"/webscraper-python-codedamn-classroom-website/test-sites/e-commerce/allinone/phones\"\n",
      "\t\t\t\t\t\t\t\t\t\t\tclass=\"category-link\"\n",
      "\t\t\t\t\t\t\t\t\t\t>\n",
      "\t\t\t\t\t\t\t\t\t\t\tPhones\n",
      "\t\t\t\t\t\t\t\t\t\t\t<span class=\"fa arrow\"></span>\n",
      "\t\t\t\t\t\t\t\t\t\t</a>\n",
      "\t\t\t\t\t\t\t\t\t</li>\n",
      "\t\t\t\t\t\t\t\t</ul>\n",
      "\t\t\t\t\t\t\t</div>\n",
      "\t\t\t\t\t\t</div>\n",
      "\t\t\t\t\t</div>\n",
      "\t\t\t\t\t<div class=\"col-md-9\">\n",
      "\t\t\t\t\t\t<div class=\"jumbotron\">\n",
      "\t\t\t\t\t\t\t<h1>E-commerce training site</h1>\n",
      "\t\t\t\t\t\t\t<p>\n",
      "\t\t\t\t\t\t\t\tWelcome to WebScraper e-commerce site. You can use this site for\n",
      "\t\t\t\t\t\t\t\ttraining to learn how to use the Web Scraper. Items listed here are\n",
      "\t\t\t\t\t\t\t\tnot for sale.\n",
      "\t\t\t\t\t\t\t</p>\n",
      "\t\t\t\t\t\t</div>\n",
      "\n",
      "\t\t\t\t\t\t<h2>Top items being scraped right now</h2>\n",
      "\n",
      "\t\t\t\t\t\t<div class=\"row\">\n",
      "\t\t\t\t\t\t\t<div class=\"col-sm-4 col-lg-4 col-md-4\">\n",
      "\t\t\t\t\t\t\t\t<div class=\"thumbnail\">\n",
      "\t\t\t\t\t\t\t\t\t<img\n",
      "\t\t\t\t\t\t\t\t\t\tclass=\"img-responsive\"\n",
      "\t\t\t\t\t\t\t\t\t\talt=\"item\"\n",
      "\t\t\t\t\t\t\t\t\t\tsrc=\"/webscraper-python-codedamn-classroom-website/cart2.png\"\n",
      "\t\t\t\t\t\t\t\t\t/>\n",
      "\t\t\t\t\t\t\t\t\t<div class=\"caption\">\n",
      "\t\t\t\t\t\t\t\t\t\t<h4 class=\"pull-right price\">$1139.54</h4>\n",
      "\t\t\t\t\t\t\t\t\t\t<h4>\n",
      "\t\t\t\t\t\t\t\t\t\t\t<a\n",
      "\t\t\t\t\t\t\t\t\t\t\t\thref=\"/webscraper-python-codedamn-classroom-website/test-sites/e-commerce/allinone/product/593\"\n",
      "\t\t\t\t\t\t\t\t\t\t\t\tclass=\"title\"\n",
      "\t\t\t\t\t\t\t\t\t\t\t\ttitle=\"Asus AsusPro Advanced BU401LA-FA271G Dark Grey\"\n",
      "\t\t\t\t\t\t\t\t\t\t\t\t>Asus AsusPro Adv...</a\n",
      "\t\t\t\t\t\t\t\t\t\t\t>\n",
      "\t\t\t\t\t\t\t\t\t\t</h4>\n",
      "\t\t\t\t\t\t\t\t\t\t<p class=\"description\">\n",
      "\t\t\t\t\t\t\t\t\t\t\tAsus AsusPro Advanced BU401LA-FA271G Dark Grey,\n",
      "\t\t\t\t\t\t\t\t\t\t\t14&quot;, Core i5-4210U, 4GB, 128GB SSD, Win7 Pro 64bit,\n",
      "\t\t\t\t\t\t\t\t\t\t\tENG\n",
      "\t\t\t\t\t\t\t\t\t\t</p>\n",
      "\t\t\t\t\t\t\t\t\t</div>\n",
      "\t\t\t\t\t\t\t\t\t<div class=\"ratings\">\n",
      "\t\t\t\t\t\t\t\t\t\t<p class=\"pull-right\">7 reviews</p>\n",
      "\t\t\t\t\t\t\t\t\t\t<p data-rating=\"3\">\n",
      "\t\t\t\t\t\t\t\t\t\t\t<span class=\"glyphicon glyphicon-star\"></span>\n",
      "\t\t\t\t\t\t\t\t\t\t\t<span class=\"glyphicon glyphicon-star\"></span>\n",
      "\t\t\t\t\t\t\t\t\t\t\t<span class=\"glyphicon glyphicon-star\"></span>\n",
      "\t\t\t\t\t\t\t\t\t\t</p>\n",
      "\t\t\t\t\t\t\t\t\t</div>\n",
      "\t\t\t\t\t\t\t\t</div>\n",
      "\t\t\t\t\t\t\t</div>\n",
      "\t\t\t\t\t\t\t<div class=\"col-sm-4 col-lg-4 col-md-4\">\n",
      "\t\t\t\t\t\t\t\t<div class=\"thumbnail\">\n",
      "\t\t\t\t\t\t\t\t\t<img\n",
      "\t\t\t\t\t\t\t\t\t\tclass=\"img-responsive\"\n",
      "\t\t\t\t\t\t\t\t\t\talt=\"item\"\n",
      "\t\t\t\t\t\t\t\t\t\tsrc=\"/webscraper-python-codedamn-classroom-website/cart2.png\"\n",
      "\t\t\t\t\t\t\t\t\t/>\n",
      "\t\t\t\t\t\t\t\t\t<div class=\"caption\">\n",
      "\t\t\t\t\t\t\t\t\t\t<h4 class=\"pull-right price\">$1101.83</h4>\n",
      "\t\t\t\t\t\t\t\t\t\t<h4>\n",
      "\t\t\t\t\t\t\t\t\t\t\t<a\n",
      "\t\t\t\t\t\t\t\t\t\t\t\thref=\"/webscraper-python-codedamn-classroom-website/test-sites/e-commerce/allinone/product/583\"\n",
      "\t\t\t\t\t\t\t\t\t\t\t\tclass=\"title\"\n",
      "\t\t\t\t\t\t\t\t\t\t\t\ttitle=\"Asus ROG Strix GL553VD-DM535T\"\n",
      "\t\t\t\t\t\t\t\t\t\t\t\t>Asus ROG Strix G...</a\n",
      "\t\t\t\t\t\t\t\t\t\t\t>\n",
      "\t\t\t\t\t\t\t\t\t\t</h4>\n",
      "\t\t\t\t\t\t\t\t\t\t<p class=\"description\">\n",
      "\t\t\t\t\t\t\t\t\t\t\tApple MacBook Air 13.3&quot;, Core i5 1.8GHz, 8GB, 128GB\n",
      "\t\t\t\t\t\t\t\t\t\t\tSSD, Intel HD 4000, RUS\n",
      "\t\t\t\t\t\t\t\t\t\t</p>\n",
      "\t\t\t\t\t\t\t\t\t</div>\n",
      "\t\t\t\t\t\t\t\t\t<div class=\"ratings\">\n",
      "\t\t\t\t\t\t\t\t\t\t<p class=\"pull-right\">4 reviews</p>\n",
      "\t\t\t\t\t\t\t\t\t\t<p data-rating=\"2\">\n",
      "\t\t\t\t\t\t\t\t\t\t\t<span class=\"glyphicon glyphicon-star\"></span>\n",
      "\t\t\t\t\t\t\t\t\t\t\t<span class=\"glyphicon glyphicon-star\"></span>\n",
      "\t\t\t\t\t\t\t\t\t\t</p>\n",
      "\t\t\t\t\t\t\t\t\t</div>\n",
      "\t\t\t\t\t\t\t\t</div>\n",
      "\t\t\t\t\t\t\t</div>\n",
      "\t\t\t\t\t\t\t<div class=\"col-sm-4 col-lg-4 col-md-4\">\n",
      "\t\t\t\t\t\t\t\t<div class=\"thumbnail\">\n",
      "\t\t\t\t\t\t\t\t\t<img\n",
      "\t\t\t\t\t\t\t\t\t\tclass=\"img-responsive\"\n",
      "\t\t\t\t\t\t\t\t\t\talt=\"item\"\n",
      "\t\t\t\t\t\t\t\t\t\tsrc=\"/webscraper-python-codedamn-classroom-website/cart2.png\"\n",
      "\t\t\t\t\t\t\t\t\t/>\n",
      "\t\t\t\t\t\t\t\t\t<div class=\"caption\">\n",
      "\t\t\t\t\t\t\t\t\t\t<h4 class=\"pull-right price\">$494.71</h4>\n",
      "\t\t\t\t\t\t\t\t\t\t<h4>\n",
      "\t\t\t\t\t\t\t\t\t\t\t<a\n",
      "\t\t\t\t\t\t\t\t\t\t\t\thref=\"/webscraper-python-codedamn-classroom-website/test-sites/e-commerce/allinone/product/576\"\n",
      "\t\t\t\t\t\t\t\t\t\t\t\tclass=\"title\"\n",
      "\t\t\t\t\t\t\t\t\t\t\t\ttitle=\"Acer Aspire 3 A315-51 Black\"\n",
      "\t\t\t\t\t\t\t\t\t\t\t\t>Acer Aspire 3 A3...</a\n",
      "\t\t\t\t\t\t\t\t\t\t\t>\n",
      "\t\t\t\t\t\t\t\t\t\t</h4>\n",
      "\t\t\t\t\t\t\t\t\t\t<p class=\"description\">\n",
      "\t\t\t\t\t\t\t\t\t\t\tAcer Aspire 3 A315-51 Black, 15.6&quot; FHD, Core\n",
      "\t\t\t\t\t\t\t\t\t\t\ti3-7100U, 4GB, 500GB + 128GB SSD, Windows 10 Home\n",
      "\t\t\t\t\t\t\t\t\t\t</p>\n",
      "\t\t\t\t\t\t\t\t\t</div>\n",
      "\t\t\t\t\t\t\t\t\t<div class=\"ratings\">\n",
      "\t\t\t\t\t\t\t\t\t\t<p class=\"pull-right\">2 reviews</p>\n",
      "\t\t\t\t\t\t\t\t\t\t<p data-rating=\"4\">\n",
      "\t\t\t\t\t\t\t\t\t\t\t<span class=\"glyphicon glyphicon-star\"></span>\n",
      "\t\t\t\t\t\t\t\t\t\t\t<span class=\"glyphicon glyphicon-star\"></span>\n",
      "\t\t\t\t\t\t\t\t\t\t\t<span class=\"glyphicon glyphicon-star\"></span>\n",
      "\t\t\t\t\t\t\t\t\t\t\t<span class=\"glyphicon glyphicon-star\"></span>\n",
      "\t\t\t\t\t\t\t\t\t\t</p>\n",
      "\t\t\t\t\t\t\t\t\t</div>\n",
      "\t\t\t\t\t\t\t\t</div>\n",
      "\t\t\t\t\t\t\t</div>\n",
      "\t\t\t\t\t\t</div>\n",
      "\t\t\t\t\t</div>\n",
      "\t\t\t\t</div>\n",
      "\t\t\t</div>\n",
      "\t\t\t<div class=\"clearfix\"></div>\n",
      "\t\t\t<div class=\"push\"></div>\n",
      "\t\t</div>\n",
      "\n",
      "\t\t<div class=\"container-fluid footer\" id=\"layout-footer\">\n",
      "\t\t\t<div class=\"container\">\n",
      "\t\t\t\t<div class=\"row\">\n",
      "\t\t\t\t\t<div class=\"col-md-3\">\n",
      "\t\t\t\t\t\t<ul>\n",
      "\t\t\t\t\t\t\t<li><p>Products</p></li>\n",
      "\t\t\t\t\t\t\t<li>\n",
      "\t\t\t\t\t\t\t\t<a href=\"/webscraper-python-codedamn-classroom-website/\"\n",
      "\t\t\t\t\t\t\t\t\t>Web Scraper browser extension</a\n",
      "\t\t\t\t\t\t\t\t>\n",
      "\t\t\t\t\t\t\t</li>\n",
      "\t\t\t\t\t\t\t<li>\n",
      "\t\t\t\t\t\t\t\t<a href=\"/webscraper-python-codedamn-classroom-website/pricing\"\n",
      "\t\t\t\t\t\t\t\t\t>Web Scraper Cloud</a\n",
      "\t\t\t\t\t\t\t\t>\n",
      "\t\t\t\t\t\t\t</li>\n",
      "\t\t\t\t\t\t</ul>\n",
      "\t\t\t\t\t</div>\n",
      "\t\t\t\t\t<div class=\"col-md-3\">\n",
      "\t\t\t\t\t\t<ul>\n",
      "\t\t\t\t\t\t\t<li><p>Company</p></li>\n",
      "\n",
      "\t\t\t\t\t\t\t<li>\n",
      "\t\t\t\t\t\t\t\t<a href=\"/webscraper-python-codedamn-classroom-website/contact\"\n",
      "\t\t\t\t\t\t\t\t\t>Contact</a\n",
      "\t\t\t\t\t\t\t\t>\n",
      "\t\t\t\t\t\t\t</li>\n",
      "\n",
      "\t\t\t\t\t\t\t<li>\n",
      "\t\t\t\t\t\t\t\t<a\n",
      "\t\t\t\t\t\t\t\t\thref=\"/webscraper-python-codedamn-classroom-website/privacy-policy\"\n",
      "\t\t\t\t\t\t\t\t\t>Website Privacy Policy</a\n",
      "\t\t\t\t\t\t\t\t>\n",
      "\t\t\t\t\t\t\t</li>\n",
      "\t\t\t\t\t\t\t<li>\n",
      "\t\t\t\t\t\t\t\t<a\n",
      "\t\t\t\t\t\t\t\t\thref=\"/webscraper-python-codedamn-classroom-website/extension-privacy-policy\"\n",
      "\t\t\t\t\t\t\t\t\t>Browser Extension Privacy Policy</a\n",
      "\t\t\t\t\t\t\t\t>\n",
      "\t\t\t\t\t\t\t</li>\n",
      "\t\t\t\t\t\t\t<li>\n",
      "\t\t\t\t\t\t\t\t<a\n",
      "\t\t\t\t\t\t\t\t\thref=\"http://webscraperio.us-east-1.elasticbeanstalk.com/downloads/Web_Scraper_Media_Kit.zip\"\n",
      "\t\t\t\t\t\t\t\t\t>Media kit</a\n",
      "\t\t\t\t\t\t\t\t>\n",
      "\t\t\t\t\t\t\t</li>\n",
      "\n",
      "\t\t\t\t\t\t\t<li>\n",
      "\t\t\t\t\t\t\t\t<a href=\"/webscraper-python-codedamn-classroom-website/jobs\"\n",
      "\t\t\t\t\t\t\t\t\t>Jobs</a\n",
      "\t\t\t\t\t\t\t\t>\n",
      "\t\t\t\t\t\t\t</li>\n",
      "\t\t\t\t\t\t</ul>\n",
      "\t\t\t\t\t</div>\n",
      "\t\t\t\t\t<div class=\"col-md-3\">\n",
      "\t\t\t\t\t\t<ul>\n",
      "\t\t\t\t\t\t\t<li><p>Resources</p></li>\n",
      "\t\t\t\t\t\t\t<li>\n",
      "\t\t\t\t\t\t\t\t<a href=\"/webscraper-python-codedamn-classroom-website/blog\"\n",
      "\t\t\t\t\t\t\t\t\t>Blog</a\n",
      "\t\t\t\t\t\t\t\t>\n",
      "\t\t\t\t\t\t\t</li>\n",
      "\t\t\t\t\t\t\t<li>\n",
      "\t\t\t\t\t\t\t\t<a\n",
      "\t\t\t\t\t\t\t\t\thref=\"/webscraper-python-codedamn-classroom-website/documentation\"\n",
      "\t\t\t\t\t\t\t\t\t>Documentation</a\n",
      "\t\t\t\t\t\t\t\t>\n",
      "\t\t\t\t\t\t\t</li>\n",
      "\t\t\t\t\t\t\t<li>\n",
      "\t\t\t\t\t\t\t\t<a href=\"/webscraper-python-codedamn-classroom-website/tutorials\"\n",
      "\t\t\t\t\t\t\t\t\t>Video Tutorials</a\n",
      "\t\t\t\t\t\t\t\t>\n",
      "\t\t\t\t\t\t\t</li>\n",
      "\t\t\t\t\t\t\t<li>\n",
      "\t\t\t\t\t\t\t\t<a href=\"/webscraper-python-codedamn-classroom-website/screenshots\"\n",
      "\t\t\t\t\t\t\t\t\t>Screenshots</a\n",
      "\t\t\t\t\t\t\t\t>\n",
      "\t\t\t\t\t\t\t</li>\n",
      "\t\t\t\t\t\t\t<li>\n",
      "\t\t\t\t\t\t\t\t<a href=\"/webscraper-python-codedamn-classroom-website/test-sites\"\n",
      "\t\t\t\t\t\t\t\t\t>Test Sites</a\n",
      "\t\t\t\t\t\t\t\t>\n",
      "\t\t\t\t\t\t\t</li>\n",
      "\t\t\t\t\t\t\t<li>\n",
      "\t\t\t\t\t\t\t\t<a\n",
      "\t\t\t\t\t\t\t\t\ttarget=\"_blank\"\n",
      "\t\t\t\t\t\t\t\t\thref=\"https://forum.webscraper.io/\"\n",
      "\t\t\t\t\t\t\t\t\trel=\"noopener\"\n",
      "\t\t\t\t\t\t\t\t\t>Forum</a\n",
      "\t\t\t\t\t\t\t\t>\n",
      "\t\t\t\t\t\t\t</li>\n",
      "\t\t\t\t\t\t</ul>\n",
      "\t\t\t\t\t</div>\n",
      "\t\t\t\t\t<div class=\"col-md-3\">\n",
      "\t\t\t\t\t\t<ul>\n",
      "\t\t\t\t\t\t\t<li><p>CONTACT US</p></li>\n",
      "\t\t\t\t\t\t\t<li>\n",
      "\t\t\t\t\t\t\t\t<a href=\"mailto:info@webscraper.io\">info@webscraper.io</a>\n",
      "\t\t\t\t\t\t\t</li>\n",
      "\n",
      "\t\t\t\t\t\t\t<li>\n",
      "\t\t\t\t\t\t\t\tRupniecibas iela 30,<br />\n",
      "\t\t\t\t\t\t\t\tRiga, Latvia, LV-1045\n",
      "\t\t\t\t\t\t\t</li>\n",
      "\t\t\t\t\t\t</ul>\n",
      "\t\t\t\t\t\t<ul class=\"smedia\">\n",
      "\t\t\t\t\t\t\t<li>\n",
      "\t\t\t\t\t\t\t\t<a\n",
      "\t\t\t\t\t\t\t\t\thref=\"https://www.facebook.com/webscraperio/\"\n",
      "\t\t\t\t\t\t\t\t\ttarget=\"_blank\"\n",
      "\t\t\t\t\t\t\t\t\trel=\"noopener\"\n",
      "\t\t\t\t\t\t\t\t\t><img\n",
      "\t\t\t\t\t\t\t\t\t\tsrc=\"/webscraper-python-codedamn-classroom-website/fbicon.png\"\n",
      "\t\t\t\t\t\t\t\t\t\talt=\"Web Scraper on Facebook\"\n",
      "\t\t\t\t\t\t\t\t/></a>\n",
      "\t\t\t\t\t\t\t</li>\n",
      "\t\t\t\t\t\t\t<li>\n",
      "\t\t\t\t\t\t\t\t<a\n",
      "\t\t\t\t\t\t\t\t\thref=\"https://twitter.com/webscraperio\"\n",
      "\t\t\t\t\t\t\t\t\ttarget=\"_blank\"\n",
      "\t\t\t\t\t\t\t\t\trel=\"noopener\"\n",
      "\t\t\t\t\t\t\t\t\t><img\n",
      "\t\t\t\t\t\t\t\t\t\tsrc=\"/webscraper-python-codedamn-classroom-website/twicon.png\"\n",
      "\t\t\t\t\t\t\t\t\t\talt=\"Web Scraper on Twitter\"\n",
      "\t\t\t\t\t\t\t\t/></a>\n",
      "\t\t\t\t\t\t\t</li>\n",
      "\t\t\t\t\t\t</ul>\n",
      "\t\t\t\t\t</div>\n",
      "\t\t\t\t</div>\n",
      "\t\t\t\t<div class=\"row\">\n",
      "\t\t\t\t\t<div class=\"col-md-12\">\n",
      "\t\t\t\t\t\t<p class=\"copyright\">\n",
      "\t\t\t\t\t\t\tCopyright &copy 2020 <a href=\"#\">Web Scraper</a> | All rights reserved |\n",
      "\t\t\t\t\t\t\tRemixed by codedamn\n",
      "\t\t\t\t\t\t</p>\n",
      "\t\t\t\t\t</div>\n",
      "\t\t\t\t</div>\n",
      "\t\t\t</div>\n",
      "\t\t</div>\n",
      "\t</body>\n",
      "</html>\n",
      " 200\n"
     ]
    }
   ],
   "source": [
    "import requests\n",
    "\n",
    "# Make a request to https://codedamn-classrooms.github.io/webscraper-python-codedamn-classroom-website/\n",
    "# Store the result in 'res' variable\n",
    "res = requests.get(\n",
    "    'https://codedamn-classrooms.github.io/webscraper-python-codedamn-classroom-website/')\n",
    "txt = res.text\n",
    "status = res.status_code\n",
    "\n",
    "print(txt, status)\n",
    "# print the result"
   ]
  },
  {
   "cell_type": "code",
   "execution_count": 57,
   "metadata": {},
   "outputs": [
    {
     "name": "stdout",
     "output_type": "stream",
     "text": [
      "codedamn Web Scraper demo\n"
     ]
    }
   ],
   "source": [
    "import requests\n",
    "from bs4 import BeautifulSoup\n",
    "\n",
    "# Make a request to https://codedamn-classrooms.github.io/webscraper-python-codedamn-classroom-website/\n",
    "page = requests.get(\n",
    "    \"https://codedamn-classrooms.github.io/webscraper-python-codedamn-classroom-website/\")\n",
    "soup = BeautifulSoup(page.content, 'html.parser')\n",
    "\n",
    "# Extract title of page\n",
    "page_title = soup.title.text\n",
    "\n",
    "# print the result\n",
    "print(page_title)"
   ]
  },
  {
   "cell_type": "markdown",
   "metadata": {},
   "source": [
    "We saw how we can extract the title from the page. It is equally easy to extract out certain sections too.\n",
    "\n",
    "You also saw that you have to call .text on these to get the string, but you can print them without calling .text too, and it will give you the full markup. Try to run the example below:"
   ]
  },
  {
   "cell_type": "code",
   "execution_count": 58,
   "metadata": {},
   "outputs": [
    {
     "name": "stdout",
     "output_type": "stream",
     "text": [
      "<body class=\"font-body\"><div data-reactroot=\"\" id=\"__next\"><div id=\"root\"><div class=\"relative\" id=\"layout-conntainer\"><header class=\"z-[51] relative cd-morph-dropdown text-gray-100 bg-gradient-to-r from-gray-900 via-gray-800 to-gray-900\"><div class=\"jsx-b35e882c88056c79 relative py-4 max-w-7xl mx-auto flex items-center justify-between px-4 sm:px-6 group\"><a class=\"jsx-b35e882c88056c79 flex flex-grow lg:flex-grow-0 sm:space-x-2 items-center\" data-testid=\"logo\" href=\"/\"><div class=\"jsx-b35e882c88056c79\"><span style=\"box-sizing:border-box;display:inline-block;overflow:hidden;width:initial;height:initial;background:none;opacity:1;border:0;margin:0;padding:0;position:relative;max-width:100%\"><span style=\"box-sizing:border-box;display:block;width:initial;height:initial;background:none;opacity:1;border:0;margin:0;padding:0;max-width:100%\"><img alt=\"\" aria-hidden=\"true\" src=\"data:image/svg+xml,%3csvg%20xmlns=%27http://www.w3.org/2000/svg%27%20version=%271.1%27%20width=%2735.13%27%20height=%2758%27/%3e\" style=\"display:block;max-width:100%;width:initial;height:initial;background:none;opacity:1;border:0;margin:0;padding:0\"/></span><img alt=\"codedamn logo\" data-nimg=\"intrinsic\" decoding=\"async\" src=\"data:image/gif;base64,R0lGODlhAQABAIAAAAAAAP///yH5BAEAAAAALAAAAAABAAEAAAIBRAA7\" style=\"position:absolute;top:0;left:0;bottom:0;right:0;box-sizing:border-box;padding:0;border:none;margin:auto;display:block;width:0;height:0;min-width:100%;max-width:100%;min-height:100%;max-height:100%;object-fit:contain\"/><noscript><img alt=\"codedamn logo\" data-nimg=\"intrinsic\" decoding=\"async\" loading=\"lazy\" src=\"//images.weserv.nl/?url=https%3A%2F%2Fcodedamn.com%2Fassets%2Fimages%2Fwhite-logo.png&amp;w=70.26&amp;q=75\" srcset=\"//images.weserv.nl/?url=https%3A%2F%2Fcodedamn.com%2Fassets%2Fimages%2Fwhite-logo.png&amp;w=70.26&amp;q=75 1x, //images.weserv.nl/?url=https%3A%2F%2Fcodedamn.com%2Fassets%2Fimages%2Fwhite-logo.png&amp;w=70.26&amp;q=75 2x\" style=\"position:absolute;top:0;left:0;bottom:0;right:0;box-sizing:border-box;padding:0;border:none;margin:auto;display:block;width:0;height:0;min-width:100%;max-width:100%;min-height:100%;max-height:100%;object-fit:contain\"/></noscript></span></div><span class=\"jsx-b35e882c88056c79 font-semibold text-xl mr-1\">codedamn</span></a><div class=\"jsx-b35e882c88056c79 flex items-center lg:hidden duration-1000 transition-opacity opacity-0\"><div class=\"jsx-b35e882c88056c79 flex items-center lg:hidden duration-1000 transition-opacity opacity-0\"><button class=\"jsx-b35e882c88056c79 bg-gray-900 hover:bg-gray-800 text-gray-400 rounded-md p-2 inline-flex items-center justify-center focus:outline-none focus:ring-2 focus-ring-inset focus:ring-white shrink-0\" data-bypassmenuclose=\"true\" type=\"button\"><span class=\"jsx-b35e882c88056c79 sr-only\">Open main menu</span><svg aria-hidden=\"true\" class=\"jsx-b35e882c88056c79 h-6 w-6\" fill=\"none\" stroke=\"currentColor\" viewbox=\"0 0 24 24\" xmlns=\"http://www.w3.org/2000/svg\"><path class=\"jsx-b35e882c88056c79\" d=\"M4 6h16M4 12h16M4 18h16\" stroke-linecap=\"round\" stroke-linejoin=\"round\" stroke-width=\"2\"></path></svg></button></div></div><nav class=\"jsx-b35e882c88056c79 main-nav hidden flex-grow justify-center lg:flex self-stretch transition-opacity opacity-0\"><ul class=\"jsx-b35e882c88056c79 font-medium flex self-stretch transition-opacity\"><li class=\"jsx-b35e882c88056c79 has-dropdown px-3 flex self-stretch items-center gallery opacity-80 cursor-pointer hover:opacity-100\" data-content=\"learn\">Start learning</li><li class=\"jsx-b35e882c88056c79 has-dropdown px-3 flex self-stretch items-center links opacity-80 cursor-pointer hover:opacity-100\" data-content=\"playgrounds\">Playgrounds</li><li class=\"jsx-b35e882c88056c79 opacity-80 px-3 flex self-stretch items-center hover:opacity-100\"><a class=\"jsx-b35e882c88056c79\" href=\"/pricing\">Pricing</a></li><li class=\"jsx-b35e882c88056c79 opacity-80 px-3 flex self-stretch items-center hover:opacity-100\"><a class=\"jsx-b35e882c88056c79\" href=\"/contact\">Contact Us</a></li></ul></nav><div class=\"jsx-b35e882c88056c79 hidden lg:flex lg:items-center lg:mx-4 justify-end transition-opacity opacity-0\"><a class=\"jsx-b35e882c88056c79 text-base font-medium\" href=\"/login\">Sign in</a><a class=\"jsx-b35e882c88056c79 lg:mx-4 inline-flex items-center px-4 py-1.5 text-base font-medium rounded-md text-white bg-gradient-to-r from-indigo-500 to-cyan-600 hover:bg-gradient-to-l text-center\" href=\"/register\">Create Free Account</a><div class=\"jsx-b35e882c88056c79 hidden lg:block\"></div><div class=\"jsx-b35e882c88056c79 hidden lg:block\"></div></div></div><div class=\"morph-dropdown-wrapper top-[80px]\"><div class=\"dropdown-list absolute top-0 left-0 invisible text-white\"><ul class=\"bg-gray-800 rounded-md\" style=\"box-shadow:0 0 5px rgb(255 255 255 / 20%)\"><li class=\"dropdown gallery\" id=\"learn\"><div class=\"content w-[300px]\"><ul class=\"p-4 space-y-8\"><li class=\"opacity-80 hover:opacity-100\"><a class=\"flex flex-col\" href=\"/learning-paths/frontend\"><span class=\"font-semibold\">Frontend learning path<!-- --> </span><span class=\"text-xs\">Become a frontend React web developer by learning through interactive courses</span></a></li><li class=\"opacity-80 hover:opacity-100\"><a class=\"flex flex-col\" href=\"/learning-paths/backend\"><span class=\"font-semibold\">Backend learning path<!-- --> </span><span class=\"text-xs\">Become a backend developer by learning through interactive courses</span></a></li><li class=\"opacity-80 hover:opacity-100\"><a class=\"flex flex-col\" href=\"/learning-paths/fullstack\"><span class=\"font-semibold\">Full-stack learning path<!-- --> <span class=\"inline-flex items-center px-2 rounded-full text-xs font-medium bg-purple-100 text-purple-800\">Popular</span></span><span class=\"text-xs\">Become a full-stack web developer by learning through interactive courses</span></a></li><li class=\"opacity-80 hover:opacity-100\"><a class=\"flex flex-col\" href=\"/learning-paths/web3\"><span class=\"font-semibold\">Web 3.0 And Blockchain<!-- --> <span class=\"inline-flex items-center px-2 rounded-full text-xs font-medium bg-yellow-100 text-yellow-800\">Beta</span></span><span class=\"text-xs\">Start your Web 3.0 journey building with ethereum, solidity, and more</span></a></li></ul><a class=\"flex-shrink-0 m-2 block w-full px-6 py-2 text-sm font-semibold text-center bg-gray-900 hover:bg-gray-700 border-gray-800 border rounded-md md:w-auto\" href=\"/learning-paths\">Explore All Paths</a><a class=\"flex-shrink-0 m-2 block w-full px-6 py-2 text-sm font-semibold text-center bg-gray-900 hover:bg-gray-700 border-gray-800 border rounded-md md:w-auto\" href=\"/courses\">Explore All Courses</a></div></li><li class=\"dropdown links\" id=\"playgrounds\"><div class=\"content w-[600px]\"><ul class=\"flex p-4 space-x-2\"><li class=\"flex-1\"><h2 class=\"font-semibold\">Start a practice playground</h2><p class=\"text-sm\">Practice anything inside browser without any download/setup</p><div class=\"space-y-3 mt-4 text-sm\"><a class=\"opacity-80 flex items-center space-x-2 hover:opacity-100\" href=\"/playgrounds?template=html\"><span class=\"bg-white w-9 h-9 flex justify-center items-center rounded-full\"><span style=\"box-sizing:border-box;display:inline-block;overflow:hidden;width:initial;height:initial;background:none;opacity:1;border:0;margin:0;padding:0;position:relative;max-width:100%\"><span style=\"box-sizing:border-box;display:block;width:initial;height:initial;background:none;opacity:1;border:0;margin:0;padding:0;max-width:100%\"><img alt=\"\" aria-hidden=\"true\" src=\"data:image/svg+xml,%3csvg%20xmlns=%27http://www.w3.org/2000/svg%27%20version=%271.1%27%20width=%2732%27%20height=%2732%27/%3e\" style=\"display:block;max-width:100%;width:initial;height:initial;background:none;opacity:1;border:0;margin:0;padding:0\"/></span><img alt=\"Language image\" data-nimg=\"intrinsic\" decoding=\"async\" src=\"data:image/gif;base64,R0lGODlhAQABAIAAAAAAAP///yH5BAEAAAAALAAAAAABAAEAAAIBRAA7\" style=\"position:absolute;top:0;left:0;bottom:0;right:0;box-sizing:border-box;padding:0;border:none;margin:auto;display:block;width:0;height:0;min-width:100%;max-width:100%;min-height:100%;max-height:100%;object-fit:contain\"/><noscript><img alt=\"Language image\" data-nimg=\"intrinsic\" decoding=\"async\" loading=\"lazy\" src=\"//images.weserv.nl/?url=https%3A%2F%2Fcodedamn.com%2Fassets%2Fimages%2Fsvg%2Fhtml5.svg&amp;w=64&amp;q=75\" srcset=\"//images.weserv.nl/?url=https%3A%2F%2Fcodedamn.com%2Fassets%2Fimages%2Fsvg%2Fhtml5.svg&amp;w=64&amp;q=75 1x, //images.weserv.nl/?url=https%3A%2F%2Fcodedamn.com%2Fassets%2Fimages%2Fsvg%2Fhtml5.svg&amp;w=64&amp;q=75 2x\" style=\"position:absolute;top:0;left:0;bottom:0;right:0;box-sizing:border-box;padding:0;border:none;margin:auto;display:block;width:0;height:0;min-width:100%;max-width:100%;min-height:100%;max-height:100%;object-fit:contain\"/></noscript></span></span><span>HTML/CSS</span></a><a class=\"opacity-80 flex items-center space-x-2 hover:opacity-100\" href=\"/playgrounds?template=react-vite\"><span class=\"bg-white w-9 h-9 flex justify-center items-center rounded-full\"><span style=\"box-sizing:border-box;display:inline-block;overflow:hidden;width:initial;height:initial;background:none;opacity:1;border:0;margin:0;padding:0;position:relative;max-width:100%\"><span style=\"box-sizing:border-box;display:block;width:initial;height:initial;background:none;opacity:1;border:0;margin:0;padding:0;max-width:100%\"><img alt=\"\" aria-hidden=\"true\" src=\"data:image/svg+xml,%3csvg%20xmlns=%27http://www.w3.org/2000/svg%27%20version=%271.1%27%20width=%2732%27%20height=%2732%27/%3e\" style=\"display:block;max-width:100%;width:initial;height:initial;background:none;opacity:1;border:0;margin:0;padding:0\"/></span><img alt=\"Language image\" data-nimg=\"intrinsic\" decoding=\"async\" src=\"data:image/gif;base64,R0lGODlhAQABAIAAAAAAAP///yH5BAEAAAAALAAAAAABAAEAAAIBRAA7\" style=\"position:absolute;top:0;left:0;bottom:0;right:0;box-sizing:border-box;padding:0;border:none;margin:auto;display:block;width:0;height:0;min-width:100%;max-width:100%;min-height:100%;max-height:100%;object-fit:contain\"/><noscript><img alt=\"Language image\" data-nimg=\"intrinsic\" decoding=\"async\" loading=\"lazy\" src=\"//images.weserv.nl/?url=https%3A%2F%2Fcodedamn.com%2Fassets%2Fimages%2Fsvg%2Freact.svg&amp;w=64&amp;q=75\" srcset=\"//images.weserv.nl/?url=https%3A%2F%2Fcodedamn.com%2Fassets%2Fimages%2Fsvg%2Freact.svg&amp;w=64&amp;q=75 1x, //images.weserv.nl/?url=https%3A%2F%2Fcodedamn.com%2Fassets%2Fimages%2Fsvg%2Freact.svg&amp;w=64&amp;q=75 2x\" style=\"position:absolute;top:0;left:0;bottom:0;right:0;box-sizing:border-box;padding:0;border:none;margin:auto;display:block;width:0;height:0;min-width:100%;max-width:100%;min-height:100%;max-height:100%;object-fit:contain\"/></noscript></span></span><span>React</span></a><a class=\"opacity-80 flex items-center space-x-2 hover:opacity-100\" href=\"/playgrounds?template=vue3-vite\"><span class=\"bg-white w-9 h-9 flex justify-center items-center rounded-full\"><span style=\"box-sizing:border-box;display:inline-block;overflow:hidden;width:initial;height:initial;background:none;opacity:1;border:0;margin:0;padding:0;position:relative;max-width:100%\"><span style=\"box-sizing:border-box;display:block;width:initial;height:initial;background:none;opacity:1;border:0;margin:0;padding:0;max-width:100%\"><img alt=\"\" aria-hidden=\"true\" src=\"data:image/svg+xml,%3csvg%20xmlns=%27http://www.w3.org/2000/svg%27%20version=%271.1%27%20width=%2732%27%20height=%2732%27/%3e\" style=\"display:block;max-width:100%;width:initial;height:initial;background:none;opacity:1;border:0;margin:0;padding:0\"/></span><img alt=\"Language image\" data-nimg=\"intrinsic\" decoding=\"async\" src=\"data:image/gif;base64,R0lGODlhAQABAIAAAAAAAP///yH5BAEAAAAALAAAAAABAAEAAAIBRAA7\" style=\"position:absolute;top:0;left:0;bottom:0;right:0;box-sizing:border-box;padding:0;border:none;margin:auto;display:block;width:0;height:0;min-width:100%;max-width:100%;min-height:100%;max-height:100%;object-fit:contain\"/><noscript><img alt=\"Language image\" data-nimg=\"intrinsic\" decoding=\"async\" loading=\"lazy\" src=\"//images.weserv.nl/?url=https%3A%2F%2Fcodedamn.com%2Fassets%2Fimages%2Fsvg%2Fvue.svg&amp;w=64&amp;q=75\" srcset=\"//images.weserv.nl/?url=https%3A%2F%2Fcodedamn.com%2Fassets%2Fimages%2Fsvg%2Fvue.svg&amp;w=64&amp;q=75 1x, //images.weserv.nl/?url=https%3A%2F%2Fcodedamn.com%2Fassets%2Fimages%2Fsvg%2Fvue.svg&amp;w=64&amp;q=75 2x\" style=\"position:absolute;top:0;left:0;bottom:0;right:0;box-sizing:border-box;padding:0;border:none;margin:auto;display:block;width:0;height:0;min-width:100%;max-width:100%;min-height:100%;max-height:100%;object-fit:contain\"/></noscript></span></span><span>Vue 3</span></a><a class=\"opacity-80 flex items-center space-x-2 hover:opacity-100\" href=\"/playgrounds?template=ethereum-hardhat\"><span class=\"bg-white w-9 h-9 flex justify-center items-center rounded-full\"><span style=\"box-sizing:border-box;display:inline-block;overflow:hidden;width:initial;height:initial;background:none;opacity:1;border:0;margin:0;padding:0;position:relative;max-width:100%\"><span style=\"box-sizing:border-box;display:block;width:initial;height:initial;background:none;opacity:1;border:0;margin:0;padding:0;max-width:100%\"><img alt=\"\" aria-hidden=\"true\" src=\"data:image/svg+xml,%3csvg%20xmlns=%27http://www.w3.org/2000/svg%27%20version=%271.1%27%20width=%2732%27%20height=%2732%27/%3e\" style=\"display:block;max-width:100%;width:initial;height:initial;background:none;opacity:1;border:0;margin:0;padding:0\"/></span><img alt=\"Language image\" data-nimg=\"intrinsic\" decoding=\"async\" src=\"data:image/gif;base64,R0lGODlhAQABAIAAAAAAAP///yH5BAEAAAAALAAAAAABAAEAAAIBRAA7\" style=\"position:absolute;top:0;left:0;bottom:0;right:0;box-sizing:border-box;padding:0;border:none;margin:auto;display:block;width:0;height:0;min-width:100%;max-width:100%;min-height:100%;max-height:100%;object-fit:contain\"/><noscript><img alt=\"Language image\" data-nimg=\"intrinsic\" decoding=\"async\" loading=\"lazy\" src=\"//images.weserv.nl/?url=https%3A%2F%2Fcodedamn.com%2Fassets%2Fimages%2Fsvg%2Fsolidity.svg&amp;w=64&amp;q=75\" srcset=\"//images.weserv.nl/?url=https%3A%2F%2Fcodedamn.com%2Fassets%2Fimages%2Fsvg%2Fsolidity.svg&amp;w=64&amp;q=75 1x, //images.weserv.nl/?url=https%3A%2F%2Fcodedamn.com%2Fassets%2Fimages%2Fsvg%2Fsolidity.svg&amp;w=64&amp;q=75 2x\" style=\"position:absolute;top:0;left:0;bottom:0;right:0;box-sizing:border-box;padding:0;border:none;margin:auto;display:block;width:0;height:0;min-width:100%;max-width:100%;min-height:100%;max-height:100%;object-fit:contain\"/></noscript></span></span><span>Solidity</span></a><a class=\"opacity-80 flex items-center space-x-2 hover:opacity-100\" href=\"/playgrounds?template=next11\"><span class=\"bg-white w-9 h-9 flex justify-center items-center rounded-full\"><span style=\"box-sizing:border-box;display:inline-block;overflow:hidden;width:initial;height:initial;background:none;opacity:1;border:0;margin:0;padding:0;position:relative;max-width:100%\"><span style=\"box-sizing:border-box;display:block;width:initial;height:initial;background:none;opacity:1;border:0;margin:0;padding:0;max-width:100%\"><img alt=\"\" aria-hidden=\"true\" src=\"data:image/svg+xml,%3csvg%20xmlns=%27http://www.w3.org/2000/svg%27%20version=%271.1%27%20width=%2732%27%20height=%2732%27/%3e\" style=\"display:block;max-width:100%;width:initial;height:initial;background:none;opacity:1;border:0;margin:0;padding:0\"/></span><img alt=\"Language image\" data-nimg=\"intrinsic\" decoding=\"async\" src=\"data:image/gif;base64,R0lGODlhAQABAIAAAAAAAP///yH5BAEAAAAALAAAAAABAAEAAAIBRAA7\" style=\"position:absolute;top:0;left:0;bottom:0;right:0;box-sizing:border-box;padding:0;border:none;margin:auto;display:block;width:0;height:0;min-width:100%;max-width:100%;min-height:100%;max-height:100%;object-fit:contain\"/><noscript><img alt=\"Language image\" data-nimg=\"intrinsic\" decoding=\"async\" loading=\"lazy\" src=\"//images.weserv.nl/?url=https%3A%2F%2Fcodedamn.com%2Fassets%2Fimages%2Fsvg%2Fnext.svg&amp;w=64&amp;q=75\" srcset=\"//images.weserv.nl/?url=https%3A%2F%2Fcodedamn.com%2Fassets%2Fimages%2Fsvg%2Fnext.svg&amp;w=64&amp;q=75 1x, //images.weserv.nl/?url=https%3A%2F%2Fcodedamn.com%2Fassets%2Fimages%2Fsvg%2Fnext.svg&amp;w=64&amp;q=75 2x\" style=\"position:absolute;top:0;left:0;bottom:0;right:0;box-sizing:border-box;padding:0;border:none;margin:auto;display:block;width:0;height:0;min-width:100%;max-width:100%;min-height:100%;max-height:100%;object-fit:contain\"/></noscript></span></span><span>Next.js</span></a><a class=\"opacity-80 flex items-center space-x-2 hover:opacity-100\" href=\"/playgrounds?template=node\"><span class=\"bg-white w-9 h-9 flex justify-center items-center rounded-full\"><span style=\"box-sizing:border-box;display:inline-block;overflow:hidden;width:initial;height:initial;background:none;opacity:1;border:0;margin:0;padding:0;position:relative;max-width:100%\"><span style=\"box-sizing:border-box;display:block;width:initial;height:initial;background:none;opacity:1;border:0;margin:0;padding:0;max-width:100%\"><img alt=\"\" aria-hidden=\"true\" src=\"data:image/svg+xml,%3csvg%20xmlns=%27http://www.w3.org/2000/svg%27%20version=%271.1%27%20width=%2732%27%20height=%2732%27/%3e\" style=\"display:block;max-width:100%;width:initial;height:initial;background:none;opacity:1;border:0;margin:0;padding:0\"/></span><img alt=\"Language image\" data-nimg=\"intrinsic\" decoding=\"async\" src=\"data:image/gif;base64,R0lGODlhAQABAIAAAAAAAP///yH5BAEAAAAALAAAAAABAAEAAAIBRAA7\" style=\"position:absolute;top:0;left:0;bottom:0;right:0;box-sizing:border-box;padding:0;border:none;margin:auto;display:block;width:0;height:0;min-width:100%;max-width:100%;min-height:100%;max-height:100%;object-fit:contain\"/><noscript><img alt=\"Language image\" data-nimg=\"intrinsic\" decoding=\"async\" loading=\"lazy\" src=\"//images.weserv.nl/?url=https%3A%2F%2Fcodedamn.com%2Fassets%2Fimages%2Fsvg%2Fnode.svg&amp;w=64&amp;q=75\" srcset=\"//images.weserv.nl/?url=https%3A%2F%2Fcodedamn.com%2Fassets%2Fimages%2Fsvg%2Fnode.svg&amp;w=64&amp;q=75 1x, //images.weserv.nl/?url=https%3A%2F%2Fcodedamn.com%2Fassets%2Fimages%2Fsvg%2Fnode.svg&amp;w=64&amp;q=75 2x\" style=\"position:absolute;top:0;left:0;bottom:0;right:0;box-sizing:border-box;padding:0;border:none;margin:auto;display:block;width:0;height:0;min-width:100%;max-width:100%;min-height:100%;max-height:100%;object-fit:contain\"/></noscript></span></span><span>Node.js</span></a><a class=\"opacity-80 flex items-center space-x-2 hover:opacity-100\" href=\"/playgrounds?template=python\"><span class=\"bg-white w-9 h-9 flex justify-center items-center rounded-full\"><span style=\"box-sizing:border-box;display:inline-block;overflow:hidden;width:initial;height:initial;background:none;opacity:1;border:0;margin:0;padding:0;position:relative;max-width:100%\"><span style=\"box-sizing:border-box;display:block;width:initial;height:initial;background:none;opacity:1;border:0;margin:0;padding:0;max-width:100%\"><img alt=\"\" aria-hidden=\"true\" src=\"data:image/svg+xml,%3csvg%20xmlns=%27http://www.w3.org/2000/svg%27%20version=%271.1%27%20width=%2732%27%20height=%2732%27/%3e\" style=\"display:block;max-width:100%;width:initial;height:initial;background:none;opacity:1;border:0;margin:0;padding:0\"/></span><img alt=\"Language image\" data-nimg=\"intrinsic\" decoding=\"async\" src=\"data:image/gif;base64,R0lGODlhAQABAIAAAAAAAP///yH5BAEAAAAALAAAAAABAAEAAAIBRAA7\" style=\"position:absolute;top:0;left:0;bottom:0;right:0;box-sizing:border-box;padding:0;border:none;margin:auto;display:block;width:0;height:0;min-width:100%;max-width:100%;min-height:100%;max-height:100%;object-fit:contain\"/><noscript><img alt=\"Language image\" data-nimg=\"intrinsic\" decoding=\"async\" loading=\"lazy\" src=\"//images.weserv.nl/?url=https%3A%2F%2Fcodedamn.com%2Fassets%2Fimages%2Fsvg%2Fpython.svg&amp;w=64&amp;q=75\" srcset=\"//images.weserv.nl/?url=https%3A%2F%2Fcodedamn.com%2Fassets%2Fimages%2Fsvg%2Fpython.svg&amp;w=64&amp;q=75 1x, //images.weserv.nl/?url=https%3A%2F%2Fcodedamn.com%2Fassets%2Fimages%2Fsvg%2Fpython.svg&amp;w=64&amp;q=75 2x\" style=\"position:absolute;top:0;left:0;bottom:0;right:0;box-sizing:border-box;padding:0;border:none;margin:auto;display:block;width:0;height:0;min-width:100%;max-width:100%;min-height:100%;max-height:100%;object-fit:contain\"/></noscript></span></span><span>Python</span></a></div></li><li class=\"flex-1\"><h2 class=\"font-semibold\">Build a project</h2><p class=\"text-sm\">Build projects, get community feedback and gain confidence</p><ul class=\"space-y-2 mt-4 text-sm\"><li class=\"opacity-80 hover:opacity-100\"><a href=\"/projects\">Explore frontend projects</a></li><li class=\"opacity-80 hover:opacity-100\"><a href=\"/projects\">Explore backend projects</a></li><li class=\"opacity-80 hover:opacity-100\"><a href=\"/projects\">Explore full stack projects</a></li></ul></li></ul></div></li></ul></div></div><div class=\"lg:hidden block\"></div><div class=\"lg:hidden block\"></div></header><div class=\"pt-10 overflow-hidden bg-gradient-to-r from-gray-900 via-gray-800 to-gray-900 lg:pt-2 pb-14\"><div class=\"flex flex-col items-center justify-center px-4 mx-auto max-w-7xl lg:flex-row\"><div class=\"flex-1 max-w-3xl sm:text-center lg:text-left lg:flex lg:items-center\"><div class=\"lg:py-24\"><h1 class=\"mt-4 text-4xl font-extrabold tracking-tight text-white sm:mt-5 sm:text-6xl lg:mt-6 xl:text-6xl\"><span class=\"block\">Learn Programming</span><span class=\"block pb-3 text-transparent bg-clip-text bg-gradient-to-r from-indigo-200 to-cyan-400\">Interactively</span></h1><p class=\"mt-3 text-base text-gray-300 sm:mt-5 sm:text-xl lg:text-lg xl:text-xl\">Build projects, practice and learn to code from scratch - without leaving your browser.</p><div class=\"mt-10 sm:mt-12\"><a class=\"block w-full px-4 py-3 font-medium text-center md:text-lg text-white rounded-md shadow bg-gradient-to-r from-indigo-500 to-cyan-600 hover:bg-gradient-to-l\" href=\"/learning-paths\">Explore All Roadmaps</a></div></div></div><div class=\"mt-12 flex-2 w-full lg:mt-0 lg:-right-16 lg:relative opacity-0 transition-opacity\"><div class=\"w-md max-w-md px-4 rounded mx-auto sm:px-6 border border-gray-700 bg-opacity-40 lg:px-0\"><div class=\"pt-4 pb-6\"><div class=\"px-6 text-gray-200\"><div><p class=\"text-sm font-medium text-gray-200\">Sign up with</p><div class=\"mt-2 space-y-2 sm:space-y-0 sm:flex sm:space-x-2\"><button class=\"disabled:opacity-50 flex-1 disabled:cursor-wait w-full cursor-pointer inline-flex justify-center py-2 px-4 border rounded-md shadow-sm bg-gray-900 border-gray-700 text-gray-300 hover:bg-gray-700 text-sm font-medium\" tabindex=\"-1\"><span class=\"sr-only\">Sign up with Google</span><svg aria-hidden=\"true\" class=\"w-6 h-6 translate-x-0.5 translate-y-0.5\" fill=\"currentColor\" viewbox=\"0 0 24 24\"><clippath id=\"p.0\"><path clip-rule=\"nonzero\" d=\"m0 0l20.0 0l0 20.0l-20.0 0l0 -20.0z\"></path></clippath><g clip-path=\"url(#p.0)\"><path d=\"m0 0l20.0 0l0 20.0l-20.0 0z\" fill=\"currentColor\" fill-opacity=\"0.0\" fill-rule=\"evenodd\"></path><path d=\"m19.850197 8.270351c0.8574047 4.880001 -1.987587 9.65214 -6.6881847 11.218641c-4.700598 1.5665016 -9.83958 -0.5449295 -12.08104 -4.963685c-2.2414603 -4.4187555 -0.909603 -9.81259 3.1310139 -12.6801605c4.040616 -2.867571 9.571754 -2.3443127 13.002944 1.2301085l-2.8127813 2.7000687l0 0c-2.0935059 -2.1808972 -5.468274 -2.500158 -7.933616 -0.75053835c-2.4653416 1.74962 -3.277961 5.040613 -1.9103565 7.7366734c1.3676047 2.6960592 4.5031037 3.9843292 7.3711267 3.0285425c2.868022 -0.95578575 4.6038647 -3.8674583 4.0807285 -6.844941z\" fill=\"currentColor\" fill-rule=\"evenodd\"></path><path d=\"m10.000263 8.268785l9.847767 0l0 3.496233l-9.847767 0z\" fill=\"currentColor\" fill-rule=\"evenodd\"></path></g></svg></button><button class=\"disabled:opacity-50 flex-1 disabled:cursor-wait w-full cursor-pointer inline-flex justify-center py-2 px-4 border rounded-md shadow-sm bg-gray-900 border-gray-700 text-gray-300 hover:bg-gray-700 text-sm font-medium\" tabindex=\"-1\"><span class=\"sr-only\">Sign up with Facebook</span><svg aria-hidden=\"true\" class=\"w-6 h-6\" fill=\"currentColor\" viewbox=\"0 0 24 24\"><path clip-rule=\"evenodd\" d=\"M12 2C6.477 2 2 6.484 2 12.017c0 4.425 2.865 8.18 6.839 9.504.5.092.682-.217.682-.483 0-.237-.008-.868-.013-1.703-2.782.605-3.369-1.343-3.369-1.343-.454-1.158-1.11-1.466-1.11-1.466-.908-.62.069-.608.069-.608 1.003.07 1.531 1.032 1.531 1.032.892 1.53 2.341 1.088 2.91.832.092-.647.35-1.088.636-1.338-2.22-.253-4.555-1.113-4.555-4.951 0-1.093.39-1.988 1.029-2.688-.103-.253-.446-1.272.098-2.65 0 0 .84-.27 2.75 1.026A9.564 9.564 0 0112 6.844c.85.004 1.705.115 2.504.337 1.909-1.296 2.747-1.027 2.747-1.027.546 1.379.202 2.398.1 2.651.64.7 1.028 1.595 1.028 2.688 0 3.848-2.339 4.695-4.566 4.943.359.309.678.92.678 1.855 0 1.338-.012 2.419-.012 2.747 0 .268.18.58.688.482A10.019 10.019 0 0022 12.017C22 6.484 17.522 2 12 2z\" fill-rule=\"evenodd\"></path></svg></button></div></div><div class=\"relative my-4\"><div class=\"absolute inset-0 flex items-center\"><div class=\"w-full border-t border-gray-700\"></div></div><div class=\"relative flex justify-center text-sm\"><span class=\"px-2 text-gray-300 bg-gray-800\">Or continue with</span></div></div><form class=\"space-y-2 text-gray-200\"><div><label class=\"block mb-1 text-sm font-medium\" for=\"Name\">Name</label><input autocomplete=\"off\" class=\"block placeholder:text-sm w-full px-3 box-border py-2 placeholder-gray-400 border rounded-md shadow-sm appearance-none disabled:opacity-50 disabled:cursor-not-allowed focus:ring-2 ring-indigo-500 sm:text-sm bg-gray-900 border-gray-700 text-gray-100\" data-testid=\"name\" name=\"Name\" placeholder=\"Enter your name\" required=\"\" type=\"text\" value=\"\"/></div><div><label class=\"block mb-1 text-sm font-medium\" for=\"Username\">Username</label><input autocomplete=\"off\" class=\"block placeholder:text-sm w-full px-3 box-border py-2 placeholder-gray-400 border rounded-md shadow-sm appearance-none disabled:opacity-50 disabled:cursor-not-allowed focus:ring-2 sm:text-sm bg-gray-900 border-gray-700 text-gray-100 ring-indigo-500\" data-testid=\"username\" maxlength=\"15\" minlength=\"3\" name=\"Username\" pattern=\"^[a-zA-Z0-9]+$\" placeholder=\"Only alphanumeric allowed [a-z, A-Z, 0-9]\" required=\"\" type=\"text\" value=\"\"/><small class=\"text-xs opacity-80 italic ml-1\">Once set, username cannot be changed</small></div><div><label class=\"block mb-1 text-sm font-medium\" for=\"email\">Email Address</label><input autocomplete=\"off\" class=\"block placeholder:text-sm w-full px-3 box-border py-2 placeholder-gray-400 border rounded-md shadow-sm appearance-none disabled:opacity-50 disabled:cursor-not-allowed focus:ring-2 ring-indigo-500 sm:text-sm bg-gray-900 border-gray-700 text-gray-100 ring-indigo-500\" data-testid=\"email\" id=\"email\" name=\"email\" placeholder=\"Enter your email address\" required=\"\" type=\"email\" value=\"\"/></div><div><div><label class=\"block mb-1 text-sm font-medium text-gray-200\" for=\"Password\">Password</label><input autocomplete=\"off\" class=\"block placeholder:text-sm w-full px-3 box-border py-2 placeholder-gray-400 border rounded-md shadow-sm appearance-none disabled:opacity-50 disabled:cursor-not-allowed focus:ring-2 ring-indigo-500 sm:text-sm bg-gray-900 border-gray-700 text-gray-100\" data-testid=\"password\" maxlength=\"50\" minlength=\"5\" name=\"Password\" placeholder=\"Enter a new password\" required=\"\" type=\"password\" value=\"\"/></div></div><div><button class=\"box-border flex justify-center w-full px-4 py-2 font-medium text-white bg-indigo-600 rounded-md mt-6 group disabled:cursor-not-allowed disabled:opacity-50 hover:bg-indigo-700 focus:outline-none focus:ring-1 focus:ring-offset-2 focus:ring-indigo-500\" data-testid=\"submit-btn\" disabled=\"\" type=\"submit\">Let's go!</button></div></form></div></div></div></div></div></div><div class=\"py-10 space-y-10 text-gray-900 bg-gray-100\"><section class=\"max-w-screen-lg mx-auto xl:max-w-screen-xl\"><div class=\"px-4 mb-10 sm:px-6 md:px-8 sm:mb-16 md:mb-20\"><div class=\"flex items-center justify-center w-12 h-12 mb-8 rounded-xl bg-gradient-to-br from-orange-400 to-pink-600\"><svg fill=\"none\" height=\"32\" viewbox=\"0 0 32 32\" width=\"32\" xmlns=\"http://www.w3.org/2000/svg\"><g clip-path=\"url(#build-anything_svg__clip0)\"><g filter=\"url(#build-anything_svg__filter0_d)\"><path clip-rule=\"evenodd\" d=\"M25.414 6.586a2 2 0 010 2.828l-20 20a2 2 0 11-2.828-2.828l20-20a2 2 0 012.828 0z\" fill=\"#FDBA74\" fill-rule=\"evenodd\"></path></g><g filter=\"url(#build-anything_svg__filter1_dd)\"><path d=\"M26.85 3.844c.822-.339 1.644.483 1.305 1.305l-1.841 4.47 3.135 3.68c.577.678.048 1.715-.839 1.646l-4.817-.375-2.53 4.116c-.465.758-1.614.576-1.823-.288l-1.139-4.7-4.7-1.139c-.864-.209-1.046-1.358-.288-1.824l4.116-2.529-.375-4.817c-.069-.887.968-1.416 1.646-.84l3.68 3.136 4.47-1.841z\" fill=\"#FFEDD5\"></path></g><g filter=\"url(#build-anything_svg__filter2_dd)\"><path d=\"M6.535 3.18a.5.5 0 01.93 0l.95 2.406 2.406.949a.5.5 0 010 .93l-2.406.95-.95 2.406a.5.5 0 01-.93 0l-.949-2.407-2.406-.949a.5.5 0 010-.93l2.406-.95.95-2.406z\" fill=\"#FED7AA\"></path></g><g filter=\"url(#build-anything_svg__filter3_dd)\"><path d=\"M20.535 23.18a.5.5 0 01.93 0l.667 1.689 1.69.666a.5.5 0 010 .93l-1.69.666-.666 1.69a.5.5 0 01-.93 0l-.667-1.69-1.69-.666a.5.5 0 010-.93l1.69-.666.666-1.69z\" fill=\"#FED7AA\"></path></g></g><defs><filter color-interpolation-filters=\"sRGB\" filterunits=\"userSpaceOnUse\" height=\"28\" id=\"build-anything_svg__filter0_d\" width=\"28\" x=\"0\" y=\"5\"><feflood flood-opacity=\"0\" result=\"BackgroundImageFix\"></feflood><fecolormatrix in=\"SourceAlpha\" values=\"0 0 0 0 0 0 0 0 0 0 0 0 0 0 0 0 0 0 127 0\"></fecolormatrix><feoffset dy=\"1\"></feoffset><fegaussianblur stddeviation=\"1\"></fegaussianblur><fecolormatrix values=\"0 0 0 0 0 0 0 0 0 0 0 0 0 0 0 0 0 0 0.05 0\"></fecolormatrix><feblend in2=\"BackgroundImageFix\" result=\"effect1_dropShadow\"></feblend><feblend in=\"SourceGraphic\" in2=\"effect1_dropShadow\" result=\"shape\"></feblend></filter><filter color-interpolation-filters=\"sRGB\" filterunits=\"userSpaceOnUse\" height=\"22.855\" id=\"build-anything_svg__filter1_dd\" width=\"22.855\" x=\"9.836\" y=\"0.309\"><feflood flood-opacity=\"0\" result=\"BackgroundImageFix\"></feflood><fecolormatrix in=\"SourceAlpha\" values=\"0 0 0 0 0 0 0 0 0 0 0 0 0 0 0 0 0 0 127 0\"></fecolormatrix><feoffset dy=\"1\"></feoffset><fegaussianblur stddeviation=\"1\"></fegaussianblur><fecolormatrix values=\"0 0 0 0 0 0 0 0 0 0 0 0 0 0 0 0 0 0 0.06 0\"></fecolormatrix><feblend in2=\"BackgroundImageFix\" result=\"effect1_dropShadow\"></feblend><fecolormatrix in=\"SourceAlpha\" values=\"0 0 0 0 0 0 0 0 0 0 0 0 0 0 0 0 0 0 127 0\"></fecolormatrix><feoffset dy=\"1\"></feoffset><fegaussianblur stddeviation=\"1.5\"></fegaussianblur><fecolormatrix values=\"0 0 0 0 0 0 0 0 0 0 0 0 0 0 0 0 0 0 0.1 0\"></fecolormatrix><feblend in2=\"effect1_dropShadow\" result=\"effect2_dropShadow\"></feblend><feblend in=\"SourceGraphic\" in2=\"effect2_dropShadow\" result=\"shape\"></feblend></filter><filter color-interpolation-filters=\"sRGB\" filterunits=\"userSpaceOnUse\" height=\"14.274\" id=\"build-anything_svg__filter2_dd\" width=\"14.274\" x=\"-0.137\" y=\"0.863\"><feflood flood-opacity=\"0\" result=\"BackgroundImageFix\"></feflood><fecolormatrix in=\"SourceAlpha\" values=\"0 0 0 0 0 0 0 0 0 0 0 0 0 0 0 0 0 0 127 0\"></fecolormatrix><feoffset dy=\"1\"></feoffset><fegaussianblur stddeviation=\"1\"></fegaussianblur><fecolormatrix values=\"0 0 0 0 0 0 0 0 0 0 0 0 0 0 0 0 0 0 0.06 0\"></fecolormatrix><feblend in2=\"BackgroundImageFix\" result=\"effect1_dropShadow\"></feblend><fecolormatrix in=\"SourceAlpha\" values=\"0 0 0 0 0 0 0 0 0 0 0 0 0 0 0 0 0 0 127 0\"></fecolormatrix><feoffset dy=\"1\"></feoffset><fegaussianblur stddeviation=\"1.5\"></fegaussianblur><fecolormatrix values=\"0 0 0 0 0 0 0 0 0 0 0 0 0 0 0 0 0 0 0.1 0\"></fecolormatrix><feblend in2=\"effect1_dropShadow\" result=\"effect2_dropShadow\"></feblend><feblend in=\"SourceGraphic\" in2=\"effect2_dropShadow\" result=\"shape\"></feblend></filter><filter color-interpolation-filters=\"sRGB\" filterunits=\"userSpaceOnUse\" height=\"12.274\" id=\"build-anything_svg__filter3_dd\" width=\"12.274\" x=\"14.863\" y=\"20.863\"><feflood flood-opacity=\"0\" result=\"BackgroundImageFix\"></feflood><fecolormatrix in=\"SourceAlpha\" values=\"0 0 0 0 0 0 0 0 0 0 0 0 0 0 0 0 0 0 127 0\"></fecolormatrix><feoffset dy=\"1\"></feoffset><fegaussianblur stddeviation=\"1\"></fegaussianblur><fecolormatrix values=\"0 0 0 0 0 0 0 0 0 0 0 0 0 0 0 0 0 0 0.06 0\"></fecolormatrix><feblend in2=\"BackgroundImageFix\" result=\"effect1_dropShadow\"></feblend><fecolormatrix in=\"SourceAlpha\" values=\"0 0 0 0 0 0 0 0 0 0 0 0 0 0 0 0 0 0 127 0\"></fecolormatrix><feoffset dy=\"1\"></feoffset><fegaussianblur stddeviation=\"1.5\"></fegaussianblur><fecolormatrix values=\"0 0 0 0 0 0 0 0 0 0 0 0 0 0 0 0 0 0 0.1 0\"></fecolormatrix><feblend in2=\"effect1_dropShadow\" result=\"effect2_dropShadow\"></feblend><feblend in=\"SourceGraphic\" in2=\"effect2_dropShadow\" result=\"shape\"></feblend></filter><clippath id=\"build-anything_svg__clip0\"><path d=\"M0 0h32v32H0z\" fill=\"#fff\"></path></clippath></defs></svg></div><h2 class=\"mb-3 font-semibold tracking-wide text-orange-600 uppercase sm:text-lg sm:leading-snug\">Get out of tutorial hell</h2><p class=\"mb-8 text-3xl font-extrabold leading-none tracking-tight sm:text-5xl lg:text-6xl\">Videos are so 2008-ish...</p><p class=\"max-w-4xl mb-6 space-y-6 text-lg font-medium sm:text-2xl sm:leading-10\">You have read about \"Practice makes a man perfect\", but you still learn by watching hours of videos. <br/>For the first time ever, you can experience an interactive course completely online - a perfect blend of theory and practice right inside your browser. <br/>10x more engaging, higher quality, cheaper, and a stellar experience for visual learners.</p><a class=\"inline-flex text-lg font-medium text-orange-600 transition-colors duration-200 rounded-md sm:text-2xl focus:ring-2 focus:ring-offset-2 focus:ring-current focus:outline-none hover:text-orange-800\" href=\"/learning-paths/fullstack\">Learn more</a></div></section></div><div class=\"py-10 space-y-10 text-gray-900 bg-gray-50\"><section class=\"max-w-screen-lg mx-auto xl:max-w-screen-xl\"><div class=\"px-4 mb-10 sm:px-6 md:px-8 sm:mb-16 md:mb-20\"><div class=\"w-12 h-12 rounded-xl mb-8 bg-gradient-to-br flex items-center justify-center from-indigo-400 to-blue-500\"><svg fill=\"none\" height=\"32\" viewbox=\"0 0 32 32\" width=\"32\" xmlns=\"http://www.w3.org/2000/svg\"><g clip-path=\"url(#performance_svg__clip0)\"><path clip-rule=\"evenodd\" d=\"M22.364 11.636A9 9 0 009.636 24.364a3 3 0 11-4.243 4.243c-5.857-5.858-5.857-15.356 0-21.214 5.858-5.857 15.356-5.857 21.214 0 5.858 5.858 5.858 15.356 0 21.214a3 3 0 11-4.243-4.243 9 9 0 000-12.728z\" fill=\"#a5b4fc\" fill-rule=\"evenodd\"></path><g filter=\"url(#performance_svg__filter0_dd)\"><path clip-rule=\"evenodd\" d=\"M22.364 11.636A9 9 0 009.636 24.364a3 3 0 11-4.243 4.243c-5.857-5.858-5.857-15.356 0-21.214 5.858-5.857 15.356-5.857 21.214 0a3 3 0 11-4.243 4.243z\" fill=\"#F0FDF4\" fill-rule=\"evenodd\"></path></g></g><defs><clippath id=\"performance_svg__clip0\"><path d=\"M0 0h32v32H0z\" fill=\"#fff\"></path></clippath><filter color-interpolation-filters=\"sRGB\" filterunits=\"userSpaceOnUse\" height=\"32.485\" id=\"performance_svg__filter0_dd\" width=\"32.485\" x=\"-2\" y=\"1\"><feflood flood-opacity=\"0\" result=\"BackgroundImageFix\"></feflood><fecolormatrix in=\"SourceAlpha\" values=\"0 0 0 0 0 0 0 0 0 0 0 0 0 0 0 0 0 0 127 0\"></fecolormatrix><feoffset dy=\"1\"></feoffset><fegaussianblur stddeviation=\"1\"></fegaussianblur><fecolormatrix values=\"0 0 0 0 0 0 0 0 0 0 0 0 0 0 0 0 0 0 0.06 0\"></fecolormatrix><feblend in2=\"BackgroundImageFix\" result=\"effect1_dropShadow\"></feblend><fecolormatrix in=\"SourceAlpha\" values=\"0 0 0 0 0 0 0 0 0 0 0 0 0 0 0 0 0 0 127 0\"></fecolormatrix><feoffset dy=\"1\"></feoffset><fegaussianblur stddeviation=\"1.5\"></fegaussianblur><fecolormatrix values=\"0 0 0 0 0 0 0 0 0 0 0 0 0 0 0 0 0 0 0.1 0\"></fecolormatrix><feblend in2=\"effect1_dropShadow\" result=\"effect2_dropShadow\"></feblend><feblend in=\"SourceGraphic\" in2=\"effect2_dropShadow\" result=\"shape\"></feblend></filter></defs></svg></div><h2 class=\"mb-3 font-semibold tracking-wide text-indigo-500 uppercase sm:text-lg sm:leading-snug\">Become the best programmer you can be</h2><p class=\"mb-8 text-3xl font-extrabold leading-none tracking-tight sm:text-5xl lg:text-6xl\">Why people love using codedamn?</p><div><style>\n",
      ".theme {\n",
      "  --colors-blue: #0c00ff;\n",
      "  --colors-purple: #be00ff;\n",
      "\n",
      "  --accents-1: #fafafa;\n",
      "  --accents-2: #eaeaea;\n",
      "  --accents-3: #999999;\n",
      "  --accents-4: #888888;\n",
      "  --accents-5: #666666;\n",
      "\n",
      "  --bg-color: #fff;\n",
      "  --link-color: var(--colors-blue);\n",
      "  --poll-bar-color: var(--colors-blue);\n",
      "  --inline-code-color: var(--colors-purple);\n",
      "  --code-color: #9efeff;\n",
      "  --code-bg-color: #1e1e3f;\n",
      "\n",
      "  --text-margin: 1.25rem 0;\n",
      "  --container-margin: 0.5rem 0;\n",
      "  --poll-margin: 1.5rem 1rem;\n",
      "  --heading-margin-top: 3.5rem;\n",
      "  --heading-margin-bottom: 2rem;\n",
      "  --li-margin: 0 0 0.5rem 0;\n",
      "\n",
      "  /* Embedded tweet */\n",
      "  --tweet-font: normal normal 16px/1.4 Helvetica, Roboto, 'Segoe UI', Calibri, sans-serif;\n",
      "  --tweet-font-color: #1c2022;\n",
      "  --tweet-bg-color: #fff;\n",
      "  --tweet-border: 1px solid #e1e8ed;\n",
      "  --tweet-border-hover: 1px solid #ccd6dd;\n",
      "  --tweet-avatar-border: none;\n",
      "  --tweet-link-color: #2b7bb9;\n",
      "  --tweet-link-color-hover: #3b94d9;\n",
      "  --tweet-color-gray: #697882;\n",
      "  --tweet-color-red: #e02460;\n",
      "}\n",
      "\n",
      ".masonry-with-columns {\n",
      "  columns: 2 400px;\n",
      "  column-gap: 1rem;\n",
      "}\n",
      ".masonry-with-columns > div {\n",
      "  width: 350px;\n",
      "  margin: 0 1rem 1rem 0;\n",
      "  display: inline-block;\n",
      "  width: 100%;\n",
      "}\n",
      "</style>\n",
      "<style>\n",
      ".twitter_emoji__En4Mx{margin:0 2px;vertical-align:-3px;display:inline-flex;}\n",
      ".tweet-header_header__jCEU6{display:flex;}\n",
      ".tweet-header_avatar__gS5aE{height:36px;width:36px;margin-right:0.625rem;}\n",
      ".tweet-header_author__1jPJz{display:flex;flex-direction:column;text-decoration:none;color:inherit;}\n",
      ".tweet-header_author__1jPJz:hover{color:var(--tweet-link-color-hover);}\n",
      ".tweet-header_name__D4FY0,.tweet-header_username__qgIK0{line-height:1.2;text-overflow:ellipsis;white-space:nowrap;overflow:hidden;}\n",
      ".tweet-header_name__D4FY0{font-weight:700;}\n",
      ".tweet-header_username__qgIK0{color:var(--tweet-color-gray);font-size:0.875rem;}\n",
      ".tweet-header_brand__U8RhZ{margin-left:auto;}\n",
      ".tweet-header_twitterIcon__mR6wU{width:1.25em;background-image:url(data:image/svg+xml;charset=utf-8,%3Csvg%20xmlns%3D%22http%3A%2F%2Fwww.w3.org%2F2000%2Fsvg%22%20viewBox%3D%220%200%2072%2072%22%3E%3Cpath%20fill%3D%22none%22%20d%3D%22M0%200h72v72H0z%22%2F%3E%3Cpath%20class%3D%22icon%22%20fill%3D%22%231da1f2%22%20d%3D%22M68.812%2015.14c-2.348%201.04-4.87%201.744-7.52%202.06%202.704-1.62%204.78-4.186%205.757-7.243-2.53%201.5-5.33%202.592-8.314%203.176C56.35%2010.59%2052.948%209%2049.182%209c-7.23%200-13.092%205.86-13.092%2013.093%200%201.026.118%202.02.338%202.98C25.543%2024.527%2015.9%2019.318%209.44%2011.396c-1.125%201.936-1.77%204.184-1.77%206.58%200%204.543%202.312%208.552%205.824%2010.9-2.146-.07-4.165-.658-5.93-1.64-.002.056-.002.11-.002.163%200%206.345%204.513%2011.638%2010.504%2012.84-1.1.298-2.256.457-3.45.457-.845%200-1.666-.078-2.464-.23%201.667%205.2%206.5%208.985%2012.23%209.09-4.482%203.51-10.13%205.605-16.26%205.605-1.055%200-2.096-.06-3.122-.184%205.794%203.717%2012.676%205.882%2020.067%205.882%2024.083%200%2037.25-19.95%2037.25-37.25%200-.565-.013-1.133-.038-1.693%202.558-1.847%204.778-4.15%206.532-6.774z%22%2F%3E%3C%2Fsvg%3E);}\n",
      ".dark_theme__iXgsV{--colors-blue:#3291ff;--colors-purple:#be00ff;--accents-1:#111111;--accents-2:#333333;--accents-3:#444444;--accents-4:#666666;--accents-5:#888888;--bg-color:#000;--link-color:var(--colors-blue);--poll-bar-color:var(--colors-blue);--inline-code-color:var(--colors-purple);--code-color:#9efeff;--code-bg-color:#1e1e3f;--text-margin:1.25rem 0;--container-margin:1.5rem 0;--poll-margin:1.5rem 1rem;--heading-margin-top:3.5rem;--heading-margin-bottom:2rem;--li-margin:0 0 0.5rem 0;--tweet-font:normal normal 16px/1.4 Helvetica, Roboto, 'Segoe UI', Calibri, sans-serif;--tweet-font-color:#fff;--tweet-bg-color:#000;--tweet-border:1px solid var(--accents-2);--tweet-border-hover:var(--tweet-border);--tweet-avatar-border:var(--tweet-border);--tweet-link-color:#2b7bb9;--tweet-link-color-hover:#3b94d9;--tweet-color-gray:var(--accents-4);--tweet-color-red:#e02460;}\n",
      ".dark_theme__iXgsV .tweet:hover{box-shadow:0 0 0 1px var(--accents-2);}\n",
      "a.jsx-6247abc867c2335a{color:#22bad9;-webkit-text-decoration:none;text-decoration:none;}\n",
      "a.jsx-6247abc867c2335a:hover>b.jsx-6247abc867c2335a{text-decoration:underline;}\n",
      "s.jsx-6247abc867c2335a{-webkit-text-decoration:none;text-decoration:none;}\n",
      "p.jsx-b8a59f802ffb41c5{margin:var(--text-margin);white-space:pre-wrap;word-wrap:break-word;}\n",
      "a.jsx-45f5c52bdb30acf{-webkit-text-decoration:none;text-decoration:none;}\n",
      ".info.jsx-45f5c52bdb30acf{font-size:0.875rem;display:-webkit-box;display:-webkit-flex;display:-ms-flexbox;display:flex;}\n",
      ".like.jsx-45f5c52bdb30acf{display:-webkit-box;display:-webkit-flex;display:-ms-flexbox;display:flex;color:var(--tweet-color-gray);margin-right:0.75rem;}\n",
      ".like.jsx-45f5c52bdb30acf:visited{color:var(--tweet-link-color);}\n",
      ".like.jsx-45f5c52bdb30acf:hover{color:var(--tweet-color-red);}\n",
      ".like.jsx-45f5c52bdb30acf:hover .icon-heart.jsx-45f5c52bdb30acf{background-image:url(data:image/svg+xml;charset=utf-8,%3Csvg%20xmlns%3D%22http%3A%2F%2Fwww.w3.org%2F2000%2Fsvg%22%20width%3D%2224%22%20height%3D%2224%22%20viewBox%3D%220%200%2024%2024%22%3E%3Cpath%20class%3D%22icon%22%20fill%3D%22%23E0245E%22%20d%3D%22M12%2021.638h-.014C9.403%2021.59%201.95%2014.856%201.95%208.478c0-3.064%202.525-5.754%205.403-5.754%202.29%200%203.83%201.58%204.646%202.73.813-1.148%202.353-2.73%204.644-2.73%202.88%200%205.404%202.69%205.404%205.755%200%206.375-7.454%2013.11-10.037%2013.156H12zM7.354%204.225c-2.08%200-3.903%201.988-3.903%204.255%200%205.74%207.035%2011.596%208.55%2011.658%201.52-.062%208.55-5.917%208.55-11.658%200-2.267-1.822-4.255-3.902-4.255-2.528%200-3.94%202.936-3.952%202.965-.23.562-1.156.562-1.387%200-.015-.03-1.426-2.965-3.955-2.965z%22%2F%3E%3C%2Fsvg%3E);}\n",
      ".icon-heart.jsx-45f5c52bdb30acf{width:1.25em;background-image:url(data:image/svg+xml;charset=utf-8,%3Csvg%20xmlns%3D%22http%3A%2F%2Fwww.w3.org%2F2000%2Fsvg%22%20width%3D%2224%22%20height%3D%2224%22%20viewBox%3D%220%200%2024%2024%22%3E%3Cpath%20class%3D%22icon%22%20fill%3D%22%23697882%22%20d%3D%22M12%2021.638h-.014C9.403%2021.59%201.95%2014.856%201.95%208.478c0-3.064%202.525-5.754%205.403-5.754%202.29%200%203.83%201.58%204.646%202.73.813-1.148%202.353-2.73%204.644-2.73%202.88%200%205.404%202.69%205.404%205.755%200%206.375-7.454%2013.11-10.037%2013.156H12zM7.354%204.225c-2.08%200-3.903%201.988-3.903%204.255%200%205.74%207.035%2011.596%208.55%2011.658%201.52-.062%208.55-5.917%208.55-11.658%200-2.267-1.822-4.255-3.902-4.255-2.528%200-3.94%202.936-3.952%202.965-.23.562-1.156.562-1.387%200-.015-.03-1.426-2.965-3.955-2.965z%22%2F%3E%3C%2Fsvg%3E);}\n",
      ".likes.jsx-45f5c52bdb30acf{margin-left:0.25rem;}\n",
      ".time.jsx-45f5c52bdb30acf{color:var(--tweet-color-gray);}\n",
      ".time.jsx-45f5c52bdb30acf:hover,.time.jsx-45f5c52bdb30acf:focus{color:var(--tweet-link-color-hover);}\n",
      ".time.jsx-45f5c52bdb30acf:focus{text-decoration:underline;}\n",
      "a.jsx-cc975a6d2277217c{display:-webkit-box;display:-webkit-flex;display:-ms-flexbox;display:flex;color:var(--tweet-link-color);font-size:0.875rem;-webkit-align-items:center;-webkit-box-align:center;-ms-flex-align:center;align-items:center;padding:0.625rem 1.25rem;-webkit-text-decoration:none;text-decoration:none;border-top:var(--tweet-border);}\n",
      "a.jsx-cc975a6d2277217c:hover{color:var(--tweet-link-color-hover);}\n",
      ".icon-profile.jsx-cc975a6d2277217c{width:1.25em;background-image:url(data:image/svg+xml;charset=utf-8,%3Csvg%20xmlns%3D%22http%3A%2F%2Fwww.w3.org%2F2000%2Fsvg%22%20viewBox%3D%220%200%2024%2024%22%3E%3Cpath%20class%3D%22icon%22%20fill%3D%22%232b7bb9%22%20d%3D%22M12%2011.816c1.355%200%202.872-.15%203.84-1.256.814-.93%201.078-2.368.806-4.392-.38-2.825-2.117-4.512-4.646-4.512S7.734%203.343%207.354%206.17c-.272%202.022-.008%203.46.806%204.39.968%201.107%202.485%201.256%203.84%201.256zM8.84%206.368c.162-1.2.787-3.212%203.16-3.212s2.998%202.013%203.16%203.212c.207%201.55.057%202.627-.45%203.205-.455.52-1.266.743-2.71.743s-2.255-.223-2.71-.743c-.507-.578-.657-1.656-.45-3.205zm11.44%2012.868c-.877-3.526-4.282-5.99-8.28-5.99s-7.403%202.464-8.28%205.99c-.172.692-.028%201.4.395%201.94.408.52%201.04.82%201.733.82h12.304c.693%200%201.325-.3%201.733-.82.424-.54.567-1.247.394-1.94zm-1.576%201.016c-.126.16-.316.246-.552.246H5.848c-.235%200-.426-.085-.552-.246-.137-.174-.18-.412-.12-.654.71-2.855%203.517-4.85%206.824-4.85s6.114%201.994%206.824%204.85c.06.242.017.48-.12.654z%22%2F%3E%3C%2Fsvg%3E);}\n",
      ".icon-chevron.jsx-cc975a6d2277217c{width:1.25em;background-image:url(data:image/svg+xml;charset=utf-8,%3Csvg%20xmlns%3D%22http%3A%2F%2Fwww.w3.org%2F2000%2Fsvg%22%20width%3D%2224%22%20height%3D%2224%22%20viewBox%3D%220%200%2024%2024%22%3E%3Cpath%20class%3D%22icon%22%20fill%3D%22%23697882%22%20d%3D%22M17.207%2011.293l-7.5-7.5c-.39-.39-1.023-.39-1.414%200s-.39%201.023%200%201.414L15.086%2012l-6.793%206.793c-.39.39-.39%201.023%200%201.414.195.195.45.293.707.293s.512-.098.707-.293l7.5-7.5c.39-.39.39-1.023%200-1.414z%22%2F%3E%3C%2Fsvg%3E);margin-left:auto;}\n",
      ".text.jsx-cc975a6d2277217c{margin-left:0.25rem;}\n",
      ".tweet.jsx-8212f5349d7b179b{color:var(--tweet-font-color);font:var(--tweet-font);overflow:hidden;background:var(--tweet-bg-color);border:var(--tweet-border);border-radius:5px;margin:var(--container-margin);}\n",
      ".tweet.jsx-8212f5349d7b179b:hover{border:var(--tweet-border-hover);}\n",
      "blockquote.jsx-8212f5349d7b179b{position:relative;padding:1.25rem 1.25rem 0.625rem 1.25rem;}\n",
      ".tweet .icon{display:inline-block;height:1.25em;vertical-align:text-bottom;background-size:contain;background-repeat:no-repeat;}\n",
      "summary.jsx-1313784645{position:relative;box-sizing:border-box;}\n",
      "summary.jsx-a869835211ffcab2{position:relative;height:100%;list-style:none;}\n",
      "}\n",
      ".image-container.jsx-4aef003c29742a8b{display:grid;grid-template-columns:repeat(auto-fit, minmax(50%, 1fr));margin:var(--container-margin);}\n",
      ".page-wrapper.jsx-483ab946893db869{color:var(--tweet-font-color);background:var(--bg-color);height:100vh;overflow:auto;padding:2rem 1rem;}\n",
      "\n",
      "</style>\n",
      "<div class=\"theme masonry-with-columns\">\n",
      "<div class=\"jsx-8212f5349d7b179b tweet\" data-reactroot=\"\"><blockquote class=\"jsx-8212f5349d7b179b\"><div class=\"tweet-header_header__jCEU6\"><a class=\"tweet-header_avatar__gS5aE\" href=\"https://twitter.com/amitrajitdas31\" rel=\"noopener noreferrer\" target=\"_blank\"><img alt=\"Amitrajit Das\" src=\"/assets/images/twitter-testimonials/amitrajitdas31.jpg\" style=\"width:36px;height:36px;border-radius:100%\"/></a><a class=\"tweet-header_author__1jPJz\" href=\"https://twitter.com/amitrajitdas31\" rel=\"noopener noreferrer\" target=\"_blank\"><span class=\"tweet-header_name__D4FY0\" title=\"Amitrajit Das\">Amitrajit Das</span><span class=\"tweet-header_username__qgIK0\" title=\"@amitrajitdas31\">@<!-- -->amitrajitdas31</span></a><a class=\"tweet-header_brand__U8RhZ\" href=\"https://twitter.com/amitrajitdas31\" rel=\"noopener noreferrer\" target=\"_blank\"><div class=\"icon tweet-header_twitterIcon__mR6wU\" role=\"img\" title=\"View on Twitter\"></div></a></div><p class=\"jsx-b8a59f802ffb41c5\"><a class=\"jsx-6247abc867c2335a\" href=\"https://twitter.com/codedamncom\" rel=\"noopener noreferrer\" target=\"_blank\" title=\"https://twitter.com/codedamncom\"><span class=\"jsx-6247abc867c2335a\">@<b class=\"jsx-6247abc867c2335a\">codedamncom</b></span></a> subscription &gt;&gt;&gt;&gt; Netflix subscription</p><div class=\"jsx-45f5c52bdb30acf info\"><a class=\"jsx-45f5c52bdb30acf like\" href=\"https://twitter.com/intent/like?tweet_id=1492180829128196098\" rel=\"noopener noreferrer\" target=\"_blank\" title=\"Like\"><div class=\"jsx-45f5c52bdb30acf heart\"><div class=\"jsx-45f5c52bdb30acf icon icon-heart\" role=\"img\"></div></div><span class=\"jsx-45f5c52bdb30acf likes\">45</span></a></div></blockquote><a class=\"jsx-cc975a6d2277217c\" href=\"https://twitter.com/amitrajitdas31\" rel=\"noopener noreferrer\" target=\"_blank\" title=\"View Amitrajit Das's profile on Twitter\"><div class=\"jsx-cc975a6d2277217c icon icon-profile\"></div><span class=\"jsx-cc975a6d2277217c text\">See <!-- -->Amitrajit Das<!-- -->'s other Tweets</span><div class=\"jsx-cc975a6d2277217c icon icon-chevron\"></div></a></div>\n",
      "<div class=\"jsx-8212f5349d7b179b tweet\" data-reactroot=\"\"><blockquote class=\"jsx-8212f5349d7b179b\"><div class=\"tweet-header_header__jCEU6\"><a class=\"tweet-header_avatar__gS5aE\" href=\"https://twitter.com/PritamChougale\" rel=\"noopener noreferrer\" target=\"_blank\"><img alt=\"Pritam Chougale\" src=\"/assets/images/twitter-testimonials/PritamChougale.jpg\" style=\"width:36px;height:36px;border-radius:100%\"/></a><a class=\"tweet-header_author__1jPJz\" href=\"https://twitter.com/PritamChougale\" rel=\"noopener noreferrer\" target=\"_blank\"><span class=\"tweet-header_name__D4FY0\" title=\"Pritam Chougale\">Pritam Chougale</span><span class=\"tweet-header_username__qgIK0\" title=\"@PritamChougale\">@<!-- -->PritamChougale</span></a><a class=\"tweet-header_brand__U8RhZ\" href=\"https://twitter.com/PritamChougale\" rel=\"noopener noreferrer\" target=\"_blank\"><div class=\"icon tweet-header_twitterIcon__mR6wU\" role=\"img\" title=\"View on Twitter\"></div></a></div><p class=\"jsx-b8a59f802ffb41c5\">If you are planning to buy a course for full-stack. I would suggest go with a <a class=\"jsx-6247abc867c2335a\" href=\"https://twitter.com/codedamncom\" rel=\"noopener noreferrer\" target=\"_blank\" title=\"https://twitter.com/codedamncom\"><span class=\"jsx-6247abc867c2335a\">@<b class=\"jsx-6247abc867c2335a\">codedamncom</b></span></a> free resources. Their resources are more than enough to get started and once you feel confident then only purchase their pro package. Which is worth the money I believe. <a class=\"jsx-6247abc867c2335a\" href=\"https://twitter.com/hashtag/100DaysofCode?src=hash\" rel=\"noopener noreferrer\" target=\"_blank\" title=\"https://twitter.com/hashtag/100DaysofCode?src=hash\"><span class=\"jsx-6247abc867c2335a\">#<b class=\"jsx-6247abc867c2335a\">100DaysofCode</b></span></a></p><div class=\"jsx-45f5c52bdb30acf info\"><a class=\"jsx-45f5c52bdb30acf like\" href=\"https://twitter.com/intent/like?tweet_id=1491279190171258881\" rel=\"noopener noreferrer\" target=\"_blank\" title=\"Like\"><div class=\"jsx-45f5c52bdb30acf heart\"><div class=\"jsx-45f5c52bdb30acf icon icon-heart\" role=\"img\"></div></div><span class=\"jsx-45f5c52bdb30acf likes\">9</span></a></div></blockquote><a class=\"jsx-cc975a6d2277217c\" href=\"https://twitter.com/PritamChougale\" rel=\"noopener noreferrer\" target=\"_blank\" title=\"View Pritam Chougale's profile on Twitter\"><div class=\"jsx-cc975a6d2277217c icon icon-profile\"></div><span class=\"jsx-cc975a6d2277217c text\">See <!-- -->Pritam Chougale<!-- -->'s other Tweets</span><div class=\"jsx-cc975a6d2277217c icon icon-chevron\"></div></a></div>\n",
      "<div class=\"jsx-8212f5349d7b179b tweet\" data-reactroot=\"\"><blockquote class=\"jsx-8212f5349d7b179b\"><div class=\"tweet-header_header__jCEU6\"><a class=\"tweet-header_avatar__gS5aE\" href=\"https://twitter.com/Kishorevb07\" rel=\"noopener noreferrer\" target=\"_blank\"><img alt=\"Kishore\" src=\"/assets/images/twitter-testimonials/Kishorevb07.jpg\" style=\"width:36px;height:36px;border-radius:100%\"/></a><a class=\"tweet-header_author__1jPJz\" href=\"https://twitter.com/Kishorevb07\" rel=\"noopener noreferrer\" target=\"_blank\"><span class=\"tweet-header_name__D4FY0\" title=\"Kishore\">Kishore</span><span class=\"tweet-header_username__qgIK0\" title=\"@Kishorevb07\">@<!-- -->Kishorevb07</span></a><a class=\"tweet-header_brand__U8RhZ\" href=\"https://twitter.com/Kishorevb07\" rel=\"noopener noreferrer\" target=\"_blank\"><div class=\"icon tweet-header_twitterIcon__mR6wU\" role=\"img\" title=\"View on Twitter\"></div></a></div><p class=\"jsx-b8a59f802ffb41c5\">codeDamn started with the internet fundamentals and I loved the basics. It proceeded with HTML, CSS and Js, after finishing basic Js, they had advanced Js and 10 projects on Js for pro version and I bought the membership of 1000 rupees for 1 month, I can access all their content.</p><div class=\"jsx-45f5c52bdb30acf info\"><a class=\"jsx-45f5c52bdb30acf like\" href=\"https://twitter.com/intent/like?tweet_id=1490548276046696449\" rel=\"noopener noreferrer\" target=\"_blank\" title=\"Like\"><div class=\"jsx-45f5c52bdb30acf heart\"><div class=\"jsx-45f5c52bdb30acf icon icon-heart\" role=\"img\"></div></div></a></div></blockquote><a class=\"jsx-cc975a6d2277217c\" href=\"https://twitter.com/Kishorevb07\" rel=\"noopener noreferrer\" target=\"_blank\" title=\"View Kishore's profile on Twitter\"><div class=\"jsx-cc975a6d2277217c icon icon-profile\"></div><span class=\"jsx-cc975a6d2277217c text\">See <!-- -->Kishore<!-- -->'s other Tweets</span><div class=\"jsx-cc975a6d2277217c icon icon-chevron\"></div></a></div>\n",
      "<div class=\"jsx-8212f5349d7b179b tweet\" data-reactroot=\"\"><blockquote class=\"jsx-8212f5349d7b179b\"><div class=\"tweet-header_header__jCEU6\"><a class=\"tweet-header_avatar__gS5aE\" href=\"https://twitter.com/OnyelaUdochukw1\" rel=\"noopener noreferrer\" target=\"_blank\"><img alt=\"Fumudukus\" src=\"/assets/images/twitter-testimonials/OnyelaUdochukw1.jpg\" style=\"width:36px;height:36px;border-radius:100%\"/></a><a class=\"tweet-header_author__1jPJz\" href=\"https://twitter.com/OnyelaUdochukw1\" rel=\"noopener noreferrer\" target=\"_blank\"><span class=\"tweet-header_name__D4FY0\" title=\"Fumudukus\">Fumudukus</span><span class=\"tweet-header_username__qgIK0\" title=\"@OnyelaUdochukw1\">@<!-- -->OnyelaUdochukw1</span></a><a class=\"tweet-header_brand__U8RhZ\" href=\"https://twitter.com/OnyelaUdochukw1\" rel=\"noopener noreferrer\" target=\"_blank\"><div class=\"icon tweet-header_twitterIcon__mR6wU\" role=\"img\" title=\"View on Twitter\"></div></a></div><p class=\"jsx-b8a59f802ffb41c5\">Codedamn's courses are very resourceful, apart from the knowledge gained I'll be getting a certification at the end of the course, which will go a long way giving the fact that am a student ^_^.</p><div class=\"jsx-45f5c52bdb30acf info\"><a class=\"jsx-45f5c52bdb30acf like\" href=\"https://twitter.com/intent/like?tweet_id=1490261329772527621\" rel=\"noopener noreferrer\" target=\"_blank\" title=\"Like\"><div class=\"jsx-45f5c52bdb30acf heart\"><div class=\"jsx-45f5c52bdb30acf icon icon-heart\" role=\"img\"></div></div><span class=\"jsx-45f5c52bdb30acf likes\">5</span></a></div></blockquote><a class=\"jsx-cc975a6d2277217c\" href=\"https://twitter.com/OnyelaUdochukw1\" rel=\"noopener noreferrer\" target=\"_blank\" title=\"View Fumudukus's profile on Twitter\"><div class=\"jsx-cc975a6d2277217c icon icon-profile\"></div><span class=\"jsx-cc975a6d2277217c text\">See <!-- -->Fumudukus<!-- -->'s other Tweets</span><div class=\"jsx-cc975a6d2277217c icon icon-chevron\"></div></a></div>\n",
      "<div class=\"jsx-8212f5349d7b179b tweet\" data-reactroot=\"\"><blockquote class=\"jsx-8212f5349d7b179b\"><div class=\"tweet-header_header__jCEU6\"><a class=\"tweet-header_avatar__gS5aE\" href=\"https://twitter.com/unsung_guy\" rel=\"noopener noreferrer\" target=\"_blank\"><img alt=\"the_t3ch10\" src=\"/assets/images/twitter-testimonials/unsung_guy.jpg\" style=\"width:36px;height:36px;border-radius:100%\"/></a><a class=\"tweet-header_author__1jPJz\" href=\"https://twitter.com/unsung_guy\" rel=\"noopener noreferrer\" target=\"_blank\"><span class=\"tweet-header_name__D4FY0\" title=\"the_t3ch10\">the_t3ch10</span><span class=\"tweet-header_username__qgIK0\" title=\"@unsung_guy\">@<!-- -->unsung_guy</span></a><a class=\"tweet-header_brand__U8RhZ\" href=\"https://twitter.com/unsung_guy\" rel=\"noopener noreferrer\" target=\"_blank\"><div class=\"icon tweet-header_twitterIcon__mR6wU\" role=\"img\" title=\"View on Twitter\"></div></a></div><p class=\"jsx-b8a59f802ffb41c5\">Decided to get into field and got to know that everyone is talking about web3. To get there, i need to go through web2 so its best to start with basics and progress towards advanced topics. As it is my start codedamn will be best way to go from start to end in onc package.</p><div class=\"jsx-45f5c52bdb30acf info\"><a class=\"jsx-45f5c52bdb30acf like\" href=\"https://twitter.com/intent/like?tweet_id=1480480381715554306\" rel=\"noopener noreferrer\" target=\"_blank\" title=\"Like\"><div class=\"jsx-45f5c52bdb30acf heart\"><div class=\"jsx-45f5c52bdb30acf icon icon-heart\" role=\"img\"></div></div></a></div></blockquote><a class=\"jsx-cc975a6d2277217c\" href=\"https://twitter.com/unsung_guy\" rel=\"noopener noreferrer\" target=\"_blank\" title=\"View the_t3ch10's profile on Twitter\"><div class=\"jsx-cc975a6d2277217c icon icon-profile\"></div><span class=\"jsx-cc975a6d2277217c text\">See <!-- -->the_t3ch10<!-- -->'s other Tweets</span><div class=\"jsx-cc975a6d2277217c icon icon-chevron\"></div></a></div>\n",
      "<div class=\"jsx-8212f5349d7b179b tweet\" data-reactroot=\"\"><blockquote class=\"jsx-8212f5349d7b179b\"><div class=\"tweet-header_header__jCEU6\"><a class=\"tweet-header_avatar__gS5aE\" href=\"https://twitter.com/indrajit_23\" rel=\"noopener noreferrer\" target=\"_blank\"><img alt=\"Indrajit\" src=\"/assets/images/twitter-testimonials/indrajit_23.jpg\" style=\"width:36px;height:36px;border-radius:100%\"/></a><a class=\"tweet-header_author__1jPJz\" href=\"https://twitter.com/indrajit_23\" rel=\"noopener noreferrer\" target=\"_blank\"><span class=\"tweet-header_name__D4FY0\" title=\"Indrajit\">Indrajit</span><span class=\"tweet-header_username__qgIK0\" title=\"@indrajit_23\">@<!-- -->indrajit_23</span></a><a class=\"tweet-header_brand__U8RhZ\" href=\"https://twitter.com/indrajit_23\" rel=\"noopener noreferrer\" target=\"_blank\"><div class=\"icon tweet-header_twitterIcon__mR6wU\" role=\"img\" title=\"View on Twitter\"></div></a></div><p class=\"jsx-b8a59f802ffb41c5\">To be really honest, I am addicted to codedamn!<span class=\"twitter_emoji__En4Mx\"><img alt=\"🤩\" src=\"https://abs.twimg.com/emoji/v2/72x72/1f929.png\" style=\"width:18px;height:18px\"/></span> It's a one-of-a-kind platform and I feel myself being more productive and improving a lot when I learn with codedamn<span class=\"twitter_emoji__En4Mx\"><img alt=\"🤓\" src=\"https://abs.twimg.com/emoji/v2/72x72/1f913.png\" style=\"width:18px;height:18px\"/></span>. Thanks for this amazing platform <a class=\"jsx-6247abc867c2335a\" href=\"https://twitter.com/mehulmpt\" rel=\"noopener noreferrer\" target=\"_blank\" title=\"https://twitter.com/mehulmpt\"><span class=\"jsx-6247abc867c2335a\">@<b class=\"jsx-6247abc867c2335a\">mehulmpt</b></span></a>!</p><div class=\"jsx-45f5c52bdb30acf info\"><a class=\"jsx-45f5c52bdb30acf like\" href=\"https://twitter.com/intent/like?tweet_id=1479064702227410945\" rel=\"noopener noreferrer\" target=\"_blank\" title=\"Like\"><div class=\"jsx-45f5c52bdb30acf heart\"><div class=\"jsx-45f5c52bdb30acf icon icon-heart\" role=\"img\"></div></div><span class=\"jsx-45f5c52bdb30acf likes\">1</span></a></div></blockquote><a class=\"jsx-cc975a6d2277217c\" href=\"https://twitter.com/indrajit_23\" rel=\"noopener noreferrer\" target=\"_blank\" title=\"View Indrajit's profile on Twitter\"><div class=\"jsx-cc975a6d2277217c icon icon-profile\"></div><span class=\"jsx-cc975a6d2277217c text\">See <!-- -->Indrajit<!-- -->'s other Tweets</span><div class=\"jsx-cc975a6d2277217c icon icon-chevron\"></div></a></div>\n",
      "<div class=\"jsx-8212f5349d7b179b tweet\" data-reactroot=\"\"><blockquote class=\"jsx-8212f5349d7b179b\"><div class=\"tweet-header_header__jCEU6\"><a class=\"tweet-header_avatar__gS5aE\" href=\"https://twitter.com/ashish9242\" rel=\"noopener noreferrer\" target=\"_blank\"><img alt=\"Ashish Kumar\" src=\"/assets/images/twitter-testimonials/ashish9242.jpg\" style=\"width:36px;height:36px;border-radius:100%\"/></a><a class=\"tweet-header_author__1jPJz\" href=\"https://twitter.com/ashish9242\" rel=\"noopener noreferrer\" target=\"_blank\"><span class=\"tweet-header_name__D4FY0\" title=\"Ashish Kumar\">Ashish Kumar</span><span class=\"tweet-header_username__qgIK0\" title=\"@ashish9242\">@<!-- -->ashish9242</span></a><a class=\"tweet-header_brand__U8RhZ\" href=\"https://twitter.com/ashish9242\" rel=\"noopener noreferrer\" target=\"_blank\"><div class=\"icon tweet-header_twitterIcon__mR6wU\" role=\"img\" title=\"View on Twitter\"></div></a></div><p class=\"jsx-b8a59f802ffb41c5\">I have seen so many courses but finding course that gives lecture + playground to code is difficult to find. But codedamn is totally amazing in this perspective even quality of contents is unmatchable and helped me many times in understanding full stack courses concept in depth..</p><div class=\"jsx-45f5c52bdb30acf info\"><a class=\"jsx-45f5c52bdb30acf like\" href=\"https://twitter.com/intent/like?tweet_id=1478996668464840709\" rel=\"noopener noreferrer\" target=\"_blank\" title=\"Like\"><div class=\"jsx-45f5c52bdb30acf heart\"><div class=\"jsx-45f5c52bdb30acf icon icon-heart\" role=\"img\"></div></div><span class=\"jsx-45f5c52bdb30acf likes\">1</span></a></div></blockquote><a class=\"jsx-cc975a6d2277217c\" href=\"https://twitter.com/ashish9242\" rel=\"noopener noreferrer\" target=\"_blank\" title=\"View Ashish Kumar's profile on Twitter\"><div class=\"jsx-cc975a6d2277217c icon icon-profile\"></div><span class=\"jsx-cc975a6d2277217c text\">See <!-- -->Ashish Kumar<!-- -->'s other Tweets</span><div class=\"jsx-cc975a6d2277217c icon icon-chevron\"></div></a></div>\n",
      "<div class=\"jsx-8212f5349d7b179b tweet\" data-reactroot=\"\"><blockquote class=\"jsx-8212f5349d7b179b\"><div class=\"tweet-header_header__jCEU6\"><a class=\"tweet-header_avatar__gS5aE\" href=\"https://twitter.com/mhammad_saani\" rel=\"noopener noreferrer\" target=\"_blank\"><img alt=\"Muhammad Hammad Sani\" src=\"/assets/images/twitter-testimonials/mhammad_saani.jpg\" style=\"width:36px;height:36px;border-radius:100%\"/></a><a class=\"tweet-header_author__1jPJz\" href=\"https://twitter.com/mhammad_saani\" rel=\"noopener noreferrer\" target=\"_blank\"><span class=\"tweet-header_name__D4FY0\" title=\"Muhammad Hammad Sani\">Muhammad Hammad Sani</span><span class=\"tweet-header_username__qgIK0\" title=\"@mhammad_saani\">@<!-- -->mhammad_saani</span></a><a class=\"tweet-header_brand__U8RhZ\" href=\"https://twitter.com/mhammad_saani\" rel=\"noopener noreferrer\" target=\"_blank\"><div class=\"icon tweet-header_twitterIcon__mR6wU\" role=\"img\" title=\"View on Twitter\"></div></a></div><p class=\"jsx-b8a59f802ffb41c5\">This is so satisfying,49 days completed. Msd sm days but completed them by putting a lot of time in last 3 days. Now, just one day to go.Then streak will be completed.<br/>Thanks, <a class=\"jsx-6247abc867c2335a\" href=\"https://twitter.com/codedamncom\" rel=\"noopener noreferrer\" target=\"_blank\" title=\"https://twitter.com/codedamncom\"><span class=\"jsx-6247abc867c2335a\">@<b class=\"jsx-6247abc867c2335a\">codedamncom</b></span></a> for these challenges &amp; <a class=\"jsx-6247abc867c2335a\" href=\"https://twitter.com/mehulmpt\" rel=\"noopener noreferrer\" target=\"_blank\" title=\"https://twitter.com/mehulmpt\"><span class=\"jsx-6247abc867c2335a\">@<b class=\"jsx-6247abc867c2335a\">mehulmpt</b></span></a>  for building <a class=\"jsx-6247abc867c2335a\" href=\"https://twitter.com/hashtag/codedamn?src=hash\" rel=\"noopener noreferrer\" target=\"_blank\" title=\"https://twitter.com/hashtag/codedamn?src=hash\"><span class=\"jsx-6247abc867c2335a\">#<b class=\"jsx-6247abc867c2335a\">codedamn</b></span></a> It is gonna be an amazing platform</p><div class=\"jsx-4aef003c29742a8b image-container image-count-1\"><details class=\"jsx-a869835211ffcab2 jsx-1313784645\"><summary class=\"jsx-a869835211ffcab2 jsx-1313784645\"><img alt=\"View image on Twitter\" class=\"jsx-a869835211ffcab2 jsx-1313784645\" objectfit=\"cover\" src=\"/assets/images/twitter-testimonials/mhammad_saani_50_days_of_code.png\"/></summary></details></div><div class=\"jsx-45f5c52bdb30acf info\"><a class=\"jsx-45f5c52bdb30acf like\" href=\"https://twitter.com/intent/like?tweet_id=1476432400032935938\" rel=\"noopener noreferrer\" target=\"_blank\" title=\"Like\"><div class=\"jsx-45f5c52bdb30acf heart\"><div class=\"jsx-45f5c52bdb30acf icon icon-heart\" role=\"img\"></div></div><span class=\"jsx-45f5c52bdb30acf likes\">7</span></a></div></blockquote><a class=\"jsx-cc975a6d2277217c\" href=\"https://twitter.com/mhammad_saani\" rel=\"noopener noreferrer\" target=\"_blank\" title=\"View Muhammad Hammad Sani's profile on Twitter\"><div class=\"jsx-cc975a6d2277217c icon icon-profile\"></div><span class=\"jsx-cc975a6d2277217c text\">See <!-- -->Muhammad Hammad Sani<!-- -->'s other Tweets</span><div class=\"jsx-cc975a6d2277217c icon icon-chevron\"></div></a></div>\n",
      "<div class=\"jsx-8212f5349d7b179b tweet\" data-reactroot=\"\"><blockquote class=\"jsx-8212f5349d7b179b\"><div class=\"tweet-header_header__jCEU6\"><a class=\"tweet-header_avatar__gS5aE\" href=\"https://twitter.com/XtremeDevX\" rel=\"noopener noreferrer\" target=\"_blank\"><img alt=\"Tejas\" src=\"/assets/images/twitter-testimonials/XtremeDevX.jpg\" style=\"width:36px;height:36px;border-radius:100%\"/></a><a class=\"tweet-header_author__1jPJz\" href=\"https://twitter.com/XtremeDevX\" rel=\"noopener noreferrer\" target=\"_blank\"><span class=\"tweet-header_name__D4FY0\" title=\"Tejas\">Tejas</span><span class=\"tweet-header_username__qgIK0\" title=\"@XtremeDevX\">@<!-- -->XtremeDevX</span></a><a class=\"tweet-header_brand__U8RhZ\" href=\"https://twitter.com/XtremeDevX\" rel=\"noopener noreferrer\" target=\"_blank\"><div class=\"icon tweet-header_twitterIcon__mR6wU\" role=\"img\" title=\"View on Twitter\"></div></a></div><p class=\"jsx-b8a59f802ffb41c5\">Want to give <a class=\"jsx-6247abc867c2335a\" href=\"https://twitter.com/codedamncom\" rel=\"noopener noreferrer\" target=\"_blank\" title=\"https://twitter.com/codedamncom\"><span class=\"jsx-6247abc867c2335a\">@<b class=\"jsx-6247abc867c2335a\">codedamncom</b></span></a> and <a class=\"jsx-6247abc867c2335a\" href=\"https://twitter.com/mehulmpt\" rel=\"noopener noreferrer\" target=\"_blank\" title=\"https://twitter.com/mehulmpt\"><span class=\"jsx-6247abc867c2335a\">@<b class=\"jsx-6247abc867c2335a\">mehulmpt</b></span></a> a massive shoutout and thank you for giving me a subscription. Can't wait to learn React from the best platform out there!</p><div class=\"jsx-45f5c52bdb30acf info\"><a class=\"jsx-45f5c52bdb30acf like\" href=\"https://twitter.com/intent/like?tweet_id=1416062599809044488\" rel=\"noopener noreferrer\" target=\"_blank\" title=\"Like\"><div class=\"jsx-45f5c52bdb30acf heart\"><div class=\"jsx-45f5c52bdb30acf icon icon-heart\" role=\"img\"></div></div><span class=\"jsx-45f5c52bdb30acf likes\">25</span></a></div></blockquote><a class=\"jsx-cc975a6d2277217c\" href=\"https://twitter.com/XtremeDevX\" rel=\"noopener noreferrer\" target=\"_blank\" title=\"View Tejas's profile on Twitter\"><div class=\"jsx-cc975a6d2277217c icon icon-profile\"></div><span class=\"jsx-cc975a6d2277217c text\">See <!-- -->Tejas<!-- -->'s other Tweets</span><div class=\"jsx-cc975a6d2277217c icon icon-chevron\"></div></a></div>\n",
      "<div class=\"jsx-8212f5349d7b179b tweet\" data-reactroot=\"\"><blockquote class=\"jsx-8212f5349d7b179b\"><div class=\"tweet-header_header__jCEU6\"><a class=\"tweet-header_avatar__gS5aE\" href=\"https://twitter.com/19alema\" rel=\"noopener noreferrer\" target=\"_blank\"><img alt=\"Alema\" src=\"/assets/images/twitter-testimonials/19alema.png\" style=\"width:36px;height:36px;border-radius:100%\"/></a><a class=\"tweet-header_author__1jPJz\" href=\"https://twitter.com/19alema\" rel=\"noopener noreferrer\" target=\"_blank\"><span class=\"tweet-header_name__D4FY0\" title=\"Alema\">Alema</span><span class=\"tweet-header_username__qgIK0\" title=\"@19alema\">@<!-- -->19alema</span></a><a class=\"tweet-header_brand__U8RhZ\" href=\"https://twitter.com/19alema\" rel=\"noopener noreferrer\" target=\"_blank\"><div class=\"icon tweet-header_twitterIcon__mR6wU\" role=\"img\" title=\"View on Twitter\"></div></a></div><p class=\"jsx-b8a59f802ffb41c5\">Codedamn deserve everything. <br/>It's the best platform to learn web development <span class=\"twitter_emoji__En4Mx\"><img alt=\"🙌\" src=\"https://abs.twimg.com/emoji/v2/72x72/1f64c.png\" style=\"width:18px;height:18px\"/></span><span class=\"twitter_emoji__En4Mx\"><img alt=\"👌\" src=\"https://abs.twimg.com/emoji/v2/72x72/1f44c.png\" style=\"width:18px;height:18px\"/></span></p><div class=\"jsx-45f5c52bdb30acf info\"><a class=\"jsx-45f5c52bdb30acf like\" href=\"https://twitter.com/intent/like?tweet_id=1402696172901384200\" rel=\"noopener noreferrer\" target=\"_blank\" title=\"Like\"><div class=\"jsx-45f5c52bdb30acf heart\"><div class=\"jsx-45f5c52bdb30acf icon icon-heart\" role=\"img\"></div></div></a></div></blockquote><a class=\"jsx-cc975a6d2277217c\" href=\"https://twitter.com/19alema\" rel=\"noopener noreferrer\" target=\"_blank\" title=\"View Alema's profile on Twitter\"><div class=\"jsx-cc975a6d2277217c icon icon-profile\"></div><span class=\"jsx-cc975a6d2277217c text\">See <!-- -->Alema<!-- -->'s other Tweets</span><div class=\"jsx-cc975a6d2277217c icon icon-chevron\"></div></a></div>\n",
      "</div></div></div></section></div><div class=\"pt-10 space-y-10 text-gray-900 bg-gray-100\"><section class=\"max-w-screen-lg mx-auto xl:max-w-screen-xl\"><div class=\"px-4 sm:px-6 md:px-8\"><div class=\"flex items-center justify-center w-12 h-12 mb-8 rounded-xl bg-gradient-to-br from-purple-400 to-pink-600\"><svg fill=\"none\" height=\"32\" viewbox=\"0 0 32 32\" width=\"32\"><g clip-path=\"url(#constraint-based_svg__clip0)\"><g filter=\"url(#constraint-based_svg__filter0_dd)\"><rect fill=\"#F3E8FF\" height=\"12\" rx=\"2\" width=\"12\" x=\"18\" y=\"18\"></rect></g><path clip-rule=\"evenodd\" d=\"M24 16a7 7 0 100-14 7 7 0 000 14zm0-4a3 3 0 100-6 3 3 0 000 6z\" fill=\"#D8B4FE\" fill-rule=\"evenodd\"></path><path d=\"M15.423 23a2 2 0 010 2l-2.346 4.062a2 2 0 01-1.732 1h-4.69a2 2 0 01-1.732-1L2.577 25a2 2 0 010-2l2.346-4.062a2 2 0 011.732-1h4.69a2 2 0 011.732 1L15.423 23z\" fill=\"#D8B4FE\"></path><g filter=\"url(#constraint-based_svg__filter1_dd)\"><path d=\"M7.268 3c.77-1.333 2.694-1.333 3.464 0l5.196 9c.77 1.333-.192 3-1.732 3H3.804c-1.54 0-2.502-1.667-1.732-3l5.196-9z\" fill=\"#F3E8FF\"></path></g></g><defs><filter color-interpolation-filters=\"sRGB\" filterunits=\"userSpaceOnUse\" height=\"18\" id=\"constraint-based_svg__filter0_dd\" width=\"18\" x=\"15\" y=\"16\"><feflood flood-opacity=\"0\" result=\"BackgroundImageFix\"></feflood><fecolormatrix in=\"SourceAlpha\" values=\"0 0 0 0 0 0 0 0 0 0 0 0 0 0 0 0 0 0 127 0\"></fecolormatrix><feoffset dy=\"1\"></feoffset><fegaussianblur stddeviation=\"1\"></fegaussianblur><fecolormatrix values=\"0 0 0 0 0 0 0 0 0 0 0 0 0 0 0 0 0 0 0.06 0\"></fecolormatrix><feblend in2=\"BackgroundImageFix\" result=\"effect1_dropShadow\"></feblend><fecolormatrix in=\"SourceAlpha\" values=\"0 0 0 0 0 0 0 0 0 0 0 0 0 0 0 0 0 0 127 0\"></fecolormatrix><feoffset dy=\"1\"></feoffset><fegaussianblur stddeviation=\"1.5\"></fegaussianblur><fecolormatrix values=\"0 0 0 0 0 0 0 0 0 0 0 0 0 0 0 0 0 0 0.1 0\"></fecolormatrix><feblend in2=\"effect1_dropShadow\" result=\"effect2_dropShadow\"></feblend><feblend in=\"SourceGraphic\" in2=\"effect2_dropShadow\" result=\"shape\"></feblend></filter><filter color-interpolation-filters=\"sRGB\" filterunits=\"userSpaceOnUse\" height=\"19\" id=\"constraint-based_svg__filter1_dd\" width=\"20.398\" x=\"-1.199\" y=\"0\"><feflood flood-opacity=\"0\" result=\"BackgroundImageFix\"></feflood><fecolormatrix in=\"SourceAlpha\" values=\"0 0 0 0 0 0 0 0 0 0 0 0 0 0 0 0 0 0 127 0\"></fecolormatrix><feoffset dy=\"1\"></feoffset><fegaussianblur stddeviation=\"1\"></fegaussianblur><fecolormatrix values=\"0 0 0 0 0 0 0 0 0 0 0 0 0 0 0 0 0 0 0.06 0\"></fecolormatrix><feblend in2=\"BackgroundImageFix\" result=\"effect1_dropShadow\"></feblend><fecolormatrix in=\"SourceAlpha\" values=\"0 0 0 0 0 0 0 0 0 0 0 0 0 0 0 0 0 0 127 0\"></fecolormatrix><feoffset dy=\"1\"></feoffset><fegaussianblur stddeviation=\"1.5\"></fegaussianblur><fecolormatrix values=\"0 0 0 0 0 0 0 0 0 0 0 0 0 0 0 0 0 0 0.1 0\"></fecolormatrix><feblend in2=\"effect1_dropShadow\" result=\"effect2_dropShadow\"></feblend><feblend in=\"SourceGraphic\" in2=\"effect2_dropShadow\" result=\"shape\"></feblend></filter><clippath id=\"constraint-based_svg__clip0\"><path d=\"M0 0h32v32H0z\" fill=\"#fff\"></path></clippath></defs></svg></div><h2 class=\"mb-3 font-semibold tracking-wide text-purple-800 uppercase sm:text-lg sm:leading-snug\">Structured Roadmaps</h2><p class=\"mb-8 text-3xl font-extrabold leading-none tracking-tight sm:text-5xl lg:text-6xl\">What should I learn <br/>after <span class=\"px-2 bg-yellow-50\"></span>?</p><p class=\"max-w-4xl mb-6 space-y-6 text-lg font-medium sm:text-2xl sm:leading-10\">Chances are that you're NOT willing to spend years of your time figuring out the right tech stack. We got you. Our industry experts figured out a perfect learning path for you that is short, complete, and fully relevant in <!-- -->2022<!-- -->. Seriously.</p><a class=\"inline-flex text-lg font-medium text-purple-600 transition-colors duration-200 rounded-md sm:text-2xl focus:ring-2 focus:ring-offset-2 focus:ring-current focus:outline-none hover:text-purple-800\" href=\"/learning-paths\">Learn more</a></div></section></div><div class=\"py-10 overflow-hidden bg-gray-100 sm:py-16 md:py-20\"><div class=\"flex flex-col xl:flex-row\"><div class=\"relative flex-1 lg:flex-2\"><ul class=\"flex items-center w-full py-8\"><li class=\"flex-none pr-24\" style='background:url(\"/assets/images/backgrounds/learning-path-carousel.png\") repeat-x center right;background-size:200px 100px;transform:translateX(0%) translateZ(0)'><figure class=\"flex-none shadow-lg rounded-xl\" style=\"transform:rotate(-2deg) translateZ(0)\"><a class=\"flex w-[341px] flex-col rounded-lg shadow-lg z-10 relative overflow-hidden\" href=\"/learn/http-fundamentals\"><div class=\"flex-shrink-0 h-48 bg-white\"><span style=\"box-sizing:border-box;display:inline-block;overflow:hidden;width:initial;height:initial;background:none;opacity:1;border:0;margin:0;padding:0;position:relative;max-width:100%\"><span style=\"box-sizing:border-box;display:block;width:initial;height:initial;background:none;opacity:1;border:0;margin:0;padding:0;max-width:100%\"><img alt=\"\" aria-hidden=\"true\" src=\"data:image/svg+xml,%3csvg%20xmlns=%27http://www.w3.org/2000/svg%27%20version=%271.1%27%20width=%27341%27%20height=%27192%27/%3e\" style=\"display:block;max-width:100%;width:initial;height:initial;background:none;opacity:1;border:0;margin:0;padding:0\"/></span><img alt=\"Internet Fundamentals\" class=\"object-cover\" data-nimg=\"intrinsic\" decoding=\"async\" src=\"data:image/gif;base64,R0lGODlhAQABAIAAAAAAAP///yH5BAEAAAAALAAAAAABAAEAAAIBRAA7\" style=\"position:absolute;top:0;left:0;bottom:0;right:0;box-sizing:border-box;padding:0;border:none;margin:auto;display:block;width:0;height:0;min-width:100%;max-width:100%;min-height:100%;max-height:100%\"/><noscript><img alt=\"Internet Fundamentals\" class=\"object-cover\" data-nimg=\"intrinsic\" decoding=\"async\" loading=\"lazy\" src=\"//images.weserv.nl/?url=https%3A%2F%2Fcreator-assets.codedamn.com%2Fofficial-61897bfe60f1140008feb00d%2Fcourse-image%2F2022-01-07%2F03df39174d46fa8262901e4956581ca71ff4740d&amp;w=682&amp;q=75\" srcset=\"//images.weserv.nl/?url=https%3A%2F%2Fcreator-assets.codedamn.com%2Fofficial-61897bfe60f1140008feb00d%2Fcourse-image%2F2022-01-07%2F03df39174d46fa8262901e4956581ca71ff4740d&amp;w=682&amp;q=75 1x, //images.weserv.nl/?url=https%3A%2F%2Fcreator-assets.codedamn.com%2Fofficial-61897bfe60f1140008feb00d%2Fcourse-image%2F2022-01-07%2F03df39174d46fa8262901e4956581ca71ff4740d&amp;w=682&amp;q=75 2x\" style=\"position:absolute;top:0;left:0;bottom:0;right:0;box-sizing:border-box;padding:0;border:none;margin:auto;display:block;width:0;height:0;min-width:100%;max-width:100%;min-height:100%;max-height:100%\"/></noscript></span></div><div class=\"flex flex-col justify-between flex-1 p-6 bg-white\"><div class=\"flex-1\"><p class=\"text-sm font-medium text-indigo-600\">1<!-- -->h interactive course</p><p class=\"mt-2 text-xl font-semibold text-gray-900\">Internet Fundamentals</p></div></div></a></figure></li><li class=\"flex-none pr-24\" style='background:url(\"/assets/images/backgrounds/learning-path-carousel.png\") repeat-x center right;background-size:200px 100px;transform:translateX(0%) translateZ(0)'><figure class=\"flex-none shadow-lg rounded-xl\" style=\"transform:rotate(-1deg) translateZ(0)\"><a class=\"flex w-[341px] flex-col rounded-lg shadow-lg z-10 relative overflow-hidden\" href=\"/learn/html-css\"><div class=\"flex-shrink-0 h-48 bg-white\"><span style=\"box-sizing:border-box;display:inline-block;overflow:hidden;width:initial;height:initial;background:none;opacity:1;border:0;margin:0;padding:0;position:relative;max-width:100%\"><span style=\"box-sizing:border-box;display:block;width:initial;height:initial;background:none;opacity:1;border:0;margin:0;padding:0;max-width:100%\"><img alt=\"\" aria-hidden=\"true\" src=\"data:image/svg+xml,%3csvg%20xmlns=%27http://www.w3.org/2000/svg%27%20version=%271.1%27%20width=%27341%27%20height=%27192%27/%3e\" style=\"display:block;max-width:100%;width:initial;height:initial;background:none;opacity:1;border:0;margin:0;padding:0\"/></span><img alt=\"HTML/CSS Fundamentals\" class=\"object-cover\" data-nimg=\"intrinsic\" decoding=\"async\" src=\"data:image/gif;base64,R0lGODlhAQABAIAAAAAAAP///yH5BAEAAAAALAAAAAABAAEAAAIBRAA7\" style=\"position:absolute;top:0;left:0;bottom:0;right:0;box-sizing:border-box;padding:0;border:none;margin:auto;display:block;width:0;height:0;min-width:100%;max-width:100%;min-height:100%;max-height:100%\"/><noscript><img alt=\"HTML/CSS Fundamentals\" class=\"object-cover\" data-nimg=\"intrinsic\" decoding=\"async\" loading=\"lazy\" src=\"//images.weserv.nl/?url=https%3A%2F%2Fcreator-assets.codedamn.com%2Fcodedamn-5f1f31bbf8bab7fa6ddb6fdb%2Fcourse-image%2F2021-01-03%2Fc123c91e083997486778f8b36143a3d7ed2eb772&amp;w=682&amp;q=75\" srcset=\"//images.weserv.nl/?url=https%3A%2F%2Fcreator-assets.codedamn.com%2Fcodedamn-5f1f31bbf8bab7fa6ddb6fdb%2Fcourse-image%2F2021-01-03%2Fc123c91e083997486778f8b36143a3d7ed2eb772&amp;w=682&amp;q=75 1x, //images.weserv.nl/?url=https%3A%2F%2Fcreator-assets.codedamn.com%2Fcodedamn-5f1f31bbf8bab7fa6ddb6fdb%2Fcourse-image%2F2021-01-03%2Fc123c91e083997486778f8b36143a3d7ed2eb772&amp;w=682&amp;q=75 2x\" style=\"position:absolute;top:0;left:0;bottom:0;right:0;box-sizing:border-box;padding:0;border:none;margin:auto;display:block;width:0;height:0;min-width:100%;max-width:100%;min-height:100%;max-height:100%\"/></noscript></span></div><div class=\"flex flex-col justify-between flex-1 p-6 bg-white\"><div class=\"flex-1\"><p class=\"text-sm font-medium text-indigo-600\">6<!-- -->h interactive course</p><p class=\"mt-2 text-xl font-semibold text-gray-900\">HTML/CSS Fundamentals</p></div></div></a></figure></li><li class=\"flex-none pr-24\" style='background:url(\"/assets/images/backgrounds/learning-path-carousel.png\") repeat-x center right;background-size:200px 100px;transform:translateX(0%) translateZ(0)'><figure class=\"flex-none shadow-lg rounded-xl\" style=\"transform:rotate(-1deg) translateZ(0)\"><a class=\"flex w-[341px] flex-col rounded-lg shadow-lg z-10 relative overflow-hidden\" href=\"/learn/advanced-html-css\"><div class=\"flex-shrink-0 h-48 bg-white\"><span style=\"box-sizing:border-box;display:inline-block;overflow:hidden;width:initial;height:initial;background:none;opacity:1;border:0;margin:0;padding:0;position:relative;max-width:100%\"><span style=\"box-sizing:border-box;display:block;width:initial;height:initial;background:none;opacity:1;border:0;margin:0;padding:0;max-width:100%\"><img alt=\"\" aria-hidden=\"true\" src=\"data:image/svg+xml,%3csvg%20xmlns=%27http://www.w3.org/2000/svg%27%20version=%271.1%27%20width=%27341%27%20height=%27192%27/%3e\" style=\"display:block;max-width:100%;width:initial;height:initial;background:none;opacity:1;border:0;margin:0;padding:0\"/></span><img alt=\"Advanced HTML5/CSS3\" class=\"object-cover\" data-nimg=\"intrinsic\" decoding=\"async\" src=\"data:image/gif;base64,R0lGODlhAQABAIAAAAAAAP///yH5BAEAAAAALAAAAAABAAEAAAIBRAA7\" style=\"position:absolute;top:0;left:0;bottom:0;right:0;box-sizing:border-box;padding:0;border:none;margin:auto;display:block;width:0;height:0;min-width:100%;max-width:100%;min-height:100%;max-height:100%\"/><noscript><img alt=\"Advanced HTML5/CSS3\" class=\"object-cover\" data-nimg=\"intrinsic\" decoding=\"async\" loading=\"lazy\" src=\"//images.weserv.nl/?url=https%3A%2F%2Fcreator-assets.codedamn.com%2Fcodedamn-5f1f31bbf8bab7fa6ddb6fdb%2Fcourse-image%2F2020-12-13%2Fa7677c190458e60b38cdda552b88dadf7ad6d894&amp;w=682&amp;q=75\" srcset=\"//images.weserv.nl/?url=https%3A%2F%2Fcreator-assets.codedamn.com%2Fcodedamn-5f1f31bbf8bab7fa6ddb6fdb%2Fcourse-image%2F2020-12-13%2Fa7677c190458e60b38cdda552b88dadf7ad6d894&amp;w=682&amp;q=75 1x, //images.weserv.nl/?url=https%3A%2F%2Fcreator-assets.codedamn.com%2Fcodedamn-5f1f31bbf8bab7fa6ddb6fdb%2Fcourse-image%2F2020-12-13%2Fa7677c190458e60b38cdda552b88dadf7ad6d894&amp;w=682&amp;q=75 2x\" style=\"position:absolute;top:0;left:0;bottom:0;right:0;box-sizing:border-box;padding:0;border:none;margin:auto;display:block;width:0;height:0;min-width:100%;max-width:100%;min-height:100%;max-height:100%\"/></noscript></span></div><div class=\"flex flex-col justify-between flex-1 p-6 bg-white\"><div class=\"flex-1\"><p class=\"text-sm font-medium text-indigo-600\">7<!-- -->h interactive course</p><p class=\"mt-2 text-xl font-semibold text-gray-900\">Advanced HTML5/CSS3</p></div></div></a></figure></li><li class=\"flex-none pr-24\" style='background:url(\"/assets/images/backgrounds/learning-path-carousel.png\") repeat-x center right;background-size:200px 100px;transform:translateX(0%) translateZ(0)'><figure class=\"flex-none shadow-lg rounded-xl\" style=\"transform:rotate(-2deg) translateZ(0)\"><a class=\"flex w-[341px] flex-col rounded-lg shadow-lg z-10 relative overflow-hidden\" href=\"/learn/javascript-basics\"><div class=\"flex-shrink-0 h-48 bg-white\"><span style=\"box-sizing:border-box;display:inline-block;overflow:hidden;width:initial;height:initial;background:none;opacity:1;border:0;margin:0;padding:0;position:relative;max-width:100%\"><span style=\"box-sizing:border-box;display:block;width:initial;height:initial;background:none;opacity:1;border:0;margin:0;padding:0;max-width:100%\"><img alt=\"\" aria-hidden=\"true\" src=\"data:image/svg+xml,%3csvg%20xmlns=%27http://www.w3.org/2000/svg%27%20version=%271.1%27%20width=%27341%27%20height=%27192%27/%3e\" style=\"display:block;max-width:100%;width:initial;height:initial;background:none;opacity:1;border:0;margin:0;padding:0\"/></span><img alt=\"JavaScript Essentials\" class=\"object-cover\" data-nimg=\"intrinsic\" decoding=\"async\" src=\"data:image/gif;base64,R0lGODlhAQABAIAAAAAAAP///yH5BAEAAAAALAAAAAABAAEAAAIBRAA7\" style=\"position:absolute;top:0;left:0;bottom:0;right:0;box-sizing:border-box;padding:0;border:none;margin:auto;display:block;width:0;height:0;min-width:100%;max-width:100%;min-height:100%;max-height:100%\"/><noscript><img alt=\"JavaScript Essentials\" class=\"object-cover\" data-nimg=\"intrinsic\" decoding=\"async\" loading=\"lazy\" src=\"//images.weserv.nl/?url=https%3A%2F%2Fcreator-assets.codedamn.com%2Fofficial-61897bfe60f1140008feb00d%2Fcourse-image%2F2022-01-07%2F2009e08a0e315704a083b613799a03dba9626b02&amp;w=682&amp;q=75\" srcset=\"//images.weserv.nl/?url=https%3A%2F%2Fcreator-assets.codedamn.com%2Fofficial-61897bfe60f1140008feb00d%2Fcourse-image%2F2022-01-07%2F2009e08a0e315704a083b613799a03dba9626b02&amp;w=682&amp;q=75 1x, //images.weserv.nl/?url=https%3A%2F%2Fcreator-assets.codedamn.com%2Fofficial-61897bfe60f1140008feb00d%2Fcourse-image%2F2022-01-07%2F2009e08a0e315704a083b613799a03dba9626b02&amp;w=682&amp;q=75 2x\" style=\"position:absolute;top:0;left:0;bottom:0;right:0;box-sizing:border-box;padding:0;border:none;margin:auto;display:block;width:0;height:0;min-width:100%;max-width:100%;min-height:100%;max-height:100%\"/></noscript></span></div><div class=\"flex flex-col justify-between flex-1 p-6 bg-white\"><div class=\"flex-1\"><p class=\"text-sm font-medium text-indigo-600\">4<!-- -->h interactive course</p><p class=\"mt-2 text-xl font-semibold text-gray-900\">JavaScript Essentials</p></div></div></a></figure></li><li class=\"flex-none pr-24\" style='background:url(\"/assets/images/backgrounds/learning-path-carousel.png\") repeat-x center right;background-size:200px 100px;transform:translateX(0%) translateZ(0)'><figure class=\"flex-none shadow-lg rounded-xl\" style=\"transform:rotate(-1deg) translateZ(0)\"><a class=\"flex w-[341px] flex-col rounded-lg shadow-lg z-10 relative overflow-hidden\" href=\"/learn/advanced-practical-javascript\"><div class=\"flex-shrink-0 h-48 bg-white\"><span style=\"box-sizing:border-box;display:inline-block;overflow:hidden;width:initial;height:initial;background:none;opacity:1;border:0;margin:0;padding:0;position:relative;max-width:100%\"><span style=\"box-sizing:border-box;display:block;width:initial;height:initial;background:none;opacity:1;border:0;margin:0;padding:0;max-width:100%\"><img alt=\"\" aria-hidden=\"true\" src=\"data:image/svg+xml,%3csvg%20xmlns=%27http://www.w3.org/2000/svg%27%20version=%271.1%27%20width=%27341%27%20height=%27192%27/%3e\" style=\"display:block;max-width:100%;width:initial;height:initial;background:none;opacity:1;border:0;margin:0;padding:0\"/></span><img alt=\"Advanced Practical JavaScript\" class=\"object-cover\" data-nimg=\"intrinsic\" decoding=\"async\" src=\"data:image/gif;base64,R0lGODlhAQABAIAAAAAAAP///yH5BAEAAAAALAAAAAABAAEAAAIBRAA7\" style=\"position:absolute;top:0;left:0;bottom:0;right:0;box-sizing:border-box;padding:0;border:none;margin:auto;display:block;width:0;height:0;min-width:100%;max-width:100%;min-height:100%;max-height:100%\"/><noscript><img alt=\"Advanced Practical JavaScript\" class=\"object-cover\" data-nimg=\"intrinsic\" decoding=\"async\" loading=\"lazy\" src=\"//images.weserv.nl/?url=https%3A%2F%2Fcreator-assets.codedamn.com%2Fcodedamn-5f1f31bbf8bab7fa6ddb6fdb%2Fcourse-image%2F2021-03-30%2F3df684a6076cb24365869e3776276a6da0cff374&amp;w=682&amp;q=75\" srcset=\"//images.weserv.nl/?url=https%3A%2F%2Fcreator-assets.codedamn.com%2Fcodedamn-5f1f31bbf8bab7fa6ddb6fdb%2Fcourse-image%2F2021-03-30%2F3df684a6076cb24365869e3776276a6da0cff374&amp;w=682&amp;q=75 1x, //images.weserv.nl/?url=https%3A%2F%2Fcreator-assets.codedamn.com%2Fcodedamn-5f1f31bbf8bab7fa6ddb6fdb%2Fcourse-image%2F2021-03-30%2F3df684a6076cb24365869e3776276a6da0cff374&amp;w=682&amp;q=75 2x\" style=\"position:absolute;top:0;left:0;bottom:0;right:0;box-sizing:border-box;padding:0;border:none;margin:auto;display:block;width:0;height:0;min-width:100%;max-width:100%;min-height:100%;max-height:100%\"/></noscript></span></div><div class=\"flex flex-col justify-between flex-1 p-6 bg-white\"><div class=\"flex-1\"><p class=\"text-sm font-medium text-indigo-600\">4<!-- -->h interactive course</p><p class=\"mt-2 text-xl font-semibold text-gray-900\">Advanced Practical JavaScript</p></div></div></a></figure></li><li class=\"flex-none pr-24\" style='background:url(\"/assets/images/backgrounds/learning-path-carousel.png\") repeat-x center right;background-size:200px 100px;transform:translateX(0%) translateZ(0)'><figure class=\"flex-none shadow-lg rounded-xl\" style=\"transform:rotate(-1deg) translateZ(0)\"><a class=\"flex w-[341px] flex-col rounded-lg shadow-lg z-10 relative overflow-hidden\" href=\"/learn/chrome-devtools\"><div class=\"flex-shrink-0 h-48 bg-white\"><span style=\"box-sizing:border-box;display:inline-block;overflow:hidden;width:initial;height:initial;background:none;opacity:1;border:0;margin:0;padding:0;position:relative;max-width:100%\"><span style=\"box-sizing:border-box;display:block;width:initial;height:initial;background:none;opacity:1;border:0;margin:0;padding:0;max-width:100%\"><img alt=\"\" aria-hidden=\"true\" src=\"data:image/svg+xml,%3csvg%20xmlns=%27http://www.w3.org/2000/svg%27%20version=%271.1%27%20width=%27341%27%20height=%27192%27/%3e\" style=\"display:block;max-width:100%;width:initial;height:initial;background:none;opacity:1;border:0;margin:0;padding:0\"/></span><img alt=\"Using DevTools\" class=\"object-cover\" data-nimg=\"intrinsic\" decoding=\"async\" src=\"data:image/gif;base64,R0lGODlhAQABAIAAAAAAAP///yH5BAEAAAAALAAAAAABAAEAAAIBRAA7\" style=\"position:absolute;top:0;left:0;bottom:0;right:0;box-sizing:border-box;padding:0;border:none;margin:auto;display:block;width:0;height:0;min-width:100%;max-width:100%;min-height:100%;max-height:100%\"/><noscript><img alt=\"Using DevTools\" class=\"object-cover\" data-nimg=\"intrinsic\" decoding=\"async\" loading=\"lazy\" src=\"//images.weserv.nl/?url=https%3A%2F%2Fcreator-assets.codedamn.com%2Fcodedamn-5f1f31bbf8bab7fa6ddb6fdb%2Fcourse-image%2F2020-12-17%2F9da4a3303956afad548736dcdf4e2fa80c2d8fbd&amp;w=682&amp;q=75\" srcset=\"//images.weserv.nl/?url=https%3A%2F%2Fcreator-assets.codedamn.com%2Fcodedamn-5f1f31bbf8bab7fa6ddb6fdb%2Fcourse-image%2F2020-12-17%2F9da4a3303956afad548736dcdf4e2fa80c2d8fbd&amp;w=682&amp;q=75 1x, //images.weserv.nl/?url=https%3A%2F%2Fcreator-assets.codedamn.com%2Fcodedamn-5f1f31bbf8bab7fa6ddb6fdb%2Fcourse-image%2F2020-12-17%2F9da4a3303956afad548736dcdf4e2fa80c2d8fbd&amp;w=682&amp;q=75 2x\" style=\"position:absolute;top:0;left:0;bottom:0;right:0;box-sizing:border-box;padding:0;border:none;margin:auto;display:block;width:0;height:0;min-width:100%;max-width:100%;min-height:100%;max-height:100%\"/></noscript></span></div><div class=\"flex flex-col justify-between flex-1 p-6 bg-white\"><div class=\"flex-1\"><p class=\"text-sm font-medium text-indigo-600\">1<!-- -->h interactive course</p><p class=\"mt-2 text-xl font-semibold text-gray-900\">Using DevTools</p></div></div></a></figure></li><li class=\"flex-none pr-24\" style='background:url(\"/assets/images/backgrounds/learning-path-carousel.png\") repeat-x center right;background-size:200px 100px;transform:translateX(0%) translateZ(0)'><figure class=\"flex-none shadow-lg rounded-xl\" style=\"transform:rotate(-2deg) translateZ(0)\"><a class=\"flex w-[341px] flex-col rounded-lg shadow-lg z-10 relative overflow-hidden\" href=\"/learn/git-basics\"><div class=\"flex-shrink-0 h-48 bg-white\"><span style=\"box-sizing:border-box;display:inline-block;overflow:hidden;width:initial;height:initial;background:none;opacity:1;border:0;margin:0;padding:0;position:relative;max-width:100%\"><span style=\"box-sizing:border-box;display:block;width:initial;height:initial;background:none;opacity:1;border:0;margin:0;padding:0;max-width:100%\"><img alt=\"\" aria-hidden=\"true\" src=\"data:image/svg+xml,%3csvg%20xmlns=%27http://www.w3.org/2000/svg%27%20version=%271.1%27%20width=%27341%27%20height=%27192%27/%3e\" style=\"display:block;max-width:100%;width:initial;height:initial;background:none;opacity:1;border:0;margin:0;padding:0\"/></span><img alt=\"Version Control System\" class=\"object-cover\" data-nimg=\"intrinsic\" decoding=\"async\" src=\"data:image/gif;base64,R0lGODlhAQABAIAAAAAAAP///yH5BAEAAAAALAAAAAABAAEAAAIBRAA7\" style=\"position:absolute;top:0;left:0;bottom:0;right:0;box-sizing:border-box;padding:0;border:none;margin:auto;display:block;width:0;height:0;min-width:100%;max-width:100%;min-height:100%;max-height:100%\"/><noscript><img alt=\"Version Control System\" class=\"object-cover\" data-nimg=\"intrinsic\" decoding=\"async\" loading=\"lazy\" src=\"//images.weserv.nl/?url=https%3A%2F%2Fcreator-assets.codedamn.com%2Fanna-5f80c86a43938f0001ca2f0f%2Fcourse-image%2F2021-06-24%2Fb31f9f89fcb9601a79c0436a79d222685b2f8ec1&amp;w=682&amp;q=75\" srcset=\"//images.weserv.nl/?url=https%3A%2F%2Fcreator-assets.codedamn.com%2Fanna-5f80c86a43938f0001ca2f0f%2Fcourse-image%2F2021-06-24%2Fb31f9f89fcb9601a79c0436a79d222685b2f8ec1&amp;w=682&amp;q=75 1x, //images.weserv.nl/?url=https%3A%2F%2Fcreator-assets.codedamn.com%2Fanna-5f80c86a43938f0001ca2f0f%2Fcourse-image%2F2021-06-24%2Fb31f9f89fcb9601a79c0436a79d222685b2f8ec1&amp;w=682&amp;q=75 2x\" style=\"position:absolute;top:0;left:0;bottom:0;right:0;box-sizing:border-box;padding:0;border:none;margin:auto;display:block;width:0;height:0;min-width:100%;max-width:100%;min-height:100%;max-height:100%\"/></noscript></span></div><div class=\"flex flex-col justify-between flex-1 p-6 bg-white\"><div class=\"flex-1\"><p class=\"text-sm font-medium text-indigo-600\">2<!-- -->h interactive course</p><p class=\"mt-2 text-xl font-semibold text-gray-900\">Version Control System</p></div></div></a></figure></li><li class=\"flex-none pr-24\" style='background:url(\"/assets/images/backgrounds/learning-path-carousel.png\") repeat-x center right;background-size:200px 100px;transform:translateX(0%) translateZ(0)'><figure class=\"flex-none shadow-lg rounded-xl\" style=\"transform:rotate(-1deg) translateZ(0)\"><a class=\"flex w-[341px] flex-col rounded-lg shadow-lg z-10 relative overflow-hidden\" href=\"/learn/npm-basics\"><div class=\"flex-shrink-0 h-48 bg-white\"><span style=\"box-sizing:border-box;display:inline-block;overflow:hidden;width:initial;height:initial;background:none;opacity:1;border:0;margin:0;padding:0;position:relative;max-width:100%\"><span style=\"box-sizing:border-box;display:block;width:initial;height:initial;background:none;opacity:1;border:0;margin:0;padding:0;max-width:100%\"><img alt=\"\" aria-hidden=\"true\" src=\"data:image/svg+xml,%3csvg%20xmlns=%27http://www.w3.org/2000/svg%27%20version=%271.1%27%20width=%27341%27%20height=%27192%27/%3e\" style=\"display:block;max-width:100%;width:initial;height:initial;background:none;opacity:1;border:0;margin:0;padding:0\"/></span><img alt=\"NPM and Yarn\" class=\"object-cover\" data-nimg=\"intrinsic\" decoding=\"async\" src=\"data:image/gif;base64,R0lGODlhAQABAIAAAAAAAP///yH5BAEAAAAALAAAAAABAAEAAAIBRAA7\" style=\"position:absolute;top:0;left:0;bottom:0;right:0;box-sizing:border-box;padding:0;border:none;margin:auto;display:block;width:0;height:0;min-width:100%;max-width:100%;min-height:100%;max-height:100%\"/><noscript><img alt=\"NPM and Yarn\" class=\"object-cover\" data-nimg=\"intrinsic\" decoding=\"async\" loading=\"lazy\" src=\"//images.weserv.nl/?url=https%3A%2F%2Fcreator-assets.codedamn.com%2Fofficial-61897bfe60f1140008feb00d%2Fcourse-image%2F2022-01-07%2F4d62fd1545f387d87be143fb21866fc6777e0cb0&amp;w=682&amp;q=75\" srcset=\"//images.weserv.nl/?url=https%3A%2F%2Fcreator-assets.codedamn.com%2Fofficial-61897bfe60f1140008feb00d%2Fcourse-image%2F2022-01-07%2F4d62fd1545f387d87be143fb21866fc6777e0cb0&amp;w=682&amp;q=75 1x, //images.weserv.nl/?url=https%3A%2F%2Fcreator-assets.codedamn.com%2Fofficial-61897bfe60f1140008feb00d%2Fcourse-image%2F2022-01-07%2F4d62fd1545f387d87be143fb21866fc6777e0cb0&amp;w=682&amp;q=75 2x\" style=\"position:absolute;top:0;left:0;bottom:0;right:0;box-sizing:border-box;padding:0;border:none;margin:auto;display:block;width:0;height:0;min-width:100%;max-width:100%;min-height:100%;max-height:100%\"/></noscript></span></div><div class=\"flex flex-col justify-between flex-1 p-6 bg-white\"><div class=\"flex-1\"><p class=\"text-sm font-medium text-indigo-600\">2<!-- -->h interactive course</p><p class=\"mt-2 text-xl font-semibold text-gray-900\">NPM and Yarn</p></div></div></a></figure></li><li class=\"flex-none pr-24\" style='background:url(\"/assets/images/backgrounds/learning-path-carousel.png\") repeat-x center right;background-size:200px 100px;transform:translateX(0%) translateZ(0)'><figure class=\"flex-none shadow-lg rounded-xl\" style=\"transform:rotate(-1deg) translateZ(0)\"><a class=\"flex w-[341px] flex-col rounded-lg shadow-lg z-10 relative overflow-hidden\" href=\"/learn/reactjs\"><div class=\"flex-shrink-0 h-48 bg-white\"><span style=\"box-sizing:border-box;display:inline-block;overflow:hidden;width:initial;height:initial;background:none;opacity:1;border:0;margin:0;padding:0;position:relative;max-width:100%\"><span style=\"box-sizing:border-box;display:block;width:initial;height:initial;background:none;opacity:1;border:0;margin:0;padding:0;max-width:100%\"><img alt=\"\" aria-hidden=\"true\" src=\"data:image/svg+xml,%3csvg%20xmlns=%27http://www.w3.org/2000/svg%27%20version=%271.1%27%20width=%27341%27%20height=%27192%27/%3e\" style=\"display:block;max-width:100%;width:initial;height:initial;background:none;opacity:1;border:0;margin:0;padding:0\"/></span><img alt=\"React Fundamentals\" class=\"object-cover\" data-nimg=\"intrinsic\" decoding=\"async\" src=\"data:image/gif;base64,R0lGODlhAQABAIAAAAAAAP///yH5BAEAAAAALAAAAAABAAEAAAIBRAA7\" style=\"position:absolute;top:0;left:0;bottom:0;right:0;box-sizing:border-box;padding:0;border:none;margin:auto;display:block;width:0;height:0;min-width:100%;max-width:100%;min-height:100%;max-height:100%\"/><noscript><img alt=\"React Fundamentals\" class=\"object-cover\" data-nimg=\"intrinsic\" decoding=\"async\" loading=\"lazy\" src=\"//images.weserv.nl/?url=https%3A%2F%2Fcreator-assets.codedamn.com%2Fcodedamn-5f1f31bbf8bab7fa6ddb6fdb%2Fcourse-image%2F2021-07-17%2F25b1626b2104dde18715acd1e6cc54037cfd9a41&amp;w=682&amp;q=75\" srcset=\"//images.weserv.nl/?url=https%3A%2F%2Fcreator-assets.codedamn.com%2Fcodedamn-5f1f31bbf8bab7fa6ddb6fdb%2Fcourse-image%2F2021-07-17%2F25b1626b2104dde18715acd1e6cc54037cfd9a41&amp;w=682&amp;q=75 1x, //images.weserv.nl/?url=https%3A%2F%2Fcreator-assets.codedamn.com%2Fcodedamn-5f1f31bbf8bab7fa6ddb6fdb%2Fcourse-image%2F2021-07-17%2F25b1626b2104dde18715acd1e6cc54037cfd9a41&amp;w=682&amp;q=75 2x\" style=\"position:absolute;top:0;left:0;bottom:0;right:0;box-sizing:border-box;padding:0;border:none;margin:auto;display:block;width:0;height:0;min-width:100%;max-width:100%;min-height:100%;max-height:100%\"/></noscript></span></div><div class=\"flex flex-col justify-between flex-1 p-6 bg-white\"><div class=\"flex-1\"><p class=\"text-sm font-medium text-indigo-600\">5<!-- -->h interactive course</p><p class=\"mt-2 text-xl font-semibold text-gray-900\">React Fundamentals</p></div></div></a></figure></li><li class=\"flex-none pr-24\" style='background:url(\"/assets/images/backgrounds/learning-path-carousel.png\") repeat-x center right;background-size:200px 100px;transform:translateX(0%) translateZ(0)'><figure class=\"flex-none shadow-lg rounded-xl\" style=\"transform:rotate(-2deg) translateZ(0)\"><a class=\"flex w-[341px] flex-col rounded-lg shadow-lg z-10 relative overflow-hidden\" href=\"/learn/tailwind-css\"><div class=\"flex-shrink-0 h-48 bg-white\"><span style=\"box-sizing:border-box;display:inline-block;overflow:hidden;width:initial;height:initial;background:none;opacity:1;border:0;margin:0;padding:0;position:relative;max-width:100%\"><span style=\"box-sizing:border-box;display:block;width:initial;height:initial;background:none;opacity:1;border:0;margin:0;padding:0;max-width:100%\"><img alt=\"\" aria-hidden=\"true\" src=\"data:image/svg+xml,%3csvg%20xmlns=%27http://www.w3.org/2000/svg%27%20version=%271.1%27%20width=%27341%27%20height=%27192%27/%3e\" style=\"display:block;max-width:100%;width:initial;height:initial;background:none;opacity:1;border:0;margin:0;padding:0\"/></span><img alt=\"Tailwind CSS Fundamentals\" class=\"object-cover\" data-nimg=\"intrinsic\" decoding=\"async\" src=\"data:image/gif;base64,R0lGODlhAQABAIAAAAAAAP///yH5BAEAAAAALAAAAAABAAEAAAIBRAA7\" style=\"position:absolute;top:0;left:0;bottom:0;right:0;box-sizing:border-box;padding:0;border:none;margin:auto;display:block;width:0;height:0;min-width:100%;max-width:100%;min-height:100%;max-height:100%\"/><noscript><img alt=\"Tailwind CSS Fundamentals\" class=\"object-cover\" data-nimg=\"intrinsic\" decoding=\"async\" loading=\"lazy\" src=\"//images.weserv.nl/?url=https%3A%2F%2Fcreator-assets.codedamn.com%2Fofficial-61897bfe60f1140008feb00d%2Fcourse-image%2F2021-12-15%2F98f3f6e03fad0c570bb98b55bdf3e5b97ad1c815&amp;w=682&amp;q=75\" srcset=\"//images.weserv.nl/?url=https%3A%2F%2Fcreator-assets.codedamn.com%2Fofficial-61897bfe60f1140008feb00d%2Fcourse-image%2F2021-12-15%2F98f3f6e03fad0c570bb98b55bdf3e5b97ad1c815&amp;w=682&amp;q=75 1x, //images.weserv.nl/?url=https%3A%2F%2Fcreator-assets.codedamn.com%2Fofficial-61897bfe60f1140008feb00d%2Fcourse-image%2F2021-12-15%2F98f3f6e03fad0c570bb98b55bdf3e5b97ad1c815&amp;w=682&amp;q=75 2x\" style=\"position:absolute;top:0;left:0;bottom:0;right:0;box-sizing:border-box;padding:0;border:none;margin:auto;display:block;width:0;height:0;min-width:100%;max-width:100%;min-height:100%;max-height:100%\"/></noscript></span></div><div class=\"flex flex-col justify-between flex-1 p-6 bg-white\"><div class=\"flex-1\"><p class=\"text-sm font-medium text-indigo-600\">1<!-- -->h interactive course</p><p class=\"mt-2 text-xl font-semibold text-gray-900\">Tailwind CSS Fundamentals</p></div></div></a></figure></li><li class=\"flex-none pr-24\" style='background:url(\"/assets/images/backgrounds/learning-path-carousel.png\") repeat-x center right;background-size:200px 100px;transform:translateX(0%) translateZ(0)'><figure class=\"flex-none shadow-lg rounded-xl\" style=\"transform:rotate(-1deg) translateZ(0)\"><a class=\"flex w-[341px] flex-col rounded-lg shadow-lg z-10 relative overflow-hidden\" href=\"/learn/react-query\"><div class=\"flex-shrink-0 h-48 bg-white\"><span style=\"box-sizing:border-box;display:inline-block;overflow:hidden;width:initial;height:initial;background:none;opacity:1;border:0;margin:0;padding:0;position:relative;max-width:100%\"><span style=\"box-sizing:border-box;display:block;width:initial;height:initial;background:none;opacity:1;border:0;margin:0;padding:0;max-width:100%\"><img alt=\"\" aria-hidden=\"true\" src=\"data:image/svg+xml,%3csvg%20xmlns=%27http://www.w3.org/2000/svg%27%20version=%271.1%27%20width=%27341%27%20height=%27192%27/%3e\" style=\"display:block;max-width:100%;width:initial;height:initial;background:none;opacity:1;border:0;margin:0;padding:0\"/></span><img alt=\"React Query for network requests\" class=\"object-cover\" data-nimg=\"intrinsic\" decoding=\"async\" src=\"data:image/gif;base64,R0lGODlhAQABAIAAAAAAAP///yH5BAEAAAAALAAAAAABAAEAAAIBRAA7\" style=\"position:absolute;top:0;left:0;bottom:0;right:0;box-sizing:border-box;padding:0;border:none;margin:auto;display:block;width:0;height:0;min-width:100%;max-width:100%;min-height:100%;max-height:100%\"/><noscript><img alt=\"React Query for network requests\" class=\"object-cover\" data-nimg=\"intrinsic\" decoding=\"async\" loading=\"lazy\" src=\"//images.weserv.nl/?url=https%3A%2F%2Fcreator-assets.codedamn.com%2Fcodedamn-5f1f31bbf8bab7fa6ddb6fdb%2Fcourse-image%2F2021-05-29%2F30bae18822319dc0a216d46b69e293db01da6c00&amp;w=682&amp;q=75\" srcset=\"//images.weserv.nl/?url=https%3A%2F%2Fcreator-assets.codedamn.com%2Fcodedamn-5f1f31bbf8bab7fa6ddb6fdb%2Fcourse-image%2F2021-05-29%2F30bae18822319dc0a216d46b69e293db01da6c00&amp;w=682&amp;q=75 1x, //images.weserv.nl/?url=https%3A%2F%2Fcreator-assets.codedamn.com%2Fcodedamn-5f1f31bbf8bab7fa6ddb6fdb%2Fcourse-image%2F2021-05-29%2F30bae18822319dc0a216d46b69e293db01da6c00&amp;w=682&amp;q=75 2x\" style=\"position:absolute;top:0;left:0;bottom:0;right:0;box-sizing:border-box;padding:0;border:none;margin:auto;display:block;width:0;height:0;min-width:100%;max-width:100%;min-height:100%;max-height:100%\"/></noscript></span></div><div class=\"flex flex-col justify-between flex-1 p-6 bg-white\"><div class=\"flex-1\"><p class=\"text-sm font-medium text-indigo-600\">2<!-- -->h interactive course</p><p class=\"mt-2 text-xl font-semibold text-gray-900\">React Query for network requests</p></div></div></a></figure></li><li class=\"flex-none pr-24\" style='background:url(\"/assets/images/backgrounds/learning-path-carousel.png\") repeat-x center right;background-size:200px 100px;transform:translateX(0%) translateZ(0)'><figure class=\"flex-none shadow-lg rounded-xl\" style=\"transform:rotate(-1deg) translateZ(0)\"><a class=\"flex w-[341px] flex-col rounded-lg shadow-lg z-10 relative overflow-hidden\" href=\"/learn/advanced-react-hooks\"><div class=\"flex-shrink-0 h-48 bg-white\"><span style=\"box-sizing:border-box;display:inline-block;overflow:hidden;width:initial;height:initial;background:none;opacity:1;border:0;margin:0;padding:0;position:relative;max-width:100%\"><span style=\"box-sizing:border-box;display:block;width:initial;height:initial;background:none;opacity:1;border:0;margin:0;padding:0;max-width:100%\"><img alt=\"\" aria-hidden=\"true\" src=\"data:image/svg+xml,%3csvg%20xmlns=%27http://www.w3.org/2000/svg%27%20version=%271.1%27%20width=%27341%27%20height=%27192%27/%3e\" style=\"display:block;max-width:100%;width:initial;height:initial;background:none;opacity:1;border:0;margin:0;padding:0\"/></span><img alt=\"Advanced React Hooks\" class=\"object-cover\" data-nimg=\"intrinsic\" decoding=\"async\" src=\"data:image/gif;base64,R0lGODlhAQABAIAAAAAAAP///yH5BAEAAAAALAAAAAABAAEAAAIBRAA7\" style=\"position:absolute;top:0;left:0;bottom:0;right:0;box-sizing:border-box;padding:0;border:none;margin:auto;display:block;width:0;height:0;min-width:100%;max-width:100%;min-height:100%;max-height:100%\"/><noscript><img alt=\"Advanced React Hooks\" class=\"object-cover\" data-nimg=\"intrinsic\" decoding=\"async\" loading=\"lazy\" src=\"//images.weserv.nl/?url=https%3A%2F%2Fcreator-assets.codedamn.com%2Fcodedamn-5f1f31bbf8bab7fa6ddb6fdb%2Fcourse-image%2F2021-01-27%2F01122c407359d3fb2dae3a48b35412c659639e52&amp;w=682&amp;q=75\" srcset=\"//images.weserv.nl/?url=https%3A%2F%2Fcreator-assets.codedamn.com%2Fcodedamn-5f1f31bbf8bab7fa6ddb6fdb%2Fcourse-image%2F2021-01-27%2F01122c407359d3fb2dae3a48b35412c659639e52&amp;w=682&amp;q=75 1x, //images.weserv.nl/?url=https%3A%2F%2Fcreator-assets.codedamn.com%2Fcodedamn-5f1f31bbf8bab7fa6ddb6fdb%2Fcourse-image%2F2021-01-27%2F01122c407359d3fb2dae3a48b35412c659639e52&amp;w=682&amp;q=75 2x\" style=\"position:absolute;top:0;left:0;bottom:0;right:0;box-sizing:border-box;padding:0;border:none;margin:auto;display:block;width:0;height:0;min-width:100%;max-width:100%;min-height:100%;max-height:100%\"/></noscript></span></div><div class=\"flex flex-col justify-between flex-1 p-6 bg-white\"><div class=\"flex-1\"><p class=\"text-sm font-medium text-indigo-600\">2<!-- -->h interactive course</p><p class=\"mt-2 text-xl font-semibold text-gray-900\">Advanced React Hooks</p></div></div></a></figure></li><li class=\"flex-none pr-24\" style='background:url(\"/assets/images/backgrounds/learning-path-carousel.png\") repeat-x center right;background-size:200px 100px;transform:translateX(0%) translateZ(0)'><figure class=\"flex-none shadow-lg rounded-xl\" style=\"transform:rotate(-2deg) translateZ(0)\"><a class=\"flex w-[341px] flex-col rounded-lg shadow-lg z-10 relative overflow-hidden\" href=\"/learn/advanced-react-concepts\"><div class=\"flex-shrink-0 h-48 bg-white\"><span style=\"box-sizing:border-box;display:inline-block;overflow:hidden;width:initial;height:initial;background:none;opacity:1;border:0;margin:0;padding:0;position:relative;max-width:100%\"><span style=\"box-sizing:border-box;display:block;width:initial;height:initial;background:none;opacity:1;border:0;margin:0;padding:0;max-width:100%\"><img alt=\"\" aria-hidden=\"true\" src=\"data:image/svg+xml,%3csvg%20xmlns=%27http://www.w3.org/2000/svg%27%20version=%271.1%27%20width=%27341%27%20height=%27192%27/%3e\" style=\"display:block;max-width:100%;width:initial;height:initial;background:none;opacity:1;border:0;margin:0;padding:0\"/></span><img alt=\"Advanced React Concepts\" class=\"object-cover\" data-nimg=\"intrinsic\" decoding=\"async\" src=\"data:image/gif;base64,R0lGODlhAQABAIAAAAAAAP///yH5BAEAAAAALAAAAAABAAEAAAIBRAA7\" style=\"position:absolute;top:0;left:0;bottom:0;right:0;box-sizing:border-box;padding:0;border:none;margin:auto;display:block;width:0;height:0;min-width:100%;max-width:100%;min-height:100%;max-height:100%\"/><noscript><img alt=\"Advanced React Concepts\" class=\"object-cover\" data-nimg=\"intrinsic\" decoding=\"async\" loading=\"lazy\" src=\"//images.weserv.nl/?url=https%3A%2F%2Fcreator-assets.codedamn.com%2Fcodedamn-5f1f31bbf8bab7fa6ddb6fdb%2Fcourse-image%2F2021-02-05%2F17936875d2e5f4368ea3849c955a5b4f6d30001e&amp;w=682&amp;q=75\" srcset=\"//images.weserv.nl/?url=https%3A%2F%2Fcreator-assets.codedamn.com%2Fcodedamn-5f1f31bbf8bab7fa6ddb6fdb%2Fcourse-image%2F2021-02-05%2F17936875d2e5f4368ea3849c955a5b4f6d30001e&amp;w=682&amp;q=75 1x, //images.weserv.nl/?url=https%3A%2F%2Fcreator-assets.codedamn.com%2Fcodedamn-5f1f31bbf8bab7fa6ddb6fdb%2Fcourse-image%2F2021-02-05%2F17936875d2e5f4368ea3849c955a5b4f6d30001e&amp;w=682&amp;q=75 2x\" style=\"position:absolute;top:0;left:0;bottom:0;right:0;box-sizing:border-box;padding:0;border:none;margin:auto;display:block;width:0;height:0;min-width:100%;max-width:100%;min-height:100%;max-height:100%\"/></noscript></span></div><div class=\"flex flex-col justify-between flex-1 p-6 bg-white\"><div class=\"flex-1\"><p class=\"text-sm font-medium text-indigo-600\">1<!-- -->h interactive course</p><p class=\"mt-2 text-xl font-semibold text-gray-900\">Advanced React Concepts</p></div></div></a></figure></li><li class=\"flex-none pr-24\" style='background:url(\"/assets/images/backgrounds/learning-path-carousel.png\") repeat-x center right;background-size:200px 100px;transform:translateX(0%) translateZ(0)'><figure class=\"flex-none shadow-lg rounded-xl\" style=\"transform:rotate(-1deg) translateZ(0)\"><a class=\"flex w-[341px] flex-col rounded-lg shadow-lg z-10 relative overflow-hidden\" href=\"/learn/reactjs-projects\"><div class=\"flex-shrink-0 h-48 bg-white\"><span style=\"box-sizing:border-box;display:inline-block;overflow:hidden;width:initial;height:initial;background:none;opacity:1;border:0;margin:0;padding:0;position:relative;max-width:100%\"><span style=\"box-sizing:border-box;display:block;width:initial;height:initial;background:none;opacity:1;border:0;margin:0;padding:0;max-width:100%\"><img alt=\"\" aria-hidden=\"true\" src=\"data:image/svg+xml,%3csvg%20xmlns=%27http://www.w3.org/2000/svg%27%20version=%271.1%27%20width=%27341%27%20height=%27192%27/%3e\" style=\"display:block;max-width:100%;width:initial;height:initial;background:none;opacity:1;border:0;margin:0;padding:0\"/></span><img alt=\"5 React Projects\" class=\"object-cover\" data-nimg=\"intrinsic\" decoding=\"async\" src=\"data:image/gif;base64,R0lGODlhAQABAIAAAAAAAP///yH5BAEAAAAALAAAAAABAAEAAAIBRAA7\" style=\"position:absolute;top:0;left:0;bottom:0;right:0;box-sizing:border-box;padding:0;border:none;margin:auto;display:block;width:0;height:0;min-width:100%;max-width:100%;min-height:100%;max-height:100%\"/><noscript><img alt=\"5 React Projects\" class=\"object-cover\" data-nimg=\"intrinsic\" decoding=\"async\" loading=\"lazy\" src=\"//images.weserv.nl/?url=https%3A%2F%2Fcreator-assets.codedamn.com%2FPedroTech-5fac1d3c744baf0001c16847%2Fcourse-image%2F2021-07-12%2Fe5286385e1eabedf6975b76ecf1d7abc89c862b3&amp;w=682&amp;q=75\" srcset=\"//images.weserv.nl/?url=https%3A%2F%2Fcreator-assets.codedamn.com%2FPedroTech-5fac1d3c744baf0001c16847%2Fcourse-image%2F2021-07-12%2Fe5286385e1eabedf6975b76ecf1d7abc89c862b3&amp;w=682&amp;q=75 1x, //images.weserv.nl/?url=https%3A%2F%2Fcreator-assets.codedamn.com%2FPedroTech-5fac1d3c744baf0001c16847%2Fcourse-image%2F2021-07-12%2Fe5286385e1eabedf6975b76ecf1d7abc89c862b3&amp;w=682&amp;q=75 2x\" style=\"position:absolute;top:0;left:0;bottom:0;right:0;box-sizing:border-box;padding:0;border:none;margin:auto;display:block;width:0;height:0;min-width:100%;max-width:100%;min-height:100%;max-height:100%\"/></noscript></span></div><div class=\"flex flex-col justify-between flex-1 p-6 bg-white\"><div class=\"flex-1\"><p class=\"text-sm font-medium text-indigo-600\">3<!-- -->h interactive course</p><p class=\"mt-2 text-xl font-semibold text-gray-900\">5 React Projects</p></div></div></a></figure></li><li class=\"flex-none pr-24\" style='background:url(\"/assets/images/backgrounds/learning-path-carousel.png\") repeat-x center right;background-size:200px 100px;transform:translateX(0%) translateZ(0)'><figure class=\"flex-none shadow-lg rounded-xl\" style=\"transform:rotate(-1deg) translateZ(0)\"><a class=\"flex w-[341px] flex-col rounded-lg shadow-lg z-10 relative overflow-hidden\" href=\"/learn/advanced-theoritical-js\"><div class=\"flex-shrink-0 h-48 bg-white\"><span style=\"box-sizing:border-box;display:inline-block;overflow:hidden;width:initial;height:initial;background:none;opacity:1;border:0;margin:0;padding:0;position:relative;max-width:100%\"><span style=\"box-sizing:border-box;display:block;width:initial;height:initial;background:none;opacity:1;border:0;margin:0;padding:0;max-width:100%\"><img alt=\"\" aria-hidden=\"true\" src=\"data:image/svg+xml,%3csvg%20xmlns=%27http://www.w3.org/2000/svg%27%20version=%271.1%27%20width=%27341%27%20height=%27192%27/%3e\" style=\"display:block;max-width:100%;width:initial;height:initial;background:none;opacity:1;border:0;margin:0;padding:0\"/></span><img alt=\"Advanced Theoretical JavaScript\" class=\"object-cover\" data-nimg=\"intrinsic\" decoding=\"async\" src=\"data:image/gif;base64,R0lGODlhAQABAIAAAAAAAP///yH5BAEAAAAALAAAAAABAAEAAAIBRAA7\" style=\"position:absolute;top:0;left:0;bottom:0;right:0;box-sizing:border-box;padding:0;border:none;margin:auto;display:block;width:0;height:0;min-width:100%;max-width:100%;min-height:100%;max-height:100%\"/><noscript><img alt=\"Advanced Theoretical JavaScript\" class=\"object-cover\" data-nimg=\"intrinsic\" decoding=\"async\" loading=\"lazy\" src=\"//images.weserv.nl/?url=https%3A%2F%2Fcreator-assets.codedamn.com%2Fcodedamn-5f1f31bbf8bab7fa6ddb6fdb%2Fcourse-image%2F2022-01-12%2Fbe74358e067b85d0edd0888dcec275212dfbb5ba&amp;w=682&amp;q=75\" srcset=\"//images.weserv.nl/?url=https%3A%2F%2Fcreator-assets.codedamn.com%2Fcodedamn-5f1f31bbf8bab7fa6ddb6fdb%2Fcourse-image%2F2022-01-12%2Fbe74358e067b85d0edd0888dcec275212dfbb5ba&amp;w=682&amp;q=75 1x, //images.weserv.nl/?url=https%3A%2F%2Fcreator-assets.codedamn.com%2Fcodedamn-5f1f31bbf8bab7fa6ddb6fdb%2Fcourse-image%2F2022-01-12%2Fbe74358e067b85d0edd0888dcec275212dfbb5ba&amp;w=682&amp;q=75 2x\" style=\"position:absolute;top:0;left:0;bottom:0;right:0;box-sizing:border-box;padding:0;border:none;margin:auto;display:block;width:0;height:0;min-width:100%;max-width:100%;min-height:100%;max-height:100%\"/></noscript></span></div><div class=\"flex flex-col justify-between flex-1 p-6 bg-white\"><div class=\"flex-1\"><p class=\"text-sm font-medium text-indigo-600\">2<!-- -->h interactive course</p><p class=\"mt-2 text-xl font-semibold text-gray-900\">Advanced Theoretical JavaScript</p></div></div></a></figure></li><li class=\"flex-none pr-24\" style='background:url(\"/assets/images/backgrounds/learning-path-carousel.png\") repeat-x center right;background-size:200px 100px;transform:translateX(0%) translateZ(0)'><figure class=\"flex-none shadow-lg rounded-xl\" style=\"transform:rotate(-2deg) translateZ(0)\"><a class=\"flex w-[341px] flex-col rounded-lg shadow-lg z-10 relative overflow-hidden\" href=\"/learn/testing-with-cypress\"><div class=\"flex-shrink-0 h-48 bg-white\"><span style=\"box-sizing:border-box;display:inline-block;overflow:hidden;width:initial;height:initial;background:none;opacity:1;border:0;margin:0;padding:0;position:relative;max-width:100%\"><span style=\"box-sizing:border-box;display:block;width:initial;height:initial;background:none;opacity:1;border:0;margin:0;padding:0;max-width:100%\"><img alt=\"\" aria-hidden=\"true\" src=\"data:image/svg+xml,%3csvg%20xmlns=%27http://www.w3.org/2000/svg%27%20version=%271.1%27%20width=%27341%27%20height=%27192%27/%3e\" style=\"display:block;max-width:100%;width:initial;height:initial;background:none;opacity:1;border:0;margin:0;padding:0\"/></span><img alt=\"Testing Code with Cypress\" class=\"object-cover\" data-nimg=\"intrinsic\" decoding=\"async\" src=\"data:image/gif;base64,R0lGODlhAQABAIAAAAAAAP///yH5BAEAAAAALAAAAAABAAEAAAIBRAA7\" style=\"position:absolute;top:0;left:0;bottom:0;right:0;box-sizing:border-box;padding:0;border:none;margin:auto;display:block;width:0;height:0;min-width:100%;max-width:100%;min-height:100%;max-height:100%\"/><noscript><img alt=\"Testing Code with Cypress\" class=\"object-cover\" data-nimg=\"intrinsic\" decoding=\"async\" loading=\"lazy\" src=\"//images.weserv.nl/?url=https%3A%2F%2Fcreator-assets.codedamn.com%2Fcodedamn-5f1f31bbf8bab7fa6ddb6fdb%2Fcourse-image%2Fef41b8ec4f4667cba30ba2f45b6aa45cce1b0aaa&amp;w=682&amp;q=75\" srcset=\"//images.weserv.nl/?url=https%3A%2F%2Fcreator-assets.codedamn.com%2Fcodedamn-5f1f31bbf8bab7fa6ddb6fdb%2Fcourse-image%2Fef41b8ec4f4667cba30ba2f45b6aa45cce1b0aaa&amp;w=682&amp;q=75 1x, //images.weserv.nl/?url=https%3A%2F%2Fcreator-assets.codedamn.com%2Fcodedamn-5f1f31bbf8bab7fa6ddb6fdb%2Fcourse-image%2Fef41b8ec4f4667cba30ba2f45b6aa45cce1b0aaa&amp;w=682&amp;q=75 2x\" style=\"position:absolute;top:0;left:0;bottom:0;right:0;box-sizing:border-box;padding:0;border:none;margin:auto;display:block;width:0;height:0;min-width:100%;max-width:100%;min-height:100%;max-height:100%\"/></noscript></span></div><div class=\"flex flex-col justify-between flex-1 p-6 bg-white\"><div class=\"flex-1\"><p class=\"text-sm font-medium text-indigo-600\">2<!-- -->h interactive course</p><p class=\"mt-2 text-xl font-semibold text-gray-900\">Testing Code with Cypress</p></div></div></a></figure></li><li class=\"flex-none pr-24\" style='background:url(\"/assets/images/backgrounds/learning-path-carousel.png\") repeat-x center right;background-size:200px 100px;transform:translateX(0%) translateZ(0)'><figure class=\"flex-none shadow-lg rounded-xl\" style=\"transform:rotate(-1deg) translateZ(0)\"><a class=\"flex w-[341px] flex-col rounded-lg shadow-lg z-10 relative overflow-hidden\" href=\"/learn\"><div class=\"flex-shrink-0 h-48 bg-white\"><span style=\"box-sizing:border-box;display:inline-block;overflow:hidden;width:initial;height:initial;background:none;opacity:1;border:0;margin:0;padding:0;position:relative;max-width:100%\"><span style=\"box-sizing:border-box;display:block;width:initial;height:initial;background:none;opacity:1;border:0;margin:0;padding:0;max-width:100%\"><img alt=\"\" aria-hidden=\"true\" src=\"data:image/svg+xml,%3csvg%20xmlns=%27http://www.w3.org/2000/svg%27%20version=%271.1%27%20width=%27341%27%20height=%27192%27/%3e\" style=\"display:block;max-width:100%;width:initial;height:initial;background:none;opacity:1;border:0;margin:0;padding:0\"/></span><img alt=\"Frontend Certification Exam\" class=\"object-cover\" data-nimg=\"intrinsic\" decoding=\"async\" src=\"data:image/gif;base64,R0lGODlhAQABAIAAAAAAAP///yH5BAEAAAAALAAAAAABAAEAAAIBRAA7\" style=\"position:absolute;top:0;left:0;bottom:0;right:0;box-sizing:border-box;padding:0;border:none;margin:auto;display:block;width:0;height:0;min-width:100%;max-width:100%;min-height:100%;max-height:100%\"/><noscript><img alt=\"Frontend Certification Exam\" class=\"object-cover\" data-nimg=\"intrinsic\" decoding=\"async\" loading=\"lazy\" src=\"//images.weserv.nl/?url=https%3A%2F%2Fimagegen.codedamn.com%2FCOMING%2520SOON.png%3Ftheme%3Ddark&amp;w=682&amp;q=75\" srcset=\"//images.weserv.nl/?url=https%3A%2F%2Fimagegen.codedamn.com%2FCOMING%2520SOON.png%3Ftheme%3Ddark&amp;w=682&amp;q=75 1x, //images.weserv.nl/?url=https%3A%2F%2Fimagegen.codedamn.com%2FCOMING%2520SOON.png%3Ftheme%3Ddark&amp;w=682&amp;q=75 2x\" style=\"position:absolute;top:0;left:0;bottom:0;right:0;box-sizing:border-box;padding:0;border:none;margin:auto;display:block;width:0;height:0;min-width:100%;max-width:100%;min-height:100%;max-height:100%\"/></noscript></span></div><div class=\"flex flex-col justify-between flex-1 p-6 bg-white\"><div class=\"flex-1\"><p class=\"text-sm font-medium text-indigo-600\">1<!-- -->h interactive course</p><p class=\"mt-2 text-xl font-semibold text-gray-900\">Frontend Certification Exam</p></div></div></a></figure></li><li class=\"flex-none pr-24\" style='background:url(\"/assets/images/backgrounds/learning-path-carousel.png\") repeat-x center right;background-size:200px 100px;transform:translateX(0%) translateZ(0)'><figure class=\"flex-none shadow-lg rounded-xl\" style=\"transform:rotate(-1deg) translateZ(0)\"><a class=\"flex w-[341px] flex-col rounded-lg shadow-lg z-10 relative overflow-hidden\" href=\"/learn/linux-cli-fundamentals\"><div class=\"flex-shrink-0 h-48 bg-white\"><span style=\"box-sizing:border-box;display:inline-block;overflow:hidden;width:initial;height:initial;background:none;opacity:1;border:0;margin:0;padding:0;position:relative;max-width:100%\"><span style=\"box-sizing:border-box;display:block;width:initial;height:initial;background:none;opacity:1;border:0;margin:0;padding:0;max-width:100%\"><img alt=\"\" aria-hidden=\"true\" src=\"data:image/svg+xml,%3csvg%20xmlns=%27http://www.w3.org/2000/svg%27%20version=%271.1%27%20width=%27341%27%20height=%27192%27/%3e\" style=\"display:block;max-width:100%;width:initial;height:initial;background:none;opacity:1;border:0;margin:0;padding:0\"/></span><img alt=\"Linux Fundamentals\" class=\"object-cover\" data-nimg=\"intrinsic\" decoding=\"async\" src=\"data:image/gif;base64,R0lGODlhAQABAIAAAAAAAP///yH5BAEAAAAALAAAAAABAAEAAAIBRAA7\" style=\"position:absolute;top:0;left:0;bottom:0;right:0;box-sizing:border-box;padding:0;border:none;margin:auto;display:block;width:0;height:0;min-width:100%;max-width:100%;min-height:100%;max-height:100%\"/><noscript><img alt=\"Linux Fundamentals\" class=\"object-cover\" data-nimg=\"intrinsic\" decoding=\"async\" loading=\"lazy\" src=\"//images.weserv.nl/?url=https%3A%2F%2Fcreator-assets.codedamn.com%2Fcodedamn-5f1f31bbf8bab7fa6ddb6fdb%2Fcourse-image%2F2021-07-05%2F17b23f1a50d8a9d873362c51300931d13fb5454e&amp;w=682&amp;q=75\" srcset=\"//images.weserv.nl/?url=https%3A%2F%2Fcreator-assets.codedamn.com%2Fcodedamn-5f1f31bbf8bab7fa6ddb6fdb%2Fcourse-image%2F2021-07-05%2F17b23f1a50d8a9d873362c51300931d13fb5454e&amp;w=682&amp;q=75 1x, //images.weserv.nl/?url=https%3A%2F%2Fcreator-assets.codedamn.com%2Fcodedamn-5f1f31bbf8bab7fa6ddb6fdb%2Fcourse-image%2F2021-07-05%2F17b23f1a50d8a9d873362c51300931d13fb5454e&amp;w=682&amp;q=75 2x\" style=\"position:absolute;top:0;left:0;bottom:0;right:0;box-sizing:border-box;padding:0;border:none;margin:auto;display:block;width:0;height:0;min-width:100%;max-width:100%;min-height:100%;max-height:100%\"/></noscript></span></div><div class=\"flex flex-col justify-between flex-1 p-6 bg-white\"><div class=\"flex-1\"><p class=\"text-sm font-medium text-indigo-600\">2<!-- -->h interactive course</p><p class=\"mt-2 text-xl font-semibold text-gray-900\">Linux Fundamentals</p></div></div></a></figure></li><li class=\"flex-none pr-24\" style='background:url(\"/assets/images/backgrounds/learning-path-carousel.png\") repeat-x center right;background-size:200px 100px;transform:translateX(0%) translateZ(0)'><figure class=\"flex-none shadow-lg rounded-xl\" style=\"transform:rotate(-2deg) translateZ(0)\"><a class=\"flex w-[341px] flex-col rounded-lg shadow-lg z-10 relative overflow-hidden\" href=\"/learn/nodejs-fundamentals\"><div class=\"flex-shrink-0 h-48 bg-white\"><span style=\"box-sizing:border-box;display:inline-block;overflow:hidden;width:initial;height:initial;background:none;opacity:1;border:0;margin:0;padding:0;position:relative;max-width:100%\"><span style=\"box-sizing:border-box;display:block;width:initial;height:initial;background:none;opacity:1;border:0;margin:0;padding:0;max-width:100%\"><img alt=\"\" aria-hidden=\"true\" src=\"data:image/svg+xml,%3csvg%20xmlns=%27http://www.w3.org/2000/svg%27%20version=%271.1%27%20width=%27341%27%20height=%27192%27/%3e\" style=\"display:block;max-width:100%;width:initial;height:initial;background:none;opacity:1;border:0;margin:0;padding:0\"/></span><img alt=\"Node.js Fundamentals\" class=\"object-cover\" data-nimg=\"intrinsic\" decoding=\"async\" src=\"data:image/gif;base64,R0lGODlhAQABAIAAAAAAAP///yH5BAEAAAAALAAAAAABAAEAAAIBRAA7\" style=\"position:absolute;top:0;left:0;bottom:0;right:0;box-sizing:border-box;padding:0;border:none;margin:auto;display:block;width:0;height:0;min-width:100%;max-width:100%;min-height:100%;max-height:100%\"/><noscript><img alt=\"Node.js Fundamentals\" class=\"object-cover\" data-nimg=\"intrinsic\" decoding=\"async\" loading=\"lazy\" src=\"//images.weserv.nl/?url=https%3A%2F%2Fcreator-assets.codedamn.com%2Fcodedamn-5f1f31bbf8bab7fa6ddb6fdb%2Fcourse-image%2F2022-01-12%2Ff00d84f9e128f7296165d493222fdb2f5cccc050&amp;w=682&amp;q=75\" srcset=\"//images.weserv.nl/?url=https%3A%2F%2Fcreator-assets.codedamn.com%2Fcodedamn-5f1f31bbf8bab7fa6ddb6fdb%2Fcourse-image%2F2022-01-12%2Ff00d84f9e128f7296165d493222fdb2f5cccc050&amp;w=682&amp;q=75 1x, //images.weserv.nl/?url=https%3A%2F%2Fcreator-assets.codedamn.com%2Fcodedamn-5f1f31bbf8bab7fa6ddb6fdb%2Fcourse-image%2F2022-01-12%2Ff00d84f9e128f7296165d493222fdb2f5cccc050&amp;w=682&amp;q=75 2x\" style=\"position:absolute;top:0;left:0;bottom:0;right:0;box-sizing:border-box;padding:0;border:none;margin:auto;display:block;width:0;height:0;min-width:100%;max-width:100%;min-height:100%;max-height:100%\"/></noscript></span></div><div class=\"flex flex-col justify-between flex-1 p-6 bg-white\"><div class=\"flex-1\"><p class=\"text-sm font-medium text-indigo-600\">1<!-- -->h interactive course</p><p class=\"mt-2 text-xl font-semibold text-gray-900\">Node.js Fundamentals</p></div></div></a></figure></li><li class=\"flex-none pr-24\" style='background:url(\"/assets/images/backgrounds/learning-path-carousel.png\") repeat-x center right;background-size:200px 100px;transform:translateX(0%) translateZ(0)'><figure class=\"flex-none shadow-lg rounded-xl\" style=\"transform:rotate(-1deg) translateZ(0)\"><a class=\"flex w-[341px] flex-col rounded-lg shadow-lg z-10 relative overflow-hidden\" href=\"/learn/advanced-node\"><div class=\"flex-shrink-0 h-48 bg-white\"><span style=\"box-sizing:border-box;display:inline-block;overflow:hidden;width:initial;height:initial;background:none;opacity:1;border:0;margin:0;padding:0;position:relative;max-width:100%\"><span style=\"box-sizing:border-box;display:block;width:initial;height:initial;background:none;opacity:1;border:0;margin:0;padding:0;max-width:100%\"><img alt=\"\" aria-hidden=\"true\" src=\"data:image/svg+xml,%3csvg%20xmlns=%27http://www.w3.org/2000/svg%27%20version=%271.1%27%20width=%27341%27%20height=%27192%27/%3e\" style=\"display:block;max-width:100%;width:initial;height:initial;background:none;opacity:1;border:0;margin:0;padding:0\"/></span><img alt=\"Advanced Node.js Concepts\" class=\"object-cover\" data-nimg=\"intrinsic\" decoding=\"async\" src=\"data:image/gif;base64,R0lGODlhAQABAIAAAAAAAP///yH5BAEAAAAALAAAAAABAAEAAAIBRAA7\" style=\"position:absolute;top:0;left:0;bottom:0;right:0;box-sizing:border-box;padding:0;border:none;margin:auto;display:block;width:0;height:0;min-width:100%;max-width:100%;min-height:100%;max-height:100%\"/><noscript><img alt=\"Advanced Node.js Concepts\" class=\"object-cover\" data-nimg=\"intrinsic\" decoding=\"async\" loading=\"lazy\" src=\"//images.weserv.nl/?url=https%3A%2F%2Fcreator-assets.codedamn.com%2Fcodedamn-5f1f31bbf8bab7fa6ddb6fdb%2Fcourse-image%2F2021-01-03%2Fd028b9cb3bafe002fd1a864ee0048a751456abd7&amp;w=682&amp;q=75\" srcset=\"//images.weserv.nl/?url=https%3A%2F%2Fcreator-assets.codedamn.com%2Fcodedamn-5f1f31bbf8bab7fa6ddb6fdb%2Fcourse-image%2F2021-01-03%2Fd028b9cb3bafe002fd1a864ee0048a751456abd7&amp;w=682&amp;q=75 1x, //images.weserv.nl/?url=https%3A%2F%2Fcreator-assets.codedamn.com%2Fcodedamn-5f1f31bbf8bab7fa6ddb6fdb%2Fcourse-image%2F2021-01-03%2Fd028b9cb3bafe002fd1a864ee0048a751456abd7&amp;w=682&amp;q=75 2x\" style=\"position:absolute;top:0;left:0;bottom:0;right:0;box-sizing:border-box;padding:0;border:none;margin:auto;display:block;width:0;height:0;min-width:100%;max-width:100%;min-height:100%;max-height:100%\"/></noscript></span></div><div class=\"flex flex-col justify-between flex-1 p-6 bg-white\"><div class=\"flex-1\"><p class=\"text-sm font-medium text-indigo-600\">2<!-- -->h interactive course</p><p class=\"mt-2 text-xl font-semibold text-gray-900\">Advanced Node.js Concepts</p></div></div></a></figure></li><li class=\"flex-none pr-24\" style='background:url(\"/assets/images/backgrounds/learning-path-carousel.png\") repeat-x center right;background-size:200px 100px;transform:translateX(0%) translateZ(0)'><figure class=\"flex-none shadow-lg rounded-xl\" style=\"transform:rotate(-1deg) translateZ(0)\"><a class=\"flex w-[341px] flex-col rounded-lg shadow-lg z-10 relative overflow-hidden\" href=\"/learn/node-mongodb-fundamentals\"><div class=\"flex-shrink-0 h-48 bg-white\"><span style=\"box-sizing:border-box;display:inline-block;overflow:hidden;width:initial;height:initial;background:none;opacity:1;border:0;margin:0;padding:0;position:relative;max-width:100%\"><span style=\"box-sizing:border-box;display:block;width:initial;height:initial;background:none;opacity:1;border:0;margin:0;padding:0;max-width:100%\"><img alt=\"\" aria-hidden=\"true\" src=\"data:image/svg+xml,%3csvg%20xmlns=%27http://www.w3.org/2000/svg%27%20version=%271.1%27%20width=%27341%27%20height=%27192%27/%3e\" style=\"display:block;max-width:100%;width:initial;height:initial;background:none;opacity:1;border:0;margin:0;padding:0\"/></span><img alt=\"Working with MongoDB\" class=\"object-cover\" data-nimg=\"intrinsic\" decoding=\"async\" src=\"data:image/gif;base64,R0lGODlhAQABAIAAAAAAAP///yH5BAEAAAAALAAAAAABAAEAAAIBRAA7\" style=\"position:absolute;top:0;left:0;bottom:0;right:0;box-sizing:border-box;padding:0;border:none;margin:auto;display:block;width:0;height:0;min-width:100%;max-width:100%;min-height:100%;max-height:100%\"/><noscript><img alt=\"Working with MongoDB\" class=\"object-cover\" data-nimg=\"intrinsic\" decoding=\"async\" loading=\"lazy\" src=\"//images.weserv.nl/?url=https%3A%2F%2Fcreator-assets.codedamn.com%2Fcodedamn-5f1f31bbf8bab7fa6ddb6fdb%2Fcourse-image%2F2022-01-12%2Fde2b74094a3452332df2b2c7a1de0f6c539e67f2&amp;w=682&amp;q=75\" srcset=\"//images.weserv.nl/?url=https%3A%2F%2Fcreator-assets.codedamn.com%2Fcodedamn-5f1f31bbf8bab7fa6ddb6fdb%2Fcourse-image%2F2022-01-12%2Fde2b74094a3452332df2b2c7a1de0f6c539e67f2&amp;w=682&amp;q=75 1x, //images.weserv.nl/?url=https%3A%2F%2Fcreator-assets.codedamn.com%2Fcodedamn-5f1f31bbf8bab7fa6ddb6fdb%2Fcourse-image%2F2022-01-12%2Fde2b74094a3452332df2b2c7a1de0f6c539e67f2&amp;w=682&amp;q=75 2x\" style=\"position:absolute;top:0;left:0;bottom:0;right:0;box-sizing:border-box;padding:0;border:none;margin:auto;display:block;width:0;height:0;min-width:100%;max-width:100%;min-height:100%;max-height:100%\"/></noscript></span></div><div class=\"flex flex-col justify-between flex-1 p-6 bg-white\"><div class=\"flex-1\"><p class=\"text-sm font-medium text-indigo-600\">2<!-- -->h interactive course</p><p class=\"mt-2 text-xl font-semibold text-gray-900\">Working with MongoDB</p></div></div></a></figure></li><li class=\"flex-none pr-24\" style='background:url(\"/assets/images/backgrounds/learning-path-carousel.png\") repeat-x center right;background-size:200px 100px;transform:translateX(0%) translateZ(0)'><figure class=\"flex-none shadow-lg rounded-xl\" style=\"transform:rotate(-2deg) translateZ(0)\"><a class=\"flex w-[341px] flex-col rounded-lg shadow-lg z-10 relative overflow-hidden\" href=\"/learn/graphql-for-beginners\"><div class=\"flex-shrink-0 h-48 bg-white\"><span style=\"box-sizing:border-box;display:inline-block;overflow:hidden;width:initial;height:initial;background:none;opacity:1;border:0;margin:0;padding:0;position:relative;max-width:100%\"><span style=\"box-sizing:border-box;display:block;width:initial;height:initial;background:none;opacity:1;border:0;margin:0;padding:0;max-width:100%\"><img alt=\"\" aria-hidden=\"true\" src=\"data:image/svg+xml,%3csvg%20xmlns=%27http://www.w3.org/2000/svg%27%20version=%271.1%27%20width=%27341%27%20height=%27192%27/%3e\" style=\"display:block;max-width:100%;width:initial;height:initial;background:none;opacity:1;border:0;margin:0;padding:0\"/></span><img alt=\"Understanding GraphQL\" class=\"object-cover\" data-nimg=\"intrinsic\" decoding=\"async\" src=\"data:image/gif;base64,R0lGODlhAQABAIAAAAAAAP///yH5BAEAAAAALAAAAAABAAEAAAIBRAA7\" style=\"position:absolute;top:0;left:0;bottom:0;right:0;box-sizing:border-box;padding:0;border:none;margin:auto;display:block;width:0;height:0;min-width:100%;max-width:100%;min-height:100%;max-height:100%\"/><noscript><img alt=\"Understanding GraphQL\" class=\"object-cover\" data-nimg=\"intrinsic\" decoding=\"async\" loading=\"lazy\" src=\"//images.weserv.nl/?url=https%3A%2F%2Fcreator-assets.codedamn.com%2FPedroTech-5fac1d3c744baf0001c16847%2Fcourse-image%2F2021-10-10%2F9c42f0c96abae80324119d2085e98d6c587ff1d8&amp;w=682&amp;q=75\" srcset=\"//images.weserv.nl/?url=https%3A%2F%2Fcreator-assets.codedamn.com%2FPedroTech-5fac1d3c744baf0001c16847%2Fcourse-image%2F2021-10-10%2F9c42f0c96abae80324119d2085e98d6c587ff1d8&amp;w=682&amp;q=75 1x, //images.weserv.nl/?url=https%3A%2F%2Fcreator-assets.codedamn.com%2FPedroTech-5fac1d3c744baf0001c16847%2Fcourse-image%2F2021-10-10%2F9c42f0c96abae80324119d2085e98d6c587ff1d8&amp;w=682&amp;q=75 2x\" style=\"position:absolute;top:0;left:0;bottom:0;right:0;box-sizing:border-box;padding:0;border:none;margin:auto;display:block;width:0;height:0;min-width:100%;max-width:100%;min-height:100%;max-height:100%\"/></noscript></span></div><div class=\"flex flex-col justify-between flex-1 p-6 bg-white\"><div class=\"flex-1\"><p class=\"text-sm font-medium text-indigo-600\">4<!-- -->h interactive course</p><p class=\"mt-2 text-xl font-semibold text-gray-900\">Understanding GraphQL</p></div></div></a></figure></li><li class=\"flex-none pr-24\" style='background:url(\"/assets/images/backgrounds/learning-path-carousel.png\") repeat-x center right;background-size:200px 100px;transform:translateX(0%) translateZ(0)'><figure class=\"flex-none shadow-lg rounded-xl\" style=\"transform:rotate(-1deg) translateZ(0)\"><a class=\"flex w-[341px] flex-col rounded-lg shadow-lg z-10 relative overflow-hidden\" href=\"/learn/nextjs-fundamentals\"><div class=\"flex-shrink-0 h-48 bg-white\"><span style=\"box-sizing:border-box;display:inline-block;overflow:hidden;width:initial;height:initial;background:none;opacity:1;border:0;margin:0;padding:0;position:relative;max-width:100%\"><span style=\"box-sizing:border-box;display:block;width:initial;height:initial;background:none;opacity:1;border:0;margin:0;padding:0;max-width:100%\"><img alt=\"\" aria-hidden=\"true\" src=\"data:image/svg+xml,%3csvg%20xmlns=%27http://www.w3.org/2000/svg%27%20version=%271.1%27%20width=%27341%27%20height=%27192%27/%3e\" style=\"display:block;max-width:100%;width:initial;height:initial;background:none;opacity:1;border:0;margin:0;padding:0\"/></span><img alt=\"Building production apps with Next.js\" class=\"object-cover\" data-nimg=\"intrinsic\" decoding=\"async\" src=\"data:image/gif;base64,R0lGODlhAQABAIAAAAAAAP///yH5BAEAAAAALAAAAAABAAEAAAIBRAA7\" style=\"position:absolute;top:0;left:0;bottom:0;right:0;box-sizing:border-box;padding:0;border:none;margin:auto;display:block;width:0;height:0;min-width:100%;max-width:100%;min-height:100%;max-height:100%\"/><noscript><img alt=\"Building production apps with Next.js\" class=\"object-cover\" data-nimg=\"intrinsic\" decoding=\"async\" loading=\"lazy\" src=\"//images.weserv.nl/?url=https%3A%2F%2Fcreator-assets.codedamn.com%2Fcodedamn-5f1f31bbf8bab7fa6ddb6fdb%2Fcourse-image%2F2022-01-12%2Fd4c31a87d6d8e846c742f80c9f0c3abc9d728470&amp;w=682&amp;q=75\" srcset=\"//images.weserv.nl/?url=https%3A%2F%2Fcreator-assets.codedamn.com%2Fcodedamn-5f1f31bbf8bab7fa6ddb6fdb%2Fcourse-image%2F2022-01-12%2Fd4c31a87d6d8e846c742f80c9f0c3abc9d728470&amp;w=682&amp;q=75 1x, //images.weserv.nl/?url=https%3A%2F%2Fcreator-assets.codedamn.com%2Fcodedamn-5f1f31bbf8bab7fa6ddb6fdb%2Fcourse-image%2F2022-01-12%2Fd4c31a87d6d8e846c742f80c9f0c3abc9d728470&amp;w=682&amp;q=75 2x\" style=\"position:absolute;top:0;left:0;bottom:0;right:0;box-sizing:border-box;padding:0;border:none;margin:auto;display:block;width:0;height:0;min-width:100%;max-width:100%;min-height:100%;max-height:100%\"/></noscript></span></div><div class=\"flex flex-col justify-between flex-1 p-6 bg-white\"><div class=\"flex-1\"><p class=\"text-sm font-medium text-indigo-600\">2<!-- -->h interactive course</p><p class=\"mt-2 text-xl font-semibold text-gray-900\">Building production apps with Next.js</p></div></div></a></figure></li><li class=\"flex-none pr-24\" style='background:url(\"/assets/images/backgrounds/learning-path-carousel.png\") repeat-x center right;background-size:200px 100px;transform:translateX(0%) translateZ(0)'><figure class=\"flex-none shadow-lg rounded-xl\" style=\"transform:rotate(-1deg) translateZ(0)\"><a class=\"flex w-[341px] flex-col rounded-lg shadow-lg z-10 relative overflow-hidden\" href=\"/learn/advanced-nextjs\"><div class=\"flex-shrink-0 h-48 bg-white\"><span style=\"box-sizing:border-box;display:inline-block;overflow:hidden;width:initial;height:initial;background:none;opacity:1;border:0;margin:0;padding:0;position:relative;max-width:100%\"><span style=\"box-sizing:border-box;display:block;width:initial;height:initial;background:none;opacity:1;border:0;margin:0;padding:0;max-width:100%\"><img alt=\"\" aria-hidden=\"true\" src=\"data:image/svg+xml,%3csvg%20xmlns=%27http://www.w3.org/2000/svg%27%20version=%271.1%27%20width=%27341%27%20height=%27192%27/%3e\" style=\"display:block;max-width:100%;width:initial;height:initial;background:none;opacity:1;border:0;margin:0;padding:0\"/></span><img alt=\"Advanced Next.js Concepts\" class=\"object-cover\" data-nimg=\"intrinsic\" decoding=\"async\" src=\"data:image/gif;base64,R0lGODlhAQABAIAAAAAAAP///yH5BAEAAAAALAAAAAABAAEAAAIBRAA7\" style=\"position:absolute;top:0;left:0;bottom:0;right:0;box-sizing:border-box;padding:0;border:none;margin:auto;display:block;width:0;height:0;min-width:100%;max-width:100%;min-height:100%;max-height:100%\"/><noscript><img alt=\"Advanced Next.js Concepts\" class=\"object-cover\" data-nimg=\"intrinsic\" decoding=\"async\" loading=\"lazy\" src=\"//images.weserv.nl/?url=https%3A%2F%2Fcreator-assets.codedamn.com%2Fcodedamn-5f1f31bbf8bab7fa6ddb6fdb%2Fcourse-image%2F2021-01-19%2F45017473eeec30df2e81300051746734f8e2ef15&amp;w=682&amp;q=75\" srcset=\"//images.weserv.nl/?url=https%3A%2F%2Fcreator-assets.codedamn.com%2Fcodedamn-5f1f31bbf8bab7fa6ddb6fdb%2Fcourse-image%2F2021-01-19%2F45017473eeec30df2e81300051746734f8e2ef15&amp;w=682&amp;q=75 1x, //images.weserv.nl/?url=https%3A%2F%2Fcreator-assets.codedamn.com%2Fcodedamn-5f1f31bbf8bab7fa6ddb6fdb%2Fcourse-image%2F2021-01-19%2F45017473eeec30df2e81300051746734f8e2ef15&amp;w=682&amp;q=75 2x\" style=\"position:absolute;top:0;left:0;bottom:0;right:0;box-sizing:border-box;padding:0;border:none;margin:auto;display:block;width:0;height:0;min-width:100%;max-width:100%;min-height:100%;max-height:100%\"/></noscript></span></div><div class=\"flex flex-col justify-between flex-1 p-6 bg-white\"><div class=\"flex-1\"><p class=\"text-sm font-medium text-indigo-600\">1<!-- -->h interactive course</p><p class=\"mt-2 text-xl font-semibold text-gray-900\">Advanced Next.js Concepts</p></div></div></a></figure></li><li class=\"flex-none pr-24\" style='background:url(\"/assets/images/backgrounds/learning-path-carousel.png\") repeat-x center right;background-size:200px 100px;transform:translateX(0%) translateZ(0)'><figure class=\"flex-none shadow-lg rounded-xl\" style=\"transform:rotate(-2deg) translateZ(0)\"><a class=\"flex w-[341px] flex-col rounded-lg shadow-lg z-10 relative overflow-hidden\" href=\"/learn/redis-caching-concepts-nodejs\"><div class=\"flex-shrink-0 h-48 bg-white\"><span style=\"box-sizing:border-box;display:inline-block;overflow:hidden;width:initial;height:initial;background:none;opacity:1;border:0;margin:0;padding:0;position:relative;max-width:100%\"><span style=\"box-sizing:border-box;display:block;width:initial;height:initial;background:none;opacity:1;border:0;margin:0;padding:0;max-width:100%\"><img alt=\"\" aria-hidden=\"true\" src=\"data:image/svg+xml,%3csvg%20xmlns=%27http://www.w3.org/2000/svg%27%20version=%271.1%27%20width=%27341%27%20height=%27192%27/%3e\" style=\"display:block;max-width:100%;width:initial;height:initial;background:none;opacity:1;border:0;margin:0;padding:0\"/></span><img alt=\"Caching with Redis\" class=\"object-cover\" data-nimg=\"intrinsic\" decoding=\"async\" src=\"data:image/gif;base64,R0lGODlhAQABAIAAAAAAAP///yH5BAEAAAAALAAAAAABAAEAAAIBRAA7\" style=\"position:absolute;top:0;left:0;bottom:0;right:0;box-sizing:border-box;padding:0;border:none;margin:auto;display:block;width:0;height:0;min-width:100%;max-width:100%;min-height:100%;max-height:100%\"/><noscript><img alt=\"Caching with Redis\" class=\"object-cover\" data-nimg=\"intrinsic\" decoding=\"async\" loading=\"lazy\" src=\"//images.weserv.nl/?url=https%3A%2F%2Fcreator-assets.codedamn.com%2Fcodedamn-5f1f31bbf8bab7fa6ddb6fdb%2Fcourse-image%2F2021-04-07%2Ffc604e47851630271bfa0ced8ea6cb877f17c46b&amp;w=682&amp;q=75\" srcset=\"//images.weserv.nl/?url=https%3A%2F%2Fcreator-assets.codedamn.com%2Fcodedamn-5f1f31bbf8bab7fa6ddb6fdb%2Fcourse-image%2F2021-04-07%2Ffc604e47851630271bfa0ced8ea6cb877f17c46b&amp;w=682&amp;q=75 1x, //images.weserv.nl/?url=https%3A%2F%2Fcreator-assets.codedamn.com%2Fcodedamn-5f1f31bbf8bab7fa6ddb6fdb%2Fcourse-image%2F2021-04-07%2Ffc604e47851630271bfa0ced8ea6cb877f17c46b&amp;w=682&amp;q=75 2x\" style=\"position:absolute;top:0;left:0;bottom:0;right:0;box-sizing:border-box;padding:0;border:none;margin:auto;display:block;width:0;height:0;min-width:100%;max-width:100%;min-height:100%;max-height:100%\"/></noscript></span></div><div class=\"flex flex-col justify-between flex-1 p-6 bg-white\"><div class=\"flex-1\"><p class=\"text-sm font-medium text-indigo-600\">2<!-- -->h interactive course</p><p class=\"mt-2 text-xl font-semibold text-gray-900\">Caching with Redis</p></div></div></a></figure></li><li class=\"flex-none pr-24\" style='background:url(\"/assets/images/backgrounds/learning-path-carousel.png\") repeat-x center right;background-size:200px 100px;transform:translateX(0%) translateZ(0)'><figure class=\"flex-none shadow-lg rounded-xl\" style=\"transform:rotate(-1deg) translateZ(0)\"><a class=\"flex w-[341px] flex-col rounded-lg shadow-lg z-10 relative overflow-hidden\" href=\"/learn/typescript-fundamentals\"><div class=\"flex-shrink-0 h-48 bg-white\"><span style=\"box-sizing:border-box;display:inline-block;overflow:hidden;width:initial;height:initial;background:none;opacity:1;border:0;margin:0;padding:0;position:relative;max-width:100%\"><span style=\"box-sizing:border-box;display:block;width:initial;height:initial;background:none;opacity:1;border:0;margin:0;padding:0;max-width:100%\"><img alt=\"\" aria-hidden=\"true\" src=\"data:image/svg+xml,%3csvg%20xmlns=%27http://www.w3.org/2000/svg%27%20version=%271.1%27%20width=%27341%27%20height=%27192%27/%3e\" style=\"display:block;max-width:100%;width:initial;height:initial;background:none;opacity:1;border:0;margin:0;padding:0\"/></span><img alt=\"TypeScript Fundamentals\" class=\"object-cover\" data-nimg=\"intrinsic\" decoding=\"async\" src=\"data:image/gif;base64,R0lGODlhAQABAIAAAAAAAP///yH5BAEAAAAALAAAAAABAAEAAAIBRAA7\" style=\"position:absolute;top:0;left:0;bottom:0;right:0;box-sizing:border-box;padding:0;border:none;margin:auto;display:block;width:0;height:0;min-width:100%;max-width:100%;min-height:100%;max-height:100%\"/><noscript><img alt=\"TypeScript Fundamentals\" class=\"object-cover\" data-nimg=\"intrinsic\" decoding=\"async\" loading=\"lazy\" src=\"//images.weserv.nl/?url=https%3A%2F%2Fcreator-assets.codedamn.com%2Fbasarat-5fe1fab612c2fa0001ed4655%2Fcourse-image%2F2020-12-22%2F49e51cbf680e4c2fe84a1df52f5d942a7cce35ec&amp;w=682&amp;q=75\" srcset=\"//images.weserv.nl/?url=https%3A%2F%2Fcreator-assets.codedamn.com%2Fbasarat-5fe1fab612c2fa0001ed4655%2Fcourse-image%2F2020-12-22%2F49e51cbf680e4c2fe84a1df52f5d942a7cce35ec&amp;w=682&amp;q=75 1x, //images.weserv.nl/?url=https%3A%2F%2Fcreator-assets.codedamn.com%2Fbasarat-5fe1fab612c2fa0001ed4655%2Fcourse-image%2F2020-12-22%2F49e51cbf680e4c2fe84a1df52f5d942a7cce35ec&amp;w=682&amp;q=75 2x\" style=\"position:absolute;top:0;left:0;bottom:0;right:0;box-sizing:border-box;padding:0;border:none;margin:auto;display:block;width:0;height:0;min-width:100%;max-width:100%;min-height:100%;max-height:100%\"/></noscript></span></div><div class=\"flex flex-col justify-between flex-1 p-6 bg-white\"><div class=\"flex-1\"><p class=\"text-sm font-medium text-indigo-600\">2<!-- -->h interactive course</p><p class=\"mt-2 text-xl font-semibold text-gray-900\">TypeScript Fundamentals</p></div></div></a></figure></li><li class=\"flex-none pr-24\" style='background:url(\"/assets/images/backgrounds/learning-path-carousel.png\") repeat-x center right;background-size:200px 100px;transform:translateX(0%) translateZ(0)'><figure class=\"flex-none shadow-lg rounded-xl\" style=\"transform:rotate(-1deg) translateZ(0)\"><a class=\"flex w-[341px] flex-col rounded-lg shadow-lg z-10 relative overflow-hidden\" href=\"/learn/github-actions-ci-cd\"><div class=\"flex-shrink-0 h-48 bg-white\"><span style=\"box-sizing:border-box;display:inline-block;overflow:hidden;width:initial;height:initial;background:none;opacity:1;border:0;margin:0;padding:0;position:relative;max-width:100%\"><span style=\"box-sizing:border-box;display:block;width:initial;height:initial;background:none;opacity:1;border:0;margin:0;padding:0;max-width:100%\"><img alt=\"\" aria-hidden=\"true\" src=\"data:image/svg+xml,%3csvg%20xmlns=%27http://www.w3.org/2000/svg%27%20version=%271.1%27%20width=%27341%27%20height=%27192%27/%3e\" style=\"display:block;max-width:100%;width:initial;height:initial;background:none;opacity:1;border:0;margin:0;padding:0\"/></span><img alt=\"CI/CD with GitHub Actions\" class=\"object-cover\" data-nimg=\"intrinsic\" decoding=\"async\" src=\"data:image/gif;base64,R0lGODlhAQABAIAAAAAAAP///yH5BAEAAAAALAAAAAABAAEAAAIBRAA7\" style=\"position:absolute;top:0;left:0;bottom:0;right:0;box-sizing:border-box;padding:0;border:none;margin:auto;display:block;width:0;height:0;min-width:100%;max-width:100%;min-height:100%;max-height:100%\"/><noscript><img alt=\"CI/CD with GitHub Actions\" class=\"object-cover\" data-nimg=\"intrinsic\" decoding=\"async\" loading=\"lazy\" src=\"//images.weserv.nl/?url=https%3A%2F%2Fcreator-assets.codedamn.com%2Fofficial-61897bfe60f1140008feb00d%2Fcourse-image%2F2021-12-23%2F921a25a76a4a7e35bd2699d9621f802678ee5216&amp;w=682&amp;q=75\" srcset=\"//images.weserv.nl/?url=https%3A%2F%2Fcreator-assets.codedamn.com%2Fofficial-61897bfe60f1140008feb00d%2Fcourse-image%2F2021-12-23%2F921a25a76a4a7e35bd2699d9621f802678ee5216&amp;w=682&amp;q=75 1x, //images.weserv.nl/?url=https%3A%2F%2Fcreator-assets.codedamn.com%2Fofficial-61897bfe60f1140008feb00d%2Fcourse-image%2F2021-12-23%2F921a25a76a4a7e35bd2699d9621f802678ee5216&amp;w=682&amp;q=75 2x\" style=\"position:absolute;top:0;left:0;bottom:0;right:0;box-sizing:border-box;padding:0;border:none;margin:auto;display:block;width:0;height:0;min-width:100%;max-width:100%;min-height:100%;max-height:100%\"/></noscript></span></div><div class=\"flex flex-col justify-between flex-1 p-6 bg-white\"><div class=\"flex-1\"><p class=\"text-sm font-medium text-indigo-600\">1<!-- -->h interactive course</p><p class=\"mt-2 text-xl font-semibold text-gray-900\">CI/CD with GitHub Actions</p></div></div></a></figure></li><li class=\"flex-none pr-24\" style='background:url(\"/assets/images/backgrounds/learning-path-carousel.png\") repeat-x center right;background-size:200px 100px;transform:translateX(0%) translateZ(0)'><figure class=\"flex-none shadow-lg rounded-xl\" style=\"transform:rotate(-2deg) translateZ(0)\"><a class=\"flex w-[341px] flex-col rounded-lg shadow-lg z-10 relative overflow-hidden\" href=\"/learn/web-security\"><div class=\"flex-shrink-0 h-48 bg-white\"><span style=\"box-sizing:border-box;display:inline-block;overflow:hidden;width:initial;height:initial;background:none;opacity:1;border:0;margin:0;padding:0;position:relative;max-width:100%\"><span style=\"box-sizing:border-box;display:block;width:initial;height:initial;background:none;opacity:1;border:0;margin:0;padding:0;max-width:100%\"><img alt=\"\" aria-hidden=\"true\" src=\"data:image/svg+xml,%3csvg%20xmlns=%27http://www.w3.org/2000/svg%27%20version=%271.1%27%20width=%27341%27%20height=%27192%27/%3e\" style=\"display:block;max-width:100%;width:initial;height:initial;background:none;opacity:1;border:0;margin:0;padding:0\"/></span><img alt=\"Writing secure web apps\" class=\"object-cover\" data-nimg=\"intrinsic\" decoding=\"async\" src=\"data:image/gif;base64,R0lGODlhAQABAIAAAAAAAP///yH5BAEAAAAALAAAAAABAAEAAAIBRAA7\" style=\"position:absolute;top:0;left:0;bottom:0;right:0;box-sizing:border-box;padding:0;border:none;margin:auto;display:block;width:0;height:0;min-width:100%;max-width:100%;min-height:100%;max-height:100%\"/><noscript><img alt=\"Writing secure web apps\" class=\"object-cover\" data-nimg=\"intrinsic\" decoding=\"async\" loading=\"lazy\" src=\"//images.weserv.nl/?url=https%3A%2F%2Fcreator-assets.codedamn.com%2Fofficial-61897bfe60f1140008feb00d%2Fcourse-image%2F2022-04-28%2F5c767dc85e14ebd36d71f9da5892a0c664e8ddf3&amp;w=682&amp;q=75\" srcset=\"//images.weserv.nl/?url=https%3A%2F%2Fcreator-assets.codedamn.com%2Fofficial-61897bfe60f1140008feb00d%2Fcourse-image%2F2022-04-28%2F5c767dc85e14ebd36d71f9da5892a0c664e8ddf3&amp;w=682&amp;q=75 1x, //images.weserv.nl/?url=https%3A%2F%2Fcreator-assets.codedamn.com%2Fofficial-61897bfe60f1140008feb00d%2Fcourse-image%2F2022-04-28%2F5c767dc85e14ebd36d71f9da5892a0c664e8ddf3&amp;w=682&amp;q=75 2x\" style=\"position:absolute;top:0;left:0;bottom:0;right:0;box-sizing:border-box;padding:0;border:none;margin:auto;display:block;width:0;height:0;min-width:100%;max-width:100%;min-height:100%;max-height:100%\"/></noscript></span></div><div class=\"flex flex-col justify-between flex-1 p-6 bg-white\"><div class=\"flex-1\"><p class=\"text-sm font-medium text-indigo-600\">1<!-- -->h interactive course</p><p class=\"mt-2 text-xl font-semibold text-gray-900\">Writing secure web apps</p></div></div></a></figure></li><li class=\"flex-none pr-24\" style='background:url(\"/assets/images/backgrounds/learning-path-carousel.png\") repeat-x center right;background-size:200px 100px;transform:translateX(0%) translateZ(0)'><figure class=\"flex-none shadow-lg rounded-xl\" style=\"transform:rotate(-1deg) translateZ(0)\"><a class=\"flex w-[341px] flex-col rounded-lg shadow-lg z-10 relative overflow-hidden\" href=\"/learn\"><div class=\"flex-shrink-0 h-48 bg-white\"><span style=\"box-sizing:border-box;display:inline-block;overflow:hidden;width:initial;height:initial;background:none;opacity:1;border:0;margin:0;padding:0;position:relative;max-width:100%\"><span style=\"box-sizing:border-box;display:block;width:initial;height:initial;background:none;opacity:1;border:0;margin:0;padding:0;max-width:100%\"><img alt=\"\" aria-hidden=\"true\" src=\"data:image/svg+xml,%3csvg%20xmlns=%27http://www.w3.org/2000/svg%27%20version=%271.1%27%20width=%27341%27%20height=%27192%27/%3e\" style=\"display:block;max-width:100%;width:initial;height:initial;background:none;opacity:1;border:0;margin:0;padding:0\"/></span><img alt=\"Full Stack Certification Exam\" class=\"object-cover\" data-nimg=\"intrinsic\" decoding=\"async\" src=\"data:image/gif;base64,R0lGODlhAQABAIAAAAAAAP///yH5BAEAAAAALAAAAAABAAEAAAIBRAA7\" style=\"position:absolute;top:0;left:0;bottom:0;right:0;box-sizing:border-box;padding:0;border:none;margin:auto;display:block;width:0;height:0;min-width:100%;max-width:100%;min-height:100%;max-height:100%\"/><noscript><img alt=\"Full Stack Certification Exam\" class=\"object-cover\" data-nimg=\"intrinsic\" decoding=\"async\" loading=\"lazy\" src=\"//images.weserv.nl/?url=https%3A%2F%2Fimagegen.codedamn.com%2FCOMING%2520SOON.png%3Ftheme%3Ddark&amp;w=682&amp;q=75\" srcset=\"//images.weserv.nl/?url=https%3A%2F%2Fimagegen.codedamn.com%2FCOMING%2520SOON.png%3Ftheme%3Ddark&amp;w=682&amp;q=75 1x, //images.weserv.nl/?url=https%3A%2F%2Fimagegen.codedamn.com%2FCOMING%2520SOON.png%3Ftheme%3Ddark&amp;w=682&amp;q=75 2x\" style=\"position:absolute;top:0;left:0;bottom:0;right:0;box-sizing:border-box;padding:0;border:none;margin:auto;display:block;width:0;height:0;min-width:100%;max-width:100%;min-height:100%;max-height:100%\"/></noscript></span></div><div class=\"flex flex-col justify-between flex-1 p-6 bg-white\"><div class=\"flex-1\"><p class=\"text-sm font-medium text-indigo-600\">1<!-- -->h interactive course</p><p class=\"mt-2 text-xl font-semibold text-gray-900\">Full Stack Certification Exam</p></div></div></a></figure></li><li class=\"flex-none pr-24\" style='background:url(\"/assets/images/backgrounds/learning-path-carousel.png\") repeat-x center right;background-size:200px 100px;transform:translateX(0%) translateZ(0)'><figure class=\"flex-none shadow-lg rounded-xl\" style=\"transform:rotate(-1deg) translateZ(0)\"><a class=\"flex w-[341px] flex-col rounded-lg shadow-lg z-10 relative overflow-hidden\" href=\"/learn/web-development-interview\"><div class=\"flex-shrink-0 h-48 bg-white\"><span style=\"box-sizing:border-box;display:inline-block;overflow:hidden;width:initial;height:initial;background:none;opacity:1;border:0;margin:0;padding:0;position:relative;max-width:100%\"><span style=\"box-sizing:border-box;display:block;width:initial;height:initial;background:none;opacity:1;border:0;margin:0;padding:0;max-width:100%\"><img alt=\"\" aria-hidden=\"true\" src=\"data:image/svg+xml,%3csvg%20xmlns=%27http://www.w3.org/2000/svg%27%20version=%271.1%27%20width=%27341%27%20height=%27192%27/%3e\" style=\"display:block;max-width:100%;width:initial;height:initial;background:none;opacity:1;border:0;margin:0;padding:0\"/></span><img alt=\"Full Stack Real Interview Questions\" class=\"object-cover\" data-nimg=\"intrinsic\" decoding=\"async\" src=\"data:image/gif;base64,R0lGODlhAQABAIAAAAAAAP///yH5BAEAAAAALAAAAAABAAEAAAIBRAA7\" style=\"position:absolute;top:0;left:0;bottom:0;right:0;box-sizing:border-box;padding:0;border:none;margin:auto;display:block;width:0;height:0;min-width:100%;max-width:100%;min-height:100%;max-height:100%\"/><noscript><img alt=\"Full Stack Real Interview Questions\" class=\"object-cover\" data-nimg=\"intrinsic\" decoding=\"async\" loading=\"lazy\" src=\"//images.weserv.nl/?url=https%3A%2F%2Fcreator-assets.codedamn.com%2Fcodedamn-5f1f31bbf8bab7fa6ddb6fdb%2Fcourse-image%2F2021-09-22%2F82138e3bea3ade538317692ddae8ae104e1d36b0&amp;w=682&amp;q=75\" srcset=\"//images.weserv.nl/?url=https%3A%2F%2Fcreator-assets.codedamn.com%2Fcodedamn-5f1f31bbf8bab7fa6ddb6fdb%2Fcourse-image%2F2021-09-22%2F82138e3bea3ade538317692ddae8ae104e1d36b0&amp;w=682&amp;q=75 1x, //images.weserv.nl/?url=https%3A%2F%2Fcreator-assets.codedamn.com%2Fcodedamn-5f1f31bbf8bab7fa6ddb6fdb%2Fcourse-image%2F2021-09-22%2F82138e3bea3ade538317692ddae8ae104e1d36b0&amp;w=682&amp;q=75 2x\" style=\"position:absolute;top:0;left:0;bottom:0;right:0;box-sizing:border-box;padding:0;border:none;margin:auto;display:block;width:0;height:0;min-width:100%;max-width:100%;min-height:100%;max-height:100%\"/></noscript></span></div><div class=\"flex flex-col justify-between flex-1 p-6 bg-white\"><div class=\"flex-1\"><p class=\"text-sm font-medium text-indigo-600\">1<!-- -->h interactive course</p><p class=\"mt-2 text-xl font-semibold text-gray-900\">Full Stack Real Interview Questions</p></div></div></a></figure></li></ul></div></div></div><div class=\"py-10 space-y-10 text-gray-900 bg-gray-50\"><section class=\"max-w-screen-lg mx-auto xl:max-w-screen-xl\"><div class=\"px-4 mb-10 sm:px-6 md:px-8 sm:mb-16 md:mb-20\"><div class=\"flex items-center justify-center w-12 h-12 mb-8 rounded-xl bg-gradient-to-br from-fuchsia-500 to-purple-600\"><svg fill=\"none\" height=\"32\" viewbox=\"0 0 32 32\" width=\"32\" xmlns=\"http://www.w3.org/2000/svg\"><g clip-path=\"url(#browser-support_svg__clip0)\" filter=\"url(#browser-support_svg__filter0_dd)\"><path clip-rule=\"evenodd\" d=\"M5.204 8.755A26.79 26.79 0 008.65 9.988c.366-1.61.877-3.077 1.506-4.335.31-.62.657-1.204 1.04-1.737a13.044 13.044 0 00-5.992 4.84zm-.99 1.75a28.804 28.804 0 004.07 1.457A28.3 28.3 0 008 16c0 1.395.099 2.75.285 4.038a28.804 28.804 0 00-4.07 1.457A12.947 12.947 0 013 16c0-1.965.435-3.827 1.215-5.495zM10 16c0 1.242.084 2.44.239 3.572A29.07 29.07 0 0115 19.017v-6.034a29.07 29.07 0 01-4.761-.555A26.384 26.384 0 0010 16zm7-3.017v6.034a29.07 29.07 0 014.761.555C21.916 18.44 22 17.242 22 16s-.084-2.44-.239-3.572a29.07 29.07 0 01-4.761.555zm-2 8.035a27.056 27.056 0 00-4.406.523c.334 1.479.796 2.802 1.35 3.911.92 1.84 2 2.928 3.056 3.348v-7.782zm2 7.782v-7.782c1.504.055 2.976.232 4.406.523-.334 1.479-.796 2.802-1.35 3.911-.92 1.84-2 2.928-3.056 3.348zm0-17.818V3.2c1.056.42 2.136 1.508 3.055 3.348.555 1.11 1.017 2.432 1.351 3.91-1.43.291-2.902.47-4.406.524zM15 3.2v7.782a27.056 27.056 0 01-4.406-.523c.334-1.479.796-2.802 1.35-3.911.92-1.84 2-2.929 3.056-3.348zM5.204 23.245a26.796 26.796 0 013.446-1.233c.366 1.61.877 3.077 1.506 4.335.31.62.657 1.204 1.04 1.737a13.044 13.044 0 01-5.992-4.84zm16.64 3.102a12.72 12.72 0 01-1.04 1.737 13.044 13.044 0 005.992-4.84 26.798 26.798 0 00-3.446-1.232c-.366 1.61-.877 3.077-1.506 4.335zm5.941-4.852a28.799 28.799 0 00-4.07-1.457C23.901 18.75 24 17.395 24 16c0-1.395-.099-2.75-.285-4.038a28.799 28.799 0 004.07-1.457A12.946 12.946 0 0129 16c0 1.965-.436 3.827-1.215 5.495zm-.989-12.74a26.792 26.792 0 01-3.446 1.233c-.366-1.61-.877-3.077-1.506-4.335-.31-.62-.657-1.204-1.04-1.737a13.044 13.044 0 015.992 4.84zm-23.905-.05C5.452 4.111 10.362 1 16 1s10.548 3.11 13.11 7.705A14.937 14.937 0 0131 16c0 2.646-.686 5.135-1.89 7.295C26.547 27.889 21.637 31 16 31c-5.638 0-10.548-3.11-13.11-7.705A14.936 14.936 0 011 16c0-2.646.686-5.135 1.89-7.295z\" fill=\"#E9D5FF\" fill-rule=\"evenodd\"></path></g><defs><clippath id=\"browser-support_svg__clip0\"><path d=\"M0 0h32v32H0z\" fill=\"#fff\"></path></clippath><filter colorinterpolation-filters=\"sRGB\" filterunits=\"userSpaceOnUse\" height=\"36\" id=\"browser-support_svg__filter0_dd\" width=\"36\" x=\"-2\" y=\"-1\"><feflood flood-opacity=\"0\" result=\"BackgroundImageFix\"></feflood><fecolormatrix in=\"SourceAlpha\" values=\"0 0 0 0 0 0 0 0 0 0 0 0 0 0 0 0 0 0 127 0\"></fecolormatrix><feoffset dy=\"1\"></feoffset><fegaussianblur stddeviation=\"1\"></fegaussianblur><fecolormatrix values=\"0 0 0 0 0 0 0 0 0 0 0 0 0 0 0 0 0 0 0.06 0\"></fecolormatrix><feblend in2=\"BackgroundImageFix\" result=\"effect1_dropShadow\"></feblend><fecolormatrix in=\"SourceAlpha\" values=\"0 0 0 0 0 0 0 0 0 0 0 0 0 0 0 0 0 0 127 0\"></fecolormatrix><feoffset dy=\"1\"></feoffset><fegaussianblur stddeviation=\"1.5\"></fegaussianblur><fecolormatrix values=\"0 0 0 0 0 0 0 0 0 0 0 0 0 0 0 0 0 0 0.1 0\"></fecolormatrix><feblend in2=\"effect1_dropShadow\" result=\"effect2_dropShadow\"></feblend><feblend in=\"SourceGraphic\" in2=\"effect2_dropShadow\" result=\"shape\"></feblend></filter></defs></svg></div><h2 class=\"mb-3 font-semibold tracking-wide text-purple-600 uppercase sm:text-lg sm:leading-snug\">We got your back</h2><p class=\"mb-8 text-3xl font-extrabold leading-none tracking-tight sm:text-5xl lg:text-6xl\">Never learn alone.</p><p class=\"max-w-4xl mb-6 space-y-6 text-lg font-medium sm:text-2xl sm:leading-10\">The best part about learning with friends is learning with friends. We tightly integrate our learning platform with our Discord community of learners, teachers, and our reward system. <br/>Ask questions 24x7, answer questions of others, gain XP, complete the courses and grow together.</p><a class=\"inline-flex text-lg font-medium text-purple-600 transition-colors duration-200 rounded-md sm:text-2xl focus:ring-2 focus:ring-offset-2 focus:ring-current focus:outline-none hover:text-purple-800\" href=\"https://cdm.sh/discord\" rel=\"nofollow noreferrer\" target=\"_blank\">Join our discord server</a></div></section></div><section class=\"relative py-12 overflow-hidden bg-gray-100\"><div class=\"max-w-4xl px-4 mx-auto sm:px-6 lg:px-8\"><p class=\"text-sm font-semibold tracking-wide text-center text-gray-500 uppercase\">Over 60,000+ people use codedamn today. <br/>Learn modern programming skills and become eligible to work at top companies.</p><div class=\"flex items-center justify-center mt-6 space-x-4\"><div class=\"relative flex-1 h-10 text-center\"><span style=\"box-sizing:border-box;display:block;overflow:hidden;width:initial;height:initial;background:none;opacity:1;border:0;margin:0;padding:0;position:absolute;top:0;left:0;bottom:0;right:0\"><img alt=\"apple\" class=\"text-gray-800 hover:text-gray-600\" data-nimg=\"fill\" decoding=\"async\" src=\"data:image/gif;base64,R0lGODlhAQABAIAAAAAAAP///yH5BAEAAAAALAAAAAABAAEAAAIBRAA7\" style=\"position:absolute;top:0;left:0;bottom:0;right:0;box-sizing:border-box;padding:0;border:none;margin:auto;display:block;width:0;height:0;min-width:100%;max-width:100%;min-height:100%;max-height:100%;object-fit:contain\"/><noscript><img alt=\"apple\" class=\"text-gray-800 hover:text-gray-600\" data-nimg=\"fill\" decoding=\"async\" loading=\"lazy\" sizes=\"100vw\" src=\"//images.weserv.nl/?url=https%3A%2F%2Fcodedamn.com%2Fassets%2Fsvg%2Fapple.svg&amp;w=3840&amp;q=75\" srcset=\"//images.weserv.nl/?url=https%3A%2F%2Fcodedamn.com%2Fassets%2Fsvg%2Fapple.svg&amp;w=3840&amp;q=75 640w, //images.weserv.nl/?url=https%3A%2F%2Fcodedamn.com%2Fassets%2Fsvg%2Fapple.svg&amp;w=3840&amp;q=75 750w, //images.weserv.nl/?url=https%3A%2F%2Fcodedamn.com%2Fassets%2Fsvg%2Fapple.svg&amp;w=3840&amp;q=75 828w, //images.weserv.nl/?url=https%3A%2F%2Fcodedamn.com%2Fassets%2Fsvg%2Fapple.svg&amp;w=3840&amp;q=75 1080w, //images.weserv.nl/?url=https%3A%2F%2Fcodedamn.com%2Fassets%2Fsvg%2Fapple.svg&amp;w=3840&amp;q=75 1200w, //images.weserv.nl/?url=https%3A%2F%2Fcodedamn.com%2Fassets%2Fsvg%2Fapple.svg&amp;w=3840&amp;q=75 1920w, //images.weserv.nl/?url=https%3A%2F%2Fcodedamn.com%2Fassets%2Fsvg%2Fapple.svg&amp;w=3840&amp;q=75 2048w, //images.weserv.nl/?url=https%3A%2F%2Fcodedamn.com%2Fassets%2Fsvg%2Fapple.svg&amp;w=3840&amp;q=75 3840w\" style=\"position:absolute;top:0;left:0;bottom:0;right:0;box-sizing:border-box;padding:0;border:none;margin:auto;display:block;width:0;height:0;min-width:100%;max-width:100%;min-height:100%;max-height:100%;object-fit:contain\"/></noscript></span></div><div class=\"relative flex-1 h-10 text-center\"><span style=\"box-sizing:border-box;display:block;overflow:hidden;width:initial;height:initial;background:none;opacity:1;border:0;margin:0;padding:0;position:absolute;top:0;left:0;bottom:0;right:0\"><img alt=\"microsoft\" class=\"text-gray-800 hover:text-gray-600\" data-nimg=\"fill\" decoding=\"async\" src=\"data:image/gif;base64,R0lGODlhAQABAIAAAAAAAP///yH5BAEAAAAALAAAAAABAAEAAAIBRAA7\" style=\"position:absolute;top:0;left:0;bottom:0;right:0;box-sizing:border-box;padding:0;border:none;margin:auto;display:block;width:0;height:0;min-width:100%;max-width:100%;min-height:100%;max-height:100%;object-fit:contain\"/><noscript><img alt=\"microsoft\" class=\"text-gray-800 hover:text-gray-600\" data-nimg=\"fill\" decoding=\"async\" loading=\"lazy\" sizes=\"100vw\" src=\"//images.weserv.nl/?url=https%3A%2F%2Fcodedamn.com%2Fassets%2Fsvg%2Fmicrosoft.svg&amp;w=3840&amp;q=75\" srcset=\"//images.weserv.nl/?url=https%3A%2F%2Fcodedamn.com%2Fassets%2Fsvg%2Fmicrosoft.svg&amp;w=3840&amp;q=75 640w, //images.weserv.nl/?url=https%3A%2F%2Fcodedamn.com%2Fassets%2Fsvg%2Fmicrosoft.svg&amp;w=3840&amp;q=75 750w, //images.weserv.nl/?url=https%3A%2F%2Fcodedamn.com%2Fassets%2Fsvg%2Fmicrosoft.svg&amp;w=3840&amp;q=75 828w, //images.weserv.nl/?url=https%3A%2F%2Fcodedamn.com%2Fassets%2Fsvg%2Fmicrosoft.svg&amp;w=3840&amp;q=75 1080w, //images.weserv.nl/?url=https%3A%2F%2Fcodedamn.com%2Fassets%2Fsvg%2Fmicrosoft.svg&amp;w=3840&amp;q=75 1200w, //images.weserv.nl/?url=https%3A%2F%2Fcodedamn.com%2Fassets%2Fsvg%2Fmicrosoft.svg&amp;w=3840&amp;q=75 1920w, //images.weserv.nl/?url=https%3A%2F%2Fcodedamn.com%2Fassets%2Fsvg%2Fmicrosoft.svg&amp;w=3840&amp;q=75 2048w, //images.weserv.nl/?url=https%3A%2F%2Fcodedamn.com%2Fassets%2Fsvg%2Fmicrosoft.svg&amp;w=3840&amp;q=75 3840w\" style=\"position:absolute;top:0;left:0;bottom:0;right:0;box-sizing:border-box;padding:0;border:none;margin:auto;display:block;width:0;height:0;min-width:100%;max-width:100%;min-height:100%;max-height:100%;object-fit:contain\"/></noscript></span></div><div class=\"relative flex-1 h-10 text-center\"><span style=\"box-sizing:border-box;display:block;overflow:hidden;width:initial;height:initial;background:none;opacity:1;border:0;margin:0;padding:0;position:absolute;top:0;left:0;bottom:0;right:0\"><img alt=\"google\" class=\"text-gray-800 hover:text-gray-600\" data-nimg=\"fill\" decoding=\"async\" src=\"data:image/gif;base64,R0lGODlhAQABAIAAAAAAAP///yH5BAEAAAAALAAAAAABAAEAAAIBRAA7\" style=\"position:absolute;top:0;left:0;bottom:0;right:0;box-sizing:border-box;padding:0;border:none;margin:auto;display:block;width:0;height:0;min-width:100%;max-width:100%;min-height:100%;max-height:100%;object-fit:contain\"/><noscript><img alt=\"google\" class=\"text-gray-800 hover:text-gray-600\" data-nimg=\"fill\" decoding=\"async\" loading=\"lazy\" sizes=\"100vw\" src=\"//images.weserv.nl/?url=https%3A%2F%2Fcodedamn.com%2Fassets%2Fsvg%2Fgoogle.svg&amp;w=3840&amp;q=75\" srcset=\"//images.weserv.nl/?url=https%3A%2F%2Fcodedamn.com%2Fassets%2Fsvg%2Fgoogle.svg&amp;w=3840&amp;q=75 640w, //images.weserv.nl/?url=https%3A%2F%2Fcodedamn.com%2Fassets%2Fsvg%2Fgoogle.svg&amp;w=3840&amp;q=75 750w, //images.weserv.nl/?url=https%3A%2F%2Fcodedamn.com%2Fassets%2Fsvg%2Fgoogle.svg&amp;w=3840&amp;q=75 828w, //images.weserv.nl/?url=https%3A%2F%2Fcodedamn.com%2Fassets%2Fsvg%2Fgoogle.svg&amp;w=3840&amp;q=75 1080w, //images.weserv.nl/?url=https%3A%2F%2Fcodedamn.com%2Fassets%2Fsvg%2Fgoogle.svg&amp;w=3840&amp;q=75 1200w, //images.weserv.nl/?url=https%3A%2F%2Fcodedamn.com%2Fassets%2Fsvg%2Fgoogle.svg&amp;w=3840&amp;q=75 1920w, //images.weserv.nl/?url=https%3A%2F%2Fcodedamn.com%2Fassets%2Fsvg%2Fgoogle.svg&amp;w=3840&amp;q=75 2048w, //images.weserv.nl/?url=https%3A%2F%2Fcodedamn.com%2Fassets%2Fsvg%2Fgoogle.svg&amp;w=3840&amp;q=75 3840w\" style=\"position:absolute;top:0;left:0;bottom:0;right:0;box-sizing:border-box;padding:0;border:none;margin:auto;display:block;width:0;height:0;min-width:100%;max-width:100%;min-height:100%;max-height:100%;object-fit:contain\"/></noscript></span></div><div class=\"relative flex-1 h-10 text-center\"><span style=\"box-sizing:border-box;display:block;overflow:hidden;width:initial;height:initial;background:none;opacity:1;border:0;margin:0;padding:0;position:absolute;top:0;left:0;bottom:0;right:0\"><img alt=\"amazon\" class=\"text-gray-800 hover:text-gray-600\" data-nimg=\"fill\" decoding=\"async\" src=\"data:image/gif;base64,R0lGODlhAQABAIAAAAAAAP///yH5BAEAAAAALAAAAAABAAEAAAIBRAA7\" style=\"position:absolute;top:0;left:0;bottom:0;right:0;box-sizing:border-box;padding:0;border:none;margin:auto;display:block;width:0;height:0;min-width:100%;max-width:100%;min-height:100%;max-height:100%;object-fit:contain\"/><noscript><img alt=\"amazon\" class=\"text-gray-800 hover:text-gray-600\" data-nimg=\"fill\" decoding=\"async\" loading=\"lazy\" sizes=\"100vw\" src=\"//images.weserv.nl/?url=https%3A%2F%2Fcodedamn.com%2Fassets%2Fsvg%2Famazon.svg&amp;w=3840&amp;q=75\" srcset=\"//images.weserv.nl/?url=https%3A%2F%2Fcodedamn.com%2Fassets%2Fsvg%2Famazon.svg&amp;w=3840&amp;q=75 640w, //images.weserv.nl/?url=https%3A%2F%2Fcodedamn.com%2Fassets%2Fsvg%2Famazon.svg&amp;w=3840&amp;q=75 750w, //images.weserv.nl/?url=https%3A%2F%2Fcodedamn.com%2Fassets%2Fsvg%2Famazon.svg&amp;w=3840&amp;q=75 828w, //images.weserv.nl/?url=https%3A%2F%2Fcodedamn.com%2Fassets%2Fsvg%2Famazon.svg&amp;w=3840&amp;q=75 1080w, //images.weserv.nl/?url=https%3A%2F%2Fcodedamn.com%2Fassets%2Fsvg%2Famazon.svg&amp;w=3840&amp;q=75 1200w, //images.weserv.nl/?url=https%3A%2F%2Fcodedamn.com%2Fassets%2Fsvg%2Famazon.svg&amp;w=3840&amp;q=75 1920w, //images.weserv.nl/?url=https%3A%2F%2Fcodedamn.com%2Fassets%2Fsvg%2Famazon.svg&amp;w=3840&amp;q=75 2048w, //images.weserv.nl/?url=https%3A%2F%2Fcodedamn.com%2Fassets%2Fsvg%2Famazon.svg&amp;w=3840&amp;q=75 3840w\" style=\"position:absolute;top:0;left:0;bottom:0;right:0;box-sizing:border-box;padding:0;border:none;margin:auto;display:block;width:0;height:0;min-width:100%;max-width:100%;min-height:100%;max-height:100%;object-fit:contain\"/></noscript></span></div></div></div><div class=\"max-w-4xl mx-4 mt-6 text-center lg:mx-auto\"><a class=\"flex-none block w-full px-6 py-3 text-xl font-semibold leading-6 text-white transition-colors duration-200 bg-gray-900 border border-transparent sm:w-auto hover:bg-gray-700 rounded-xl focus:ring-2 focus:ring-offset-2 focus:ring-offset-white focus:ring-gray-900 focus:outline-none\" data-testid=\"homepage-cta\" href=\"/learning-paths\">Explore All Learning Paths</a></div></section></div><footer aria-labelledby=\"footerHeading\" class=\"bg-gray-900\"><h2 class=\"sr-only\" id=\"footerHeading\">Footer</h2><div class=\"max-w-7xl mx-auto py-12 px-4 sm:px-6 lg:py-16 lg:px-8\"><div class=\"xl:grid xl:grid-cols-3 xl:gap-8\"><div class=\"space-y-8 xl:col-span-1\"><span style=\"box-sizing:border-box;display:inline-block;overflow:hidden;width:initial;height:initial;background:none;opacity:1;border:0;margin:0;padding:0;position:relative;max-width:100%\"><span style=\"box-sizing:border-box;display:block;width:initial;height:initial;background:none;opacity:1;border:0;margin:0;padding:0;max-width:100%\"><img alt=\"\" aria-hidden=\"true\" src=\"data:image/svg+xml,%3csvg%20xmlns=%27http://www.w3.org/2000/svg%27%20version=%271.1%27%20width=%2750%27%20height=%2780%27/%3e\" style=\"display:block;max-width:100%;width:initial;height:initial;background:none;opacity:1;border:0;margin:0;padding:0\"/></span><img alt=\"codedamn footer logo\" data-nimg=\"intrinsic\" decoding=\"async\" src=\"data:image/gif;base64,R0lGODlhAQABAIAAAAAAAP///yH5BAEAAAAALAAAAAABAAEAAAIBRAA7\" style=\"position:absolute;top:0;left:0;bottom:0;right:0;box-sizing:border-box;padding:0;border:none;margin:auto;display:block;width:0;height:0;min-width:100%;max-width:100%;min-height:100%;max-height:100%\"/><noscript><img alt=\"codedamn footer logo\" data-nimg=\"intrinsic\" decoding=\"async\" loading=\"lazy\" src=\"//images.weserv.nl/?url=https%3A%2F%2Fcodedamn.com%2Fassets%2Fimages%2Fwhite-logo.png&amp;w=100&amp;q=75\" srcset=\"//images.weserv.nl/?url=https%3A%2F%2Fcodedamn.com%2Fassets%2Fimages%2Fwhite-logo.png&amp;w=100&amp;q=75 1x, //images.weserv.nl/?url=https%3A%2F%2Fcodedamn.com%2Fassets%2Fimages%2Fwhite-logo.png&amp;w=100&amp;q=75 2x\" style=\"position:absolute;top:0;left:0;bottom:0;right:0;box-sizing:border-box;padding:0;border:none;margin:auto;display:block;width:0;height:0;min-width:100%;max-width:100%;min-height:100%;max-height:100%\"/></noscript></span><p class=\"text-gray-300 text-base\">Learn to code interactively - without ever leaving your browser.</p><div class=\"flex space-x-6\"><a class=\"text-gray-400 hover:text-gray-300\" href=\"https://facebook.com/codedamn.com\" rel=\"noopener noreferrer nofollow\" target=\"_blank\"><span class=\"sr-only\">Facebook</span><svg aria-hidden=\"true\" class=\"h-6 w-6\" fill=\"currentColor\" viewbox=\"0 0 24 24\"><path clip-rule=\"evenodd\" d=\"M22 12c0-5.523-4.477-10-10-10S2 6.477 2 12c0 4.991 3.657 9.128 8.438 9.878v-6.987h-2.54V12h2.54V9.797c0-2.506 1.492-3.89 3.777-3.89 1.094 0 2.238.195 2.238.195v2.46h-1.26c-1.243 0-1.63.771-1.63 1.562V12h2.773l-.443 2.89h-2.33v6.988C18.343 21.128 22 16.991 22 12z\" fill-rule=\"evenodd\"></path></svg></a><a class=\"text-gray-400 hover:text-gray-300\" href=\"https://instagram.com/codedamn\" rel=\"noopener noreferrer nofollow\" target=\"_blank\"><span class=\"sr-only\">Instagram</span><svg aria-hidden=\"true\" class=\"h-6 w-6\" fill=\"currentColor\" viewbox=\"0 0 24 24\"><path clip-rule=\"evenodd\" d=\"M12.315 2c2.43 0 2.784.013 3.808.06 1.064.049 1.791.218 2.427.465a4.902 4.902 0 011.772 1.153 4.902 4.902 0 011.153 1.772c.247.636.416 1.363.465 2.427.048 1.067.06 1.407.06 4.123v.08c0 2.643-.012 2.987-.06 4.043-.049 1.064-.218 1.791-.465 2.427a4.902 4.902 0 01-1.153 1.772 4.902 4.902 0 01-1.772 1.153c-.636.247-1.363.416-2.427.465-1.067.048-1.407.06-4.123.06h-.08c-2.643 0-2.987-.012-4.043-.06-1.064-.049-1.791-.218-2.427-.465a4.902 4.902 0 01-1.772-1.153 4.902 4.902 0 01-1.153-1.772c-.247-.636-.416-1.363-.465-2.427-.047-1.024-.06-1.379-.06-3.808v-.63c0-2.43.013-2.784.06-3.808.049-1.064.218-1.791.465-2.427a4.902 4.902 0 011.153-1.772A4.902 4.902 0 015.45 2.525c.636-.247 1.363-.416 2.427-.465C8.901 2.013 9.256 2 11.685 2h.63zm-.081 1.802h-.468c-2.456 0-2.784.011-3.807.058-.975.045-1.504.207-1.857.344-.467.182-.8.398-1.15.748-.35.35-.566.683-.748 1.15-.137.353-.3.882-.344 1.857-.047 1.023-.058 1.351-.058 3.807v.468c0 2.456.011 2.784.058 3.807.045.975.207 1.504.344 1.857.182.466.399.8.748 1.15.35.35.683.566 1.15.748.353.137.882.3 1.857.344 1.054.048 1.37.058 4.041.058h.08c2.597 0 2.917-.01 3.96-.058.976-.045 1.505-.207 1.858-.344.466-.182.8-.398 1.15-.748.35-.35.566-.683.748-1.15.137-.353.3-.882.344-1.857.048-1.055.058-1.37.058-4.041v-.08c0-2.597-.01-2.917-.058-3.96-.045-.976-.207-1.505-.344-1.858a3.097 3.097 0 00-.748-1.15 3.098 3.098 0 00-1.15-.748c-.353-.137-.882-.3-1.857-.344-1.023-.047-1.351-.058-3.807-.058zM12 6.865a5.135 5.135 0 110 10.27 5.135 5.135 0 010-10.27zm0 1.802a3.333 3.333 0 100 6.666 3.333 3.333 0 000-6.666zm5.338-3.205a1.2 1.2 0 110 2.4 1.2 1.2 0 010-2.4z\" fill-rule=\"evenodd\"></path></svg></a><a class=\"text-gray-400 hover:text-gray-300\" href=\"https://twitter.com/codedamncom\" rel=\"noopener noreferrer nofollow\" target=\"_blank\"><span class=\"sr-only\">Twitter</span><svg aria-hidden=\"true\" class=\"h-6 w-6\" fill=\"currentColor\" viewbox=\"0 0 24 24\"><path d=\"M8.29 20.251c7.547 0 11.675-6.253 11.675-11.675 0-.178 0-.355-.012-.53A8.348 8.348 0 0022 5.92a8.19 8.19 0 01-2.357.646 4.118 4.118 0 001.804-2.27 8.224 8.224 0 01-2.605.996 4.107 4.107 0 00-6.993 3.743 11.65 11.65 0 01-8.457-4.287 4.106 4.106 0 001.27 5.477A4.072 4.072 0 012.8 9.713v.052a4.105 4.105 0 003.292 4.022 4.095 4.095 0 01-1.853.07 4.108 4.108 0 003.834 2.85A8.233 8.233 0 012 18.407a11.616 11.616 0 006.29 1.84\"></path></svg></a><a class=\"text-gray-400 hover:text-gray-300\" href=\"https://github.com/codedamn/codedamn\" rel=\"noopener noreferrer nofollow\" target=\"_blank\"><span class=\"sr-only\">GitHub</span><svg aria-hidden=\"true\" class=\"h-6 w-6\" fill=\"currentColor\" viewbox=\"0 0 24 24\"><path clip-rule=\"evenodd\" d=\"M12 2C6.477 2 2 6.484 2 12.017c0 4.425 2.865 8.18 6.839 9.504.5.092.682-.217.682-.483 0-.237-.008-.868-.013-1.703-2.782.605-3.369-1.343-3.369-1.343-.454-1.158-1.11-1.466-1.11-1.466-.908-.62.069-.608.069-.608 1.003.07 1.531 1.032 1.531 1.032.892 1.53 2.341 1.088 2.91.832.092-.647.35-1.088.636-1.338-2.22-.253-4.555-1.113-4.555-4.951 0-1.093.39-1.988 1.029-2.688-.103-.253-.446-1.272.098-2.65 0 0 .84-.27 2.75 1.026A9.564 9.564 0 0112 6.844c.85.004 1.705.115 2.504.337 1.909-1.296 2.747-1.027 2.747-1.027.546 1.379.202 2.398.1 2.651.64.7 1.028 1.595 1.028 2.688 0 3.848-2.339 4.695-4.566 4.943.359.309.678.92.678 1.855 0 1.338-.012 2.419-.012 2.747 0 .268.18.58.688.482A10.019 10.019 0 0022 12.017C22 6.484 17.522 2 12 2z\" fill-rule=\"evenodd\"></path></svg></a><a class=\"text-gray-400 hover:text-gray-300\" href=\"https://youtube.com/codedamn\" rel=\"noopener noreferrer nofollow\" target=\"_blank\"><span class=\"sr-only\">YouTube</span><svg aria-hidden=\"true\" class=\"h-6 flex w-6\" fill=\"currentColor\" viewbox=\"0 0 75 75\"><defs><clippath id=\"clip1\"><path d=\"M 0 9.609375 L 75 9.609375 L 75 64.828125 L 0 64.828125 Z M 0 9.609375 \"></path></clippath></defs><g id=\"surface1\"><g clip-path=\"url(#clip1)\" clip-rule=\"nonzero\"><path d=\"M 72.910156 19.132812 C 72.214844 15.34375 68.914062 12.585938 65.078125 11.722656 C 59.339844 10.519531 48.722656 9.65625 37.234375 9.65625 C 25.753906 9.65625 14.96875 10.519531 9.222656 11.722656 C 5.398438 12.585938 2.085938 15.167969 1.394531 19.132812 C 0.691406 23.4375 0 29.46875 0 37.21875 C 0 44.972656 0.691406 51 1.5625 55.308594 C 2.261719 59.09375 5.566406 61.855469 9.394531 62.714844 C 15.484375 63.921875 25.925781 64.78125 37.414062 64.78125 C 48.902344 64.78125 59.339844 63.921875 65.433594 62.714844 C 69.257812 61.855469 72.5625 59.269531 73.261719 55.308594 C 73.957031 51 74.824219 44.796875 75.003906 37.21875 C 74.648438 29.46875 73.777344 23.4375 72.910156 19.132812 Z M 27.84375 49.277344 L 27.84375 25.160156 L 49.070312 37.21875 Z M 27.84375 49.277344 \" fill=\"currentColor\"></path></g></g></svg></a><a class=\"text-gray-400 hover:text-gray-300\" href=\"https://cdm.sh/discord\" rel=\"noopener noreferrer nofollow\" target=\"_blank\"><span class=\"sr-only\">Discord</span><svg aria-hidden=\"true\" class=\"h-6 flex w-6\" fill=\"currentColor\" viewbox=\"0 0 50 50\"><path d=\"M 41.625 10.769531 C 37.644531 7.566406 31.347656 7.023438 31.078125 7.003906 C 30.660156 6.96875 30.261719 7.203125 30.089844 7.589844 C 30.074219 7.613281 29.9375 7.929688 29.785156 8.421875 C 32.417969 8.867188 35.652344 9.761719 38.578125 11.578125 C 39.046875 11.867188 39.191406 12.484375 38.902344 12.953125 C 38.710938 13.261719 38.386719 13.429688 38.050781 13.429688 C 37.871094 13.429688 37.6875 13.378906 37.523438 13.277344 C 32.492188 10.15625 26.210938 10 25 10 C 23.789063 10 17.503906 10.15625 12.476563 13.277344 C 12.007813 13.570313 11.390625 13.425781 11.101563 12.957031 C 10.808594 12.484375 10.953125 11.871094 11.421875 11.578125 C 14.347656 9.765625 17.582031 8.867188 20.214844 8.425781 C 20.0625 7.929688 19.925781 7.617188 19.914063 7.589844 C 19.738281 7.203125 19.34375 6.960938 18.921875 7.003906 C 18.652344 7.023438 12.355469 7.566406 8.320313 10.8125 C 6.214844 12.761719 2 24.152344 2 34 C 2 34.175781 2.046875 34.34375 2.132813 34.496094 C 5.039063 39.605469 12.972656 40.941406 14.78125 41 C 14.789063 41 14.800781 41 14.8125 41 C 15.132813 41 15.433594 40.847656 15.621094 40.589844 L 17.449219 38.074219 C 12.515625 36.800781 9.996094 34.636719 9.851563 34.507813 C 9.4375 34.144531 9.398438 33.511719 9.765625 33.097656 C 10.128906 32.683594 10.761719 32.644531 11.175781 33.007813 C 11.234375 33.0625 15.875 37 25 37 C 34.140625 37 38.78125 33.046875 38.828125 33.007813 C 39.242188 32.648438 39.871094 32.683594 40.238281 33.101563 C 40.601563 33.515625 40.5625 34.144531 40.148438 34.507813 C 40.003906 34.636719 37.484375 36.800781 32.550781 38.074219 L 34.378906 40.589844 C 34.566406 40.847656 34.867188 41 35.1875 41 C 35.199219 41 35.210938 41 35.21875 41 C 37.027344 40.941406 44.960938 39.605469 47.867188 34.496094 C 47.953125 34.34375 48 34.175781 48 34 C 48 24.152344 43.785156 12.761719 41.625 10.769531 Z M 18.5 30 C 16.566406 30 15 28.210938 15 26 C 15 23.789063 16.566406 22 18.5 22 C 20.433594 22 22 23.789063 22 26 C 22 28.210938 20.433594 30 18.5 30 Z M 31.5 30 C 29.566406 30 28 28.210938 28 26 C 28 23.789063 29.566406 22 31.5 22 C 33.433594 22 35 23.789063 35 26 C 35 28.210938 33.433594 30 31.5 30 Z\"></path></svg></a></div></div><div class=\"mt-12 grid grid-cols-2 gap-8 xl:mt-0 xl:col-span-2\"><div class=\"md:grid md:grid-cols-2 md:gap-8\"><div><h3 class=\"text-sm font-semibold text-gray-400 tracking-wider uppercase\">Solutions</h3><ul class=\"mt-4 space-y-4\"><li><a class=\"text-base text-gray-300 hover:text-white\" href=\"/learning-paths\">Learning paths</a></li><li><a class=\"text-base text-gray-300 hover:text-white\" href=\"/learning-paths/fullstack\">Become a full stack web developer</a></li><li><a class=\"text-base text-gray-300 hover:text-white\" href=\"/what-programming-language-should-i-learn\">What programming language should I learn?</a></li></ul></div><div class=\"mt-12 md:mt-0\"><h3 class=\"text-sm font-semibold text-gray-400 tracking-wider uppercase\">Support</h3><ul class=\"mt-4 space-y-4\"><li><a class=\"text-base text-gray-300 hover:text-white\" href=\"/contact\">Contact us</a></li><li><a class=\"text-base text-gray-300 hover:text-white\" href=\"/pricing\">Pricing</a></li><li><a class=\"text-base text-gray-300 hover:text-white\" href=\"/register\">Create a free account</a></li></ul></div></div><div class=\"md:grid md:grid-cols-2 md:gap-8\"><div><h3 class=\"text-sm font-semibold text-gray-400 tracking-wider uppercase\">Company</h3><ul class=\"mt-4 space-y-4\"><li><a class=\"text-base text-gray-300 hover:text-white\" href=\"/news\">Blog</a></li><li><a class=\"text-base text-gray-300 hover:text-white\" href=\"https://codedamn.freshteam.com/jobs\" rel=\"noreferrer nofollow\" target=\"_blank\">Careers</a></li><li><a class=\"text-base text-gray-300 hover:text-white\" href=\"/news/product/write-for-codedamn\">Write on codedamn</a></li><li><a class=\"text-base text-gray-300 hover:text-white\" href=\"/campus\">Campus Evangelist</a></li><li><a class=\"text-base text-gray-300 hover:text-white\" href=\"https://partner.codedamn.com\">Affiliate Program</a></li></ul></div><div class=\"mt-12 md:mt-0\"><h3 class=\"text-sm font-semibold text-gray-400 tracking-wider uppercase\">Legal</h3><ul class=\"mt-4 space-y-4\"><li><a class=\"text-base text-gray-300 hover:text-white\" href=\"/privacy-policy\">Privacy</a></li><li><a class=\"text-base text-gray-300 hover:text-white\" href=\"/terms-of-service\">Terms</a></li></ul></div></div></div></div><div class=\"mt-12 border-t border-gray-600 pt-8\"><p class=\"text-base text-gray-400 xl:text-center\">© codedamn™ <!-- -->2022<!-- --> | All rights reserved.</p></div></div></footer><div style=\"position:fixed;z-index:200000;top:16px;left:16px;right:16px;bottom:16px;pointer-events:none\"></div></div></div><script id=\"__NEXT_DATA__\" type=\"application/json\">{\"props\":{\"pageProps\":{\"fullstack\":{\"title\":\"Full Stack Web Developer Learning Path\",\"avgTimeToComplete\":\"~8 months\",\"description\":\"This is a roadmap to become a fullstack developer from scratch. Our tech stack focuses on modern technologies of 2022 in the web development space. Linux, React, Next.js, TypeScript, Node, CI/CD, AWS, and scalable, stateless aspects of coding.\",\"blog\":{\"title\":\"Complete guide of becoming full-stack web developer in 2022\",\"markdown\":\"## What is the meaning of full-stack?\\n\\nA full stack developer = frontend + backend + databases + CI/CD + OS/cloud knowledge.\\n\\nThis might seem like a lot of tasks but it is possible to learn these things from the full-stack path we have above.\\n\\nA full stack developer is a software engineer who can ideally build and deploy medium to large size applications end to end, from frontend to backend to databases. Let's take a look at all technologies you'll need in this adventure of yours.\\n\\n## What technologies would I learn?\\n\\nFor frontend, there are only three core technologies you have to know about - HTML, CSS, and JavaScript. On top of this, we will learn about React and Next.js that are modern standards of 2022\\n\\nFor backend, we will be covering the Node.js + GraphQL alongside MongoDB and Redis for database and caching. We would also learn about best web security practices. We will build production ready projects and you would have the option to use them for your resume in your portfolio on codedamn.\\n\\nFinally, we will learn how to deploy these projects on cloud providers like AWS and Vercel. At the end there would be a full-stack certification exam to test out our knowledge and grant you the final certificate of completion for the full-stack learning path.\\n\\nWe pick an opinionated (production ready + relevant today) tech stack in the learning path above. We go deep into this tech stack on our full stack learning path above.\",\"featureImage\":\"https://raw.githubusercontent.com/codedamn/email-assets/master/welcome-email-banner.png\"},\"groups\":[{\"title\":\"Basics of web\",\"description\":\"Learn about internet fundamentals, why you are learning what you are learning and the high overview of full-stack.\",\"nodes\":[{\"label\":\"Internet Fundamentals\",\"free\":true,\"courseState\":\"regular\",\"outline\":[{\"slug\":\"http-fundamentals\",\"section\":\"Internet and DNS\",\"_sectionDuration\":715,\"sectionDuration\":\"11 minutes\",\"items\":[{\"index\":0,\"duration\":\"00:55\",\"parentslug\":\"http-fundamentals\",\"slug\":\"wrlVLOO83Dw_-b2dvkmZH\",\"title\":\"Introduction to full-stack learning path\",\"type\":\"article\"},{\"index\":1,\"duration\":\"01:15\",\"parentslug\":\"http-fundamentals\",\"slug\":\"xD-xs2bVL\",\"title\":\"Introduction to HTTP\",\"type\":\"video\"},{\"index\":2,\"duration\":\"08:45\",\"parentslug\":\"http-fundamentals\",\"slug\":\"kYHbhaznHR\",\"title\":\"What is DNS?\",\"type\":\"video\"},{\"index\":3,\"duration\":\"01:00\",\"parentslug\":\"http-fundamentals\",\"slug\":\"iSqu7ntiMZ8tcuLA9LO_Y\",\"title\":\"What does DNS do?\",\"type\":\"quiz\"}]},{\"slug\":\"http-fundamentals\",\"section\":\"HTTP\",\"_sectionDuration\":1936,\"sectionDuration\":\"32 minutes\",\"items\":[{\"index\":4,\"duration\":\"06:00\",\"parentslug\":\"http-fundamentals\",\"slug\":\"PNTnV73wjR\",\"title\":\"HTTP Status Codes\",\"type\":\"video\"},{\"index\":5,\"duration\":\"01:00\",\"parentslug\":\"http-fundamentals\",\"slug\":\"BfHyzj-62QJM0ZjDQ9iFO\",\"title\":\"Select the correct status code and its description\",\"type\":\"quiz\"},{\"index\":6,\"duration\":\"04:52\",\"parentslug\":\"http-fundamentals\",\"slug\":\"tFht0rFmwW\",\"title\":\"Port Number\",\"type\":\"video\"},{\"index\":7,\"duration\":\"01:00\",\"parentslug\":\"http-fundamentals\",\"slug\":\"8TQ3YDh3m_mGhirmtgD4o\",\"title\":\"Which one is not a valid port number?\",\"type\":\"quiz\"},{\"index\":8,\"duration\":\"06:29\",\"parentslug\":\"http-fundamentals\",\"slug\":\"nyUhXR8f1h\",\"title\":\"HTTP Request Methods\",\"type\":\"video\"},{\"index\":9,\"duration\":\"01:00\",\"parentslug\":\"http-fundamentals\",\"slug\":\"Ld-BO41uiCMVt3tHCI6hR\",\"title\":\"Which one is NOT a HTTP request method?\",\"type\":\"quiz\"},{\"index\":10,\"duration\":\"04:15\",\"parentslug\":\"http-fundamentals\",\"slug\":\"0GAsuWsyEz\",\"title\":\"HTTP Request Headers\",\"type\":\"video\"},{\"index\":11,\"duration\":\"01:00\",\"parentslug\":\"http-fundamentals\",\"slug\":\"4mWSAdG0b3BaEU9cpG8Zh\",\"title\":\"What is true about Headers in HTTP?\",\"type\":\"quiz\"},{\"index\":12,\"duration\":\"06:13\",\"parentslug\":\"http-fundamentals\",\"slug\":\"KgOEbln0M0\",\"title\":\"Raw HTTP Requests using netcat\",\"type\":\"video\"},{\"index\":13,\"duration\":\"00:27\",\"parentslug\":\"http-fundamentals\",\"slug\":\"sJOXh4MAs2fEsILuk-qUJ\",\"title\":\"Next Steps\",\"type\":\"article\"}]}],\"outlineMeta\":{\"duration\":2651,\"videos\":7,\"quizzes\":5,\"labs\":0,\"slug\":\"http-fundamentals\",\"courseImage\":\"https://creator-assets.codedamn.com/official-61897bfe60f1140008feb00d/course-image/2022-01-07/03df39174d46fa8262901e4956581ca71ff4740d\"}},{\"label\":\"HTML/CSS Fundamentals\",\"free\":true,\"courseState\":\"regular\",\"outline\":[{\"slug\":\"html-css\",\"section\":\"HTML Basics\",\"_sectionDuration\":7317,\"sectionDuration\":\"02 hours\",\"items\":[{\"index\":0,\"duration\":\"01:30\",\"parentslug\":\"html-css\",\"slug\":\"gVNDGRqeFA\",\"title\":\"Introduction\",\"type\":\"video\"},{\"index\":1,\"duration\":\"07:07\",\"parentslug\":\"html-css\",\"slug\":\"-nVDgKRVsTb2xgIP2TcLV\",\"title\":\"How to use Codedamn\",\"type\":\"lab\"},{\"index\":2,\"duration\":\"05:13\",\"parentslug\":\"html-css\",\"slug\":\"m7kHxaHTqwLxkQmrZdvzP\",\"title\":\"How to use VSCode\",\"type\":\"video\"},{\"index\":3,\"duration\":\"05:25\",\"parentslug\":\"html-css\",\"slug\":\"hhERUfpXWw\",\"title\":\"First HTML Page\",\"type\":\"video\"},{\"index\":5,\"duration\":\"05:00\",\"parentslug\":\"html-css\",\"slug\":\"7jRchGWZ6bi0tfljRXNNg\",\"title\":\"Comments in HTML\",\"type\":\"lab\"},{\"index\":6,\"duration\":\"04:10\",\"parentslug\":\"html-css\",\"slug\":\"3fXYGBhJUg\",\"title\":\"HTML Tags\",\"type\":\"video\"},{\"index\":8,\"duration\":\"09:41\",\"parentslug\":\"html-css\",\"slug\":\"e8yvqy5ZdLDb_WyZ69WP3\",\"title\":\"Say Hello to HTML Elements.\",\"type\":\"lab\"},{\"index\":9,\"duration\":\"05:00\",\"parentslug\":\"html-css\",\"slug\":\"kE5aNl_EseqTjMEItWVOp\",\"title\":\"Headline with the h2 Element\",\"type\":\"lab\"},{\"index\":11,\"duration\":\"12:31\",\"parentslug\":\"html-css\",\"slug\":\"mT-XpdfakluOMPDrg_RaF\",\"title\":\"Paragraph, Block and In-Line tags\",\"type\":\"lab\"},{\"index\":13,\"duration\":\"08:57\",\"parentslug\":\"html-css\",\"slug\":\"VS61EGhWqWonELHU5sSWs\",\"title\":\"Anchor Tag\",\"type\":\"lab\"},{\"index\":14,\"duration\":\"03:29\",\"parentslug\":\"html-css\",\"slug\":\"N3ZQBJdTBb\",\"title\":\"Why HTML tags exist?\",\"type\":\"video\"},{\"index\":15,\"duration\":\"05:39\",\"parentslug\":\"html-css\",\"slug\":\"7-ngb1X1Hd\",\"title\":\"Image (img) tag\",\"type\":\"video\"},{\"index\":16,\"duration\":\"05:49\",\"parentslug\":\"html-css\",\"slug\":\"3BsMz6HgzF\",\"title\":\"Video (video) tag\",\"type\":\"video\"},{\"index\":17,\"duration\":\"04:46\",\"parentslug\":\"html-css\",\"slug\":\"aL1OsK6qylA\",\"title\":\"Table (table) tag\",\"type\":\"video\"},{\"index\":19,\"duration\":\"15:00\",\"parentslug\":\"html-css\",\"slug\":\"WNU_lnNlQtsXyu5sC5j_d\",\"title\":\"Create a Text Field\",\"type\":\"lab\"},{\"index\":20,\"duration\":\"05:00\",\"parentslug\":\"html-css\",\"slug\":\"UGi1vBDWanRs9bV5_sTS9\",\"title\":\"Add Placeholder Text to a Text Field\",\"type\":\"lab\"},{\"index\":22,\"duration\":\"10:24\",\"parentslug\":\"html-css\",\"slug\":\"cSSE6DJrlE5HJgRaFq3lF\",\"title\":\"Declare the Doctype of an HTML Document\",\"type\":\"lab\"},{\"index\":23,\"duration\":\"05:00\",\"parentslug\":\"html-css\",\"slug\":\"1bR75er83SozVwTyfrZLU\",\"title\":\"Define the Head and Body of an HTML Document\",\"type\":\"lab\"},{\"index\":24,\"duration\":\"02:16\",\"parentslug\":\"html-css\",\"slug\":\"RKQafWJeQ2F\",\"title\":\"HTML basics done!\",\"type\":\"video\"}]},{\"slug\":\"html-css\",\"section\":\"CSS Basics\",\"_sectionDuration\":3373,\"sectionDuration\":\"56 minutes\",\"items\":[{\"index\":25,\"duration\":\"02:48\",\"parentslug\":\"html-css\",\"slug\":\"WmjQp-qmLNt\",\"title\":\"CSS Introduction\",\"type\":\"video\"},{\"index\":26,\"duration\":\"05:11\",\"parentslug\":\"html-css\",\"slug\":\"BDR5PwB3gb-\",\"title\":\"CSS Hello World\",\"type\":\"video\"},{\"index\":27,\"duration\":\"03:53\",\"parentslug\":\"html-css\",\"slug\":\"v7Vc_pyxUuRNwyzFoQ5Vy\",\"title\":\"CSS debugging\",\"type\":\"video\"},{\"index\":29,\"duration\":\"08:10\",\"parentslug\":\"html-css\",\"slug\":\"NIZx33pfMiiRTA_Ki_23T\",\"title\":\"Use CSS Selectors to Style Elements\",\"type\":\"lab\"},{\"index\":30,\"duration\":\"04:09\",\"parentslug\":\"html-css\",\"slug\":\"hVqYVT3Kf1f\",\"title\":\"CSS Properties\",\"type\":\"video\"},{\"index\":32,\"duration\":\"09:26\",\"parentslug\":\"html-css\",\"slug\":\"GpzHoNDS_ZYN20uWkLMej\",\"title\":\"Use a CSS Class to Style an Element\",\"type\":\"lab\"},{\"index\":33,\"duration\":\"05:00\",\"parentslug\":\"html-css\",\"slug\":\"JG3Hq6WlmgoRn91ReZJXr\",\"title\":\"Style Multiple Elements with a CSS Class\",\"type\":\"lab\"},{\"index\":35,\"duration\":\"08:30\",\"parentslug\":\"html-css\",\"slug\":\"a2MrmtcQH__kVl85FJWcv\",\"title\":\"Set the id of an Element\",\"type\":\"lab\"},{\"index\":36,\"duration\":\"05:00\",\"parentslug\":\"html-css\",\"slug\":\"G7i8WMN3Xqk0-rnL2DT79\",\"title\":\"Use an id Attribute to Style an Element\",\"type\":\"lab\"},{\"index\":37,\"duration\":\"04:06\",\"parentslug\":\"html-css\",\"slug\":\"mr16jdB0TSe\",\"title\":\"Inline vs block elements\",\"type\":\"video\"}]},{\"slug\":\"html-css\",\"section\":\"Flexbox\",\"_sectionDuration\":5444,\"sectionDuration\":\"01 hours\",\"items\":[{\"index\":38,\"duration\":\"07:59\",\"parentslug\":\"html-css\",\"slug\":\"jqshbs1_iDr\",\"title\":\"Introduction to flexbox layout\",\"type\":\"video\"},{\"index\":39,\"duration\":\"03:49\",\"parentslug\":\"html-css\",\"slug\":\"eu1gKJq2WEG\",\"title\":\"flex-basis in CSS\",\"type\":\"video\"},{\"index\":41,\"duration\":\"08:29\",\"parentslug\":\"html-css\",\"slug\":\"Ed1E9ehm-zFH_KvWcQniU\",\"title\":\"Use the flex-shrink Property to Shrink Items\",\"type\":\"lab\"},{\"index\":42,\"duration\":\"05:00\",\"parentslug\":\"html-css\",\"slug\":\"ue6n6SploC7VkwLxr6doz\",\"title\":\"Use the flex-grow Property to Expand Items\",\"type\":\"lab\"},{\"index\":43,\"duration\":\"05:00\",\"parentslug\":\"html-css\",\"slug\":\"5V3jbsjtfVNe7sfNiSSIo\",\"title\":\"Add Flex Superpowers to the Tweet Embed\",\"type\":\"lab\"},{\"index\":44,\"duration\":\"02:43\",\"parentslug\":\"html-css\",\"slug\":\"V2Fs4FEE1A_a3vK5X8m6o\",\"title\":\"flex-wrap CSS property\",\"type\":\"video\"},{\"index\":45,\"duration\":\"05:00\",\"parentslug\":\"html-css\",\"slug\":\"-Z0z11vZheb0THSQUUXGY\",\"title\":\"Apply the flex-direction Property to Create Rows in the Tweet Embed\",\"type\":\"lab\"},{\"index\":46,\"duration\":\"05:00\",\"parentslug\":\"html-css\",\"slug\":\"heyiVGF08Dy8F4Ul0Fdwf\",\"title\":\"Apply the flex-direction Property to Create a Column in the Tweet Embed\",\"type\":\"lab\"},{\"index\":48,\"duration\":\"15:59\",\"parentslug\":\"html-css\",\"slug\":\"Lup7gXFL1ek5oNH7DPwGC\",\"title\":\"Align Elements Using the justify-content Property\",\"type\":\"lab\"},{\"index\":50,\"duration\":\"12:34\",\"parentslug\":\"html-css\",\"slug\":\"2CVph0k4qYneqLojmj75V\",\"title\":\"Build a Tribute Page\",\"type\":\"lab\"},{\"index\":52,\"duration\":\"19:11\",\"parentslug\":\"html-css\",\"slug\":\"yBol-ql6q-QwCr9CAnRCx\",\"title\":\"Google homepage layout practice\",\"type\":\"lab\"}]},{\"slug\":\"html-css\",\"section\":\"CSS Position\",\"_sectionDuration\":739,\"sectionDuration\":\"12 minutes\",\"items\":[{\"index\":53,\"duration\":\"06:49\",\"parentslug\":\"html-css\",\"slug\":\"ljqryJA7d_p\",\"title\":\"Absolute and relative CSS position\",\"type\":\"video\"},{\"index\":54,\"duration\":\"02:33\",\"parentslug\":\"html-css\",\"slug\":\"gFY0uodmbkQ\",\"title\":\"fixed CSS position\",\"type\":\"video\"},{\"index\":55,\"duration\":\"02:57\",\"parentslug\":\"html-css\",\"slug\":\"yzt3NQanyux\",\"title\":\"sticky CSS position\",\"type\":\"video\"}]},{\"slug\":\"html-css\",\"section\":\"Flexbox Tweet Builder\",\"_sectionDuration\":2100,\"sectionDuration\":\"35 minutes\",\"items\":[{\"index\":56,\"duration\":\"05:00\",\"parentslug\":\"html-css\",\"slug\":\"MhjtRHMQsF39BDF554qcg\",\"title\":\"Add Flex Superpowers to the Tweet Embed\",\"type\":\"lab\"},{\"index\":57,\"duration\":\"05:00\",\"parentslug\":\"html-css\",\"slug\":\"pw8xqImTp1CMTsL8tUzwR\",\"title\":\"Apply the flex-direction Property to Create Rows in the Tweet Embed\",\"type\":\"lab\"},{\"index\":58,\"duration\":\"05:00\",\"parentslug\":\"html-css\",\"slug\":\"dKn2VaVcJWl7ZmDKgO92y\",\"title\":\"Apply the flex-direction Property to Create a Column in the Tweet Embed\",\"type\":\"lab\"},{\"index\":59,\"duration\":\"05:00\",\"parentslug\":\"html-css\",\"slug\":\"M5Cgz5aZRIWGRstUM9nCJ\",\"title\":\"Use the justify-content Property in the Tweet Embed\",\"type\":\"lab\"},{\"index\":60,\"duration\":\"05:00\",\"parentslug\":\"html-css\",\"slug\":\"psBfHLvN76W8jEYG9ojIV\",\"title\":\"Use the align-items Property in the Tweet Embed\",\"type\":\"lab\"},{\"index\":61,\"duration\":\"05:00\",\"parentslug\":\"html-css\",\"slug\":\"dq9NaUDa_hPS2dAPmlhnh\",\"title\":\"Use the flex-wrap Property to Wrap a Row or Column\",\"type\":\"lab\"},{\"index\":62,\"duration\":\"05:00\",\"parentslug\":\"html-css\",\"slug\":\"uigdhpKeyXPHA-P1xWM-n\",\"title\":\"Use the flex-basis Property to Set the Initial Size of an Item\",\"type\":\"lab\"}]},{\"slug\":\"html-css\",\"section\":\"CSS Grid\",\"_sectionDuration\":2082,\"sectionDuration\":\"34 minutes\",\"items\":[{\"index\":63,\"duration\":\"01:49\",\"parentslug\":\"html-css\",\"slug\":\"RsVxNMABYI0dz-j-Cc7wi\",\"title\":\"CSS Grid Introduction\",\"type\":\"video\"},{\"index\":64,\"duration\":\"06:04\",\"parentslug\":\"html-css\",\"slug\":\"jY_HfKoDfpOyNh_4ALuUG\",\"title\":\"Grid Template columns\",\"type\":\"video\"},{\"index\":65,\"duration\":\"01:59\",\"parentslug\":\"html-css\",\"slug\":\"B2ntz767llGxoDHGVKG9G\",\"title\":\"Grid Template Rows\",\"type\":\"video\"},{\"index\":66,\"duration\":\"00:59\",\"parentslug\":\"html-css\",\"slug\":\"y8Lrsy0eHMevt_cA6QvI3\",\"title\":\"Repeat Function\",\"type\":\"video\"},{\"index\":67,\"duration\":\"10:01\",\"parentslug\":\"html-css\",\"slug\":\"v_jId_nSRVGBOeRkUNT-V\",\"title\":\"Grid Template Areas\",\"type\":\"video\"},{\"index\":68,\"duration\":\"05:34\",\"parentslug\":\"html-css\",\"slug\":\"fdEMk9C67t-v3arPHCojG\",\"title\":\"Gap in grid elements\",\"type\":\"video\"},{\"index\":69,\"duration\":\"04:42\",\"parentslug\":\"html-css\",\"slug\":\"XX3P9SG_n4hWoi38nys_G\",\"title\":\"Justify and Align\",\"type\":\"video\"},{\"index\":70,\"duration\":\"03:34\",\"parentslug\":\"html-css\",\"slug\":\"LDJGxnRblmLBsTRuC777V\",\"title\":\"span rows and columns\",\"type\":\"video\"}]},{\"slug\":\"html-css\",\"section\":\"HTML + CSS Practice Projects\",\"_sectionDuration\":627,\"sectionDuration\":\"10 minutes\",\"items\":[{\"index\":71,\"duration\":\"05:00\",\"parentslug\":\"html-css\",\"slug\":\"TYD2elxoP33cS9DUQrBcj\",\"title\":\"Build a Product Landing Page\",\"type\":\"lab\"},{\"index\":72,\"duration\":\"05:00\",\"parentslug\":\"html-css\",\"slug\":\"9GHdXbZou2mlLxpevmfEM\",\"title\":\"Build a Survey Form\",\"type\":\"lab\"},{\"index\":73,\"duration\":\"00:27\",\"parentslug\":\"html-css\",\"slug\":\"2XIs3pA6bBRcS1Pw0mxO1\",\"title\":\"Next steps\",\"type\":\"article\"}]}],\"outlineMeta\":{\"duration\":21682,\"videos\":28,\"quizzes\":0,\"labs\":32,\"slug\":\"html-css\",\"courseImage\":\"https://creator-assets.codedamn.com/codedamn-5f1f31bbf8bab7fa6ddb6fdb/course-image/2021-01-03/c123c91e083997486778f8b36143a3d7ed2eb772\"}}]},{\"title\":\"Frontend Basics\",\"description\":\"Buckle up! We are about to learn frontend web development and the best tech stack in 2022\",\"nodes\":[{\"label\":\"Advanced HTML5/CSS3\",\"free\":true,\"courseState\":\"regular\",\"outline\":[{\"slug\":\"advanced-html-css\",\"section\":\"HTML5 Concepts\",\"_sectionDuration\":3605,\"sectionDuration\":\"01 hours\",\"items\":[{\"index\":0,\"duration\":\"01:06\",\"parentslug\":\"advanced-html-css\",\"slug\":\"RivzE-s03\",\"title\":\"Introduction\",\"type\":\"video\"},{\"index\":1,\"duration\":\"06:23\",\"parentslug\":\"advanced-html-css\",\"slug\":\"2mTzlZA4Ta\",\"title\":\"What is HTML5?\",\"type\":\"video\"},{\"index\":2,\"duration\":\"07:15\",\"parentslug\":\"advanced-html-css\",\"slug\":\"s-q5MYRaWS\",\"title\":\"Meta tags in HTML\",\"type\":\"video\"},{\"index\":3,\"duration\":\"05:00\",\"parentslug\":\"advanced-html-css\",\"slug\":\"hOjOLf8omNeCQpSLGWKn5\",\"title\":\"meta charset\",\"type\":\"lab\"},{\"index\":4,\"duration\":\"06:40\",\"parentslug\":\"advanced-html-css\",\"slug\":\"i3NdKJy9_p\",\"title\":\"Logical v/s Physical tags\",\"type\":\"video\"},{\"index\":5,\"duration\":\"03:56\",\"parentslug\":\"advanced-html-css\",\"slug\":\"hE3We7VINm\",\"title\":\"Conditional comments\",\"type\":\"video\"},{\"index\":6,\"duration\":\"04:12\",\"parentslug\":\"advanced-html-css\",\"slug\":\"CuFnzawSRV\",\"title\":\"HTML entities\",\"type\":\"video\"},{\"index\":7,\"duration\":\"11:21\",\"parentslug\":\"advanced-html-css\",\"slug\":\"7H4y6mlz6T\",\"title\":\"Form inputs\",\"type\":\"video\"},{\"index\":8,\"duration\":\"06:10\",\"parentslug\":\"advanced-html-css\",\"slug\":\"viM_ECmCox\",\"title\":\"iframes in HTML\",\"type\":\"video\"},{\"index\":9,\"duration\":\"08:02\",\"parentslug\":\"advanced-html-css\",\"slug\":\"72RLxbzSWa\",\"title\":\"CSS Specificity\",\"type\":\"video\"}]},{\"slug\":\"advanced-html-css\",\"section\":\"Advanced CSS3\",\"_sectionDuration\":4729,\"sectionDuration\":\"01 hours\",\"items\":[{\"index\":10,\"duration\":\"07:38\",\"parentslug\":\"advanced-html-css\",\"slug\":\"TTq7skdiJy\",\"title\":\"CSS Box Model\",\"type\":\"video\"},{\"index\":11,\"duration\":\"05:00\",\"parentslug\":\"advanced-html-css\",\"slug\":\"DeBoWM_6X-DeGIT2Z7Ppz\",\"title\":\"Interactive Box Model\",\"type\":\"lab\"},{\"index\":12,\"duration\":\"07:18\",\"parentslug\":\"advanced-html-css\",\"slug\":\"aW9FZmXp9q\",\"title\":\"CSS Variables\",\"type\":\"video\"},{\"index\":13,\"duration\":\"05:00\",\"parentslug\":\"advanced-html-css\",\"slug\":\"A_XNxq76hAxtv_BT3B5Vp\",\"title\":\"CSS Variables\",\"type\":\"lab\"},{\"index\":14,\"duration\":\"07:10\",\"parentslug\":\"advanced-html-css\",\"slug\":\"kYTGzmiQae\",\"title\":\"CSS calc function\",\"type\":\"video\"},{\"index\":15,\"duration\":\"15:56\",\"parentslug\":\"advanced-html-css\",\"slug\":\"1Cno5RiE6V\",\"title\":\"CSS Pseudo selectors\",\"type\":\"video\"},{\"index\":16,\"duration\":\"09:44\",\"parentslug\":\"advanced-html-css\",\"slug\":\"Zf_XO8E7Ph\",\"title\":\"Pseudo elements\",\"type\":\"video\"},{\"index\":17,\"duration\":\"03:12\",\"parentslug\":\"advanced-html-css\",\"slug\":\"ugDQx-NvH8\",\"title\":\"'attr' property\",\"type\":\"video\"},{\"index\":18,\"duration\":\"10:37\",\"parentslug\":\"advanced-html-css\",\"slug\":\"GJ0aGcywGQ\",\"title\":\"Advanced CSS Selectors\",\"type\":\"video\"},{\"index\":19,\"duration\":\"07:14\",\"parentslug\":\"advanced-html-css\",\"slug\":\"zWaGuoK9MD1\",\"title\":\"Attribute Selectors\",\"type\":\"video\"}]},{\"slug\":\"advanced-html-css\",\"section\":\"CSS Media Queries\",\"_sectionDuration\":1507,\"sectionDuration\":\"25 minutes\",\"items\":[{\"index\":20,\"duration\":\"00:50\",\"parentslug\":\"advanced-html-css\",\"slug\":\"8TI8zCMrYcTOZoA8i4BjO\",\"title\":\"Introduction\",\"type\":\"video\"},{\"index\":21,\"duration\":\"02:42\",\"parentslug\":\"advanced-html-css\",\"slug\":\"f_8MEzz0CLuf7rrakrCo1\",\"title\":\"Responsive v/s Non Responsive Websites\",\"type\":\"video\"},{\"index\":22,\"duration\":\"09:45\",\"parentslug\":\"advanced-html-css\",\"slug\":\"j99KtGdwYdxICGtuxGZSE\",\"title\":\"Convering non-responsive website to responsive\",\"type\":\"video\"},{\"index\":23,\"duration\":\"05:41\",\"parentslug\":\"advanced-html-css\",\"slug\":\"WdwR9KbWLb2FqReUDYJ6p\",\"title\":\"More on converting website to responsive\",\"type\":\"video\"},{\"index\":24,\"duration\":\"03:32\",\"parentslug\":\"advanced-html-css\",\"slug\":\"mQI1SlA54e0kwFyEPQhrm\",\"title\":\"More media query rules\",\"type\":\"video\"},{\"index\":25,\"duration\":\"02:37\",\"parentslug\":\"advanced-html-css\",\"slug\":\"naLhHu5v6_0PdHJUNjmvd\",\"title\":\"Media print\",\"type\":\"video\"}]},{\"slug\":\"advanced-html-css\",\"section\":\"CSS Animations\",\"_sectionDuration\":821,\"sectionDuration\":\"13 minutes\",\"items\":[{\"index\":26,\"duration\":\"08:41\",\"parentslug\":\"advanced-html-css\",\"slug\":\"H3FqIE3OwT9NbhyH62No1\",\"title\":\"CSS Animation basics\",\"type\":\"video\"},{\"index\":27,\"duration\":\"01:25\",\"parentslug\":\"advanced-html-css\",\"slug\":\"Svuxfbn2GahS_O4Eaw1dN\",\"title\":\"Maintaining final animation state\",\"type\":\"video\"},{\"index\":28,\"duration\":\"03:35\",\"parentslug\":\"advanced-html-css\",\"slug\":\"01_We3YuM7914J52uRAF7\",\"title\":\"Sudden animation changes\",\"type\":\"video\"}]},{\"slug\":\"advanced-html-css\",\"section\":\"Projects\",\"_sectionDuration\":16200,\"sectionDuration\":\"04 hours\",\"items\":[{\"index\":29,\"duration\":\"01:30:00\",\"parentslug\":\"advanced-html-css\",\"slug\":\"5Nh1nX2RyGwwDUtobOuMr\",\"title\":\"HTML5 Massively Landing Page\",\"type\":\"project\"},{\"index\":30,\"duration\":\"01:30:00\",\"parentslug\":\"advanced-html-css\",\"slug\":\"iTT4j5wdD-g8a9nzny7-i\",\"title\":\"Multiverse HTML5 Photo Gallery Project\",\"type\":\"project\"},{\"index\":31,\"duration\":\"01:30:00\",\"parentslug\":\"advanced-html-css\",\"slug\":\"eoaVRWSxAwJnGSxx8uxoh\",\"title\":\"Eventually - Stunning HTML5 Landing Page\",\"type\":\"project\"}]}],\"outlineMeta\":{\"duration\":26862,\"videos\":26,\"quizzes\":0,\"labs\":3,\"slug\":\"advanced-html-css\",\"courseImage\":\"https://creator-assets.codedamn.com/codedamn-5f1f31bbf8bab7fa6ddb6fdb/course-image/2020-12-13/a7677c190458e60b38cdda552b88dadf7ad6d894\"}},{\"label\":\"JavaScript Essentials\",\"free\":true,\"courseState\":\"regular\",\"outline\":[{\"slug\":\"javascript-basics\",\"section\":\"Introduction To JavaScript\",\"_sectionDuration\":2299,\"sectionDuration\":\"38 minutes\",\"items\":[{\"index\":0,\"duration\":\"01:20\",\"parentslug\":\"javascript-basics\",\"slug\":\"L13ZnaVI2y\",\"title\":\"Course Introduction\",\"type\":\"video\"},{\"index\":1,\"duration\":\"02:10\",\"parentslug\":\"javascript-basics\",\"slug\":\"IlPzAOSynS\",\"title\":\"Setting up codedamn playground\",\"type\":\"video\"},{\"index\":2,\"duration\":\"03:06\",\"parentslug\":\"javascript-basics\",\"slug\":\"o3us_AR1ZB\",\"title\":\"Hello World\",\"type\":\"video\"},{\"index\":3,\"duration\":\"05:00\",\"parentslug\":\"javascript-basics\",\"slug\":\"JkFdToZSYYP2bkRlsQRHh\",\"title\":\"Hello world lab\",\"type\":\"lab\"},{\"index\":4,\"duration\":\"07:15\",\"parentslug\":\"javascript-basics\",\"slug\":\"KBpi8NIh9-\",\"title\":\"Variables\",\"type\":\"video\"},{\"index\":5,\"duration\":\"10:10\",\"parentslug\":\"javascript-basics\",\"slug\":\"avmx_IwEu_\",\"title\":\"Data Types\",\"type\":\"video\"},{\"index\":6,\"duration\":\"05:00\",\"parentslug\":\"javascript-basics\",\"slug\":\"4dP8eKiUx5Xu4SsVZijmw\",\"title\":\"Create variables with JavaScript\",\"type\":\"lab\"},{\"index\":7,\"duration\":\"03:18\",\"parentslug\":\"javascript-basics\",\"slug\":\"oM-pad2S5c05nWXPO4Nva\",\"title\":\"typeof\",\"type\":\"video\"},{\"index\":8,\"duration\":\"01:00\",\"parentslug\":\"javascript-basics\",\"slug\":\"Shz2bhsE96s2546WTWD1O\",\"title\":\"What will be the output of \\\"typeof 1337\\\"?\",\"type\":\"quiz\"}]},{\"slug\":\"javascript-basics\",\"section\":\"Language Fundamentals\",\"_sectionDuration\":6871,\"sectionDuration\":\"01 hours\",\"items\":[{\"index\":9,\"duration\":\"06:45\",\"parentslug\":\"javascript-basics\",\"slug\":\"Nqk1heKMrH5\",\"title\":\"Math operators\",\"type\":\"video\"},{\"index\":10,\"duration\":\"05:00\",\"parentslug\":\"javascript-basics\",\"slug\":\"lVO_tzBymODc7S0Pu5OSS\",\"title\":\"Power of 5\",\"type\":\"lab\"},{\"index\":11,\"duration\":\"03:26\",\"parentslug\":\"javascript-basics\",\"slug\":\"jU0UINPn1xO\",\"title\":\"Increment Decrement\",\"type\":\"video\"},{\"index\":12,\"duration\":\"04:15\",\"parentslug\":\"javascript-basics\",\"slug\":\"9EI7g0ad7d\",\"title\":\"console.log and Chrome DevTools\",\"type\":\"video\"},{\"index\":13,\"duration\":\"04:03\",\"parentslug\":\"javascript-basics\",\"slug\":\"2AyUBVZgsl\",\"title\":\"Functions\",\"type\":\"video\"},{\"index\":14,\"duration\":\"04:19\",\"parentslug\":\"javascript-basics\",\"slug\":\"L6HgCxJEYv\",\"title\":\"Function Parameters\",\"type\":\"video\"},{\"index\":15,\"duration\":\"05:14\",\"parentslug\":\"javascript-basics\",\"slug\":\"WSKnbb84_C\",\"title\":\"return statement\",\"type\":\"video\"},{\"index\":16,\"duration\":\"05:00\",\"parentslug\":\"javascript-basics\",\"slug\":\"wDqzAMs26WAUU7gcNwheS\",\"title\":\"Calculator with function\",\"type\":\"lab\"},{\"index\":17,\"duration\":\"05:27\",\"parentslug\":\"javascript-basics\",\"slug\":\"gZ-45X6AM1S\",\"title\":\"if-else\",\"type\":\"video\"},{\"index\":18,\"duration\":\"05:00\",\"parentslug\":\"javascript-basics\",\"slug\":\"O5sCFM7QS6nTzagfndwFf\",\"title\":\"Chaining If Else Statements\",\"type\":\"lab\"},{\"index\":19,\"duration\":\"05:00\",\"parentslug\":\"javascript-basics\",\"slug\":\"HxCBFMZIYYWz5z_C0BZ9X\",\"title\":\"Basic calculator with parameters\",\"type\":\"lab\"},{\"index\":20,\"duration\":\"11:37\",\"parentslug\":\"javascript-basics\",\"slug\":\"M0JfIifKYVd\",\"title\":\"Logical Operators\",\"type\":\"video\"},{\"index\":21,\"duration\":\"07:14\",\"parentslug\":\"javascript-basics\",\"slug\":\"VLUyjMfFl9\",\"title\":\"Arrays\",\"type\":\"video\"},{\"index\":22,\"duration\":\"05:40\",\"parentslug\":\"javascript-basics\",\"slug\":\"VBbtSZzk9je\",\"title\":\"for Loop\",\"type\":\"video\"},{\"index\":23,\"duration\":\"09:30\",\"parentslug\":\"javascript-basics\",\"slug\":\"qdUyVjiw87r\",\"title\":\"break vs continue vs return\",\"type\":\"video\"},{\"index\":24,\"duration\":\"03:17\",\"parentslug\":\"javascript-basics\",\"slug\":\"jwuFiiynNOaLnUeq8N9nK\",\"title\":\"Equality check in JS\",\"type\":\"video\"},{\"index\":25,\"duration\":\"05:19\",\"parentslug\":\"javascript-basics\",\"slug\":\"g3S2yi-sVL\",\"title\":\"Objects\",\"type\":\"video\"},{\"index\":26,\"duration\":\"05:00\",\"parentslug\":\"javascript-basics\",\"slug\":\"6QBloe7sMcTnvnh4ouuMx\",\"title\":\"Build JavaScript objects\",\"type\":\"lab\"},{\"index\":27,\"duration\":\"04:58\",\"parentslug\":\"javascript-basics\",\"slug\":\"34IRFR7npYR8TwxN1AQnd\",\"title\":\"Call by reference in objects\",\"type\":\"video\"},{\"index\":28,\"duration\":\"05:17\",\"parentslug\":\"javascript-basics\",\"slug\":\"toMFXwKDcR\",\"title\":\"Scoping\",\"type\":\"video\"},{\"index\":29,\"duration\":\"03:10\",\"parentslug\":\"javascript-basics\",\"slug\":\"5SAHwDtQAFNGzTvebGI3h\",\"title\":\"Variable shadowing\",\"type\":\"video\"}]},{\"slug\":\"javascript-basics\",\"section\":\"Document Object Model (DOM)\",\"_sectionDuration\":2433,\"sectionDuration\":\"40 minutes\",\"items\":[{\"index\":30,\"duration\":\"04:59\",\"parentslug\":\"javascript-basics\",\"slug\":\"VQ_j77DPkjC\",\"title\":\"Document Object Model (DOM)\",\"type\":\"video\"},{\"index\":31,\"duration\":\"03:11\",\"parentslug\":\"javascript-basics\",\"slug\":\"nZuIjwHGNr3\",\"title\":\"document.querySelector\",\"type\":\"video\"},{\"index\":32,\"duration\":\"04:11\",\"parentslug\":\"javascript-basics\",\"slug\":\"xhOUm5Cy58aJM_GSF55xO\",\"title\":\"document.querySelectorAll\",\"type\":\"video\"},{\"index\":33,\"duration\":\"04:55\",\"parentslug\":\"javascript-basics\",\"slug\":\"0D6_nowmwif\",\"title\":\"Introduction to event listeners\",\"type\":\"video\"},{\"index\":34,\"duration\":\"04:42\",\"parentslug\":\"javascript-basics\",\"slug\":\"noi6zSnNAs4eZhI9J2M6u\",\"title\":\"More on traversing DOM\",\"type\":\"video\"},{\"index\":35,\"duration\":\"08:26\",\"parentslug\":\"javascript-basics\",\"slug\":\"MLLl2k-19YCwywZkeUIdZ\",\"title\":\"Create elements dynamically with JavaScript\",\"type\":\"video\"},{\"index\":36,\"duration\":\"06:19\",\"parentslug\":\"javascript-basics\",\"slug\":\"FymRFMH1E0jwyF7excDr3\",\"title\":\"Change HTML attributes with JavaScript\",\"type\":\"video\"},{\"index\":37,\"duration\":\"03:50\",\"parentslug\":\"javascript-basics\",\"slug\":\"QrStabtXyWD87GSFirlkx\",\"title\":\"Change CSS styles with JavaScript\",\"type\":\"video\"}]},{\"slug\":\"javascript-basics\",\"section\":\"Modern JavaScript (ES6+)\",\"_sectionDuration\":1839,\"sectionDuration\":\"30 minutes\",\"items\":[{\"index\":38,\"duration\":\"05:10\",\"parentslug\":\"javascript-basics\",\"slug\":\"HV7sqx391e2Bjvx4GEFKk\",\"title\":\"Destructuring\",\"type\":\"video\"},{\"index\":39,\"duration\":\"05:02\",\"parentslug\":\"javascript-basics\",\"slug\":\"TuYCodDvv8CYQOLUf74x5\",\"title\":\"Arrow functions\",\"type\":\"video\"},{\"index\":40,\"duration\":\"08:57\",\"parentslug\":\"javascript-basics\",\"slug\":\"xvlvDSEhWPGsorCFUxCQq\",\"title\":\"New array methods\",\"type\":\"video\"},{\"index\":41,\"duration\":\"03:35\",\"parentslug\":\"javascript-basics\",\"slug\":\"qlIhGRN3boD9_QGWUQZSz\",\"title\":\"Template literals\",\"type\":\"video\"},{\"index\":42,\"duration\":\"07:55\",\"parentslug\":\"javascript-basics\",\"slug\":\"4ZGpfLemRny1KR_cjVlmc\",\"title\":\"Promises and fetch\",\"type\":\"video\"}]},{\"slug\":\"javascript-basics\",\"section\":\"JavaScript practice projects\",\"_sectionDuration\":1500,\"sectionDuration\":\"25 minutes\",\"items\":[{\"index\":43,\"duration\":\"05:00\",\"parentslug\":\"javascript-basics\",\"slug\":\"pYguuZC_9ybN-ArW8L8ew\",\"title\":\"Telephone Number Validator\",\"type\":\"lab\"},{\"index\":44,\"duration\":\"05:00\",\"parentslug\":\"javascript-basics\",\"slug\":\"hMEkbJjuZrxanYnwZAx9b\",\"title\":\"Cash Register\",\"type\":\"lab\"},{\"index\":45,\"duration\":\"05:00\",\"parentslug\":\"javascript-basics\",\"slug\":\"d7VdC44Zx2ulXTYQtD4WQ\",\"title\":\"Palindrome Checker\",\"type\":\"lab\"},{\"index\":46,\"duration\":\"05:00\",\"parentslug\":\"javascript-basics\",\"slug\":\"7_rbzpHQa66_yye-CUEP_\",\"title\":\"Caesars Cipher\",\"type\":\"lab\"},{\"index\":47,\"duration\":\"05:00\",\"parentslug\":\"javascript-basics\",\"slug\":\"LJSA3PRdNxD-OwJ3neXs4\",\"title\":\"Roman Numeral Converter\",\"type\":\"lab\"}]}],\"outlineMeta\":{\"duration\":14942,\"videos\":35,\"quizzes\":1,\"labs\":12,\"slug\":\"javascript-basics\",\"courseImage\":\"https://creator-assets.codedamn.com/official-61897bfe60f1140008feb00d/course-image/2022-01-07/2009e08a0e315704a083b613799a03dba9626b02\"}},{\"label\":\"Advanced Practical JavaScript\",\"free\":false,\"courseState\":\"regular\",\"outline\":[{\"slug\":\"advanced-practical-javascript\",\"section\":\"Introduction\",\"_sectionDuration\":145,\"sectionDuration\":\"02 minutes\",\"items\":[{\"index\":0,\"duration\":\"00:50\",\"parentslug\":\"advanced-practical-javascript\",\"slug\":\"1VR69OQ6wQugiMhSo7K5R\",\"title\":\"Welcome to the course\",\"type\":\"video\"},{\"index\":1,\"duration\":\"01:35\",\"parentslug\":\"advanced-practical-javascript\",\"slug\":\"-aRY3w5S7CyTBI4tehxCt\",\"title\":\"How to get unstuck\",\"type\":\"video\"}]},{\"slug\":\"advanced-practical-javascript\",\"section\":\"Promises\",\"_sectionDuration\":5453,\"sectionDuration\":\"01 hours\",\"items\":[{\"index\":2,\"duration\":\"05:43\",\"parentslug\":\"advanced-practical-javascript\",\"slug\":\"EFMnm4g5dpBrwb12cQXO2\",\"title\":\"Introduction\",\"type\":\"video\"},{\"index\":3,\"duration\":\"06:33\",\"parentslug\":\"advanced-practical-javascript\",\"slug\":\"rPEfdz6DdELszhdpY7MYD\",\"title\":\".then\",\"type\":\"video\"},{\"index\":4,\"duration\":\"05:00\",\"parentslug\":\"advanced-practical-javascript\",\"slug\":\"MeyqPjRJKXjB5IHmZYdR3\",\"title\":\".then\",\"type\":\"lab\"},{\"index\":5,\"duration\":\"03:41\",\"parentslug\":\"advanced-practical-javascript\",\"slug\":\"ZZ4_it_QpXKacoG29t-CZ\",\"title\":\".catch\",\"type\":\"video\"},{\"index\":6,\"duration\":\"05:00\",\"parentslug\":\"advanced-practical-javascript\",\"slug\":\"9WeBlkhF92E6tgAPGz9Vz\",\"title\":\".catch\",\"type\":\"lab\"},{\"index\":7,\"duration\":\"07:53\",\"parentslug\":\"advanced-practical-javascript\",\"slug\":\"RSIcnWIkxiBwobjxjx0Ne\",\"title\":\"Nesting Promises\",\"type\":\"video\"},{\"index\":8,\"duration\":\"06:07\",\"parentslug\":\"advanced-practical-javascript\",\"slug\":\"KAcqmGxy3TLghVsCKAJ3K\",\"title\":\"Nesting catch\",\"type\":\"video\"},{\"index\":9,\"duration\":\"08:30\",\"parentslug\":\"advanced-practical-javascript\",\"slug\":\"rtLqnwtqiyDMzCqw8yrdk\",\"title\":\"Converting callback to promises\",\"type\":\"video\"},{\"index\":10,\"duration\":\"05:00\",\"parentslug\":\"advanced-practical-javascript\",\"slug\":\"UFgXL-m1WcxUXkHVR8hru\",\"title\":\"Mini-promised calculator\",\"type\":\"lab\"},{\"index\":11,\"duration\":\"09:57\",\"parentslug\":\"advanced-practical-javascript\",\"slug\":\"_inyjfnQO15H_FFtkHztn\",\"title\":\"Async-Await Introduction\",\"type\":\"video\"},{\"index\":12,\"duration\":\"04:25\",\"parentslug\":\"advanced-practical-javascript\",\"slug\":\"qTboFSZ4RGyXNEpQ2_bTL\",\"title\":\"Error Handling\",\"type\":\"video\"},{\"index\":13,\"duration\":\"08:49\",\"parentslug\":\"advanced-practical-javascript\",\"slug\":\"KtwdaoWAW-i-w7J3iNtAQ\",\"title\":\"Promise.all\",\"type\":\"video\"},{\"index\":14,\"duration\":\"05:00\",\"parentslug\":\"advanced-practical-javascript\",\"slug\":\"fp9vPUaNc410sDWwyjpD3\",\"title\":\"Promise.all\",\"type\":\"lab\"},{\"index\":15,\"duration\":\"04:15\",\"parentslug\":\"advanced-practical-javascript\",\"slug\":\"PmbdrTuTJswWEypHvyRuu\",\"title\":\"Promise.allSettled\",\"type\":\"video\"},{\"index\":16,\"duration\":\"05:00\",\"parentslug\":\"advanced-practical-javascript\",\"slug\":\"Ecdsls_1Dxtd-rR_lanRT\",\"title\":\"Promise.allSettled\",\"type\":\"lab\"}]},{\"slug\":\"advanced-practical-javascript\",\"section\":\"Prototypal Inheritance Model\",\"_sectionDuration\":2420,\"sectionDuration\":\"40 minutes\",\"items\":[{\"index\":17,\"duration\":\"08:01\",\"parentslug\":\"advanced-practical-javascript\",\"slug\":\"0ToZYduyyYv6ddJcuaNzD\",\"title\":\"Introduction\",\"type\":\"video\"},{\"index\":18,\"duration\":\"03:07\",\"parentslug\":\"advanced-practical-javascript\",\"slug\":\"HgcKEqsS4mSUAFxQ5eB8q\",\"title\":\"getPrototypeOf\",\"type\":\"video\"},{\"index\":19,\"duration\":\"01:32\",\"parentslug\":\"advanced-practical-javascript\",\"slug\":\"iCtChdA4XWU1dWEQ3kbor\",\"title\":\"Object.create\",\"type\":\"video\"},{\"index\":20,\"duration\":\"03:00\",\"parentslug\":\"advanced-practical-javascript\",\"slug\":\"jOkBDyIiTLm043f32tPcn\",\"title\":\"setPrototypeOf\",\"type\":\"video\"},{\"index\":21,\"duration\":\"08:21\",\"parentslug\":\"advanced-practical-javascript\",\"slug\":\"ZCMQMf2Kn3fWDOHw1apEJ\",\"title\":\"Functional prototype chain\",\"type\":\"video\"},{\"index\":22,\"duration\":\"05:00\",\"parentslug\":\"advanced-practical-javascript\",\"slug\":\"V3fZErtbG2TMME93En6TE\",\"title\":\"Creating a car\",\"type\":\"lab\"},{\"index\":23,\"duration\":\"06:19\",\"parentslug\":\"advanced-practical-javascript\",\"slug\":\"C94WGykcYzrPgm0FdDe3d\",\"title\":\"delete and hasOwnProperty\",\"type\":\"video\"},{\"index\":24,\"duration\":\"05:00\",\"parentslug\":\"advanced-practical-javascript\",\"slug\":\"qQujv6T0HoA2u08MWP9Y0\",\"title\":\"Using 'delete' and 'hasOwnProperty'\",\"type\":\"lab\"}]},{\"slug\":\"advanced-practical-javascript\",\"section\":\"DOM and Events\",\"_sectionDuration\":3545,\"sectionDuration\":\"59 minutes\",\"items\":[{\"index\":25,\"duration\":\"00:58\",\"parentslug\":\"advanced-practical-javascript\",\"slug\":\"lGbAvz_tVZFgJz2_Sk-om\",\"title\":\"Introduction\",\"type\":\"video\"},{\"index\":26,\"duration\":\"04:00\",\"parentslug\":\"advanced-practical-javascript\",\"slug\":\"q6Is_eK2_Z-5FHv4W4aXk\",\"title\":\"What is DOM really?\",\"type\":\"video\"},{\"index\":27,\"duration\":\"03:49\",\"parentslug\":\"advanced-practical-javascript\",\"slug\":\"vVCk2lHtDpYjg3AiTwflP\",\"title\":\"innerText vs innerHTML\",\"type\":\"video\"},{\"index\":28,\"duration\":\"05:00\",\"parentslug\":\"advanced-practical-javascript\",\"slug\":\"bmwO8_ltCWVwpXwbYwV-c\",\"title\":\"innerText and innerHTML\",\"type\":\"lab\"},{\"index\":29,\"duration\":\"04:09\",\"parentslug\":\"advanced-practical-javascript\",\"slug\":\"JuKJ78VzTS023upbTJZQc\",\"title\":\"createElement\",\"type\":\"video\"},{\"index\":30,\"duration\":\"02:37\",\"parentslug\":\"advanced-practical-javascript\",\"slug\":\"Wp4IgSbO18QlfD8xOuOw-\",\"title\":\"append and prepend\",\"type\":\"video\"},{\"index\":31,\"duration\":\"02:44\",\"parentslug\":\"advanced-practical-javascript\",\"slug\":\"vUgrlQ8z_6eIVTpdWEhoE\",\"title\":\"Removing elements\",\"type\":\"video\"},{\"index\":32,\"duration\":\"05:24\",\"parentslug\":\"advanced-practical-javascript\",\"slug\":\"6KxuerZZdn1XgL0xXC1f-\",\"title\":\"addEventListener\",\"type\":\"video\"},{\"index\":33,\"duration\":\"05:00\",\"parentslug\":\"advanced-practical-javascript\",\"slug\":\"c2dT9gJ98n53SBba7j3wZ\",\"title\":\"addEventListener\",\"type\":\"lab\"},{\"index\":34,\"duration\":\"07:51\",\"parentslug\":\"advanced-practical-javascript\",\"slug\":\"NOsPOtPPKFu898JuWXoDP\",\"title\":\"Event capturing and bubbling\",\"type\":\"video\"},{\"index\":35,\"duration\":\"01:57\",\"parentslug\":\"advanced-practical-javascript\",\"slug\":\"lgZIVH0lhf0Cp_pUv2Iee\",\"title\":\"Third argument boolean\",\"type\":\"video\"},{\"index\":36,\"duration\":\"04:58\",\"parentslug\":\"advanced-practical-javascript\",\"slug\":\"SifltL9H-dWK07cJUSiJ4\",\"title\":\"removeEventListener\",\"type\":\"video\"},{\"index\":37,\"duration\":\"05:00\",\"parentslug\":\"advanced-practical-javascript\",\"slug\":\"AXBCD0ORpFjb_vM2o1kXs\",\"title\":\"removeEventListener\",\"type\":\"lab\"},{\"index\":38,\"duration\":\"05:38\",\"parentslug\":\"advanced-practical-javascript\",\"slug\":\"NZ_85Nn3k8CU_BRPxo0k7\",\"title\":\"event.preventDefault\",\"type\":\"video\"}]},{\"slug\":\"advanced-practical-javascript\",\"section\":\"Objects\",\"_sectionDuration\":2336,\"sectionDuration\":\"38 minutes\",\"items\":[{\"index\":39,\"duration\":\"03:35\",\"parentslug\":\"advanced-practical-javascript\",\"slug\":\"GljmqMmggYCO622uDFr-Y\",\"title\":\"Equality check in JS\",\"type\":\"video\"},{\"index\":40,\"duration\":\"03:25\",\"parentslug\":\"advanced-practical-javascript\",\"slug\":\"PJ5osUUP0Nexkup6gp0rt\",\"title\":\"sameValueZero Algorithm\",\"type\":\"video\"},{\"index\":41,\"duration\":\"05:44\",\"parentslug\":\"advanced-practical-javascript\",\"slug\":\"_TVZ-oEyCwfk7beibIMcg\",\"title\":\"Iterating objects\",\"type\":\"video\"},{\"index\":42,\"duration\":\"07:52\",\"parentslug\":\"advanced-practical-javascript\",\"slug\":\"hfy2MMSx4hC1BtqzpCQD9\",\"title\":\"Introduction to iterators\",\"type\":\"video\"},{\"index\":43,\"duration\":\"07:44\",\"parentslug\":\"advanced-practical-javascript\",\"slug\":\"wkCy0uKR5WKXF2z60j5yN\",\"title\":\"Example on iterators\",\"type\":\"video\"},{\"index\":44,\"duration\":\"04:31\",\"parentslug\":\"advanced-practical-javascript\",\"slug\":\"PeRA4ha4E7tEFD2SipWLy\",\"title\":\"Objects passed by reference\",\"type\":\"video\"},{\"index\":45,\"duration\":\"06:05\",\"parentslug\":\"advanced-practical-javascript\",\"slug\":\"KNxNcTzfdLV9tlGWuH9j6\",\"title\":\"Generator functions\",\"type\":\"video\"}]},{\"slug\":\"advanced-practical-javascript\",\"section\":\"Miscellaneous\",\"_sectionDuration\":789,\"sectionDuration\":\"13 minutes\",\"items\":[{\"index\":46,\"duration\":\"09:02\",\"parentslug\":\"advanced-practical-javascript\",\"slug\":\"mOzx7AglGS8UT6zr0e_D0\",\"title\":\"JSON parsing\",\"type\":\"video\"},{\"index\":47,\"duration\":\"04:07\",\"parentslug\":\"advanced-practical-javascript\",\"slug\":\"djEACZOeTKD0mwf5SbUi1\",\"title\":\"Strict mode\",\"type\":\"video\"}]}],\"outlineMeta\":{\"duration\":14688,\"videos\":38,\"quizzes\":0,\"labs\":10,\"slug\":\"advanced-practical-javascript\",\"courseImage\":\"https://creator-assets.codedamn.com/codedamn-5f1f31bbf8bab7fa6ddb6fdb/course-image/2021-03-30/3df684a6076cb24365869e3776276a6da0cff374\"}},{\"label\":\"Using DevTools\",\"free\":false,\"courseState\":\"regular\",\"outline\":[{\"slug\":\"chrome-devtools\",\"section\":\"Introduction\",\"_sectionDuration\":365,\"sectionDuration\":\"06 minutes\",\"items\":[{\"index\":0,\"duration\":\"01:20\",\"parentslug\":\"chrome-devtools\",\"slug\":\"BkF--QCDh\",\"title\":\"Introduction\",\"type\":\"video\"},{\"index\":1,\"duration\":\"01:23\",\"parentslug\":\"chrome-devtools\",\"slug\":\"BILm3pR5d\",\"title\":\"Setup\",\"type\":\"video\"},{\"index\":2,\"duration\":\"00:53\",\"parentslug\":\"chrome-devtools\",\"slug\":\"6-lWvHXTs\",\"title\":\"Prerequisites for the course\",\"type\":\"video\"},{\"index\":3,\"duration\":\"02:29\",\"parentslug\":\"chrome-devtools\",\"slug\":\"Gaf6RI4h0\",\"title\":\"Hello DevTools\",\"type\":\"video\"}]},{\"slug\":\"chrome-devtools\",\"section\":\"Console Tab\",\"_sectionDuration\":800,\"sectionDuration\":\"13 minutes\",\"items\":[{\"index\":4,\"duration\":\"04:02\",\"parentslug\":\"chrome-devtools\",\"slug\":\"Juqnn2Zti\",\"title\":\"Console 101\",\"type\":\"video\"},{\"index\":5,\"duration\":\"09:18\",\"parentslug\":\"chrome-devtools\",\"slug\":\"r9Fwh6ea_\",\"title\":\"Trying out different consoles\",\"type\":\"video\"}]},{\"slug\":\"chrome-devtools\",\"section\":\"Sources Tab\",\"_sectionDuration\":2653,\"sectionDuration\":\"44 minutes\",\"items\":[{\"index\":6,\"duration\":\"03:58\",\"parentslug\":\"chrome-devtools\",\"slug\":\"qAPFKolhh\",\"title\":\"Sources tab 101\",\"type\":\"video\"},{\"index\":7,\"duration\":\"07:03\",\"parentslug\":\"chrome-devtools\",\"slug\":\"6fO3g6GiO\",\"title\":\"Setting up debugger\",\"type\":\"video\"},{\"index\":8,\"duration\":\"02:29\",\"parentslug\":\"chrome-devtools\",\"slug\":\"eWweXQ_P4\",\"title\":\"One more way to setup debugger\",\"type\":\"video\"},{\"index\":9,\"duration\":\"05:11\",\"parentslug\":\"chrome-devtools\",\"slug\":\"qWvHEKusV\",\"title\":\"Event based debugger\",\"type\":\"video\"},{\"index\":10,\"duration\":\"04:38\",\"parentslug\":\"chrome-devtools\",\"slug\":\"W5Mj5R4xf\",\"title\":\"Stepping in debugger\",\"type\":\"video\"},{\"index\":11,\"duration\":\"04:13\",\"parentslug\":\"chrome-devtools\",\"slug\":\"fo3Xj_ZMS\",\"title\":\"Breakpoints\",\"type\":\"video\"},{\"index\":12,\"duration\":\"01:28\",\"parentslug\":\"chrome-devtools\",\"slug\":\"q2OzgXaUM\",\"title\":\"Debugger\",\"type\":\"video\"},{\"index\":13,\"duration\":\"03:35\",\"parentslug\":\"chrome-devtools\",\"slug\":\"5B5HAG4Ze\",\"title\":\"Call Stack\",\"type\":\"video\"},{\"index\":14,\"duration\":\"06:05\",\"parentslug\":\"chrome-devtools\",\"slug\":\"ZJ1vBXmNF\",\"title\":\"Patch code on runtime\",\"type\":\"video\"},{\"index\":15,\"duration\":\"05:33\",\"parentslug\":\"chrome-devtools\",\"slug\":\"YM9aRAnXf\",\"title\":\"Snippets\",\"type\":\"video\"}]},{\"slug\":\"chrome-devtools\",\"section\":\"Networks Tab\",\"_sectionDuration\":1451,\"sectionDuration\":\"24 minutes\",\"items\":[{\"index\":16,\"duration\":\"00:41\",\"parentslug\":\"chrome-devtools\",\"slug\":\"nMz4VeKQ0\",\"title\":\"Networks Tab\",\"type\":\"video\"},{\"index\":17,\"duration\":\"03:32\",\"parentslug\":\"chrome-devtools\",\"slug\":\"M4w7L4sDa\",\"title\":\"Networks tab overview\",\"type\":\"video\"},{\"index\":18,\"duration\":\"06:27\",\"parentslug\":\"chrome-devtools\",\"slug\":\"KqrifBvVX\",\"title\":\"Exploring Networks Tab\",\"type\":\"video\"},{\"index\":19,\"duration\":\"04:24\",\"parentslug\":\"chrome-devtools\",\"slug\":\"dvYGgKNq9\",\"title\":\"Filters\",\"type\":\"video\"},{\"index\":20,\"duration\":\"02:09\",\"parentslug\":\"chrome-devtools\",\"slug\":\"flFA3rKMp\",\"title\":\"Columns in Network Tab\",\"type\":\"video\"},{\"index\":21,\"duration\":\"04:29\",\"parentslug\":\"chrome-devtools\",\"slug\":\"4ZKUw4VwK\",\"title\":\"Throttling\",\"type\":\"video\"},{\"index\":22,\"duration\":\"02:29\",\"parentslug\":\"chrome-devtools\",\"slug\":\"vO7j8XIoW\",\"title\":\"Copy request payload\",\"type\":\"video\"}]},{\"slug\":\"chrome-devtools\",\"section\":\"Elements Tab\",\"_sectionDuration\":1547,\"sectionDuration\":\"25 minutes\",\"items\":[{\"index\":23,\"duration\":\"00:44\",\"parentslug\":\"chrome-devtools\",\"slug\":\"57n0vLg7_\",\"title\":\"Elements Tab\",\"type\":\"video\"},{\"index\":24,\"duration\":\"03:14\",\"parentslug\":\"chrome-devtools\",\"slug\":\"HT_m8IIEq\",\"title\":\"Elements tab overview\",\"type\":\"video\"},{\"index\":25,\"duration\":\"03:13\",\"parentslug\":\"chrome-devtools\",\"slug\":\"nUPnUu4V2\",\"title\":\"Inspecting a node\",\"type\":\"video\"},{\"index\":26,\"duration\":\"03:05\",\"parentslug\":\"chrome-devtools\",\"slug\":\"F9QXiccyk\",\"title\":\"Operations with a node\",\"type\":\"video\"},{\"index\":27,\"duration\":\"02:03\",\"parentslug\":\"chrome-devtools\",\"slug\":\"kY8epWXu4\",\"title\":\"Special variable\",\"type\":\"video\"},{\"index\":28,\"duration\":\"05:11\",\"parentslug\":\"chrome-devtools\",\"slug\":\"I_vvGwVhT\",\"title\":\"Manipulate styles\",\"type\":\"video\"},{\"index\":29,\"duration\":\"02:20\",\"parentslug\":\"chrome-devtools\",\"slug\":\"RcZlHvO4E\",\"title\":\"Copying CSS Path\",\"type\":\"video\"},{\"index\":30,\"duration\":\"04:19\",\"parentslug\":\"chrome-devtools\",\"slug\":\"fy3iiAPla\",\"title\":\"Color Picker\",\"type\":\"video\"},{\"index\":31,\"duration\":\"01:38\",\"parentslug\":\"chrome-devtools\",\"slug\":\"RFn6T20r5\",\"title\":\"Next steps\",\"type\":\"video\"}]}],\"outlineMeta\":{\"duration\":6816,\"videos\":32,\"quizzes\":0,\"labs\":0,\"slug\":\"chrome-devtools\",\"courseImage\":\"https://creator-assets.codedamn.com/codedamn-5f1f31bbf8bab7fa6ddb6fdb/course-image/2020-12-17/9da4a3303956afad548736dcdf4e2fa80c2d8fbd\"}}]},{\"title\":\"Frontend/Backend Tooling\",\"description\":\"When working with frontend and backend, we need access to common tools - git, npm, yarn and more.\",\"nodes\":[{\"label\":\"Version Control System\",\"free\":false,\"courseState\":\"regular\",\"outline\":[{\"slug\":\"git-basics\",\"section\":\"Introduction\",\"_sectionDuration\":1387,\"sectionDuration\":\"23 minutes\",\"items\":[{\"index\":0,\"duration\":\"01:34\",\"parentslug\":\"git-basics\",\"slug\":\"hmov3LWX7\",\"title\":\"Introducing Git\",\"type\":\"video\"},{\"index\":1,\"duration\":\"02:48\",\"parentslug\":\"git-basics\",\"slug\":\"T4yAvD47OO\",\"title\":\"Using the terminal and installing Git\",\"type\":\"video\"},{\"index\":2,\"duration\":\"05:00\",\"parentslug\":\"git-basics\",\"slug\":\"CN52FYOLHfm9Sb99l-GeH\",\"title\":\"Check git version\",\"type\":\"lab\"},{\"index\":3,\"duration\":\"04:10\",\"parentslug\":\"git-basics\",\"slug\":\"FUC6_bKkN9\",\"title\":\"Preparing Git settings\",\"type\":\"video\"},{\"index\":4,\"duration\":\"05:00\",\"parentslug\":\"git-basics\",\"slug\":\"tSuzo9fqwhTC9kFvVLL-h\",\"title\":\"Adding git config settings\",\"type\":\"lab\"},{\"index\":5,\"duration\":\"04:35\",\"parentslug\":\"git-basics\",\"slug\":\"5rbocWyHls\",\"title\":\"Making our first project directory\",\"type\":\"video\"}]},{\"slug\":\"git-basics\",\"section\":\"Working with a local repository\",\"_sectionDuration\":1733,\"sectionDuration\":\"28 minutes\",\"items\":[{\"index\":6,\"duration\":\"03:27\",\"parentslug\":\"git-basics\",\"slug\":\"Npea9QQmG7\",\"title\":\"Creating (initializing) a repository\",\"type\":\"video\"},{\"index\":7,\"duration\":\"01:00\",\"parentslug\":\"git-basics\",\"slug\":\"6MnqGwhli6i4gBihjlkJ0\",\"title\":\"Which command creates an empty Git repository in the specified directory?\",\"type\":\"quiz\"},{\"index\":8,\"duration\":\"05:00\",\"parentslug\":\"git-basics\",\"slug\":\"TVWgGy4pyLiG3LfJONHDu\",\"title\":\"Initializing a git repository\",\"type\":\"lab\"},{\"index\":9,\"duration\":\"03:24\",\"parentslug\":\"git-basics\",\"slug\":\"JDoflE22_b\",\"title\":\"Adding a file to our project\",\"type\":\"video\"},{\"index\":10,\"duration\":\"04:36\",\"parentslug\":\"git-basics\",\"slug\":\"CSNtceU5qK\",\"title\":\"Making our first commit\",\"type\":\"video\"},{\"index\":11,\"duration\":\"05:26\",\"parentslug\":\"git-basics\",\"slug\":\"r8VBaGhBIH\",\"title\":\"Working with an existing project\",\"type\":\"video\"},{\"index\":12,\"duration\":\"05:00\",\"parentslug\":\"git-basics\",\"slug\":\"WWci5ZOUTmKJIisek9H8f\",\"title\":\"Making first commit\",\"type\":\"lab\"},{\"index\":13,\"duration\":\"01:00\",\"parentslug\":\"git-basics\",\"slug\":\"mYWgCT2bz9maDqMFC2inX\",\"title\":\"Which command defines the author email to be used for all commits by the current user?\",\"type\":\"quiz\"}]},{\"slug\":\"git-basics\",\"section\":\"Branches\",\"_sectionDuration\":1215,\"sectionDuration\":\"20 minutes\",\"items\":[{\"index\":14,\"duration\":\"03:32\",\"parentslug\":\"git-basics\",\"slug\":\"BFuLbtdKL6\",\"title\":\"What is a branch\",\"type\":\"video\"},{\"index\":15,\"duration\":\"03:54\",\"parentslug\":\"git-basics\",\"slug\":\"eon51hNyXy\",\"title\":\"Making a commit on a branch\",\"type\":\"video\"},{\"index\":16,\"duration\":\"03:19\",\"parentslug\":\"git-basics\",\"slug\":\"ctPCb0G14D\",\"title\":\"Making a second branch\",\"type\":\"video\"},{\"index\":17,\"duration\":\"04:30\",\"parentslug\":\"git-basics\",\"slug\":\"CQeufEcEP3\",\"title\":\"Switching branches\",\"type\":\"video\"},{\"index\":18,\"duration\":\"05:00\",\"parentslug\":\"git-basics\",\"slug\":\"5D5qnRWxh1Z-pmfHZcCWM\",\"title\":\"Building a mini branch project\",\"type\":\"lab\"}]},{\"slug\":\"git-basics\",\"section\":\"Merging\",\"_sectionDuration\":1038,\"sectionDuration\":\"17 minutes\",\"items\":[{\"index\":19,\"duration\":\"04:52\",\"parentslug\":\"git-basics\",\"slug\":\"ow_5ZNUoPB\",\"title\":\"Merging a branch\",\"type\":\"video\"},{\"index\":20,\"duration\":\"02:28\",\"parentslug\":\"git-basics\",\"slug\":\"D4L2qeaSYZ\",\"title\":\"Introducing vi/vim\",\"type\":\"video\"},{\"index\":21,\"duration\":\"05:06\",\"parentslug\":\"git-basics\",\"slug\":\"sFFSEUrXxM\",\"title\":\"Doing a three-way merge\",\"type\":\"video\"},{\"index\":22,\"duration\":\"04:52\",\"parentslug\":\"git-basics\",\"slug\":\"g51e1p5Tzj\",\"title\":\"Merging with conflicts\",\"type\":\"video\"}]},{\"slug\":\"git-basics\",\"section\":\"Working with remote repository\",\"_sectionDuration\":1507,\"sectionDuration\":\"25 minutes\",\"items\":[{\"index\":23,\"duration\":\"01:59\",\"parentslug\":\"git-basics\",\"slug\":\"G_I0Mnp5Yvo\",\"title\":\"Introducing remote repositories\",\"type\":\"video\"},{\"index\":24,\"duration\":\"06:53\",\"parentslug\":\"git-basics\",\"slug\":\"a7n87C5k0nj\",\"title\":\"Connecting to Github using SSH\",\"type\":\"video\"},{\"index\":25,\"duration\":\"03:01\",\"parentslug\":\"git-basics\",\"slug\":\"-eIJ-Jf9N07\",\"title\":\"Adding a remote repository\",\"type\":\"video\"},{\"index\":26,\"duration\":\"01:00\",\"parentslug\":\"git-basics\",\"slug\":\"zp73fTbfnCfwZBt65eK0Y\",\"title\":\"What is a proper syntax to add a remote origin?\",\"type\":\"quiz\"},{\"index\":27,\"duration\":\"03:33\",\"parentslug\":\"git-basics\",\"slug\":\"QfP-lQRnWIP\",\"title\":\"Pushing to a remote repository\",\"type\":\"video\"},{\"index\":28,\"duration\":\"01:00\",\"parentslug\":\"git-basics\",\"slug\":\"KMgHhkVKZ3jZjT_qQf9ZV\",\"title\":\"What are the possible options to \\\"push\\\" to a remote git repository?\",\"type\":\"quiz\"},{\"index\":29,\"duration\":\"02:41\",\"parentslug\":\"git-basics\",\"slug\":\"QUrfybY55lv\",\"title\":\"Updating a remote repository\",\"type\":\"video\"},{\"index\":30,\"duration\":\"05:00\",\"parentslug\":\"git-basics\",\"slug\":\"Kgf1MbEWGewpvvLqLAxg5\",\"title\":\"Pushing your project to GitHub\",\"type\":\"lab\"}]},{\"slug\":\"git-basics\",\"section\":\"Working with others\",\"_sectionDuration\":1680,\"sectionDuration\":\"28 minutes\",\"items\":[{\"index\":31,\"duration\":\"06:06\",\"parentslug\":\"git-basics\",\"slug\":\"dwKaQx-pQou\",\"title\":\"Working with others\",\"type\":\"video\"},{\"index\":32,\"duration\":\"03:16\",\"parentslug\":\"git-basics\",\"slug\":\"kH0zVTe3mT5\",\"title\":\"Fetching changes\",\"type\":\"video\"},{\"index\":33,\"duration\":\"06:54\",\"parentslug\":\"git-basics\",\"slug\":\"ijF87QqKUGC\",\"title\":\"Working at the same time as others\",\"type\":\"video\"},{\"index\":34,\"duration\":\"06:10\",\"parentslug\":\"git-basics\",\"slug\":\"wJbvFGUj3Pv\",\"title\":\"Rebasing Part 1\",\"type\":\"video\"},{\"index\":35,\"duration\":\"04:34\",\"parentslug\":\"git-basics\",\"slug\":\"u8DCQx4tSjU\",\"title\":\"Rebasing Part 2\",\"type\":\"video\"},{\"index\":36,\"duration\":\"01:00\",\"parentslug\":\"git-basics\",\"slug\":\"XZ-IIpoKg8d18nEN9Irb6\",\"title\":\"Which of the following statement is correct about git? \",\"type\":\"quiz\"}]},{\"slug\":\"git-basics\",\"section\":\"Exercises\",\"_sectionDuration\":1709,\"sectionDuration\":\"28 minutes\",\"items\":[{\"index\":37,\"duration\":\"05:00\",\"parentslug\":\"git-basics\",\"slug\":\"9iGZQRJ6Sp5U1b0jWkDZi\",\"title\":\"Lab on working with a local repository and branches\",\"type\":\"lab\"},{\"index\":38,\"duration\":\"04:31\",\"parentslug\":\"git-basics\",\"slug\":\"rvlcEPUOcc8\",\"title\":\"Exercise Solution: Working with a local repo and branches\",\"type\":\"video\"},{\"index\":39,\"duration\":\"05:00\",\"parentslug\":\"git-basics\",\"slug\":\"vuOskP36nBWWtkYhOVNGv\",\"title\":\"Lab on merging\",\"type\":\"lab\"},{\"index\":40,\"duration\":\"04:56\",\"parentslug\":\"git-basics\",\"slug\":\"DfRWay6LDbk\",\"title\":\"Exercise Solution: Merging\",\"type\":\"video\"},{\"index\":41,\"duration\":\"05:00\",\"parentslug\":\"git-basics\",\"slug\":\"_Ds9xlOGszsCI-dpIPAgs\",\"title\":\"Lab on remote repositories and working with others\",\"type\":\"lab\"},{\"index\":42,\"duration\":\"04:02\",\"parentslug\":\"git-basics\",\"slug\":\"RKY-cGTgaLH\",\"title\":\"Exercise Solution: Remote repos and working with others\",\"type\":\"video\"}]}],\"outlineMeta\":{\"duration\":10269,\"videos\":29,\"quizzes\":5,\"labs\":9,\"slug\":\"git-basics\",\"courseImage\":\"https://creator-assets.codedamn.com/anna-5f80c86a43938f0001ca2f0f/course-image/2021-06-24/b31f9f89fcb9601a79c0436a79d222685b2f8ec1\"}},{\"label\":\"NPM and Yarn\",\"free\":false,\"courseState\":\"regular\",\"outline\":[{\"slug\":\"npm-basics\",\"section\":\"Introduction\",\"_sectionDuration\":1552,\"sectionDuration\":\"25 minutes\",\"items\":[{\"index\":0,\"duration\":\"01:15\",\"parentslug\":\"npm-basics\",\"slug\":\"usjq8l6GV\",\"title\":\"Introduction to series\",\"type\":\"video\"},{\"index\":1,\"duration\":\"05:28\",\"parentslug\":\"npm-basics\",\"slug\":\"u2s7sgDQrS\",\"title\":\"What is NPM? How is it related to Node?\",\"type\":\"video\"},{\"index\":2,\"duration\":\"04:32\",\"parentslug\":\"npm-basics\",\"slug\":\"1au7Ayy_e3\",\"title\":\"NPM vs Yarn\",\"type\":\"video\"},{\"index\":3,\"duration\":\"04:37\",\"parentslug\":\"npm-basics\",\"slug\":\"NSxfWeaj8G\",\"title\":\"Installing NPM and Node on your system\",\"type\":\"video\"},{\"index\":4,\"duration\":\"05:00\",\"parentslug\":\"npm-basics\",\"slug\":\"c3yIzke31Q7_KEacqp13D\",\"title\":\"Check NPM version\",\"type\":\"lab\"},{\"index\":5,\"duration\":\"05:00\",\"parentslug\":\"npm-basics\",\"slug\":\"YvZbbrkKRzJPZmW38byeL\",\"title\":\"Check Yarn version\",\"type\":\"lab\"}]},{\"slug\":\"npm-basics\",\"section\":\"Node Versioning\",\"_sectionDuration\":654,\"sectionDuration\":\"10 minutes\",\"items\":[{\"index\":6,\"duration\":\"04:09\",\"parentslug\":\"npm-basics\",\"slug\":\"8rm6iD_tZP\",\"title\":\"Why Node versioning is required?\",\"type\":\"video\"},{\"index\":7,\"duration\":\"06:45\",\"parentslug\":\"npm-basics\",\"slug\":\"6n9JRYh7it\",\"title\":\"Managing multiple Node versions using `n`\",\"type\":\"video\"}]},{\"slug\":\"npm-basics\",\"section\":\"NPM Modules\",\"_sectionDuration\":2022,\"sectionDuration\":\"33 minutes\",\"items\":[{\"index\":8,\"duration\":\"04:36\",\"parentslug\":\"npm-basics\",\"slug\":\"tJwwAg26D6\",\"title\":\"What is an NPM module?\",\"type\":\"video\"},{\"index\":9,\"duration\":\"04:50\",\"parentslug\":\"npm-basics\",\"slug\":\"wtPSqQywRh\",\"title\":\"How does NPM install module?\",\"type\":\"video\"},{\"index\":10,\"duration\":\"03:30\",\"parentslug\":\"npm-basics\",\"slug\":\"COR81rJeE2\",\"title\":\"package.json file\",\"type\":\"video\"},{\"index\":11,\"duration\":\"02:17\",\"parentslug\":\"npm-basics\",\"slug\":\"Jl0gyowVjG\",\"title\":\"Exploring package.json\",\"type\":\"video\"},{\"index\":12,\"duration\":\"05:00\",\"parentslug\":\"npm-basics\",\"slug\":\"Si9dAq6f9PiBV0E4ZByfL\",\"title\":\"Initialize a NPM project\",\"type\":\"lab\"},{\"index\":13,\"duration\":\"01:42\",\"parentslug\":\"npm-basics\",\"slug\":\"BgRE77qrDu\",\"title\":\"Installing module\",\"type\":\"video\"},{\"index\":14,\"duration\":\"01:15\",\"parentslug\":\"npm-basics\",\"slug\":\"BL3xueBPEc\",\"title\":\"Removing module\",\"type\":\"video\"},{\"index\":15,\"duration\":\"05:32\",\"parentslug\":\"npm-basics\",\"slug\":\"VE8QVBd1qu\",\"title\":\"Local v/s global modules\",\"type\":\"video\"},{\"index\":16,\"duration\":\"05:00\",\"parentslug\":\"npm-basics\",\"slug\":\"kzP9eFjyTCsxEEr0WEvv-\",\"title\":\"Installing a node module\",\"type\":\"lab\"}]},{\"slug\":\"npm-basics\",\"section\":\"NPM Dependencies\",\"_sectionDuration\":1854,\"sectionDuration\":\"30 minutes\",\"items\":[{\"index\":17,\"duration\":\"00:22\",\"parentslug\":\"npm-basics\",\"slug\":\"0kdFZnz_96\",\"title\":\"Intro to NPM dependencies\",\"type\":\"video\"},{\"index\":18,\"duration\":\"05:17\",\"parentslug\":\"npm-basics\",\"slug\":\"5dnDj0-ntz\",\"title\":\"Semantic Versioning\",\"type\":\"video\"},{\"index\":19,\"duration\":\"09:28\",\"parentslug\":\"npm-basics\",\"slug\":\"lTJH5g6BNQ\",\"title\":\"All about package-lock.json\",\"type\":\"video\"},{\"index\":20,\"duration\":\"03:57\",\"parentslug\":\"npm-basics\",\"slug\":\"HudeP5pUEkS\",\"title\":\"Semantic versioning in package.json\",\"type\":\"video\"},{\"index\":21,\"duration\":\"02:20\",\"parentslug\":\"npm-basics\",\"slug\":\"fi0cvEb1cLK\",\"title\":\"dependencies\",\"type\":\"video\"},{\"index\":22,\"duration\":\"04:25\",\"parentslug\":\"npm-basics\",\"slug\":\"MRCDBpOkC-m\",\"title\":\"devDependencies\",\"type\":\"video\"},{\"index\":23,\"duration\":\"05:05\",\"parentslug\":\"npm-basics\",\"slug\":\"8rtSglgGjib\",\"title\":\"peerDependencies\",\"type\":\"video\"}]},{\"slug\":\"npm-basics\",\"section\":\"NPM Scripts\",\"_sectionDuration\":1127,\"sectionDuration\":\"18 minutes\",\"items\":[{\"index\":24,\"duration\":\"00:14\",\"parentslug\":\"npm-basics\",\"slug\":\"uzzsR0BwonT\",\"title\":\"NPM scripts intro\",\"type\":\"video\"},{\"index\":25,\"duration\":\"06:43\",\"parentslug\":\"npm-basics\",\"slug\":\"qW8r5misRMO\",\"title\":\"What are NPM scripts\",\"type\":\"video\"},{\"index\":26,\"duration\":\"05:00\",\"parentslug\":\"npm-basics\",\"slug\":\"ROvYQO43XoykSwP6FRyPR\",\"title\":\"Creating an NPM script\",\"type\":\"lab\"},{\"index\":27,\"duration\":\"06:50\",\"parentslug\":\"npm-basics\",\"slug\":\"OtyFw4qGwM2\",\"title\":\"All about NPX\",\"type\":\"video\"}]},{\"slug\":\"npm-basics\",\"section\":\"Misc Section\",\"_sectionDuration\":405,\"sectionDuration\":\"06 minutes\",\"items\":[{\"index\":28,\"duration\":\"00:15\",\"parentslug\":\"npm-basics\",\"slug\":\"xvXBw9RpGaR\",\"title\":\"Misc intro\",\"type\":\"video\"},{\"index\":29,\"duration\":\"02:58\",\"parentslug\":\"npm-basics\",\"slug\":\"-AnSzHeidr-\",\"title\":\"Changing global packages installation location\",\"type\":\"video\"},{\"index\":30,\"duration\":\"02:36\",\"parentslug\":\"npm-basics\",\"slug\":\"GCk-jcn1W2F\",\"title\":\"NPM cache and purging\",\"type\":\"video\"},{\"index\":31,\"duration\":\"00:56\",\"parentslug\":\"npm-basics\",\"slug\":\"w348WSBHMJd\",\"title\":\"Finishing course\",\"type\":\"video\"}]}],\"outlineMeta\":{\"duration\":7614,\"videos\":27,\"quizzes\":0,\"labs\":5,\"slug\":\"npm-basics\",\"courseImage\":\"https://creator-assets.codedamn.com/official-61897bfe60f1140008feb00d/course-image/2022-01-07/4d62fd1545f387d87be143fb21866fc6777e0cb0\"}}]},{\"title\":\"Mastering React.js\",\"description\":\"React is a great UI library. In this module we would learn about the best ecosystem of libraries in React, and what you should do in order to master React.\",\"nodes\":[{\"label\":\"React Fundamentals\",\"free\":true,\"courseState\":\"regular\",\"outline\":[{\"slug\":\"reactjs\",\"section\":\"Introduction to React\",\"_sectionDuration\":1494,\"sectionDuration\":\"24 minutes\",\"items\":[{\"index\":0,\"duration\":\"01:31\",\"parentslug\":\"reactjs\",\"slug\":\"b2Spiuqa-\",\"title\":\"Introduction\",\"type\":\"video\"},{\"index\":1,\"duration\":\"05:04\",\"parentslug\":\"reactjs\",\"slug\":\"Fi4asQpJjhRsD93dit4xD\",\"title\":\"Developer Setup\",\"type\":\"video\"},{\"index\":2,\"duration\":\"06:17\",\"parentslug\":\"reactjs\",\"slug\":\"UICGL1_X9l\",\"title\":\"First Program\",\"type\":\"video\"},{\"index\":3,\"duration\":\"07:02\",\"parentslug\":\"reactjs\",\"slug\":\"xHEeWKjaqD\",\"title\":\"First Program Explained\",\"type\":\"video\"},{\"index\":4,\"duration\":\"05:00\",\"parentslug\":\"reactjs\",\"slug\":\"aJC1QedBO-wsReoksFIAp\",\"title\":\"React Hello World\",\"type\":\"lab\"}]},{\"slug\":\"reactjs\",\"section\":\"React 18 Fundamentals\",\"_sectionDuration\":1814,\"sectionDuration\":\"30 minutes\",\"items\":[{\"index\":5,\"duration\":\"03:15\",\"parentslug\":\"reactjs\",\"slug\":\"Wk4SjBl3UZLJTrUiKmmzr\",\"title\":\"createRoot in React 18\",\"type\":\"video\"},{\"index\":6,\"duration\":\"04:09\",\"parentslug\":\"reactjs\",\"slug\":\"6EkSPlA35-\",\"title\":\"Components\",\"type\":\"video\"},{\"index\":7,\"duration\":\"08:03\",\"parentslug\":\"reactjs\",\"slug\":\"QqxgnOdJV7\",\"title\":\"JSX Expressions\",\"type\":\"video\"},{\"index\":8,\"duration\":\"05:28\",\"parentslug\":\"reactjs\",\"slug\":\"-XO5DrLZdI\",\"title\":\"Props\",\"type\":\"video\"},{\"index\":9,\"duration\":\"05:59\",\"parentslug\":\"reactjs\",\"slug\":\"nmkRT3MabL\",\"title\":\"Conditional Rendering\",\"type\":\"video\"},{\"index\":10,\"duration\":\"03:20\",\"parentslug\":\"reactjs\",\"slug\":\"KDbjODZekP\",\"title\":\"DOM Events\",\"type\":\"video\"}]},{\"slug\":\"reactjs\",\"section\":\"Working with State\",\"_sectionDuration\":1872,\"sectionDuration\":\"31 minutes\",\"items\":[{\"index\":11,\"duration\":\"07:27\",\"parentslug\":\"reactjs\",\"slug\":\"fuiZ7IkyOW\",\"title\":\"Stateful React components\",\"type\":\"video\"},{\"index\":12,\"duration\":\"08:01\",\"parentslug\":\"reactjs\",\"slug\":\"0QUO-mpFVdZqN5i8fKSzS\",\"title\":\"useState functional argument\",\"type\":\"video\"},{\"index\":13,\"duration\":\"05:00\",\"parentslug\":\"reactjs\",\"slug\":\"0DYEb4IJNOa-EXI7vozCZ\",\"title\":\"Building an increment decrement counter\",\"type\":\"lab\"},{\"index\":14,\"duration\":\"04:51\",\"parentslug\":\"reactjs\",\"slug\":\"gcKGtS-C6erQTVLCs3chh\",\"title\":\"Random quote generator\",\"type\":\"video\"},{\"index\":15,\"duration\":\"05:53\",\"parentslug\":\"reactjs\",\"slug\":\"w-2lZkJpZVr\",\"title\":\"useEffect Hook\",\"type\":\"video\"}]},{\"slug\":\"reactjs\",\"section\":\"To Do App\",\"_sectionDuration\":1514,\"sectionDuration\":\"25 minutes\",\"items\":[{\"index\":16,\"duration\":\"00:59\",\"parentslug\":\"reactjs\",\"slug\":\"48uWiuuhCoIIgCxdv7yuN\",\"title\":\"Introduction\",\"type\":\"video\"},{\"index\":17,\"duration\":\"09:47\",\"parentslug\":\"reactjs\",\"slug\":\"C7V_FggabJoRxHWac30Qf\",\"title\":\"Building to do app\",\"type\":\"video\"},{\"index\":18,\"duration\":\"07:29\",\"parentslug\":\"reactjs\",\"slug\":\"axGSB6YyZzAUKlU7TWrry\",\"title\":\"Running function on enter key\",\"type\":\"video\"},{\"index\":19,\"duration\":\"06:59\",\"parentslug\":\"reactjs\",\"slug\":\"tMZWJ3esNf4gLYfidEbYG\",\"title\":\"Delete item\",\"type\":\"video\"}]},{\"slug\":\"reactjs\",\"section\":\"Accordion Practice Project\",\"_sectionDuration\":1200,\"sectionDuration\":\"20 minutes\",\"items\":[{\"index\":20,\"duration\":\"05:00\",\"parentslug\":\"reactjs\",\"slug\":\"2kXsfxV2zrbH9PMIG8Cx9\",\"title\":\"Creating UI for first question\",\"type\":\"lab\"},{\"index\":21,\"duration\":\"05:00\",\"parentslug\":\"reactjs\",\"slug\":\"MR8KXCQmGrrx6X2PWJKed\",\"title\":\"Creating Single Question component\",\"type\":\"lab\"},{\"index\":22,\"duration\":\"05:00\",\"parentslug\":\"reactjs\",\"slug\":\"3yH9cGxj9Q5M4nXaCyxvr\",\"title\":\"Adding answers to questions\",\"type\":\"lab\"},{\"index\":23,\"duration\":\"05:00\",\"parentslug\":\"reactjs\",\"slug\":\"nUf6jjGCf_fdVDHQvn79d\",\"title\":\"Expanding and collapsing answers\",\"type\":\"lab\"}]},{\"slug\":\"reactjs\",\"section\":\"React Quiz Project\",\"_sectionDuration\":1800,\"sectionDuration\":\"30 minutes\",\"items\":[{\"index\":24,\"duration\":\"05:00\",\"parentslug\":\"reactjs\",\"slug\":\"etiwnMRh5EPgI5mYU-Qud\",\"title\":\"Introduction to project\",\"type\":\"lab\"},{\"index\":25,\"duration\":\"05:00\",\"parentslug\":\"reactjs\",\"slug\":\"yEKQv6XsrCw4NJHp8Qyxd\",\"title\":\"Setting the first question dynamically\",\"type\":\"lab\"},{\"index\":26,\"duration\":\"05:00\",\"parentslug\":\"reactjs\",\"slug\":\"d_Z8SP_3VHR7aRiAiH6PX\",\"title\":\"Setting the first question answers dynamically\",\"type\":\"lab\"},{\"index\":27,\"duration\":\"05:00\",\"parentslug\":\"reactjs\",\"slug\":\"3Y9Ywn7hYjHUbl4lcx3Pj\",\"title\":\"Adding question index state variable\",\"type\":\"lab\"},{\"index\":28,\"duration\":\"05:00\",\"parentslug\":\"reactjs\",\"slug\":\"idsqjGMlx6fqE54xtE7km\",\"title\":\"Handling quiz end\",\"type\":\"lab\"},{\"index\":29,\"duration\":\"05:00\",\"parentslug\":\"reactjs\",\"slug\":\"XOPHsWHkpor6NstQkSP1O\",\"title\":\"Calculating quiz score\",\"type\":\"lab\"}]},{\"slug\":\"reactjs\",\"section\":\"React Birthday Reminder Project\",\"_sectionDuration\":1500,\"sectionDuration\":\"25 minutes\",\"items\":[{\"index\":30,\"duration\":\"05:00\",\"parentslug\":\"reactjs\",\"slug\":\"rO8280NqVy1RvM9k85crd\",\"title\":\"Introduction to project\",\"type\":\"lab\"},{\"index\":31,\"duration\":\"05:00\",\"parentslug\":\"reactjs\",\"slug\":\"cG0cROlEk45J3CU90CafV\",\"title\":\"Creating birthday view container\",\"type\":\"lab\"},{\"index\":32,\"duration\":\"05:00\",\"parentslug\":\"reactjs\",\"slug\":\"9HPwWqYDCqavJxSH-79af\",\"title\":\"Populating static list data\",\"type\":\"lab\"},{\"index\":33,\"duration\":\"05:00\",\"parentslug\":\"reactjs\",\"slug\":\"xh1qhp09z3ViObvZ3I7as\",\"title\":\"Displaying the UI\",\"type\":\"lab\"},{\"index\":34,\"duration\":\"05:00\",\"parentslug\":\"reactjs\",\"slug\":\"s2vXLLrck-IGfcJRrEE5h\",\"title\":\"Adding a Clear button\",\"type\":\"lab\"}]},{\"slug\":\"reactjs\",\"section\":\"Simple TikTok UI clone\",\"_sectionDuration\":2700,\"sectionDuration\":\"45 minutes\",\"items\":[{\"index\":35,\"duration\":\"05:00\",\"parentslug\":\"reactjs\",\"slug\":\"QnJY5rTgCo2557DTA5mlA\",\"title\":\"Introduction\",\"type\":\"lab\"},{\"index\":36,\"duration\":\"05:00\",\"parentslug\":\"reactjs\",\"slug\":\"Fzsnrv_XhOQIBwWgwqKIE\",\"title\":\"Creating the project structure\",\"type\":\"lab\"},{\"index\":37,\"duration\":\"05:00\",\"parentslug\":\"reactjs\",\"slug\":\"alco_kqLx_gHAzNphbHkX\",\"title\":\"Adding player styles\",\"type\":\"lab\"},{\"index\":38,\"duration\":\"05:00\",\"parentslug\":\"reactjs\",\"slug\":\"2lDUoD78Rehh2l4VgPMP0\",\"title\":\"Loading multiple videos through API\",\"type\":\"lab\"},{\"index\":39,\"duration\":\"05:00\",\"parentslug\":\"reactjs\",\"slug\":\"YtSIrsp30z7AeIvOC_0-e\",\"title\":\"Snapping videos to top\",\"type\":\"lab\"},{\"index\":40,\"duration\":\"05:00\",\"parentslug\":\"reactjs\",\"slug\":\"SwF-7D3NFoGN6i8fx6YSb\",\"title\":\"Creating video metadata panel\",\"type\":\"lab\"},{\"index\":41,\"duration\":\"05:00\",\"parentslug\":\"reactjs\",\"slug\":\"DPHELcPGBE4EZuH0auOuW\",\"title\":\"Creating like, share, comment and music disc buttons\",\"type\":\"lab\"},{\"index\":42,\"duration\":\"05:00\",\"parentslug\":\"reactjs\",\"slug\":\"TUZ9KHz7PWm-9URQYmALl\",\"title\":\"Making like button work\",\"type\":\"lab\"},{\"index\":43,\"duration\":\"05:00\",\"parentslug\":\"reactjs\",\"slug\":\"3bDJ44DjxHvu40uZ8qNwY\",\"title\":\"Making videos play/pause correctly\",\"type\":\"lab\"}]},{\"slug\":\"reactjs\",\"section\":\"Routing Introduction\",\"_sectionDuration\":1356,\"sectionDuration\":\"22 minutes\",\"items\":[{\"index\":44,\"duration\":\"09:10\",\"parentslug\":\"reactjs\",\"slug\":\"GoEhm54dOe\",\"title\":\"Introduction\",\"type\":\"video\"},{\"index\":45,\"duration\":\"03:15\",\"parentslug\":\"reactjs\",\"slug\":\"5b9VpWg_Ps\",\"title\":\"Exact route match\",\"type\":\"video\"},{\"index\":46,\"duration\":\"05:00\",\"parentslug\":\"reactjs\",\"slug\":\"pCU-aLxjhW9\",\"title\":\"Dynamic Routes\",\"type\":\"video\"},{\"index\":47,\"duration\":\"05:11\",\"parentslug\":\"reactjs\",\"slug\":\"m6pNjMi7ax8dUOSvyW1qb\",\"title\":\"Data fetching in React\",\"type\":\"video\"}]},{\"slug\":\"reactjs\",\"section\":\"React Tours App\",\"_sectionDuration\":1800,\"sectionDuration\":\"30 minutes\",\"items\":[{\"index\":48,\"duration\":\"05:00\",\"parentslug\":\"reactjs\",\"slug\":\"Y4Q06ZQ4Z8DhOCWsAQVHN\",\"title\":\"Introduction to Project\",\"type\":\"lab\"},{\"index\":49,\"duration\":\"05:00\",\"parentslug\":\"reactjs\",\"slug\":\"-jfbnerQapS2KTRGcAniP\",\"title\":\"Fetching Tours Data\",\"type\":\"lab\"},{\"index\":50,\"duration\":\"05:00\",\"parentslug\":\"reactjs\",\"slug\":\"FXyKC1q4mOWqGD8aa3gK0\",\"title\":\"Setting Loader\",\"type\":\"lab\"},{\"index\":51,\"duration\":\"05:00\",\"parentslug\":\"reactjs\",\"slug\":\"ZCR2MIrAcc_i4rnYwymb4\",\"title\":\"Creating Tours UI\",\"type\":\"lab\"},{\"index\":52,\"duration\":\"05:00\",\"parentslug\":\"reactjs\",\"slug\":\"XebncNHLJpn0faRRJVijg\",\"title\":\"Adding \\\"Read More\\\" button\",\"type\":\"lab\"},{\"index\":53,\"duration\":\"05:00\",\"parentslug\":\"reactjs\",\"slug\":\"fAuJBpvJn93qN7ng4-odk\",\"title\":\"Removing Tours\",\"type\":\"lab\"}]},{\"slug\":\"reactjs\",\"section\":\"React Restaurant Menu App\",\"_sectionDuration\":1800,\"sectionDuration\":\"30 minutes\",\"items\":[{\"index\":54,\"duration\":\"05:00\",\"parentslug\":\"reactjs\",\"slug\":\"V_nbbmA3kDg0WZvEGgkzP\",\"title\":\"Introduction to project\",\"type\":\"lab\"},{\"index\":55,\"duration\":\"05:00\",\"parentslug\":\"reactjs\",\"slug\":\"_YP2kOflCPPppc9yW4sFo\",\"title\":\"Getting basic UI Ready\",\"type\":\"lab\"},{\"index\":56,\"duration\":\"05:00\",\"parentslug\":\"reactjs\",\"slug\":\"g70IUG6_Xwgx-ioeZN-dy\",\"title\":\"Passing data to Menu page\",\"type\":\"lab\"},{\"index\":57,\"duration\":\"05:00\",\"parentslug\":\"reactjs\",\"slug\":\"3o_B4gTnv7Gv77IX85yp1\",\"title\":\"Creating Categories\",\"type\":\"lab\"},{\"index\":58,\"duration\":\"05:00\",\"parentslug\":\"reactjs\",\"slug\":\"Nzui8ZbzrdLeTFMN9ZVHe\",\"title\":\"Creating filter function\",\"type\":\"lab\"},{\"index\":59,\"duration\":\"05:00\",\"parentslug\":\"reactjs\",\"slug\":\"uYFpi2Vax1VQ51HheZIXT\",\"title\":\"Making categories dynamic\",\"type\":\"lab\"}]}],\"outlineMeta\":{\"duration\":18850,\"videos\":22,\"quizzes\":0,\"labs\":38,\"slug\":\"reactjs\",\"courseImage\":\"https://creator-assets.codedamn.com/codedamn-5f1f31bbf8bab7fa6ddb6fdb/course-image/2021-07-17/25b1626b2104dde18715acd1e6cc54037cfd9a41\"}},{\"label\":\"Tailwind CSS Fundamentals\",\"free\":false,\"courseState\":\"regular\",\"outline\":[{\"slug\":\"tailwind-css\",\"section\":\"Introduction\",\"_sectionDuration\":960,\"sectionDuration\":\"16 minutes\",\"items\":[{\"index\":0,\"duration\":\"05:00\",\"parentslug\":\"tailwind-css\",\"slug\":\"FxmQbucKuWSlM5bNRQc2a\",\"title\":\"Introduction to Tailwind\",\"type\":\"lab\"},{\"index\":1,\"duration\":\"01:00\",\"parentslug\":\"tailwind-css\",\"slug\":\"71_2CHFolbTpcGbg9V7qo\",\"title\":\"Tailwind CSS is a \",\"type\":\"quiz\"},{\"index\":2,\"duration\":\"05:00\",\"parentslug\":\"tailwind-css\",\"slug\":\"4Pn9-Zz5Ehc33s26pt09y\",\"title\":\"Tailwind Hello World\",\"type\":\"lab\"},{\"index\":3,\"duration\":\"05:00\",\"parentslug\":\"tailwind-css\",\"slug\":\"9-XGah9PWHWxUDW0JOlSO\",\"title\":\"Why rems and not px?\",\"type\":\"lab\"}]},{\"slug\":\"tailwind-css\",\"section\":\"Tailwind Utilities\",\"_sectionDuration\":900,\"sectionDuration\":\"15 minutes\",\"items\":[{\"index\":4,\"duration\":\"05:00\",\"parentslug\":\"tailwind-css\",\"slug\":\"nic1SZynnYpdGh-HnhNVj\",\"title\":\"Responsive Design Classes\",\"type\":\"lab\"},{\"index\":5,\"duration\":\"05:00\",\"parentslug\":\"tailwind-css\",\"slug\":\"w-7fVjXXKxaUiAff8vFml\",\"title\":\"Colors\",\"type\":\"lab\"},{\"index\":6,\"duration\":\"05:00\",\"parentslug\":\"tailwind-css\",\"slug\":\"Ziv1G2RHJnzWSglyLqe60\",\"title\":\"hover classes\",\"type\":\"lab\"}]},{\"slug\":\"tailwind-css\",\"section\":\"Layouts\",\"_sectionDuration\":900,\"sectionDuration\":\"15 minutes\",\"items\":[{\"index\":7,\"duration\":\"05:00\",\"parentslug\":\"tailwind-css\",\"slug\":\"D2EEWS7VtpI_xYaP2WQkO\",\"title\":\"Flexbox layout\",\"type\":\"lab\"},{\"index\":8,\"duration\":\"05:00\",\"parentslug\":\"tailwind-css\",\"slug\":\"MpWAvhT2Mg465iDJ1vITh\",\"title\":\"Grid layout\",\"type\":\"lab\"},{\"index\":9,\"duration\":\"05:00\",\"parentslug\":\"tailwind-css\",\"slug\":\"i0V-eUS7cK3bl8nZKmzNK\",\"title\":\"Scroll snapping\",\"type\":\"lab\"}]},{\"slug\":\"tailwind-css\",\"section\":\"Latest tailwind features\",\"_sectionDuration\":1795,\"sectionDuration\":\"29 minutes\",\"items\":[{\"index\":10,\"duration\":\"05:00\",\"parentslug\":\"tailwind-css\",\"slug\":\"HKbuMiJypmihbQePJoliR\",\"title\":\"Shadows\",\"type\":\"lab\"},{\"index\":11,\"duration\":\"05:00\",\"parentslug\":\"tailwind-css\",\"slug\":\"oUz_YPhP3wLp10x8FAT0t\",\"title\":\"Typography\",\"type\":\"lab\"},{\"index\":12,\"duration\":\"05:00\",\"parentslug\":\"tailwind-css\",\"slug\":\"igQFDbtSgsjjirUz3YjaZ\",\"title\":\"Dynamic properties and values\",\"type\":\"lab\"},{\"index\":13,\"duration\":\"01:00\",\"parentslug\":\"tailwind-css\",\"slug\":\"Zgk3374dqvNFj0dsjP2gA\",\"title\":\"@apply directive\",\"type\":\"article\"},{\"index\":14,\"duration\":\"05:00\",\"parentslug\":\"tailwind-css\",\"slug\":\"qmgOTiTg7_DqUgrwLTa7j\",\"title\":\"Using @apply directive\",\"type\":\"lab\"},{\"index\":15,\"duration\":\"05:58\",\"parentslug\":\"tailwind-css\",\"slug\":\"GwsGkDe4CKslDziAhC4VM\",\"title\":\"Using tailiwind.config\",\"type\":\"video\"},{\"index\":16,\"duration\":\"02:57\",\"parentslug\":\"tailwind-css\",\"slug\":\"JU76lMD-mo7wdXrUkjPeu\",\"title\":\"Dark Mode Using Tailwind\",\"type\":\"video\"}]}],\"outlineMeta\":{\"duration\":4555,\"videos\":2,\"quizzes\":1,\"labs\":13,\"slug\":\"tailwind-css\",\"courseImage\":\"https://creator-assets.codedamn.com/official-61897bfe60f1140008feb00d/course-image/2021-12-15/98f3f6e03fad0c570bb98b55bdf3e5b97ad1c815\"}},{\"label\":\"React Query for network requests\",\"free\":true,\"courseState\":\"regular\",\"outline\":[{\"slug\":\"react-query\",\"section\":\"Introduction to React Query\",\"_sectionDuration\":1307,\"sectionDuration\":\"21 minutes\",\"items\":[{\"index\":0,\"duration\":\"01:46\",\"parentslug\":\"react-query\",\"slug\":\"_QhEwNpk3jH0zAgpAiybX\",\"title\":\"Course Introduction\",\"type\":\"video\"},{\"index\":1,\"duration\":\"03:37\",\"parentslug\":\"react-query\",\"slug\":\"CMgCvkTjTaA_4KbArcl6Q\",\"title\":\"Why React Query?\",\"type\":\"video\"},{\"index\":2,\"duration\":\"02:32\",\"parentslug\":\"react-query\",\"slug\":\"CrzEsKeI_vrdV69M6BOu7\",\"title\":\"Installing React Query\",\"type\":\"video\"},{\"index\":3,\"duration\":\"07:52\",\"parentslug\":\"react-query\",\"slug\":\"NIPQjWhrTAQRX_N_aAr4w\",\"title\":\"Hello world with react-query\",\"type\":\"video\"},{\"index\":4,\"duration\":\"05:00\",\"parentslug\":\"react-query\",\"slug\":\"IAU2UtGp3u3Y5VkWC6mdW\",\"title\":\"Install react-query\",\"type\":\"lab\"},{\"index\":5,\"duration\":\"01:00\",\"parentslug\":\"react-query\",\"slug\":\"zwkkhZ6J6A8TbiTvUp_Dz\",\"title\":\"Why is using fetch inside useEffect a bad idea for network requests?\",\"type\":\"quiz\"}]},{\"slug\":\"react-query\",\"section\":\"Queries\",\"_sectionDuration\":4684,\"sectionDuration\":\"01 hours\",\"items\":[{\"index\":6,\"duration\":\"06:27\",\"parentslug\":\"react-query\",\"slug\":\"NvPd91gdZKxkH_Z9HMMux\",\"title\":\"React query states\",\"type\":\"video\"},{\"index\":7,\"duration\":\"03:51\",\"parentslug\":\"react-query\",\"slug\":\"f8b6mTpB7AB3hFyiB4RbG\",\"title\":\"React query devtools explained\",\"type\":\"video\"},{\"index\":8,\"duration\":\"04:20\",\"parentslug\":\"react-query\",\"slug\":\"YrfB4gj_0Ye3nCcL0J2TP\",\"title\":\"Query keys\",\"type\":\"video\"},{\"index\":9,\"duration\":\"04:57\",\"parentslug\":\"react-query\",\"slug\":\"cci7Tl3JcfIK_zqcPj00A\",\"title\":\"Dependent queries\",\"type\":\"video\"},{\"index\":10,\"duration\":\"09:12\",\"parentslug\":\"react-query\",\"slug\":\"DybKkvHxBNU2i3bv8fzib\",\"title\":\"Small GitHub app with react-query\",\"type\":\"video\"},{\"index\":11,\"duration\":\"11:38\",\"parentslug\":\"react-query\",\"slug\":\"E_YK8Q0Duxy5NMi7GMiQI\",\"title\":\"Creating a mini blog with React query\",\"type\":\"video\"},{\"index\":12,\"duration\":\"05:00\",\"parentslug\":\"react-query\",\"slug\":\"1hILZ5yzJCe48mSpK7sUg\",\"title\":\"Recreate the mini blog\",\"type\":\"lab\"},{\"index\":13,\"duration\":\"06:36\",\"parentslug\":\"react-query\",\"slug\":\"_ILuIU8YGGczbzqGnv19G\",\"title\":\"getQueryData\",\"type\":\"video\"},{\"index\":14,\"duration\":\"02:28\",\"parentslug\":\"react-query\",\"slug\":\"FBIJV8vFCNUUCuZry-ign\",\"title\":\"cacheTime\",\"type\":\"video\"},{\"index\":15,\"duration\":\"02:40\",\"parentslug\":\"react-query\",\"slug\":\"P7zHa15EzHpOdybD1NTsQ\",\"title\":\"Transform query result\",\"type\":\"video\"},{\"index\":16,\"duration\":\"06:47\",\"parentslug\":\"react-query\",\"slug\":\"LsRYs-03MSxUxtZTPcUc9\",\"title\":\"setQueryData\",\"type\":\"video\"},{\"index\":17,\"duration\":\"06:18\",\"parentslug\":\"react-query\",\"slug\":\"J4rTS8-zOdEDebPnQ5kSn\",\"title\":\"staleTime\",\"type\":\"video\"},{\"index\":18,\"duration\":\"05:00\",\"parentslug\":\"react-query\",\"slug\":\"CfJheXlqBnWzJDTtyFzek\",\"title\":\"Play with cacheTime and staleTime\",\"type\":\"lab\"},{\"index\":19,\"duration\":\"02:50\",\"parentslug\":\"react-query\",\"slug\":\"WW-otKAFMG5xS5rxhq4Qm\",\"title\":\"Default query options\",\"type\":\"video\"}]},{\"slug\":\"react-query\",\"section\":\"Mutations\",\"_sectionDuration\":1827,\"sectionDuration\":\"30 minutes\",\"items\":[{\"index\":20,\"duration\":\"07:18\",\"parentslug\":\"react-query\",\"slug\":\"pW7HtC-KuhNruHNOG6xt5\",\"title\":\"Mutations\",\"type\":\"video\"},{\"index\":21,\"duration\":\"04:03\",\"parentslug\":\"react-query\",\"slug\":\"2N3JcqWuRRfTM6R9Oy-uv\",\"title\":\"Mutation side effects (hook)\",\"type\":\"video\"},{\"index\":22,\"duration\":\"04:42\",\"parentslug\":\"react-query\",\"slug\":\"fv4Ns2XDjPCwH1VgxKGpp\",\"title\":\"Mutation side effects (mutate fn)\",\"type\":\"video\"},{\"index\":23,\"duration\":\"10:02\",\"parentslug\":\"react-query\",\"slug\":\"Hyw0YHutFs1wvTA1nTfs_\",\"title\":\"Building a To Do app with queries + mutations\",\"type\":\"video\"},{\"index\":24,\"duration\":\"03:22\",\"parentslug\":\"react-query\",\"slug\":\"GPKMVcTCKqCHr2p6vlcXZ\",\"title\":\"Building a To Do app - part 2\",\"type\":\"video\"},{\"index\":25,\"duration\":\"01:00\",\"parentslug\":\"react-query\",\"slug\":\"QU8p2EBD82NrXpUQ8SVOW\",\"title\":\"What's the difference between mutations and queries?\",\"type\":\"quiz\"}]}],\"outlineMeta\":{\"duration\":7818,\"videos\":21,\"quizzes\":2,\"labs\":3,\"slug\":\"react-query\",\"courseImage\":\"https://creator-assets.codedamn.com/codedamn-5f1f31bbf8bab7fa6ddb6fdb/course-image/2021-05-29/30bae18822319dc0a216d46b69e293db01da6c00\"}},{\"label\":\"Advanced React Hooks\",\"free\":false,\"courseState\":\"regular\",\"outline\":[{\"slug\":\"advanced-react-hooks\",\"section\":\"Introduction to Hooks\",\"_sectionDuration\":213,\"sectionDuration\":\"03 minutes\",\"items\":[{\"index\":0,\"duration\":\"00:49\",\"parentslug\":\"advanced-react-hooks\",\"slug\":\"vacBgE-3B\",\"title\":\"Course Introduction\",\"type\":\"video\"},{\"index\":1,\"duration\":\"01:05\",\"parentslug\":\"advanced-react-hooks\",\"slug\":\"A-Ucr3NTt\",\"title\":\"Environment Setup\",\"type\":\"video\"},{\"index\":2,\"duration\":\"01:39\",\"parentslug\":\"advanced-react-hooks\",\"slug\":\"6Mudi8-sQ\",\"title\":\"Hooks Introduction\",\"type\":\"video\"}]},{\"slug\":\"advanced-react-hooks\",\"section\":\"useState and useEffect Basics\",\"_sectionDuration\":4611,\"sectionDuration\":\"01 hours\",\"items\":[{\"index\":3,\"duration\":\"05:23\",\"parentslug\":\"advanced-react-hooks\",\"slug\":\"02b58raF9\",\"title\":\"Introduction to useState\",\"type\":\"video\"},{\"index\":4,\"duration\":\"08:03\",\"parentslug\":\"advanced-react-hooks\",\"slug\":\"J7JCctGZ5\",\"title\":\"Lazy state initialization with useState\",\"type\":\"video\"},{\"index\":5,\"duration\":\"06:03\",\"parentslug\":\"advanced-react-hooks\",\"slug\":\"27MwvGNYY\",\"title\":\"Update State \",\"type\":\"video\"},{\"index\":6,\"duration\":\"08:40\",\"parentslug\":\"advanced-react-hooks\",\"slug\":\"bvwCOx27e\",\"title\":\"useState functional update vs direct update\",\"type\":\"video\"},{\"index\":7,\"duration\":\"07:32\",\"parentslug\":\"advanced-react-hooks\",\"slug\":\"b4PPYw4uj\",\"title\":\"Re-creating this.setState\",\"type\":\"video\"},{\"index\":8,\"duration\":\"04:55\",\"parentslug\":\"advanced-react-hooks\",\"slug\":\"MAjwH_A_c\",\"title\":\"Introduction to useEffect\",\"type\":\"video\"},{\"index\":9,\"duration\":\"11:19\",\"parentslug\":\"advanced-react-hooks\",\"slug\":\"xZlFbYetQ\",\"title\":\"useEffect Dependency Array\",\"type\":\"video\"},{\"index\":10,\"duration\":\"03:46\",\"parentslug\":\"advanced-react-hooks\",\"slug\":\"vYLt6Vqnq\",\"title\":\"useEffect Cleanup Function\",\"type\":\"video\"},{\"index\":11,\"duration\":\"16:22\",\"parentslug\":\"advanced-react-hooks\",\"slug\":\"EBOez2jDn\",\"title\":\"Lifecycle of Hooks\",\"type\":\"video\"},{\"index\":12,\"duration\":\"04:48\",\"parentslug\":\"advanced-react-hooks\",\"slug\":\"xRhAskEBu\",\"title\":\"Async function in useEffect\",\"type\":\"video\"}]},{\"slug\":\"advanced-react-hooks\",\"section\":\"Advanced Hooks\",\"_sectionDuration\":4955,\"sectionDuration\":\"01 hours\",\"items\":[{\"index\":13,\"duration\":\"07:42\",\"parentslug\":\"advanced-react-hooks\",\"slug\":\"fKz0Fut_9\",\"title\":\"useRef Introduction\",\"type\":\"video\"},{\"index\":14,\"duration\":\"07:23\",\"parentslug\":\"advanced-react-hooks\",\"slug\":\"wQnzh8xeU\",\"title\":\"More on useRef\",\"type\":\"video\"},{\"index\":15,\"duration\":\"04:45\",\"parentslug\":\"advanced-react-hooks\",\"slug\":\"wNuJtb7ip\",\"title\":\"Using useState as useRef\",\"type\":\"video\"},{\"index\":16,\"duration\":\"10:33\",\"parentslug\":\"advanced-react-hooks\",\"slug\":\"BI-d2Xhvk\",\"title\":\"useReducer Introduction\",\"type\":\"video\"},{\"index\":17,\"duration\":\"09:36\",\"parentslug\":\"advanced-react-hooks\",\"slug\":\"6vtZT0uwP\",\"title\":\"useReducer with redux-like dispatcher\",\"type\":\"video\"},{\"index\":18,\"duration\":\"10:54\",\"parentslug\":\"advanced-react-hooks\",\"slug\":\"stqClswHC\",\"title\":\"useMemo\",\"type\":\"video\"},{\"index\":19,\"duration\":\"03:47\",\"parentslug\":\"advanced-react-hooks\",\"slug\":\"tLWLIuFZs\",\"title\":\"useCallback\",\"type\":\"video\"},{\"index\":20,\"duration\":\"13:35\",\"parentslug\":\"advanced-react-hooks\",\"slug\":\"tB-wwqT4_\",\"title\":\"Context API (useContext)\",\"type\":\"video\"},{\"index\":21,\"duration\":\"03:53\",\"parentslug\":\"advanced-react-hooks\",\"slug\":\"fUrPuwX_O\",\"title\":\"Simple custom hook\",\"type\":\"video\"},{\"index\":22,\"duration\":\"09:42\",\"parentslug\":\"advanced-react-hooks\",\"slug\":\"V-se-fR0U\",\"title\":\"Custom useLocalStorage hook\",\"type\":\"video\"},{\"index\":23,\"duration\":\"00:45\",\"parentslug\":\"advanced-react-hooks\",\"slug\":\"Avh6YETF0\",\"title\":\"Next steps\",\"type\":\"video\"}]}],\"outlineMeta\":{\"duration\":9779,\"videos\":24,\"quizzes\":0,\"labs\":0,\"slug\":\"advanced-react-hooks\",\"courseImage\":\"https://creator-assets.codedamn.com/codedamn-5f1f31bbf8bab7fa6ddb6fdb/course-image/2021-01-27/01122c407359d3fb2dae3a48b35412c659639e52\"}},{\"label\":\"Advanced React Concepts\",\"free\":false,\"courseState\":\"regular\",\"outline\":[{\"slug\":\"advanced-react-concepts\",\"section\":\"Advanced React Patterns\",\"_sectionDuration\":3398,\"sectionDuration\":\"56 minutes\",\"items\":[{\"index\":0,\"duration\":\"00:54\",\"parentslug\":\"advanced-react-concepts\",\"slug\":\"lvIlt6DTY\",\"title\":\"Introduction\",\"type\":\"video\"},{\"index\":1,\"duration\":\"06:32\",\"parentslug\":\"advanced-react-concepts\",\"slug\":\"Ovuedd_Uv\",\"title\":\"Destructing Props\",\"type\":\"video\"},{\"index\":2,\"duration\":\"07:19\",\"parentslug\":\"advanced-react-concepts\",\"slug\":\"A_8GjEsIJ\",\"title\":\"Simple state machine\",\"type\":\"video\"},{\"index\":3,\"duration\":\"07:40\",\"parentslug\":\"advanced-react-concepts\",\"slug\":\"Z5AzDPpBK\",\"title\":\"State machine example with HTTP request\",\"type\":\"video\"},{\"index\":4,\"duration\":\"03:38\",\"parentslug\":\"advanced-react-concepts\",\"slug\":\"nkklP6nPG\",\"title\":\"Compound components\",\"type\":\"video\"},{\"index\":5,\"duration\":\"10:04\",\"parentslug\":\"advanced-react-concepts\",\"slug\":\"iJSX37u1Z\",\"title\":\"Compound components with shared state\",\"type\":\"video\"},{\"index\":6,\"duration\":\"07:07\",\"parentslug\":\"advanced-react-concepts\",\"slug\":\"sVyb-EaLn\",\"title\":\"Allowing/Disallowing custom components\",\"type\":\"video\"},{\"index\":7,\"duration\":\"06:12\",\"parentslug\":\"advanced-react-concepts\",\"slug\":\"Q9LuzOZU2\",\"title\":\"Using compound components individually\",\"type\":\"video\"},{\"index\":8,\"duration\":\"07:12\",\"parentslug\":\"advanced-react-concepts\",\"slug\":\"47D5eQeuO\",\"title\":\"Flexible compound components\",\"type\":\"video\"}]},{\"slug\":\"advanced-react-concepts\",\"section\":\"React Performance\",\"_sectionDuration\":2617,\"sectionDuration\":\"43 minutes\",\"items\":[{\"index\":9,\"duration\":\"10:38\",\"parentslug\":\"advanced-react-concepts\",\"slug\":\"BRA2MkwIK\",\"title\":\"Lazy loading components\",\"type\":\"video\"},{\"index\":10,\"duration\":\"07:43\",\"parentslug\":\"advanced-react-concepts\",\"slug\":\"4IHtcmeDN\",\"title\":\"Adding Suspense\",\"type\":\"video\"},{\"index\":11,\"duration\":\"07:07\",\"parentslug\":\"advanced-react-concepts\",\"slug\":\"Bxlaq4TT7\",\"title\":\"Eager loading components\",\"type\":\"video\"},{\"index\":12,\"duration\":\"08:14\",\"parentslug\":\"advanced-react-concepts\",\"slug\":\"URIOour2X\",\"title\":\"Memoize Functional Components\",\"type\":\"video\"},{\"index\":13,\"duration\":\"09:55\",\"parentslug\":\"advanced-react-concepts\",\"slug\":\"QU8voo1xk\",\"title\":\"Comparator for functional components\",\"type\":\"video\"}]}],\"outlineMeta\":{\"duration\":6015,\"videos\":14,\"quizzes\":0,\"labs\":0,\"slug\":\"advanced-react-concepts\",\"courseImage\":\"https://creator-assets.codedamn.com/codedamn-5f1f31bbf8bab7fa6ddb6fdb/course-image/2021-02-05/17936875d2e5f4368ea3849c955a5b4f6d30001e\"}},{\"label\":\"5 React Projects\",\"free\":false,\"courseState\":\"regular\",\"outline\":[{\"slug\":\"reactjs-projects\",\"section\":\"Introduction\",\"_sectionDuration\":182,\"sectionDuration\":\"03 minutes\",\"items\":[{\"index\":0,\"duration\":\"03:02\",\"parentslug\":\"reactjs-projects\",\"slug\":\"1ZBKrnYP5\",\"title\":\"Introduction - Welcome\",\"type\":\"video\"}]},{\"slug\":\"reactjs-projects\",\"section\":\"Project 1 - Creating a Hero\",\"_sectionDuration\":2150,\"sectionDuration\":\"35 minutes\",\"items\":[{\"index\":1,\"duration\":\"06:36\",\"parentslug\":\"reactjs-projects\",\"slug\":\"wJeowEVIKI\",\"title\":\"Project Structure\",\"type\":\"video\"},{\"index\":2,\"duration\":\"04:45\",\"parentslug\":\"reactjs-projects\",\"slug\":\"vDeQdE8OvJ\",\"title\":\"Creating Inputs\",\"type\":\"video\"},{\"index\":3,\"duration\":\"08:06\",\"parentslug\":\"reactjs-projects\",\"slug\":\"WHooozx0lh\",\"title\":\"Using States\",\"type\":\"video\"},{\"index\":4,\"duration\":\"07:37\",\"parentslug\":\"reactjs-projects\",\"slug\":\"rjv8R2hPk2\",\"title\":\"Changing States\",\"type\":\"video\"},{\"index\":5,\"duration\":\"08:46\",\"parentslug\":\"reactjs-projects\",\"slug\":\"uPrHf8LogA\",\"title\":\"Conditional Rendering\",\"type\":\"video\"}]},{\"slug\":\"reactjs-projects\",\"section\":\"Project 2 - Todo List Application\",\"_sectionDuration\":2965,\"sectionDuration\":\"49 minutes\",\"items\":[{\"index\":6,\"duration\":\"05:28\",\"parentslug\":\"reactjs-projects\",\"slug\":\"CZu76WODoG\",\"title\":\"Setting up the UI\",\"type\":\"video\"},{\"index\":7,\"duration\":\"07:02\",\"parentslug\":\"reactjs-projects\",\"slug\":\"GWjlhDuypk\",\"title\":\"Add a task to the Todo List\",\"type\":\"video\"},{\"index\":8,\"duration\":\"04:43\",\"parentslug\":\"reactjs-projects\",\"slug\":\"pNSDdtzrNt\",\"title\":\"Rendering a List\",\"type\":\"video\"},{\"index\":9,\"duration\":\"06:41\",\"parentslug\":\"reactjs-projects\",\"slug\":\"kjGyWjGBsR\",\"title\":\"Clearing the Input after Adding a Task\",\"type\":\"video\"},{\"index\":10,\"duration\":\"08:38\",\"parentslug\":\"reactjs-projects\",\"slug\":\"EIMz6abexY\",\"title\":\"Deleting a Task\",\"type\":\"video\"},{\"index\":11,\"duration\":\"12:17\",\"parentslug\":\"reactjs-projects\",\"slug\":\"kXnznZjpWz\",\"title\":\"Completing a Task\",\"type\":\"video\"},{\"index\":12,\"duration\":\"04:36\",\"parentslug\":\"reactjs-projects\",\"slug\":\"euEOCnxcRs\",\"title\":\"Final Episode - Allowing Keyboard Inputs\",\"type\":\"video\"}]},{\"slug\":\"reactjs-projects\",\"section\":\"Project 3 - Quiz App\",\"_sectionDuration\":4301,\"sectionDuration\":\"01 hours\",\"items\":[{\"index\":13,\"duration\":\"06:51\",\"parentslug\":\"reactjs-projects\",\"slug\":\"w_BQNUjrn\",\"title\":\"Setting Up\",\"type\":\"video\"},{\"index\":14,\"duration\":\"05:40\",\"parentslug\":\"reactjs-projects\",\"slug\":\"0CO8kN5zQD\",\"title\":\"Creating the Menu Page\",\"type\":\"video\"},{\"index\":15,\"duration\":\"07:57\",\"parentslug\":\"reactjs-projects\",\"slug\":\"hpycrVxCXv\",\"title\":\"Global States with the Context API\",\"type\":\"video\"},{\"index\":16,\"duration\":\"05:25\",\"parentslug\":\"reactjs-projects\",\"slug\":\"w89AVr-Zsh\",\"title\":\"Creating the Quiz Page\",\"type\":\"video\"},{\"index\":17,\"duration\":\"08:06\",\"parentslug\":\"reactjs-projects\",\"slug\":\"cq2zizOY-l\",\"title\":\"Creating the Questions\",\"type\":\"video\"},{\"index\":18,\"duration\":\"07:28\",\"parentslug\":\"reactjs-projects\",\"slug\":\"SeTpQYyKPB\",\"title\":\"Answering Questions\",\"type\":\"video\"},{\"index\":19,\"duration\":\"06:10\",\"parentslug\":\"reactjs-projects\",\"slug\":\"XhxaH7-O2V\",\"title\":\"Correct Answers\",\"type\":\"video\"},{\"index\":20,\"duration\":\"04:31\",\"parentslug\":\"reactjs-projects\",\"slug\":\"BgSZmrTUgK\",\"title\":\"Keeping the Score\",\"type\":\"video\"},{\"index\":21,\"duration\":\"07:51\",\"parentslug\":\"reactjs-projects\",\"slug\":\"eqHP0mWWlH\",\"title\":\"Creating the End Screen\",\"type\":\"video\"},{\"index\":22,\"duration\":\"11:42\",\"parentslug\":\"reactjs-projects\",\"slug\":\"TsUj7iPSWc\",\"title\":\"Finishing the Project\",\"type\":\"video\"}]},{\"slug\":\"reactjs-projects\",\"section\":\"Project 4 - Space News Api\",\"_sectionDuration\":1447,\"sectionDuration\":\"24 minutes\",\"items\":[{\"index\":23,\"duration\":\"02:44\",\"parentslug\":\"reactjs-projects\",\"slug\":\"hu_vaQ1b0\",\"title\":\"Setting the Project Up\",\"type\":\"video\"},{\"index\":24,\"duration\":\"06:55\",\"parentslug\":\"reactjs-projects\",\"slug\":\"11jwv2EIOm\",\"title\":\"Fetching Data from the API\",\"type\":\"video\"},{\"index\":25,\"duration\":\"03:56\",\"parentslug\":\"reactjs-projects\",\"slug\":\"EnYe_WeTiw\",\"title\":\"Displaying the API Data\",\"type\":\"video\"},{\"index\":26,\"duration\":\"03:52\",\"parentslug\":\"reactjs-projects\",\"slug\":\"jlqzYHSzBk\",\"title\":\"Displaying the Articles\",\"type\":\"video\"},{\"index\":27,\"duration\":\"06:40\",\"parentslug\":\"reactjs-projects\",\"slug\":\"LlkO4cUqsj\",\"title\":\"Linking the Articles\",\"type\":\"video\"}]},{\"slug\":\"reactjs-projects\",\"section\":\"Project 5 - Video Game Api\",\"_sectionDuration\":3337,\"sectionDuration\":\"55 minutes\",\"items\":[{\"index\":28,\"duration\":\"06:33\",\"parentslug\":\"reactjs-projects\",\"slug\":\"SRFwY6JRa\",\"title\":\"Setting up the UI\",\"type\":\"video\"},{\"index\":29,\"duration\":\"10:04\",\"parentslug\":\"reactjs-projects\",\"slug\":\"iYzTqADwC\",\"title\":\"Searching Games\",\"type\":\"video\"},{\"index\":30,\"duration\":\"06:37\",\"parentslug\":\"reactjs-projects\",\"slug\":\"VYuv84qa5\",\"title\":\"Displaying the Games\",\"type\":\"video\"},{\"index\":31,\"duration\":\"06:01\",\"parentslug\":\"reactjs-projects\",\"slug\":\"8jylNg8kE\",\"title\":\"Finishing Search Section\",\"type\":\"video\"},{\"index\":32,\"duration\":\"10:02\",\"parentslug\":\"reactjs-projects\",\"slug\":\"wdR8zNJoe\",\"title\":\"Creating The Deals Section\",\"type\":\"video\"},{\"index\":33,\"duration\":\"05:58\",\"parentslug\":\"reactjs-projects\",\"slug\":\"jdz4PvHsU\",\"title\":\"Finishing Up Deals Section\",\"type\":\"video\"},{\"index\":34,\"duration\":\"10:22\",\"parentslug\":\"reactjs-projects\",\"slug\":\"ZxrbJ7Oi7\",\"title\":\"Implementing SWR\",\"type\":\"video\"}]}],\"outlineMeta\":{\"duration\":14382,\"videos\":35,\"quizzes\":0,\"labs\":0,\"slug\":\"reactjs-projects\",\"courseImage\":\"https://creator-assets.codedamn.com/PedroTech-5fac1d3c744baf0001c16847/course-image/2021-07-12/e5286385e1eabedf6975b76ecf1d7abc89c862b3\"}},{\"label\":\"Advanced Theoretical JavaScript\",\"free\":true,\"courseState\":\"regular\",\"outline\":[{\"slug\":\"advanced-theoritical-js\",\"section\":\"Introduction\",\"_sectionDuration\":177,\"sectionDuration\":\"02 minutes\",\"items\":[{\"index\":0,\"duration\":\"00:47\",\"parentslug\":\"advanced-theoritical-js\",\"slug\":\"529lDyCUH\",\"title\":\"Course Start\",\"type\":\"video\"},{\"index\":1,\"duration\":\"02:10\",\"parentslug\":\"advanced-theoritical-js\",\"slug\":\"1Op3kiau4C\",\"title\":\"Is this course for you?\",\"type\":\"video\"}]},{\"slug\":\"advanced-theoritical-js\",\"section\":\"ECMAScript\",\"_sectionDuration\":733,\"sectionDuration\":\"12 minutes\",\"items\":[{\"index\":2,\"duration\":\"01:50\",\"parentslug\":\"advanced-theoritical-js\",\"slug\":\"QitcYz6-Qj\",\"title\":\"What is ECMAScript?\",\"type\":\"video\"},{\"index\":3,\"duration\":\"07:48\",\"parentslug\":\"advanced-theoritical-js\",\"slug\":\"kPmHelCi_v\",\"title\":\"ECMAScript Standards\",\"type\":\"video\"},{\"index\":4,\"duration\":\"02:35\",\"parentslug\":\"advanced-theoritical-js\",\"slug\":\"aGOyNlGr6U\",\"title\":\"Support for ECMAScript Standards\",\"type\":\"video\"}]},{\"slug\":\"advanced-theoritical-js\",\"section\":\"DOM Overview\",\"_sectionDuration\":577,\"sectionDuration\":\"09 minutes\",\"items\":[{\"index\":5,\"duration\":\"05:39\",\"parentslug\":\"advanced-theoritical-js\",\"slug\":\"yMfoZqmTdI\",\"title\":\"DOM\",\"type\":\"video\"},{\"index\":6,\"duration\":\"03:58\",\"parentslug\":\"advanced-theoritical-js\",\"slug\":\"X49nSN7W89\",\"title\":\"DOM APIs\",\"type\":\"video\"}]},{\"slug\":\"advanced-theoritical-js\",\"section\":\"JS Runtimes\",\"_sectionDuration\":1180,\"sectionDuration\":\"19 minutes\",\"items\":[{\"index\":7,\"duration\":\"01:39\",\"parentslug\":\"advanced-theoritical-js\",\"slug\":\"FMmSzDa_ZY\",\"title\":\"What is Runtime?\",\"type\":\"video\"},{\"index\":8,\"duration\":\"03:42\",\"parentslug\":\"advanced-theoritical-js\",\"slug\":\"AygH8l5OuV\",\"title\":\"What is a Runtime Engine?\",\"type\":\"video\"},{\"index\":9,\"duration\":\"04:55\",\"parentslug\":\"advanced-theoritical-js\",\"slug\":\"bCFDDhXLcS\",\"title\":\"Node as a runtime\",\"type\":\"video\"},{\"index\":10,\"duration\":\"04:55\",\"parentslug\":\"advanced-theoritical-js\",\"slug\":\"2aVYmN0Jqg\",\"title\":\"NativeScript as a runtime\",\"type\":\"video\"},{\"index\":11,\"duration\":\"04:29\",\"parentslug\":\"advanced-theoritical-js\",\"slug\":\"JTztmlpPg9\",\"title\":\"Electron as a runtime\",\"type\":\"video\"}]},{\"slug\":\"advanced-theoritical-js\",\"section\":\"V8 Engine\",\"_sectionDuration\":422,\"sectionDuration\":\"07 minutes\",\"items\":[{\"index\":12,\"duration\":\"00:42\",\"parentslug\":\"advanced-theoritical-js\",\"slug\":\"E7fxmuUtRB\",\"title\":\"V8 Introduction\",\"type\":\"video\"},{\"index\":13,\"duration\":\"06:20\",\"parentslug\":\"advanced-theoritical-js\",\"slug\":\"8mdqbKS2g3\",\"title\":\"JIT compilation in JS\",\"type\":\"video\"}]},{\"slug\":\"advanced-theoritical-js\",\"section\":\"Event Loop\",\"_sectionDuration\":4758,\"sectionDuration\":\"01 hours\",\"items\":[{\"index\":14,\"duration\":\"04:20\",\"parentslug\":\"advanced-theoritical-js\",\"slug\":\"6njDrdF3xd\",\"title\":\"Introduction to event loop\",\"type\":\"video\"},{\"index\":15,\"duration\":\"04:28\",\"parentslug\":\"advanced-theoritical-js\",\"slug\":\"S-5mYPj0Jx\",\"title\":\"Callstack\",\"type\":\"video\"},{\"index\":16,\"duration\":\"01:52\",\"parentslug\":\"advanced-theoritical-js\",\"slug\":\"21oXJMwRxFt\",\"title\":\"Internal Web API section\",\"type\":\"video\"},{\"index\":17,\"duration\":\"09:35\",\"parentslug\":\"advanced-theoritical-js\",\"slug\":\"tL4RtB6snbI\",\"title\":\"Task Queue\",\"type\":\"video\"},{\"index\":18,\"duration\":\"09:44\",\"parentslug\":\"advanced-theoritical-js\",\"slug\":\"AZ3S5EqzF6M\",\"title\":\"Understanding Task Queue\",\"type\":\"video\"},{\"index\":19,\"duration\":\"09:12\",\"parentslug\":\"advanced-theoritical-js\",\"slug\":\"qmSw-cmtHhn\",\"title\":\"requestAnimationFrame Queue\",\"type\":\"video\"},{\"index\":20,\"duration\":\"11:11\",\"parentslug\":\"advanced-theoritical-js\",\"slug\":\"nzu69WLow7s\",\"title\":\"Introduction to Microtask queue\",\"type\":\"video\"},{\"index\":21,\"duration\":\"06:21\",\"parentslug\":\"advanced-theoritical-js\",\"slug\":\"_TO-gUsUTL-\",\"title\":\"Example question on queues\",\"type\":\"video\"},{\"index\":22,\"duration\":\"11:43\",\"parentslug\":\"advanced-theoritical-js\",\"slug\":\"egtGmBASjJ3\",\"title\":\"Another example question on queues\",\"type\":\"video\"},{\"index\":23,\"duration\":\"10:52\",\"parentslug\":\"advanced-theoritical-js\",\"slug\":\"tcorXhIAejn\",\"title\":\"One more example on queues\",\"type\":\"video\"}]}],\"outlineMeta\":{\"duration\":7847,\"videos\":24,\"quizzes\":0,\"labs\":0,\"slug\":\"advanced-theoritical-js\",\"courseImage\":\"https://creator-assets.codedamn.com/codedamn-5f1f31bbf8bab7fa6ddb6fdb/course-image/2022-01-12/be74358e067b85d0edd0888dcec275212dfbb5ba\"}}]},{\"title\":\"Testing and skill evaluation\",\"description\":\"In this module, after covering Cypress, we would practice on a lot of frontend related questions - hands-on exam!\",\"nodes\":[{\"label\":\"Testing Code with Cypress\",\"free\":false,\"courseState\":\"regular\",\"outline\":[{\"slug\":\"testing-with-cypress\",\"section\":\"Introduction\",\"_sectionDuration\":724,\"sectionDuration\":\"12 minutes\",\"items\":[{\"index\":0,\"duration\":\"02:05\",\"parentslug\":\"testing-with-cypress\",\"slug\":\"Y_Mh0QLkr\",\"title\":\"Introduction\",\"type\":\"video\"},{\"index\":1,\"duration\":\"04:49\",\"parentslug\":\"testing-with-cypress\",\"slug\":\"bGmXzOQNpL\",\"title\":\"How it works\",\"type\":\"video\"},{\"index\":2,\"duration\":\"03:01\",\"parentslug\":\"testing-with-cypress\",\"slug\":\"-tNRm0tvzCZ\",\"title\":\"Course outcome and pre-reqs\",\"type\":\"video\"},{\"index\":3,\"duration\":\"02:09\",\"parentslug\":\"testing-with-cypress\",\"slug\":\"7VTTFKRHml8\",\"title\":\"Installing Node\",\"type\":\"video\"}]},{\"slug\":\"testing-with-cypress\",\"section\":\"Cypress basics\",\"_sectionDuration\":3532,\"sectionDuration\":\"58 minutes\",\"items\":[{\"index\":4,\"duration\":\"06:33\",\"parentslug\":\"testing-with-cypress\",\"slug\":\"gWG3SGFMT-W\",\"title\":\"Installing Cypress\",\"type\":\"video\"},{\"index\":5,\"duration\":\"04:34\",\"parentslug\":\"testing-with-cypress\",\"slug\":\"7iKGdIjTz3f\",\"title\":\"Exploring Cypress Runner\",\"type\":\"video\"},{\"index\":6,\"duration\":\"06:02\",\"parentslug\":\"testing-with-cypress\",\"slug\":\"2BKsHajSOdF\",\"title\":\"Hello World with Cypress\",\"type\":\"video\"},{\"index\":7,\"duration\":\"02:16\",\"parentslug\":\"testing-with-cypress\",\"slug\":\"E1fXOJ0gbBf\",\"title\":\"Headless Hello World\",\"type\":\"video\"},{\"index\":8,\"duration\":\"04:54\",\"parentslug\":\"testing-with-cypress\",\"slug\":\"w49umXVCjCy\",\"title\":\"Folder Structure Explained\",\"type\":\"video\"},{\"index\":9,\"duration\":\"07:04\",\"parentslug\":\"testing-with-cypress\",\"slug\":\"BkffzSqC8_\",\"title\":\"cy.contains\",\"type\":\"video\"},{\"index\":10,\"duration\":\"08:44\",\"parentslug\":\"testing-with-cypress\",\"slug\":\"fwcRmzKkCP\",\"title\":\"cy.get\",\"type\":\"video\"},{\"index\":11,\"duration\":\"06:34\",\"parentslug\":\"testing-with-cypress\",\"slug\":\"TX0bP39kXK\",\"title\":\"cy.should\",\"type\":\"video\"},{\"index\":12,\"duration\":\"02:53\",\"parentslug\":\"testing-with-cypress\",\"slug\":\"PDyJvR82Us\",\"title\":\"cy.viewport\",\"type\":\"video\"},{\"index\":13,\"duration\":\"04:41\",\"parentslug\":\"testing-with-cypress\",\"slug\":\"XPjunebyUM\",\"title\":\"Verifying login page UI\",\"type\":\"video\"},{\"index\":14,\"duration\":\"04:37\",\"parentslug\":\"testing-with-cypress\",\"slug\":\"ekaxrZbzxD\",\"title\":\"Verifying Page URLs\",\"type\":\"video\"}]},{\"slug\":\"testing-with-cypress\",\"section\":\"More into testing with Cypress\",\"_sectionDuration\":2645,\"sectionDuration\":\"44 minutes\",\"items\":[{\"index\":15,\"duration\":\"03:54\",\"parentslug\":\"testing-with-cypress\",\"slug\":\"9-OU2QkXQi\",\"title\":\"Console logs with Cypress\",\"type\":\"video\"},{\"index\":16,\"duration\":\"04:54\",\"parentslug\":\"testing-with-cypress\",\"slug\":\"FF1V4fWYjF\",\"title\":\"Keyboard typing with cypress\",\"type\":\"video\"},{\"index\":17,\"duration\":\"03:26\",\"parentslug\":\"testing-with-cypress\",\"slug\":\"Mp7uObXRpE\",\"title\":\"Loggin in with Cy\",\"type\":\"video\"},{\"index\":18,\"duration\":\"02:44\",\"parentslug\":\"testing-with-cypress\",\"slug\":\"IEZEmByk3S\",\"title\":\"beforeEach\",\"type\":\"video\"},{\"index\":19,\"duration\":\"03:42\",\"parentslug\":\"testing-with-cypress\",\"slug\":\"maKeig1xMy\",\"title\":\"Setting localStorage\",\"type\":\"video\"},{\"index\":20,\"duration\":\"01:05\",\"parentslug\":\"testing-with-cypress\",\"slug\":\"I5oPKbqlzI\",\"title\":\"codedamn Playground Testing\",\"type\":\"video\"},{\"index\":21,\"duration\":\"09:22\",\"parentslug\":\"testing-with-cypress\",\"slug\":\"TD_ionyGbn\",\"title\":\"Checking for element existance\",\"type\":\"video\"},{\"index\":22,\"duration\":\"02:43\",\"parentslug\":\"testing-with-cypress\",\"slug\":\"hQqIGzy8rN\",\"title\":\"Command level timeouts\",\"type\":\"video\"},{\"index\":23,\"duration\":\"06:58\",\"parentslug\":\"testing-with-cypress\",\"slug\":\"yqgezLEbNaP\",\"title\":\"Testing \\\"New File\\\" feature\",\"type\":\"video\"},{\"index\":24,\"duration\":\"05:17\",\"parentslug\":\"testing-with-cypress\",\"slug\":\"mnKRwKeHBbB\",\"title\":\"Testing \\\"Rename File\\\" feature\",\"type\":\"video\"}]},{\"slug\":\"testing-with-cypress\",\"section\":\"Advanced Cypress\",\"_sectionDuration\":2328,\"sectionDuration\":\"38 minutes\",\"items\":[{\"index\":25,\"duration\":\"03:16\",\"parentslug\":\"testing-with-cypress\",\"slug\":\"j4IoQyFUv\",\"title\":\"Verifying if data is synchronized\",\"type\":\"video\"},{\"index\":26,\"duration\":\"10:00\",\"parentslug\":\"testing-with-cypress\",\"slug\":\"x4xXHssVOS\",\"title\":\"Cypress Architecture\",\"type\":\"video\"},{\"index\":27,\"duration\":\"05:53\",\"parentslug\":\"testing-with-cypress\",\"slug\":\"f9mCBG-_Ys\",\"title\":\"Cypress Hooks\",\"type\":\"video\"},{\"index\":28,\"duration\":\"07:45\",\"parentslug\":\"testing-with-cypress\",\"slug\":\"jdbflZwq6J\",\"title\":\"Creating Custom Commands\",\"type\":\"video\"},{\"index\":29,\"duration\":\"07:21\",\"parentslug\":\"testing-with-cypress\",\"slug\":\"-kJ_dTQLJf\",\"title\":\"Intercepting requests in Cypress\",\"type\":\"video\"},{\"index\":30,\"duration\":\"02:40\",\"parentslug\":\"testing-with-cypress\",\"slug\":\"3E51O5J3fQ\",\"title\":\"Aliasing Commands in Cypress\",\"type\":\"video\"},{\"index\":31,\"duration\":\"01:53\",\"parentslug\":\"testing-with-cypress\",\"slug\":\"b_Q2fPUmU3\",\"title\":\"The end | Where to go next\",\"type\":\"video\"}]}],\"outlineMeta\":{\"duration\":9229,\"videos\":32,\"quizzes\":0,\"labs\":0,\"slug\":\"testing-with-cypress\",\"courseImage\":\"https://creator-assets.codedamn.com/codedamn-5f1f31bbf8bab7fa6ddb6fdb/course-image/ef41b8ec4f4667cba30ba2f45b6aa45cce1b0aaa\"}},{\"label\":\"Frontend Certification Exam\",\"free\":false,\"courseState\":\"exam\",\"outline\":[],\"outlineMeta\":{\"duration\":0,\"videos\":0,\"labs\":0,\"slug\":\"\",\"quizzes\":0,\"courseImage\":\"https://imagegen.codedamn.com/COMING%20SOON.png?theme=dark\"}}]},{\"title\":\"Introduction to backend web development\",\"description\":\"Backend starts from servers, and we will start from there - Linux OS.\",\"nodes\":[{\"label\":\"Linux Fundamentals\",\"free\":false,\"courseState\":\"regular\",\"outline\":[{\"slug\":\"linux-cli-fundamentals\",\"section\":\"Introduction to course\",\"_sectionDuration\":1635,\"sectionDuration\":\"27 minutes\",\"items\":[{\"index\":0,\"duration\":\"04:35\",\"parentslug\":\"linux-cli-fundamentals\",\"slug\":\"jb62RqBKk\",\"title\":\"Introduction to course\",\"type\":\"video\"},{\"index\":1,\"duration\":\"06:06\",\"parentslug\":\"linux-cli-fundamentals\",\"slug\":\"HYR3NTS7JY\",\"title\":\"What is Linux?\",\"type\":\"video\"},{\"index\":2,\"duration\":\"05:19\",\"parentslug\":\"linux-cli-fundamentals\",\"slug\":\"IWqI8FHn8c\",\"title\":\"Your First Commands\",\"type\":\"video\"},{\"index\":3,\"duration\":\"05:00\",\"parentslug\":\"linux-cli-fundamentals\",\"slug\":\"5CA7LzqmwWDSIkyi10fU1\",\"title\":\"Your first commands\",\"type\":\"lab\"},{\"index\":4,\"duration\":\"04:15\",\"parentslug\":\"linux-cli-fundamentals\",\"slug\":\"4J8alo_zuL\",\"title\":\"Different Shells in Linux\",\"type\":\"video\"},{\"index\":5,\"duration\":\"01:00\",\"parentslug\":\"linux-cli-fundamentals\",\"slug\":\"qsm5sY3REXhkFJ3R4mOmH\",\"title\":\"What is a correct statement about a shell?\",\"type\":\"quiz\"},{\"index\":6,\"duration\":\"01:00\",\"parentslug\":\"linux-cli-fundamentals\",\"slug\":\"Bw8btZI40VRyC8OScFK69\",\"title\":\"On a UNIX system, there can be ____ shells running simultaneously.\",\"type\":\"quiz\"}]},{\"slug\":\"linux-cli-fundamentals\",\"section\":\"Common Linux Commands\",\"_sectionDuration\":2657,\"sectionDuration\":\"44 minutes\",\"items\":[{\"index\":7,\"duration\":\"05:51\",\"parentslug\":\"linux-cli-fundamentals\",\"slug\":\"WaOHia0dSr\",\"title\":\"Navigating directories - cd\",\"type\":\"video\"},{\"index\":8,\"duration\":\"05:38\",\"parentslug\":\"linux-cli-fundamentals\",\"slug\":\"uNcOI76y9u\",\"title\":\"List files - ls\",\"type\":\"video\"},{\"index\":9,\"duration\":\"02:19\",\"parentslug\":\"linux-cli-fundamentals\",\"slug\":\"h8WRym_6C9\",\"title\":\"Read files - cat\",\"type\":\"video\"},{\"index\":10,\"duration\":\"02:19\",\"parentslug\":\"linux-cli-fundamentals\",\"slug\":\"kITS9hGTD9\",\"title\":\"Determine your OS\",\"type\":\"video\"},{\"index\":11,\"duration\":\"01:42\",\"parentslug\":\"linux-cli-fundamentals\",\"slug\":\"aHdGm0jm6e\",\"title\":\"Read long files - less\",\"type\":\"video\"},{\"index\":12,\"duration\":\"04:17\",\"parentslug\":\"linux-cli-fundamentals\",\"slug\":\"BjwcY26Bh0\",\"title\":\"Create directory - mkdir\",\"type\":\"video\"},{\"index\":13,\"duration\":\"02:53\",\"parentslug\":\"linux-cli-fundamentals\",\"slug\":\"oAhrZmpoDZ\",\"title\":\"Remove - rm\",\"type\":\"video\"},{\"index\":14,\"duration\":\"05:00\",\"parentslug\":\"linux-cli-fundamentals\",\"slug\":\"pR4kvPLqKuE8PhOPo8FmQ\",\"title\":\"Common operations practice\",\"type\":\"lab\"},{\"index\":15,\"duration\":\"02:58\",\"parentslug\":\"linux-cli-fundamentals\",\"slug\":\"IvcewlyUdz\",\"title\":\"copy - cp\",\"type\":\"video\"},{\"index\":16,\"duration\":\"02:29\",\"parentslug\":\"linux-cli-fundamentals\",\"slug\":\"_1Cc7cdvr8\",\"title\":\"Move - mv\",\"type\":\"video\"},{\"index\":17,\"duration\":\"05:00\",\"parentslug\":\"linux-cli-fundamentals\",\"slug\":\"dey0splrUZ4YtotZP-rEu\",\"title\":\"Common operations practice - part 2\",\"type\":\"lab\"},{\"index\":18,\"duration\":\"03:51\",\"parentslug\":\"linux-cli-fundamentals\",\"slug\":\"Ki02rH5HNz\",\"title\":\"Find binary path - which\",\"type\":\"video\"}]},{\"slug\":\"linux-cli-fundamentals\",\"section\":\"Nano Text Editor\",\"_sectionDuration\":765,\"sectionDuration\":\"12 minutes\",\"items\":[{\"index\":19,\"duration\":\"05:08\",\"parentslug\":\"linux-cli-fundamentals\",\"slug\":\"SIZgpIZ51T\",\"title\":\"Introduction to nano\",\"type\":\"video\"},{\"index\":20,\"duration\":\"03:48\",\"parentslug\":\"linux-cli-fundamentals\",\"slug\":\"BGqHe869qe\",\"title\":\"Copy Pasting\",\"type\":\"video\"},{\"index\":21,\"duration\":\"03:49\",\"parentslug\":\"linux-cli-fundamentals\",\"slug\":\"LKRMKCabFLw\",\"title\":\"Search in nano\",\"type\":\"video\"}]},{\"slug\":\"linux-cli-fundamentals\",\"section\":\"Shell Scripting Basics\",\"_sectionDuration\":2553,\"sectionDuration\":\"42 minutes\",\"items\":[{\"index\":22,\"duration\":\"02:22\",\"parentslug\":\"linux-cli-fundamentals\",\"slug\":\"vJJI-RL9oVu\",\"title\":\"Shell Scripting Intro\",\"type\":\"video\"},{\"index\":23,\"duration\":\"03:12\",\"parentslug\":\"linux-cli-fundamentals\",\"slug\":\"f4wZDC-TIN8\",\"title\":\"Running simple bash script\",\"type\":\"video\"},{\"index\":24,\"duration\":\"02:16\",\"parentslug\":\"linux-cli-fundamentals\",\"slug\":\"H2R_Mj__h1P\",\"title\":\"Variables in bash\",\"type\":\"video\"},{\"index\":25,\"duration\":\"02:39\",\"parentslug\":\"linux-cli-fundamentals\",\"slug\":\"1f3xYIp81WJ\",\"title\":\"Arguments in Bash\",\"type\":\"video\"},{\"index\":26,\"duration\":\"02:43\",\"parentslug\":\"linux-cli-fundamentals\",\"slug\":\"WZSFbOZK0IB\",\"title\":\"Reading from stdin\",\"type\":\"video\"},{\"index\":27,\"duration\":\"03:37\",\"parentslug\":\"linux-cli-fundamentals\",\"slug\":\"FMir5JSdzdN\",\"title\":\"Building username-password interface\",\"type\":\"video\"},{\"index\":28,\"duration\":\"03:19\",\"parentslug\":\"linux-cli-fundamentals\",\"slug\":\"PjuYTMwhr-p\",\"title\":\"if-else in bash\",\"type\":\"video\"},{\"index\":29,\"duration\":\"06:25\",\"parentslug\":\"linux-cli-fundamentals\",\"slug\":\"dRVC_3jkeKe\",\"title\":\"Logical operators and exit status\",\"type\":\"video\"},{\"index\":30,\"duration\":\"02:24\",\"parentslug\":\"linux-cli-fundamentals\",\"slug\":\"4jtmwPEVNcA\",\"title\":\"If-else again\",\"type\":\"video\"},{\"index\":31,\"duration\":\"06:26\",\"parentslug\":\"linux-cli-fundamentals\",\"slug\":\"lN1nX7XilB2\",\"title\":\"For-loop in bash\",\"type\":\"video\"},{\"index\":32,\"duration\":\"07:10\",\"parentslug\":\"linux-cli-fundamentals\",\"slug\":\"e5ym1_SBKtj\",\"title\":\"Functions in bash\",\"type\":\"video\"}]},{\"slug\":\"linux-cli-fundamentals\",\"section\":\"Misc\",\"_sectionDuration\":1072,\"sectionDuration\":\"17 minutes\",\"items\":[{\"index\":33,\"duration\":\"03:02\",\"parentslug\":\"linux-cli-fundamentals\",\"slug\":\"N6wLiB_mwJR\",\"title\":\"Package Managers\",\"type\":\"video\"},{\"index\":34,\"duration\":\"03:16\",\"parentslug\":\"linux-cli-fundamentals\",\"slug\":\"Cv264aPxRZc\",\"title\":\".bashrc File\",\"type\":\"video\"},{\"index\":35,\"duration\":\"03:08\",\"parentslug\":\"linux-cli-fundamentals\",\"slug\":\"wOWhX9WKbSd\",\"title\":\"top and htop commands\",\"type\":\"video\"},{\"index\":36,\"duration\":\"02:25\",\"parentslug\":\"linux-cli-fundamentals\",\"slug\":\"02CMDjcFJuZ\",\"title\":\"Kill any process with kill command\",\"type\":\"video\"},{\"index\":37,\"duration\":\"05:00\",\"parentslug\":\"linux-cli-fundamentals\",\"slug\":\"m5RRQKgdWoHlvuJKPuOGy\",\"title\":\"Kill a process\",\"type\":\"lab\"},{\"index\":38,\"duration\":\"01:01\",\"parentslug\":\"linux-cli-fundamentals\",\"slug\":\"FPgpLw4N7Y8\",\"title\":\"Outro\",\"type\":\"video\"}]}],\"outlineMeta\":{\"duration\":8682,\"videos\":33,\"quizzes\":2,\"labs\":4,\"slug\":\"linux-cli-fundamentals\",\"courseImage\":\"https://creator-assets.codedamn.com/codedamn-5f1f31bbf8bab7fa6ddb6fdb/course-image/2021-07-05/17b23f1a50d8a9d873362c51300931d13fb5454e\"}},{\"label\":\"Node.js Fundamentals\",\"free\":false,\"courseState\":\"regular\",\"outline\":[{\"slug\":\"nodejs-fundamentals\",\"section\":\"Introduction to course\",\"_sectionDuration\":924,\"sectionDuration\":\"15 minutes\",\"items\":[{\"index\":0,\"duration\":\"00:38\",\"parentslug\":\"nodejs-fundamentals\",\"slug\":\"Hy5RG6ETaE8ZmkfDD9EYT\",\"title\":\"Welcome to the course (and pre-requisites)\",\"type\":\"article\"},{\"index\":1,\"duration\":\"01:06\",\"parentslug\":\"nodejs-fundamentals\",\"slug\":\"TN58hW9UA\",\"title\":\"Introduction to course\",\"type\":\"video\"},{\"index\":2,\"duration\":\"04:12\",\"parentslug\":\"nodejs-fundamentals\",\"slug\":\"qd4b6gP4Ae\",\"title\":\"Hello World\",\"type\":\"video\"},{\"index\":3,\"duration\":\"05:00\",\"parentslug\":\"nodejs-fundamentals\",\"slug\":\"rNhTFiXbibc9q4RB4hbuu\",\"title\":\"Node.js Hello World\",\"type\":\"lab\"},{\"index\":4,\"duration\":\"02:39\",\"parentslug\":\"nodejs-fundamentals\",\"slug\":\"_djVWQk4Ef\",\"title\":\"Deno vs Node.js\",\"type\":\"video\"},{\"index\":5,\"duration\":\"01:49\",\"parentslug\":\"nodejs-fundamentals\",\"slug\":\"Gn0tIp-dE_\",\"title\":\"Pre-req for Node.js (JavaScript)\",\"type\":\"video\"}]},{\"slug\":\"nodejs-fundamentals\",\"section\":\"CommonJS Module System\",\"_sectionDuration\":1594,\"sectionDuration\":\"26 minutes\",\"items\":[{\"index\":6,\"duration\":\"08:37\",\"parentslug\":\"nodejs-fundamentals\",\"slug\":\"dDeQnJGMH5\",\"title\":\"CommonJS Introduction\",\"type\":\"video\"},{\"index\":7,\"duration\":\"09:41\",\"parentslug\":\"nodejs-fundamentals\",\"slug\":\"hwlMdgo9Hl\",\"title\":\"Writing code in CommonJS standard\",\"type\":\"video\"},{\"index\":8,\"duration\":\"05:00\",\"parentslug\":\"nodejs-fundamentals\",\"slug\":\"fKZQ_GSKrkuVpkaDuqJY6\",\"title\":\"CommonJS Module System Practice\",\"type\":\"lab\"},{\"index\":9,\"duration\":\"03:16\",\"parentslug\":\"nodejs-fundamentals\",\"slug\":\"Fm_EsFG3C1\",\"title\":\"ECMAScript Modules Introduction\",\"type\":\"video\"}]},{\"slug\":\"nodejs-fundamentals\",\"section\":\"ES6 Module System\",\"_sectionDuration\":1211,\"sectionDuration\":\"20 minutes\",\"items\":[{\"index\":10,\"duration\":\"07:49\",\"parentslug\":\"nodejs-fundamentals\",\"slug\":\"kH-FS0XaL1\",\"title\":\"Learning ES Modules - Part 1\",\"type\":\"video\"},{\"index\":11,\"duration\":\"04:17\",\"parentslug\":\"nodejs-fundamentals\",\"slug\":\"Y5rTaRDHVD\",\"title\":\"Learning ES Modules - Part 2\",\"type\":\"video\"},{\"index\":12,\"duration\":\"07:05\",\"parentslug\":\"nodejs-fundamentals\",\"slug\":\"YrqybA7BlG\",\"title\":\"Learning ES Modules - Part 3\",\"type\":\"video\"},{\"index\":13,\"duration\":\"01:00\",\"parentslug\":\"nodejs-fundamentals\",\"slug\":\"134m9XREAf77l8hcLdCJp\",\"title\":\"What is an incorrect difference between CommonJS and ESM?\",\"type\":\"quiz\"}]},{\"slug\":\"nodejs-fundamentals\",\"section\":\"Servers in Node.js\",\"_sectionDuration\":2718,\"sectionDuration\":\"45 minutes\",\"items\":[{\"index\":14,\"duration\":\"05:40\",\"parentslug\":\"nodejs-fundamentals\",\"slug\":\"kUnSXwV4BV\",\"title\":\"Creating Raw HTTP Server in Node.js\",\"type\":\"video\"},{\"index\":15,\"duration\":\"05:00\",\"parentslug\":\"nodejs-fundamentals\",\"slug\":\"hiCU8AAdCWBkLWpawLBT4\",\"title\":\"Raw HTTP Server\",\"type\":\"lab\"},{\"index\":16,\"duration\":\"03:34\",\"parentslug\":\"nodejs-fundamentals\",\"slug\":\"knHhxlSzMC\",\"title\":\"Introduction to Express\",\"type\":\"video\"},{\"index\":17,\"duration\":\"05:43\",\"parentslug\":\"nodejs-fundamentals\",\"slug\":\"QPVF1ed-ps\",\"title\":\"HTTP Methods\",\"type\":\"video\"},{\"index\":18,\"duration\":\"05:00\",\"parentslug\":\"nodejs-fundamentals\",\"slug\":\"Z1oEk6s3QEaLE-Fi4KSID\",\"title\":\"Practice with Express\",\"type\":\"lab\"},{\"index\":19,\"duration\":\"02:36\",\"parentslug\":\"nodejs-fundamentals\",\"slug\":\"xcZmUz4IK5\",\"title\":\"Sending files to browser\",\"type\":\"video\"},{\"index\":20,\"duration\":\"04:03\",\"parentslug\":\"nodejs-fundamentals\",\"slug\":\"TiBXpw7LJV\",\"title\":\"Static assets\",\"type\":\"video\"},{\"index\":21,\"duration\":\"06:36\",\"parentslug\":\"nodejs-fundamentals\",\"slug\":\"cdiKktqxzK\",\"title\":\"Receiving data from frontend\",\"type\":\"video\"},{\"index\":22,\"duration\":\"01:39\",\"parentslug\":\"nodejs-fundamentals\",\"slug\":\"nGghwUbQs94PiHuI6PTrk\",\"title\":\"Middlewares in Express\",\"type\":\"article\"},{\"index\":23,\"duration\":\"05:00\",\"parentslug\":\"nodejs-fundamentals\",\"slug\":\"sQa0e6-mhS441ZJTYKPdW\",\"title\":\"Book directory project with Node.js\",\"type\":\"lab\"},{\"index\":24,\"duration\":\"00:27\",\"parentslug\":\"nodejs-fundamentals\",\"slug\":\"mBJMgViuBEaoAEEUVvYw8\",\"title\":\"What's next?\",\"type\":\"article\"}]}],\"outlineMeta\":{\"duration\":6447,\"videos\":16,\"quizzes\":1,\"labs\":5,\"slug\":\"nodejs-fundamentals\",\"courseImage\":\"https://creator-assets.codedamn.com/codedamn-5f1f31bbf8bab7fa6ddb6fdb/course-image/2022-01-12/f00d84f9e128f7296165d493222fdb2f5cccc050\"}}]},{\"title\":\"Advanced Node.js, MongoDB and GraphQL APIs\",\"description\":\"Databases, a backend programming language and APIs is the most important part of backend web development. Let us learn all about them here.\",\"nodes\":[{\"label\":\"Advanced Node.js Concepts\",\"free\":true,\"courseState\":\"regular\",\"outline\":[{\"slug\":\"advanced-node\",\"section\":\"Introduction\",\"_sectionDuration\":893,\"sectionDuration\":\"14 minutes\",\"items\":[{\"index\":0,\"duration\":\"00:54\",\"parentslug\":\"advanced-node\",\"slug\":\"YDRC7-3tH\",\"title\":\"Introduction\",\"type\":\"video\"},{\"index\":1,\"duration\":\"01:00\",\"parentslug\":\"advanced-node\",\"slug\":\"b1jphfB6w\",\"title\":\"Course Contents\",\"type\":\"video\"},{\"index\":2,\"duration\":\"09:07\",\"parentslug\":\"advanced-node\",\"slug\":\"-8CtppUn_\",\"title\":\"What exactly is Node.js?\",\"type\":\"video\"},{\"index\":3,\"duration\":\"03:52\",\"parentslug\":\"advanced-node\",\"slug\":\"7qh_KFgQy\",\"title\":\"More JS Engines\",\"type\":\"video\"}]},{\"slug\":\"advanced-node\",\"section\":\"Node.js Internals\",\"_sectionDuration\":1933,\"sectionDuration\":\"32 minutes\",\"items\":[{\"index\":4,\"duration\":\"11:47\",\"parentslug\":\"advanced-node\",\"slug\":\"qTZLFnHdp\",\"title\":\"fs.readFileSync under the hood\",\"type\":\"video\"},{\"index\":5,\"duration\":\"03:06\",\"parentslug\":\"advanced-node\",\"slug\":\"_OJme04xx\",\"title\":\"Exploring C++ code\",\"type\":\"video\"},{\"index\":6,\"duration\":\"03:26\",\"parentslug\":\"advanced-node\",\"slug\":\"TN699BfK2\",\"title\":\"fs.readFile under the hood\",\"type\":\"video\"},{\"index\":7,\"duration\":\"07:56\",\"parentslug\":\"advanced-node\",\"slug\":\"EUimgBu2J\",\"title\":\"Threads and Processes\",\"type\":\"video\"},{\"index\":8,\"duration\":\"05:58\",\"parentslug\":\"advanced-node\",\"slug\":\"9L10ac5p7\",\"title\":\"Node.js is multi-threaded?\",\"type\":\"video\"}]},{\"slug\":\"advanced-node\",\"section\":\"Threadpool in libuv\",\"_sectionDuration\":2188,\"sectionDuration\":\"36 minutes\",\"items\":[{\"index\":9,\"duration\":\"07:16\",\"parentslug\":\"advanced-node\",\"slug\":\"cKiDYCjDL\",\"title\":\"Bcrypt\",\"type\":\"video\"},{\"index\":10,\"duration\":\"04:31\",\"parentslug\":\"advanced-node\",\"slug\":\"x2b94p7ht\",\"title\":\"Playing with thread pool\",\"type\":\"video\"},{\"index\":11,\"duration\":\"16:29\",\"parentslug\":\"advanced-node\",\"slug\":\"OnTnE7n3S\",\"title\":\"What is threadpool?\",\"type\":\"video\"},{\"index\":12,\"duration\":\"08:12\",\"parentslug\":\"advanced-node\",\"slug\":\"UOEVihIBm\",\"title\":\"Optimum threadpool size\",\"type\":\"video\"}]},{\"slug\":\"advanced-node\",\"section\":\"Event Loop in JavaScript\",\"_sectionDuration\":4793,\"sectionDuration\":\"01 hours\",\"items\":[{\"index\":13,\"duration\":\"00:37\",\"parentslug\":\"advanced-node\",\"slug\":\"q_qsmF5Bu\",\"title\":\"Starting event loop\",\"type\":\"video\"},{\"index\":14,\"duration\":\"04:20\",\"parentslug\":\"advanced-node\",\"slug\":\"b7UEcpWHY\",\"title\":\"Introduction to event loop\",\"type\":\"video\"},{\"index\":15,\"duration\":\"04:27\",\"parentslug\":\"advanced-node\",\"slug\":\"hy3qYLb_i\",\"title\":\"What is call stack?\",\"type\":\"video\"},{\"index\":16,\"duration\":\"01:52\",\"parentslug\":\"advanced-node\",\"slug\":\"MOgZij0Ui\",\"title\":\"Internal Web API\",\"type\":\"video\"},{\"index\":17,\"duration\":\"09:34\",\"parentslug\":\"advanced-node\",\"slug\":\"YGs-QjcAz\",\"title\":\"Task Queues\",\"type\":\"video\"},{\"index\":18,\"duration\":\"09:44\",\"parentslug\":\"advanced-node\",\"slug\":\"XJEMFDIX_\",\"title\":\"Understanding Task Queue\",\"type\":\"video\"},{\"index\":19,\"duration\":\"09:12\",\"parentslug\":\"advanced-node\",\"slug\":\"s5Nw_hnnK\",\"title\":\"rAF Queue\",\"type\":\"video\"},{\"index\":20,\"duration\":\"11:11\",\"parentslug\":\"advanced-node\",\"slug\":\"Nwg3Bpdgo\",\"title\":\"Microtask queues\",\"type\":\"video\"},{\"index\":21,\"duration\":\"06:21\",\"parentslug\":\"advanced-node\",\"slug\":\"SB38YNlTh\",\"title\":\"Example Question\",\"type\":\"video\"},{\"index\":22,\"duration\":\"11:43\",\"parentslug\":\"advanced-node\",\"slug\":\"6Q0OaMneB\",\"title\":\"Another example question\",\"type\":\"video\"},{\"index\":23,\"duration\":\"10:52\",\"parentslug\":\"advanced-node\",\"slug\":\"cywFYdRpf\",\"title\":\"Final example question\",\"type\":\"video\"}]}],\"outlineMeta\":{\"duration\":9807,\"videos\":24,\"quizzes\":0,\"labs\":0,\"slug\":\"advanced-node\",\"courseImage\":\"https://creator-assets.codedamn.com/codedamn-5f1f31bbf8bab7fa6ddb6fdb/course-image/2021-01-03/d028b9cb3bafe002fd1a864ee0048a751456abd7\"}},{\"label\":\"Working with MongoDB\",\"free\":true,\"courseState\":\"regular\",\"outline\":[{\"slug\":\"node-mongodb-fundamentals\",\"section\":\"Introduction to Databases\",\"_sectionDuration\":1280,\"sectionDuration\":\"21 minutes\",\"items\":[{\"index\":0,\"duration\":\"00:50\",\"parentslug\":\"node-mongodb-fundamentals\",\"slug\":\"ZF5viJ1-v\",\"title\":\"Introduction\",\"type\":\"video\"},{\"index\":1,\"duration\":\"06:33\",\"parentslug\":\"node-mongodb-fundamentals\",\"slug\":\"NYjKYsgpaH\",\"title\":\"Why Databases?\",\"type\":\"video\"},{\"index\":2,\"duration\":\"09:24\",\"parentslug\":\"node-mongodb-fundamentals\",\"slug\":\"g7-JJBtk2L\",\"title\":\"SQL vs NoSQL\",\"type\":\"video\"},{\"index\":3,\"duration\":\"04:33\",\"parentslug\":\"node-mongodb-fundamentals\",\"slug\":\"EkeW_nzXtk\",\"title\":\"MongoDB\",\"type\":\"video\"}]},{\"slug\":\"node-mongodb-fundamentals\",\"section\":\"Mongoose Fundamentals\",\"_sectionDuration\":1541,\"sectionDuration\":\"25 minutes\",\"items\":[{\"index\":4,\"duration\":\"06:11\",\"parentslug\":\"node-mongodb-fundamentals\",\"slug\":\"8D9ME351DA\",\"title\":\"Creating a To-Do App\",\"type\":\"video\"},{\"index\":5,\"duration\":\"09:45\",\"parentslug\":\"node-mongodb-fundamentals\",\"slug\":\"8cVqiQoc91\",\"title\":\"Setting up Mongoose\",\"type\":\"video\"},{\"index\":6,\"duration\":\"09:45\",\"parentslug\":\"node-mongodb-fundamentals\",\"slug\":\"1a9jxSam8W\",\"title\":\"Mongoose Model\",\"type\":\"video\"}]},{\"slug\":\"node-mongodb-fundamentals\",\"section\":\"CRUD with MongoDB\",\"_sectionDuration\":1332,\"sectionDuration\":\"22 minutes\",\"items\":[{\"index\":7,\"duration\":\"07:01\",\"parentslug\":\"node-mongodb-fundamentals\",\"slug\":\"8_2kzbDAfd\",\"title\":\"Create in CRUD\",\"type\":\"video\"},{\"index\":8,\"duration\":\"03:25\",\"parentslug\":\"node-mongodb-fundamentals\",\"slug\":\"Q3PN-CIhsA\",\"title\":\"Read in CRUD\",\"type\":\"video\"},{\"index\":9,\"duration\":\"07:40\",\"parentslug\":\"node-mongodb-fundamentals\",\"slug\":\"qA34tx5sl7\",\"title\":\"Update in CRUD\",\"type\":\"video\"},{\"index\":10,\"duration\":\"02:56\",\"parentslug\":\"node-mongodb-fundamentals\",\"slug\":\"5sQrdNTi5v\",\"title\":\"Delete in CRUD\",\"type\":\"video\"},{\"index\":11,\"duration\":\"01:10\",\"parentslug\":\"node-mongodb-fundamentals\",\"slug\":\"w74QN_kWZP\",\"title\":\"Next steps\",\"type\":\"video\"}]},{\"slug\":\"node-mongodb-fundamentals\",\"section\":\"JWT Authentication\",\"_sectionDuration\":4079,\"sectionDuration\":\"01 hours\",\"items\":[{\"index\":12,\"duration\":\"00:59\",\"parentslug\":\"node-mongodb-fundamentals\",\"slug\":\"nggCQ7hEB\",\"title\":\"Introduction\",\"type\":\"video\"},{\"index\":13,\"duration\":\"07:15\",\"parentslug\":\"node-mongodb-fundamentals\",\"slug\":\"PWE6lf_r-d\",\"title\":\"Creating Register Form\",\"type\":\"video\"},{\"index\":14,\"duration\":\"07:22\",\"parentslug\":\"node-mongodb-fundamentals\",\"slug\":\"Kyb14fURLW\",\"title\":\"Getting Data on Server\",\"type\":\"video\"},{\"index\":15,\"duration\":\"10:43\",\"parentslug\":\"node-mongodb-fundamentals\",\"slug\":\"HwDP7H9XoV\",\"title\":\"Registering a user\",\"type\":\"video\"},{\"index\":16,\"duration\":\"03:17\",\"parentslug\":\"node-mongodb-fundamentals\",\"slug\":\"4ePsujT0u9\",\"title\":\"Creating a user\",\"type\":\"video\"},{\"index\":17,\"duration\":\"06:05\",\"parentslug\":\"node-mongodb-fundamentals\",\"slug\":\"3JRQgu1XNx\",\"title\":\"Duplicate Records\",\"type\":\"video\"},{\"index\":18,\"duration\":\"08:32\",\"parentslug\":\"node-mongodb-fundamentals\",\"slug\":\"-1LLoWrrXx\",\"title\":\"JWT Introduction\",\"type\":\"video\"},{\"index\":19,\"duration\":\"09:52\",\"parentslug\":\"node-mongodb-fundamentals\",\"slug\":\"aZx5f63J6B\",\"title\":\"JWT Login\",\"type\":\"video\"},{\"index\":20,\"duration\":\"11:33\",\"parentslug\":\"node-mongodb-fundamentals\",\"slug\":\"xokoOcRN5p\",\"title\":\"Changing Password\",\"type\":\"video\"},{\"index\":21,\"duration\":\"02:21\",\"parentslug\":\"node-mongodb-fundamentals\",\"slug\":\"2Bwe4_OkBU\",\"title\":\"Next steps\",\"type\":\"video\"}]}],\"outlineMeta\":{\"duration\":8232,\"videos\":22,\"quizzes\":0,\"labs\":0,\"slug\":\"node-mongodb-fundamentals\",\"courseImage\":\"https://creator-assets.codedamn.com/codedamn-5f1f31bbf8bab7fa6ddb6fdb/course-image/2022-01-12/de2b74094a3452332df2b2c7a1de0f6c539e67f2\"}},{\"label\":\"Understanding GraphQL\",\"free\":false,\"courseState\":\"regular\",\"outline\":[{\"slug\":\"graphql-for-beginners\",\"section\":\"Introduction\",\"_sectionDuration\":2256,\"sectionDuration\":\"37 minutes\",\"items\":[{\"index\":0,\"duration\":\"25:01\",\"parentslug\":\"graphql-for-beginners\",\"slug\":\"Zl0hM8QBlF2fDnFRV9jxJ\",\"title\":\"Course Structure\",\"type\":\"video\"},{\"index\":1,\"duration\":\"04:10\",\"parentslug\":\"graphql-for-beginners\",\"slug\":\"RGvtzGyo0XpEviQZTkmge\",\"title\":\"What is GraphQL?\",\"type\":\"video\"},{\"index\":2,\"duration\":\"07:25\",\"parentslug\":\"graphql-for-beginners\",\"slug\":\"a2_AcJtNKOZHhpMbpDzND\",\"title\":\"How GraphQL Works\",\"type\":\"video\"},{\"index\":3,\"duration\":\"01:00\",\"parentslug\":\"graphql-for-beginners\",\"slug\":\"YZLsNsgltbJlmDEfNfoJ4\",\"title\":\"Which of the following options incorrectly describes GraphQL?\",\"type\":\"quiz\"}]},{\"slug\":\"graphql-for-beginners\",\"section\":\"Intro to The GraphQL Language\",\"_sectionDuration\":1943,\"sectionDuration\":\"32 minutes\",\"items\":[{\"index\":4,\"duration\":\"09:38\",\"parentslug\":\"graphql-for-beginners\",\"slug\":\"6FX6mHrmhYRbNWs-cdlqk\",\"title\":\"Basic Types\",\"type\":\"video\"},{\"index\":5,\"duration\":\"17:45\",\"parentslug\":\"graphql-for-beginners\",\"slug\":\"aPtq2Uj4NIcGHaGXdjGX1\",\"title\":\"Basic Queries\",\"type\":\"video\"},{\"index\":6,\"duration\":\"05:00\",\"parentslug\":\"graphql-for-beginners\",\"slug\":\"yjygPKL9EFKEQ4hSOUQyy\",\"title\":\"Write a query that queries a list of all continents\",\"type\":\"lab\"}]},{\"slug\":\"graphql-for-beginners\",\"section\":\"Creating Your Own GraphQL API Using NodeJS\",\"_sectionDuration\":4482,\"sectionDuration\":\"01 hours\",\"items\":[{\"index\":7,\"duration\":\"04:10\",\"parentslug\":\"graphql-for-beginners\",\"slug\":\"qW1hOkp0XlgI6khDIyndE\",\"title\":\"Setting Up the API\",\"type\":\"video\"},{\"index\":8,\"duration\":\"05:00\",\"parentslug\":\"graphql-for-beginners\",\"slug\":\"QLu8KmdLiTla65Hvr5r4E\",\"title\":\"Creating a New GraphQL Type\",\"type\":\"lab\"},{\"index\":9,\"duration\":\"11:02\",\"parentslug\":\"graphql-for-beginners\",\"slug\":\"TWqM4DGLme_DLvuS21Y-n\",\"title\":\"What are Resolvers?\",\"type\":\"video\"},{\"index\":10,\"duration\":\"05:00\",\"parentslug\":\"graphql-for-beginners\",\"slug\":\"MfIoNMiJ-ScQv-Sd_Osxm\",\"title\":\"Writing A Resolver\",\"type\":\"lab\"},{\"index\":11,\"duration\":\"08:27\",\"parentslug\":\"graphql-for-beginners\",\"slug\":\"OQhiFurjSoV4uiknjxVsN\",\"title\":\"Building Our Own Queries\",\"type\":\"video\"},{\"index\":12,\"duration\":\"03:46\",\"parentslug\":\"graphql-for-beginners\",\"slug\":\"va0kIB0iVXXzhjwaj6wkI\",\"title\":\"Resolvers For Custom Types\",\"type\":\"video\"},{\"index\":13,\"duration\":\"20:28\",\"parentslug\":\"graphql-for-beginners\",\"slug\":\"CvLVkIiUOB8griCt5geJ1\",\"title\":\"Creating Mutations\",\"type\":\"video\"},{\"index\":14,\"duration\":\"11:49\",\"parentslug\":\"graphql-for-beginners\",\"slug\":\"lOKO3EZIpuwd-YayhtSPB\",\"title\":\"More Mutations\",\"type\":\"video\"},{\"index\":15,\"duration\":\"05:00\",\"parentslug\":\"graphql-for-beginners\",\"slug\":\"nGal3-3hJ3-mw6Y1q6uIJ\",\"title\":\"Write Your Own Mutation\",\"type\":\"lab\"}]},{\"slug\":\"graphql-for-beginners\",\"section\":\"GraphQL In ReactJS\",\"_sectionDuration\":3829,\"sectionDuration\":\"01 hours\",\"items\":[{\"index\":16,\"duration\":\"09:49\",\"parentslug\":\"graphql-for-beginners\",\"slug\":\"eujiEdig91AZDPmTpdgvL\",\"title\":\"Connecting The GraphQL API To A React App\",\"type\":\"video\"},{\"index\":17,\"duration\":\"25:32\",\"parentslug\":\"graphql-for-beginners\",\"slug\":\"BjEY-J9BqNcy1G1m8dy3K\",\"title\":\"UseQuery Hook\",\"type\":\"video\"},{\"index\":18,\"duration\":\"05:00\",\"parentslug\":\"graphql-for-beginners\",\"slug\":\"M9Pk6dXf6zgyk6lfy1I9S\",\"title\":\"Query an API with a UseQuery Hook\",\"type\":\"lab\"},{\"index\":19,\"duration\":\"18:28\",\"parentslug\":\"graphql-for-beginners\",\"slug\":\"aaWFxj2AzZl1oYzAF5xB6\",\"title\":\"UseMutation Hook\",\"type\":\"video\"},{\"index\":20,\"duration\":\"05:00\",\"parentslug\":\"graphql-for-beginners\",\"slug\":\"rrR20X61w8Xat1OC9cgAS\",\"title\":\"Add A New User Using the UseMutation Hook\",\"type\":\"lab\"}]},{\"slug\":\"graphql-for-beginners\",\"section\":\"Intro to Advanced GraphQL\",\"_sectionDuration\":2466,\"sectionDuration\":\"41 minutes\",\"items\":[{\"index\":21,\"duration\":\"14:53\",\"parentslug\":\"graphql-for-beginners\",\"slug\":\"snPcRcJCmPfILylWiUAv_\",\"title\":\"Resolver Arguments (Context, Parent, Info...)\",\"type\":\"video\"},{\"index\":22,\"duration\":\"01:00\",\"parentslug\":\"graphql-for-beginners\",\"slug\":\"JAGY0zEcDkviR_HxOrkkC\",\"title\":\"What is the purpose of the context argument in a GraphQL resolver?\",\"type\":\"quiz\"},{\"index\":23,\"duration\":\"03:26\",\"parentslug\":\"graphql-for-beginners\",\"slug\":\"IOPz0UDiMh-vTfs00MfHA\",\"title\":\"GraphQL Fragments\",\"type\":\"video\"},{\"index\":24,\"duration\":\"01:00\",\"parentslug\":\"graphql-for-beginners\",\"slug\":\"chHD93zPWBASeSzw6pkZ5\",\"title\":\"Which of the following GraphQL fragment declaration is syntactically correct?\",\"type\":\"quiz\"},{\"index\":25,\"duration\":\"15:25\",\"parentslug\":\"graphql-for-beginners\",\"slug\":\"4P9O90frqqSVcqWVvfwKi\",\"title\":\"Error Handling Using Result Boxes\",\"type\":\"video\"},{\"index\":26,\"duration\":\"05:00\",\"parentslug\":\"graphql-for-beginners\",\"slug\":\"JqabwNkzy3q_vjej0cWJ4\",\"title\":\"Create A Result Box\",\"type\":\"lab\"},{\"index\":27,\"duration\":\"00:22\",\"parentslug\":\"graphql-for-beginners\",\"slug\":\"ohPSuBJsECEAOnuviRCiD\",\"title\":\"Capstone Project\",\"type\":\"article\"}]}],\"outlineMeta\":{\"duration\":14976,\"videos\":17,\"quizzes\":3,\"labs\":7,\"slug\":\"graphql-for-beginners\",\"courseImage\":\"https://creator-assets.codedamn.com/PedroTech-5fac1d3c744baf0001c16847/course-image/2021-10-10/9c42f0c96abae80324119d2085e98d6c587ff1d8\"}}]},{\"title\":\"Production Ready Practices\",\"description\":\"Making an app is very different from making a production ready app. Let us see what it takes to build one.\",\"nodes\":[{\"label\":\"Building production apps with Next.js\",\"free\":true,\"courseState\":\"regular\",\"outline\":[{\"slug\":\"nextjs-fundamentals\",\"section\":\"Introduction\",\"_sectionDuration\":2588,\"sectionDuration\":\"43 minutes\",\"items\":[{\"index\":0,\"duration\":\"02:32\",\"parentslug\":\"nextjs-fundamentals\",\"slug\":\"h7UYMV5ez\",\"title\":\"Course Introduction\",\"type\":\"video\"},{\"index\":1,\"duration\":\"03:30\",\"parentslug\":\"nextjs-fundamentals\",\"slug\":\"MPhd8WsUN_\",\"title\":\"Next.js Introduction\",\"type\":\"video\"},{\"index\":2,\"duration\":\"06:03\",\"parentslug\":\"nextjs-fundamentals\",\"slug\":\"wAKlaLTz35\",\"title\":\"Installing Next.js\",\"type\":\"video\"},{\"index\":3,\"duration\":\"05:00\",\"parentslug\":\"nextjs-fundamentals\",\"slug\":\"iCRwfSL_ge0qtJrDHKXdr\",\"title\":\"Next.js Hello World\",\"type\":\"lab\"},{\"index\":4,\"duration\":\"05:31\",\"parentslug\":\"nextjs-fundamentals\",\"slug\":\"Z4CtJxDZdQ\",\"title\":\"File Structure Explained\",\"type\":\"video\"},{\"index\":5,\"duration\":\"05:43\",\"parentslug\":\"nextjs-fundamentals\",\"slug\":\"ECQISgnPre\",\"title\":\"Pages Explained\",\"type\":\"video\"},{\"index\":6,\"duration\":\"05:39\",\"parentslug\":\"nextjs-fundamentals\",\"slug\":\"NxJ5uo56K5\",\"title\":\"_document.tsx file explained\",\"type\":\"video\"},{\"index\":7,\"duration\":\"08:10\",\"parentslug\":\"nextjs-fundamentals\",\"slug\":\"hdE6KXMzv_\",\"title\":\"_app.tsx file explained\",\"type\":\"video\"},{\"index\":8,\"duration\":\"01:00\",\"parentslug\":\"nextjs-fundamentals\",\"slug\":\"XI_IkRn3fe2SpogNA03nC\",\"title\":\"What's true about _document.js page in Next.js?\",\"type\":\"quiz\"}]},{\"slug\":\"nextjs-fundamentals\",\"section\":\"Styling\",\"_sectionDuration\":1108,\"sectionDuration\":\"18 minutes\",\"items\":[{\"index\":9,\"duration\":\"00:21\",\"parentslug\":\"nextjs-fundamentals\",\"slug\":\"-Tp55U1oAX\",\"title\":\"Style section introduction\",\"type\":\"video\"},{\"index\":10,\"duration\":\"06:34\",\"parentslug\":\"nextjs-fundamentals\",\"slug\":\"N1cvd206Zo\",\"title\":\"Styled JSX\",\"type\":\"video\"},{\"index\":11,\"duration\":\"02:58\",\"parentslug\":\"nextjs-fundamentals\",\"slug\":\"UKsE0OOraI\",\"title\":\"Global Styles\",\"type\":\"video\"},{\"index\":12,\"duration\":\"03:37\",\"parentslug\":\"nextjs-fundamentals\",\"slug\":\"ZYf4c2yvtL\",\"title\":\"CSS Modules\",\"type\":\"video\"},{\"index\":13,\"duration\":\"02:51\",\"parentslug\":\"nextjs-fundamentals\",\"slug\":\"6Qrg25-nTl\",\"title\":\"Sass Modules\",\"type\":\"video\"},{\"index\":14,\"duration\":\"02:07\",\"parentslug\":\"nextjs-fundamentals\",\"slug\":\"mYcM6amint\",\"title\":\"File Structure\",\"type\":\"video\"}]},{\"slug\":\"nextjs-fundamentals\",\"section\":\"Next.js APIs\",\"_sectionDuration\":1713,\"sectionDuration\":\"28 minutes\",\"items\":[{\"index\":15,\"duration\":\"00:27\",\"parentslug\":\"nextjs-fundamentals\",\"slug\":\"fUWs840YXl\",\"title\":\"API Section Intro\",\"type\":\"video\"},{\"index\":16,\"duration\":\"05:19\",\"parentslug\":\"nextjs-fundamentals\",\"slug\":\"J89Y5kHtOu\",\"title\":\"Creating APIs with Next.js\",\"type\":\"video\"},{\"index\":17,\"duration\":\"07:43\",\"parentslug\":\"nextjs-fundamentals\",\"slug\":\"bzoJJFUpP0\",\"title\":\"req and res objects\",\"type\":\"video\"},{\"index\":18,\"duration\":\"15:04\",\"parentslug\":\"nextjs-fundamentals\",\"slug\":\"lJSVlrL0co-\",\"title\":\"Simple JWT Auth Example\",\"type\":\"video\"}]},{\"slug\":\"nextjs-fundamentals\",\"section\":\"Routing\",\"_sectionDuration\":1900,\"sectionDuration\":\"31 minutes\",\"items\":[{\"index\":19,\"duration\":\"04:13\",\"parentslug\":\"nextjs-fundamentals\",\"slug\":\"4ys3fxAO93o\",\"title\":\"Simple Routing\",\"type\":\"video\"},{\"index\":20,\"duration\":\"03:41\",\"parentslug\":\"nextjs-fundamentals\",\"slug\":\"3PxVvEDoTJa\",\"title\":\"Link component\",\"type\":\"video\"},{\"index\":21,\"duration\":\"03:07\",\"parentslug\":\"nextjs-fundamentals\",\"slug\":\"-pRl-pzYwNB\",\"title\":\"Nested Routing\",\"type\":\"video\"},{\"index\":22,\"duration\":\"07:07\",\"parentslug\":\"nextjs-fundamentals\",\"slug\":\"kXHMQoC_R1_\",\"title\":\"Dynamic Routing\",\"type\":\"video\"},{\"index\":23,\"duration\":\"06:58\",\"parentslug\":\"nextjs-fundamentals\",\"slug\":\"4MpQRL6IHgT\",\"title\":\"useRouter\",\"type\":\"video\"},{\"index\":24,\"duration\":\"05:00\",\"parentslug\":\"nextjs-fundamentals\",\"slug\":\"qbDAEWB7Hdc\",\"title\":\"Catch All Route\",\"type\":\"video\"},{\"index\":25,\"duration\":\"01:34\",\"parentslug\":\"nextjs-fundamentals\",\"slug\":\"8kcO4rLHr-L\",\"title\":\"Custom 404 Page\",\"type\":\"video\"}]},{\"slug\":\"nextjs-fundamentals\",\"section\":\"Server Side Rendering\",\"_sectionDuration\":1712,\"sectionDuration\":\"28 minutes\",\"items\":[{\"index\":26,\"duration\":\"06:27\",\"parentslug\":\"nextjs-fundamentals\",\"slug\":\"n5JWG_nSvlm\",\"title\":\"getStaticProps\",\"type\":\"video\"},{\"index\":27,\"duration\":\"03:41\",\"parentslug\":\"nextjs-fundamentals\",\"slug\":\"vo2Uk5qRAIk\",\"title\":\"revalidate parameter\",\"type\":\"video\"},{\"index\":28,\"duration\":\"14:09\",\"parentslug\":\"nextjs-fundamentals\",\"slug\":\"3_ND9lK8UfC\",\"title\":\"getStaticPaths\",\"type\":\"video\"},{\"index\":29,\"duration\":\"04:15\",\"parentslug\":\"nextjs-fundamentals\",\"slug\":\"AA7ZHvhMuZy\",\"title\":\"getServerSideProps\",\"type\":\"video\"}]}],\"outlineMeta\":{\"duration\":9021,\"videos\":28,\"quizzes\":1,\"labs\":1,\"slug\":\"nextjs-fundamentals\",\"courseImage\":\"https://creator-assets.codedamn.com/codedamn-5f1f31bbf8bab7fa6ddb6fdb/course-image/2022-01-12/d4c31a87d6d8e846c742f80c9f0c3abc9d728470\"}},{\"label\":\"Advanced Next.js Concepts\",\"free\":true,\"courseState\":\"regular\",\"outline\":[{\"slug\":\"advanced-nextjs\",\"section\":\"Introduction\",\"_sectionDuration\":1097,\"sectionDuration\":\"18 minutes\",\"items\":[{\"index\":0,\"duration\":\"01:09\",\"parentslug\":\"advanced-nextjs\",\"slug\":\"q4b4VZYG0\",\"title\":\"Introduction\",\"type\":\"video\"},{\"index\":1,\"duration\":\"10:50\",\"parentslug\":\"advanced-nextjs\",\"slug\":\"ABO8WgfKq\",\"title\":\"Environment Variables\",\"type\":\"video\"},{\"index\":2,\"duration\":\"06:18\",\"parentslug\":\"advanced-nextjs\",\"slug\":\"t26WwFc-O\",\"title\":\"Managing Environment Variable Files\",\"type\":\"video\"}]},{\"slug\":\"advanced-nextjs\",\"section\":\"SSR/SSG\",\"_sectionDuration\":3609,\"sectionDuration\":\"01 hours\",\"items\":[{\"index\":3,\"duration\":\"07:40\",\"parentslug\":\"advanced-nextjs\",\"slug\":\"67Mchi2jX\",\"title\":\"getServerSideProps - Part 1\",\"type\":\"video\"},{\"index\":4,\"duration\":\"10:57\",\"parentslug\":\"advanced-nextjs\",\"slug\":\"VbdfUoOnB\",\"title\":\"getServerSideProps - Part 2\",\"type\":\"video\"},{\"index\":5,\"duration\":\"06:46\",\"parentslug\":\"advanced-nextjs\",\"slug\":\"qAkSt3kAc\",\"title\":\"getServerSideProps - Part 3\",\"type\":\"video\"},{\"index\":6,\"duration\":\"05:38\",\"parentslug\":\"advanced-nextjs\",\"slug\":\"XeDizjClp\",\"title\":\"getStaticProps - Part 1\",\"type\":\"video\"},{\"index\":7,\"duration\":\"14:23\",\"parentslug\":\"advanced-nextjs\",\"slug\":\"GUfh8yBLT\",\"title\":\"getStaticProps - Part 2\",\"type\":\"video\"},{\"index\":8,\"duration\":\"01:59\",\"parentslug\":\"advanced-nextjs\",\"slug\":\"rnwZ60Yq2\",\"title\":\"getStaticProps - Part 3\",\"type\":\"video\"},{\"index\":9,\"duration\":\"12:46\",\"parentslug\":\"advanced-nextjs\",\"slug\":\"qi_hWKXL5\",\"title\":\"getStaticPaths\",\"type\":\"video\"}]},{\"slug\":\"advanced-nextjs\",\"section\":\"Other advanced features\",\"_sectionDuration\":2312,\"sectionDuration\":\"38 minutes\",\"items\":[{\"index\":10,\"duration\":\"11:04\",\"parentslug\":\"advanced-nextjs\",\"slug\":\"cMf5VjKL5\",\"title\":\"Preview Mode\",\"type\":\"video\"},{\"index\":11,\"duration\":\"06:44\",\"parentslug\":\"advanced-nextjs\",\"slug\":\"Q9UIV8j88\",\"title\":\"Dynamic Loading - Part 1\",\"type\":\"video\"},{\"index\":12,\"duration\":\"05:39\",\"parentslug\":\"advanced-nextjs\",\"slug\":\"AWFYtmJmH\",\"title\":\"Dynamic Loading - Part 2\",\"type\":\"video\"},{\"index\":13,\"duration\":\"08:08\",\"parentslug\":\"advanced-nextjs\",\"slug\":\"j5Z4oR-nI\",\"title\":\"Image component\",\"type\":\"video\"},{\"index\":14,\"duration\":\"06:57\",\"parentslug\":\"advanced-nextjs\",\"slug\":\"TmJCN5-Av\",\"title\":\"More on Image component (more content coming soon)\",\"type\":\"video\"}]}],\"outlineMeta\":{\"duration\":7018,\"videos\":15,\"quizzes\":0,\"labs\":0,\"slug\":\"advanced-nextjs\",\"courseImage\":\"https://creator-assets.codedamn.com/codedamn-5f1f31bbf8bab7fa6ddb6fdb/course-image/2021-01-19/45017473eeec30df2e81300051746734f8e2ef15\"}},{\"label\":\"Caching with Redis\",\"free\":false,\"courseState\":\"regular\",\"outline\":[{\"slug\":\"redis-caching-concepts-nodejs\",\"section\":\"Introduction\",\"_sectionDuration\":4390,\"sectionDuration\":\"01 hours\",\"items\":[{\"index\":0,\"duration\":\"01:26\",\"parentslug\":\"redis-caching-concepts-nodejs\",\"slug\":\"8Ns4IXFhVVSJ-39tR-eW7\",\"title\":\"Course Introduction\",\"type\":\"video\"},{\"index\":1,\"duration\":\"03:39\",\"parentslug\":\"redis-caching-concepts-nodejs\",\"slug\":\"OP_h7CLr6qeLDsi9kLJjN\",\"title\":\"What is Redis exactly?\",\"type\":\"video\"},{\"index\":2,\"duration\":\"06:52\",\"parentslug\":\"redis-caching-concepts-nodejs\",\"slug\":\"xeXgTyHCQHO0siC-_2uyN\",\"title\":\"Why choose Redis?\",\"type\":\"video\"},{\"index\":3,\"duration\":\"03:22\",\"parentslug\":\"redis-caching-concepts-nodejs\",\"slug\":\"MZkkGwl6E1C78Jam5VDb3\",\"title\":\"Redis Hello World\",\"type\":\"video\"},{\"index\":4,\"duration\":\"05:00\",\"parentslug\":\"redis-caching-concepts-nodejs\",\"slug\":\"nr9AmNZCxc19BhiCVV1BI\",\"title\":\"Redis Ping\",\"type\":\"lab\"},{\"index\":5,\"duration\":\"10:05\",\"parentslug\":\"redis-caching-concepts-nodejs\",\"slug\":\"lVWAsVljWCWqSPFV__mTd\",\"title\":\"Common operations with Redis\",\"type\":\"video\"},{\"index\":6,\"duration\":\"05:00\",\"parentslug\":\"redis-caching-concepts-nodejs\",\"slug\":\"PT-Qnc-i4E6bo-IuoeioC\",\"title\":\"Setting values inside redis\",\"type\":\"lab\"},{\"index\":7,\"duration\":\"05:00\",\"parentslug\":\"redis-caching-concepts-nodejs\",\"slug\":\"dXSk2h4a-ia1LIpThtmnQ\",\"title\":\"INCR DECR\",\"type\":\"lab\"},{\"index\":8,\"duration\":\"05:00\",\"parentslug\":\"redis-caching-concepts-nodejs\",\"slug\":\"EoMe2gsSZnS8lpn8Na1bU\",\"title\":\"FLUSHALL\",\"type\":\"lab\"},{\"index\":9,\"duration\":\"05:00\",\"parentslug\":\"redis-caching-concepts-nodejs\",\"slug\":\"ryYXV9RRkUl22TP2zini4\",\"title\":\"Delete keys\",\"type\":\"lab\"},{\"index\":10,\"duration\":\"02:38\",\"parentslug\":\"redis-caching-concepts-nodejs\",\"slug\":\"ObTmotnp9YoV8J4YBRL7D\",\"title\":\"Redis key name convention\",\"type\":\"video\"},{\"index\":11,\"duration\":\"04:38\",\"parentslug\":\"redis-caching-concepts-nodejs\",\"slug\":\"8CGM9ebJb51pvUSp0Nrxf\",\"title\":\"Expiring keys in Redis\",\"type\":\"video\"},{\"index\":12,\"duration\":\"03:49\",\"parentslug\":\"redis-caching-concepts-nodejs\",\"slug\":\"oKZFEH7NO5qsigQmuxrM7\",\"title\":\"How expiring keys work in Redis\",\"type\":\"video\"},{\"index\":13,\"duration\":\"06:41\",\"parentslug\":\"redis-caching-concepts-nodejs\",\"slug\":\"YhmRCI9wfF7iy5DTLrl1z\",\"title\":\"Connecting Redis with Node.js\",\"type\":\"video\"},{\"index\":14,\"duration\":\"05:00\",\"parentslug\":\"redis-caching-concepts-nodejs\",\"slug\":\"UUXBbtILFWrpjwqhd1_41\",\"title\":\"Connecting Node with Redis\",\"type\":\"lab\"}]},{\"slug\":\"redis-caching-concepts-nodejs\",\"section\":\"API Caching\",\"_sectionDuration\":1497,\"sectionDuration\":\"24 minutes\",\"items\":[{\"index\":15,\"duration\":\"10:00\",\"parentslug\":\"redis-caching-concepts-nodejs\",\"slug\":\"eEzByhVEwDcAvjoQNX1z8\",\"title\":\"Introduction to project\",\"type\":\"video\"},{\"index\":16,\"duration\":\"06:00\",\"parentslug\":\"redis-caching-concepts-nodejs\",\"slug\":\"2xpsVxAbeOv6tSH-qHmsP\",\"title\":\"Invalidating Cache\",\"type\":\"video\"},{\"index\":17,\"duration\":\"03:57\",\"parentslug\":\"redis-caching-concepts-nodejs\",\"slug\":\"w_VXaVUrtAlM62dx8DW0b\",\"title\":\"Refreshing data in background\",\"type\":\"video\"},{\"index\":18,\"duration\":\"05:00\",\"parentslug\":\"redis-caching-concepts-nodejs\",\"slug\":\"2--CvP86ikcFeFUB4MTty\",\"title\":\"Building a cached API with Redis\",\"type\":\"lab\"}]},{\"slug\":\"redis-caching-concepts-nodejs\",\"section\":\"Rate limiting\",\"_sectionDuration\":1419,\"sectionDuration\":\"23 minutes\",\"items\":[{\"index\":19,\"duration\":\"02:02\",\"parentslug\":\"redis-caching-concepts-nodejs\",\"slug\":\"W8c28MbLSCDlrTRdphtoL\",\"title\":\"Introduction to project\",\"type\":\"video\"},{\"index\":20,\"duration\":\"05:01\",\"parentslug\":\"redis-caching-concepts-nodejs\",\"slug\":\"FeSCTVpW9iI33joOhxEeY\",\"title\":\"Rate limiting by IP Address\",\"type\":\"video\"},{\"index\":21,\"duration\":\"04:02\",\"parentslug\":\"redis-caching-concepts-nodejs\",\"slug\":\"NtiEEVwPXNR4Y7t0uJcUY\",\"title\":\"Setting TTL on rate limit\",\"type\":\"video\"},{\"index\":22,\"duration\":\"07:34\",\"parentslug\":\"redis-caching-concepts-nodejs\",\"slug\":\"kGiyIucmCDMZ8ijcjk1KE\",\"title\":\"Creating Express.js middleware for rate limiting\",\"type\":\"video\"},{\"index\":23,\"duration\":\"05:00\",\"parentslug\":\"redis-caching-concepts-nodejs\",\"slug\":\"RapJaltQbkvVtm4_b5oYl\",\"title\":\"Building a rate limiter with Redis\",\"type\":\"lab\"}]},{\"slug\":\"redis-caching-concepts-nodejs\",\"section\":\"More with Redis\",\"_sectionDuration\":1818,\"sectionDuration\":\"30 minutes\",\"items\":[{\"index\":24,\"duration\":\"07:15\",\"parentslug\":\"redis-caching-concepts-nodejs\",\"slug\":\"Sw9Rd5mMebHoWYR4kGVhj\",\"title\":\"Atomicity and Single Threaded\",\"type\":\"video\"},{\"index\":25,\"duration\":\"03:26\",\"parentslug\":\"redis-caching-concepts-nodejs\",\"slug\":\"6_5t_fjhi3Ylg8dQrpWDa\",\"title\":\"Key patterns\",\"type\":\"video\"},{\"index\":26,\"duration\":\"02:08\",\"parentslug\":\"redis-caching-concepts-nodejs\",\"slug\":\"7kVuwbmJR49ZSbhA7JMPf\",\"title\":\"Lists\",\"type\":\"video\"},{\"index\":27,\"duration\":\"06:51\",\"parentslug\":\"redis-caching-concepts-nodejs\",\"slug\":\"htcJ1YoY99F5avkECgAov\",\"title\":\"More on lists\",\"type\":\"video\"},{\"index\":28,\"duration\":\"04:12\",\"parentslug\":\"redis-caching-concepts-nodejs\",\"slug\":\"szTlNzAsGzAi-d7fEw02x\",\"title\":\"Sets\",\"type\":\"video\"},{\"index\":29,\"duration\":\"06:26\",\"parentslug\":\"redis-caching-concepts-nodejs\",\"slug\":\"C3msyTxXc9n2rCqBc4AqQ\",\"title\":\"Transactions\",\"type\":\"video\"}]}],\"outlineMeta\":{\"duration\":9124,\"videos\":22,\"quizzes\":0,\"labs\":8,\"slug\":\"redis-caching-concepts-nodejs\",\"courseImage\":\"https://creator-assets.codedamn.com/codedamn-5f1f31bbf8bab7fa6ddb6fdb/course-image/2021-04-07/fc604e47851630271bfa0ced8ea6cb877f17c46b\"}},{\"label\":\"TypeScript Fundamentals\",\"free\":false,\"courseState\":\"regular\",\"outline\":[{\"slug\":\"typescript-fundamentals\",\"section\":\"Basics\",\"_sectionDuration\":3086,\"sectionDuration\":\"51 minutes\",\"items\":[{\"index\":0,\"duration\":\"05:44\",\"parentslug\":\"typescript-fundamentals\",\"slug\":\"4sJfoLFZy\",\"title\":\"Setup and Hello World\",\"type\":\"video\"},{\"index\":1,\"duration\":\"01:42\",\"parentslug\":\"typescript-fundamentals\",\"slug\":\"dkRccAIXY\",\"title\":\"Primitive Types\",\"type\":\"video\"},{\"index\":2,\"duration\":\"01:52\",\"parentslug\":\"typescript-fundamentals\",\"slug\":\"cVzy-muob\",\"title\":\"Instance Types\",\"type\":\"video\"},{\"index\":3,\"duration\":\"01:38\",\"parentslug\":\"typescript-fundamentals\",\"slug\":\"ApcjwMepc\",\"title\":\"Arrays And Tuples\",\"type\":\"video\"},{\"index\":4,\"duration\":\"01:33\",\"parentslug\":\"typescript-fundamentals\",\"slug\":\"DC5zUBQC5\",\"title\":\"Object Types and Type Aliases\",\"type\":\"video\"},{\"index\":5,\"duration\":\"01:03\",\"parentslug\":\"typescript-fundamentals\",\"slug\":\"7KEozuHXL\",\"title\":\"const declarations\",\"type\":\"video\"},{\"index\":6,\"duration\":\"01:57\",\"parentslug\":\"typescript-fundamentals\",\"slug\":\"Ug8PPaQfT\",\"title\":\"Functions\",\"type\":\"video\"},{\"index\":7,\"duration\":\"02:10\",\"parentslug\":\"typescript-fundamentals\",\"slug\":\"lsIpemrCh\",\"title\":\"Structural Typing\",\"type\":\"video\"},{\"index\":8,\"duration\":\"01:48\",\"parentslug\":\"typescript-fundamentals\",\"slug\":\"URtp86d22\",\"title\":\"Classes\",\"type\":\"video\"},{\"index\":9,\"duration\":\"02:37\",\"parentslug\":\"typescript-fundamentals\",\"slug\":\"SL0ddrYww\",\"title\":\"Target Compiler Option\",\"type\":\"video\"},{\"index\":10,\"duration\":\"03:02\",\"parentslug\":\"typescript-fundamentals\",\"slug\":\"EOHQtKB8F\",\"title\":\"Generics\",\"type\":\"video\"},{\"index\":11,\"duration\":\"02:00\",\"parentslug\":\"typescript-fundamentals\",\"slug\":\"ClaUvqKxi\",\"title\":\"Special Types : any and unknown\",\"type\":\"video\"},{\"index\":12,\"duration\":\"01:32\",\"parentslug\":\"typescript-fundamentals\",\"slug\":\"rUtWq3ph1\",\"title\":\"JavaScript to TypeScript\",\"type\":\"video\"},{\"index\":13,\"duration\":\"01:03\",\"parentslug\":\"typescript-fundamentals\",\"slug\":\"J2KFhem5F\",\"title\":\"Universal Utilities\",\"type\":\"video\"},{\"index\":14,\"duration\":\"03:49\",\"parentslug\":\"typescript-fundamentals\",\"slug\":\"8MYomWhDL\",\"title\":\"Creating a Frontend Project\",\"type\":\"video\"},{\"index\":15,\"duration\":\"02:15\",\"parentslug\":\"typescript-fundamentals\",\"slug\":\"Pj68zq0rn\",\"title\":\"Type Assertions\",\"type\":\"video\"},{\"index\":16,\"duration\":\"01:16\",\"parentslug\":\"typescript-fundamentals\",\"slug\":\"88bddwwdW\",\"title\":\"Type Casting\",\"type\":\"video\"},{\"index\":17,\"duration\":\"01:55\",\"parentslug\":\"typescript-fundamentals\",\"slug\":\"3h7QF3vHm\",\"title\":\"Modules\",\"type\":\"video\"},{\"index\":18,\"duration\":\"04:25\",\"parentslug\":\"typescript-fundamentals\",\"slug\":\"Fpq0JZN9U\",\"title\":\"Type Declarations\",\"type\":\"video\"},{\"index\":19,\"duration\":\"03:20\",\"parentslug\":\"typescript-fundamentals\",\"slug\":\"wV7h0WC1Z\",\"title\":\"Creating an NPM Package\",\"type\":\"video\"},{\"index\":20,\"duration\":\"03:05\",\"parentslug\":\"typescript-fundamentals\",\"slug\":\"BQhKjAUVS\",\"title\":\"Async Await\",\"type\":\"video\"},{\"index\":21,\"duration\":\"01:40\",\"parentslug\":\"typescript-fundamentals\",\"slug\":\"9YIQIPznZ\",\"title\":\"ts-node\",\"type\":\"video\"}]},{\"slug\":\"typescript-fundamentals\",\"section\":\"Intermediate\",\"_sectionDuration\":2830,\"sectionDuration\":\"47 minutes\",\"items\":[{\"index\":22,\"duration\":\"02:34\",\"parentslug\":\"typescript-fundamentals\",\"slug\":\"HufQ70fVL\",\"title\":\"Lexical this\",\"type\":\"video\"},{\"index\":23,\"duration\":\"01:59\",\"parentslug\":\"typescript-fundamentals\",\"slug\":\"Gv8uhoYhM\",\"title\":\"readonly modifier\",\"type\":\"video\"},{\"index\":24,\"duration\":\"02:57\",\"parentslug\":\"typescript-fundamentals\",\"slug\":\"dGu_528EL\",\"title\":\"Union Types\",\"type\":\"video\"},{\"index\":25,\"duration\":\"02:58\",\"parentslug\":\"typescript-fundamentals\",\"slug\":\"q_jILcQCa\",\"title\":\"Literal Types\",\"type\":\"video\"},{\"index\":26,\"duration\":\"04:19\",\"parentslug\":\"typescript-fundamentals\",\"slug\":\"6U-uCZGmt\",\"title\":\"Type Narrowing\",\"type\":\"video\"},{\"index\":27,\"duration\":\"03:29\",\"parentslug\":\"typescript-fundamentals\",\"slug\":\"uAvOFbap0\",\"title\":\"Discriminated Unions\",\"type\":\"video\"},{\"index\":28,\"duration\":\"01:02\",\"parentslug\":\"typescript-fundamentals\",\"slug\":\"yV0mphFMP\",\"title\":\"Class Parameter Properties\",\"type\":\"video\"},{\"index\":29,\"duration\":\"06:18\",\"parentslug\":\"typescript-fundamentals\",\"slug\":\"Ygb0gDgY_\",\"title\":\"Strict Compiler Option\",\"type\":\"video\"},{\"index\":30,\"duration\":\"04:19\",\"parentslug\":\"typescript-fundamentals\",\"slug\":\"OQfyfuZKX\",\"title\":\"Null versus Undefined\",\"type\":\"video\"},{\"index\":31,\"duration\":\"02:03\",\"parentslug\":\"typescript-fundamentals\",\"slug\":\"2k9n74_If\",\"title\":\"Intersection types\",\"type\":\"video\"},{\"index\":32,\"duration\":\"02:47\",\"parentslug\":\"typescript-fundamentals\",\"slug\":\"QWapco2ja\",\"title\":\"Optional modifier\",\"type\":\"video\"},{\"index\":33,\"duration\":\"03:40\",\"parentslug\":\"typescript-fundamentals\",\"slug\":\"rmyLfpuNB\",\"title\":\"Non-null Assertion Operator\",\"type\":\"video\"},{\"index\":34,\"duration\":\"02:28\",\"parentslug\":\"typescript-fundamentals\",\"slug\":\"ScKmpGGB6\",\"title\":\"Interfaces\",\"type\":\"video\"},{\"index\":35,\"duration\":\"01:01\",\"parentslug\":\"typescript-fundamentals\",\"slug\":\"wnxpsxsmJ\",\"title\":\"Interface Declaration Merging\",\"type\":\"video\"},{\"index\":36,\"duration\":\"02:16\",\"parentslug\":\"typescript-fundamentals\",\"slug\":\"y1KRnZjNW\",\"title\":\"Types versus Interfaces\",\"type\":\"video\"},{\"index\":37,\"duration\":\"03:00\",\"parentslug\":\"typescript-fundamentals\",\"slug\":\"7OLoNJrtP\",\"title\":\"never type\",\"type\":\"video\"}]},{\"slug\":\"typescript-fundamentals\",\"section\":\"Advanced\",\"_sectionDuration\":2178,\"sectionDuration\":\"36 minutes\",\"items\":[{\"index\":38,\"duration\":\"01:25\",\"parentslug\":\"typescript-fundamentals\",\"slug\":\"XJ8ZEcO2F\",\"title\":\"implements keyword\",\"type\":\"video\"},{\"index\":39,\"duration\":\"02:31\",\"parentslug\":\"typescript-fundamentals\",\"slug\":\"epxVIAi1O\",\"title\":\"Definite Assignment Assertion\",\"type\":\"video\"},{\"index\":40,\"duration\":\"02:02\",\"parentslug\":\"typescript-fundamentals\",\"slug\":\"kcaodUlfs\",\"title\":\"User Defined Type Guards\",\"type\":\"video\"},{\"index\":41,\"duration\":\"03:42\",\"parentslug\":\"typescript-fundamentals\",\"slug\":\"JahBphBNn\",\"title\":\"Assertion Functions\",\"type\":\"video\"},{\"index\":42,\"duration\":\"04:15\",\"parentslug\":\"typescript-fundamentals\",\"slug\":\"OUB3Zb_ac\",\"title\":\"Function Overloading\",\"type\":\"video\"},{\"index\":43,\"duration\":\"02:53\",\"parentslug\":\"typescript-fundamentals\",\"slug\":\"AaoksON0-\",\"title\":\"Call Signatures\",\"type\":\"video\"},{\"index\":44,\"duration\":\"01:53\",\"parentslug\":\"typescript-fundamentals\",\"slug\":\"LUirF_702\",\"title\":\"Abstract Classes\",\"type\":\"video\"},{\"index\":45,\"duration\":\"03:08\",\"parentslug\":\"typescript-fundamentals\",\"slug\":\"vOppPm9nr\",\"title\":\"Index Signatures\",\"type\":\"video\"},{\"index\":46,\"duration\":\"02:58\",\"parentslug\":\"typescript-fundamentals\",\"slug\":\"BOLq9L1LH\",\"title\":\"Readonly Arrays and Tuples\",\"type\":\"video\"},{\"index\":47,\"duration\":\"03:55\",\"parentslug\":\"typescript-fundamentals\",\"slug\":\"wj8rdmnIF\",\"title\":\"Double Assertion\",\"type\":\"video\"},{\"index\":48,\"duration\":\"02:20\",\"parentslug\":\"typescript-fundamentals\",\"slug\":\"nJATGw3tx\",\"title\":\"const Assertion\",\"type\":\"video\"},{\"index\":49,\"duration\":\"02:33\",\"parentslug\":\"typescript-fundamentals\",\"slug\":\"bvsnWvU7v\",\"title\":\"this parameter\",\"type\":\"video\"},{\"index\":50,\"duration\":\"02:43\",\"parentslug\":\"typescript-fundamentals\",\"slug\":\"YWlx_9gcD\",\"title\":\"Generic Constraints\",\"type\":\"video\"}]},{\"slug\":\"typescript-fundamentals\",\"section\":\"Expert\",\"_sectionDuration\":1450,\"sectionDuration\":\"24 minutes\",\"items\":[{\"index\":51,\"duration\":\"02:12\",\"parentslug\":\"typescript-fundamentals\",\"slug\":\"2iB6J8i8Z\",\"title\":\"typeof type operator\",\"type\":\"video\"},{\"index\":52,\"duration\":\"03:12\",\"parentslug\":\"typescript-fundamentals\",\"slug\":\"iY7yT78ws\",\"title\":\"Lookup Types\",\"type\":\"video\"},{\"index\":53,\"duration\":\"03:55\",\"parentslug\":\"typescript-fundamentals\",\"slug\":\"U2NkWcaHA\",\"title\":\"keyof type operator\",\"type\":\"video\"},{\"index\":54,\"duration\":\"04:39\",\"parentslug\":\"typescript-fundamentals\",\"slug\":\"G_6IT8gnF\",\"title\":\"Conditional Types\",\"type\":\"video\"},{\"index\":55,\"duration\":\"03:47\",\"parentslug\":\"typescript-fundamentals\",\"slug\":\"UxD1cNJE5\",\"title\":\"infer keyword\",\"type\":\"video\"},{\"index\":56,\"duration\":\"02:48\",\"parentslug\":\"typescript-fundamentals\",\"slug\":\"ce3qPm1s4\",\"title\":\"Mapped Types\",\"type\":\"video\"},{\"index\":57,\"duration\":\"03:37\",\"parentslug\":\"typescript-fundamentals\",\"slug\":\"gY7gvPw0T\",\"title\":\"Mapped type modifiers\",\"type\":\"video\"}]}],\"outlineMeta\":{\"duration\":9544,\"videos\":58,\"quizzes\":0,\"labs\":0,\"slug\":\"typescript-fundamentals\",\"courseImage\":\"https://creator-assets.codedamn.com/basarat-5fe1fab612c2fa0001ed4655/course-image/2020-12-22/49e51cbf680e4c2fe84a1df52f5d942a7cce35ec\"}},{\"label\":\"CI/CD with GitHub Actions\",\"free\":false,\"courseState\":\"regular\",\"outline\":[{\"slug\":\"github-actions-ci-cd\",\"section\":\"Intro\",\"_sectionDuration\":521,\"sectionDuration\":\"08 minutes\",\"items\":[{\"index\":0,\"duration\":\"00:50\",\"parentslug\":\"github-actions-ci-cd\",\"slug\":\"OKhdTPUb09-B9bIzGM0Nl\",\"title\":\"Introduction\",\"type\":\"video\"},{\"index\":1,\"duration\":\"02:51\",\"parentslug\":\"github-actions-ci-cd\",\"slug\":\"RtrzfkQXtBP0wJaMJuyM7\",\"title\":\"Why is CI / CD Required\",\"type\":\"video\"},{\"index\":2,\"duration\":\"05:00\",\"parentslug\":\"github-actions-ci-cd\",\"slug\":\"3_JcIUqxQSyj17BQOSmk7\",\"title\":\"Folder for GitHub Workflows\",\"type\":\"lab\"}]},{\"slug\":\"github-actions-ci-cd\",\"section\":\"YAML\",\"_sectionDuration\":1109,\"sectionDuration\":\"18 minutes\",\"items\":[{\"index\":3,\"duration\":\"02:25\",\"parentslug\":\"github-actions-ci-cd\",\"slug\":\"U6-F2Ct7V6kzogqBg4qtf\",\"title\":\"YAML Intro\",\"type\":\"video\"},{\"index\":4,\"duration\":\"05:00\",\"parentslug\":\"github-actions-ci-cd\",\"slug\":\"KMDLqNEIdorESweVMfg9T\",\"title\":\"Objects in YAML\",\"type\":\"lab\"},{\"index\":5,\"duration\":\"01:23\",\"parentslug\":\"github-actions-ci-cd\",\"slug\":\"z6VipQfawWD9Z-pgZ8OM0\",\"title\":\"Comments in YAML\",\"type\":\"video\"},{\"index\":6,\"duration\":\"05:00\",\"parentslug\":\"github-actions-ci-cd\",\"slug\":\"oKx0ktFm-Q7xzQynxcbg9\",\"title\":\"Arrays in YAML\",\"type\":\"lab\"},{\"index\":7,\"duration\":\"01:53\",\"parentslug\":\"github-actions-ci-cd\",\"slug\":\"WemHN-_VG2_V6aJvmGkAm\",\"title\":\"YAML Validator\",\"type\":\"video\"},{\"index\":8,\"duration\":\"02:48\",\"parentslug\":\"github-actions-ci-cd\",\"slug\":\"2CNHSxgc6oTL6ePtqLOD6\",\"title\":\"Multiline Strings\",\"type\":\"video\"}]},{\"slug\":\"github-actions-ci-cd\",\"section\":\"GitHub Actions\",\"_sectionDuration\":2765,\"sectionDuration\":\"46 minutes\",\"items\":[{\"index\":9,\"duration\":\"05:00\",\"parentslug\":\"github-actions-ci-cd\",\"slug\":\"j4jtNMfAoAqLv0zHYOfF9\",\"title\":\"GitHub Actions - Hello World\",\"type\":\"lab\"},{\"index\":10,\"duration\":\"04:21\",\"parentslug\":\"github-actions-ci-cd\",\"slug\":\"Lj2MODvu78diy3DrtT-PM\",\"title\":\"Exploring GitHub Action Result\",\"type\":\"video\"},{\"index\":11,\"duration\":\"05:00\",\"parentslug\":\"github-actions-ci-cd\",\"slug\":\"1G8Wm9HDMBPJReppaeVxa\",\"title\":\"GitHub Action Checkout Repository\",\"type\":\"lab\"},{\"index\":12,\"duration\":\"05:00\",\"parentslug\":\"github-actions-ci-cd\",\"slug\":\"ufA01CvTjIWUH88lMkKTz\",\"title\":\"GitHub Action Build Repository\",\"type\":\"lab\"},{\"index\":13,\"duration\":\"05:00\",\"parentslug\":\"github-actions-ci-cd\",\"slug\":\"21GtmNx8Y2HWMTh3Fnbby\",\"title\":\"Deployment with Vercel - Part 1\",\"type\":\"lab\"},{\"index\":14,\"duration\":\"09:07\",\"parentslug\":\"github-actions-ci-cd\",\"slug\":\"NhvI_-g4-oVc9uxuXOKZJ\",\"title\":\"Vercel Deployment : Part - 2\",\"type\":\"video\"},{\"index\":15,\"duration\":\"05:00\",\"parentslug\":\"github-actions-ci-cd\",\"slug\":\"1ZkOqodLVOlvrWSIjLa1U\",\"title\":\"Secrets\",\"type\":\"lab\"},{\"index\":16,\"duration\":\"02:30\",\"parentslug\":\"github-actions-ci-cd\",\"slug\":\"_YGIsTOnv5_OJqcWjjBkp\",\"title\":\"Dependent Jobs\",\"type\":\"video\"},{\"index\":17,\"duration\":\"05:07\",\"parentslug\":\"github-actions-ci-cd\",\"slug\":\"0OJmlOrZUkNee6-FP89Wm\",\"title\":\"Dependent Jobs with Data Sharing\",\"type\":\"video\"}]}],\"outlineMeta\":{\"duration\":4395,\"videos\":10,\"quizzes\":0,\"labs\":8,\"slug\":\"github-actions-ci-cd\",\"courseImage\":\"https://creator-assets.codedamn.com/official-61897bfe60f1140008feb00d/course-image/2021-12-23/921a25a76a4a7e35bd2699d9621f802678ee5216\"}},{\"label\":\"Writing secure web apps\",\"free\":false,\"courseState\":\"regular\",\"outline\":[{\"slug\":\"web-security\",\"section\":\"Introduction\",\"_sectionDuration\":385,\"sectionDuration\":\"06 minutes\",\"items\":[{\"index\":0,\"duration\":\"06:25\",\"parentslug\":\"web-security\",\"slug\":\"hRj3ERtTWCnMlW16e2KgM\",\"title\":\"Introduction\",\"type\":\"video\"}]},{\"slug\":\"web-security\",\"section\":\"Frontend Web Security\",\"_sectionDuration\":2409,\"sectionDuration\":\"40 minutes\",\"items\":[{\"index\":2,\"duration\":\"13:17\",\"parentslug\":\"web-security\",\"slug\":\"sQ8Pd_uxAbJNp4wutVKuQ\",\"title\":\"Cross Site Scripting Attacks\",\"type\":\"video\"},{\"index\":4,\"duration\":\"01:00\",\"parentslug\":\"web-security\",\"slug\":\"0dzQnMl2j5FVtYruj5ewT\",\"title\":\"By exploiting XSS, an attacker can perform a variety of malicious activities, such as \",\"type\":\"quiz\"},{\"index\":5,\"duration\":\"09:07\",\"parentslug\":\"web-security\",\"slug\":\"c1K1V_or2BU7piyuwGmjP\",\"title\":\"Content Security Policy \",\"type\":\"video\"},{\"index\":6,\"duration\":\"01:00\",\"parentslug\":\"web-security\",\"slug\":\"6e7XN7mWkoLt1kiIi7JHf\",\"title\":\"What is CSP - Content Security Policy\",\"type\":\"quiz\"},{\"index\":7,\"duration\":\"04:54\",\"parentslug\":\"web-security\",\"slug\":\"O9YBm6bKvWRHO5dgZSKBD\",\"title\":\"httpOnly Cookie\",\"type\":\"video\"},{\"index\":8,\"duration\":\"04:51\",\"parentslug\":\"web-security\",\"slug\":\"WT2cTnFJ-XmXEsAKpoANS\",\"title\":\"XSS Demo \",\"type\":\"video\"},{\"index\":9,\"duration\":\"01:00\",\"parentslug\":\"web-security\",\"slug\":\"7_NIUQOeiPvoS2IyI6apz\",\"title\":\"To prevent Cross Site Scripting, you should do\",\"type\":\"quiz\"},{\"index\":10,\"duration\":\"05:00\",\"parentslug\":\"web-security\",\"slug\":\"Z7XsGnxgaJk4SlaHkGIRc\",\"title\":\"XSS Practice Labs\",\"type\":\"lab\"}]},{\"slug\":\"web-security\",\"section\":\"Backend Web Security\",\"_sectionDuration\":1259,\"sectionDuration\":\"20 minutes\",\"items\":[{\"index\":12,\"duration\":\"10:27\",\"parentslug\":\"web-security\",\"slug\":\"fG56wm6eUaPdmaGCcgOGD\",\"title\":\"Storing Passwords\",\"type\":\"video\"},{\"index\":13,\"duration\":\"09:32\",\"parentslug\":\"web-security\",\"slug\":\"XH-lMMOonsaZSwpMk250a\",\"title\":\"Data Validation\",\"type\":\"video\"},{\"index\":14,\"duration\":\"01:00\",\"parentslug\":\"web-security\",\"slug\":\"7lE8eUi3fFiRBWUUuV1-L\",\"title\":\"Why is it important that we implement good validation rules?\",\"type\":\"quiz\"}]}],\"outlineMeta\":{\"duration\":4053,\"videos\":7,\"quizzes\":4,\"labs\":1,\"slug\":\"web-security\",\"courseImage\":\"https://creator-assets.codedamn.com/official-61897bfe60f1140008feb00d/course-image/2022-04-28/5c767dc85e14ebd36d71f9da5892a0c664e8ddf3\"}}]},{\"title\":\"Full-stack official certification\",\"description\":\"Final certification exams for full-stack web developer learning path\",\"nodes\":[{\"label\":\"Full Stack Certification Exam\",\"free\":false,\"courseState\":\"exam\",\"outline\":[],\"outlineMeta\":{\"duration\":0,\"videos\":0,\"labs\":0,\"slug\":\"\",\"quizzes\":0,\"courseImage\":\"https://imagegen.codedamn.com/COMING%20SOON.png?theme=dark\"}},{\"label\":\"Full Stack Real Interview Questions\",\"free\":false,\"courseState\":\"exam\",\"outline\":[{\"slug\":\"web-development-interview\",\"section\":\"Easy\",\"_sectionDuration\":940,\"sectionDuration\":\"15 minutes\",\"items\":[{\"index\":0,\"duration\":\"00:40\",\"parentslug\":\"web-development-interview\",\"slug\":\"frw-3lByZqXpcdI7myJS4\",\"title\":\"Important points\",\"type\":\"article\"},{\"index\":1,\"duration\":\"05:00\",\"parentslug\":\"web-development-interview\",\"slug\":\"R78muvrxSB0yH1suQBdWV\",\"title\":\"Write the code for creating a timer on the web [Google]\",\"type\":\"lab\"},{\"index\":2,\"duration\":\"05:00\",\"parentslug\":\"web-development-interview\",\"slug\":\"DNVybz7eT50CmRjjKowDy\",\"title\":\"Design a UI with a button, when you clicked it, it will increment the text by one [Amazon]\",\"type\":\"lab\"},{\"index\":3,\"duration\":\"05:00\",\"parentslug\":\"web-development-interview\",\"slug\":\"60ipQL9sPpDdhzLTRC7Wf\",\"title\":\"Accordion Widget [Amazon]\",\"type\":\"lab\"}]},{\"slug\":\"web-development-interview\",\"section\":\"Intermediate\",\"_sectionDuration\":900,\"sectionDuration\":\"15 minutes\",\"items\":[{\"index\":4,\"duration\":\"05:00\",\"parentslug\":\"web-development-interview\",\"slug\":\"c-XORCIinR1_WrgK4__5L\",\"title\":\"Log watching [BrowserStack]\",\"type\":\"lab\"},{\"index\":5,\"duration\":\"05:00\",\"parentslug\":\"web-development-interview\",\"slug\":\"3sv9gJEtxK3g7_3oH1Qho\",\"title\":\"Dynamic Script Injection [Wingify]\",\"type\":\"lab\"},{\"index\":6,\"duration\":\"05:00\",\"parentslug\":\"web-development-interview\",\"slug\":\"YejF7XyavVc-XD2avlNbc\",\"title\":\"URL Shortener\",\"type\":\"lab\"}]},{\"slug\":\"web-development-interview\",\"section\":\"Hard\",\"_sectionDuration\":600,\"sectionDuration\":\"10 minutes\",\"items\":[{\"index\":7,\"duration\":\"05:00\",\"parentslug\":\"web-development-interview\",\"slug\":\"sTQNtUR3KCUVDMCvjKbv8\",\"title\":\"Two lists [Microsoft]\",\"type\":\"lab\"},{\"index\":8,\"duration\":\"05:00\",\"parentslug\":\"web-development-interview\",\"slug\":\"FwM-iyWAtYousAbvAsH4d\",\"title\":\"Generate CSS Selector [Wingify]\",\"type\":\"lab\"}]}],\"outlineMeta\":{\"duration\":2440,\"videos\":0,\"quizzes\":0,\"labs\":8,\"slug\":\"web-development-interview\",\"courseImage\":\"https://creator-assets.codedamn.com/codedamn-5f1f31bbf8bab7fa6ddb6fdb/course-image/2021-09-22/82138e3bea3ade538317692ddae8ae104e1d36b0\"}}]}]}},\"__N_SSG\":true},\"page\":\"/\",\"query\":{},\"buildId\":\"tD4zOO_oFgiVOdZHEwXQm\",\"isFallback\":false,\"gsp\":true,\"scriptLoader\":[]}</script></body> <head><meta charset=\"utf-8\"/><meta content=\"summary_large_image\" name=\"twitter:card\"/><meta content=\"@codedamncom\" name=\"twitter:site\"/><meta content=\"@codedamncom\" name=\"twitter:creator\"/><meta content=\"261251371039658\" property=\"fb:app_id\"/><meta content=\"https://codedamn.com/\" property=\"og:url\"/><meta content=\"website\" property=\"og:type\"/><meta content=\"https://codedamn.com/assets/images/cover.jpg\" property=\"og:image\"/><meta content=\"codedamn cover image\" property=\"og:image:alt\"/><meta content=\"1280\" property=\"og:image:width\"/><meta content=\"720\" property=\"og:image:height\"/><script type=\"application/ld+json\">{\n",
      "    \"@context\": \"https://schema.org\",\n",
      "    \"@type\": \"Organization\",\n",
      "    \"url\": \"https://codedamn.com\",\n",
      "    \"logo\": \"https://codedamn.com/assets/images/blacklogo.jpg\"\n",
      "  }</script><title>Learn full-stack web development with interactive courses | codedamn</title><meta content=\"index,follow\" name=\"robots\"/><meta content=\"index,follow\" name=\"googlebot\"/><meta content=\"Learn about today's job skills - frontend, backend, fullstack, mobile app development and practice online with thousands of developers. codedamn is the best way to learn to code online. Start with HTML, CSS, JavaScript, SQL, Python, Data Science, and more. Learn programming like it's 2030.\" name=\"description\"/><meta content=\"Learn full-stack web development with interactive courses | codedamn\" property=\"og:title\"/><meta content=\"Learn about today's job skills - frontend, backend, fullstack, mobile app development and practice online with thousands of developers. codedamn is the best way to learn to code online. Start with HTML, CSS, JavaScript, SQL, Python, Data Science, and more. Learn programming like it's 2030.\" property=\"og:description\"/><link href=\"https://codedamn.com\" rel=\"canonical\"/><noscript><img alt=\"facebook pixel\" class=\"hidden\" height=\"1\" src=\"https://www.facebook.com/tr?id=471148730684170&amp;ev=PageView&amp;noscript=1\" width=\"1\"/></noscript><meta content=\"minimum-scale=1, initial-scale=1, width=device-width, shrink-to-fit=no\" name=\"viewport\"/><meta content=\"codedamn\" name=\"application-name\"/><meta content=\"yes\" name=\"apple-mobile-web-app-capable\"/><meta content=\"default\" name=\"apple-mobile-web-app-status-bar-style\"/><meta content=\"codedamn\" name=\"apple-mobile-web-app-title\"/><meta content=\"telephone=no\" name=\"format-detection\"/><meta content=\"yes\" name=\"mobile-web-app-capable\"/><meta content=\"K3adKM0QaR6obX9d4z4AxJOT_uLqZFyz9PaZd_LQHXU\" name=\"google-site-verification\"/><meta content=\"/assets/images/favicons/browserconfig.xml\" name=\"msapplication-config\"/><meta content=\"#000000\" name=\"msapplication-TileColor\"/><meta content=\"no\" name=\"msapplication-tap-highlight\"/><link href=\"/assets/images/favicons/apple-icon-180x180.png\" rel=\"apple-touch-icon\" sizes=\"180x180\"/><link href=\"/assets/images/favicons/favicon-32x32.png\" rel=\"icon\" sizes=\"32x32\" type=\"image/png\"/><link href=\"/assets/images/favicons/favicon-16x16.png\" rel=\"icon\" sizes=\"16x16\" type=\"image/png\"/><link href=\"/manifest.json\" rel=\"manifest\"/><link href=\"/assets/images/favicons/favicon-96x96.png\" rel=\"shortcut icon\"/><meta content=\"36\" name=\"next-head-count\"/><style>@font-face {\n",
      "    font-family: Inter var;\n",
      "    font-weight: 100 900;\n",
      "    font-display: swap;\n",
      "    font-style: normal;\n",
      "    font-named-instance:\"Regular\";\n",
      "\tfont-feature-settings: \"cv02\",\"cv03\",\"cv04\",\"cv11\";\n",
      "    src: url(/assets/fonts/inter-var.woff2) format(\"woff2\")\n",
      "}\n",
      "\n",
      "@font-face {\n",
      "    font-family: Inter var;\n",
      "    font-weight: 100 900;\n",
      "    font-display: swap;\n",
      "    font-style: italic;\n",
      "    font-named-instance:\"Italic\";\n",
      "\tfont-feature-settings: \"cv02\",\"cv03\",\"cv04\",\"cv11\";\n",
      "    src: url(/assets/fonts/inter-var2.woff2) format(\"woff2\")\n",
      "}\n",
      "</style><link as=\"style\" href=\"/_next/static/css/5e62bde0935be48d.css\" rel=\"preload\"/><link data-n-g=\"\" href=\"/_next/static/css/5e62bde0935be48d.css\" rel=\"stylesheet\"/><noscript data-n-css=\"\"></noscript><script defer=\"\" nomodule=\"\" src=\"/_next/static/chunks/polyfills-5cd94c89d3acac5f.js\"></script><script defer=\"\" src=\"/_next/static/chunks/webpack-a55cf0661cb7e6ba.js\"></script><script defer=\"\" src=\"/_next/static/chunks/framework-09f3afa64952aba4.js\"></script><script defer=\"\" src=\"/_next/static/chunks/main-725ab32b8f8d5487.js\"></script><script defer=\"\" src=\"/_next/static/chunks/pages/_app-bdeb1565139228b5.js\"></script><script defer=\"\" src=\"/_next/static/chunks/d7eeaac4-079e18d2b1a1ecf1.js\"></script><script defer=\"\" src=\"/_next/static/chunks/4afafdf3-4fae7621a2e5a30a.js\"></script><script defer=\"\" src=\"/_next/static/chunks/4949-19878d4e912faa3d.js\"></script><script defer=\"\" src=\"/_next/static/chunks/5675-4a51c10a0488d558.js\"></script><script defer=\"\" src=\"/_next/static/chunks/4931-c8c5210569ce1bcc.js\"></script><script defer=\"\" src=\"/_next/static/chunks/4309-eeb5e06345842a7e.js\"></script><script defer=\"\" src=\"/_next/static/chunks/6727-8e86b473d08d29e5.js\"></script><script defer=\"\" src=\"/_next/static/chunks/2962-1683f5cec8fc1997.js\"></script><script defer=\"\" src=\"/_next/static/chunks/6545-6cc737da2e0d414e.js\"></script><script defer=\"\" src=\"/_next/static/chunks/18-25411087f338a72b.js\"></script><script defer=\"\" src=\"/_next/static/chunks/7989-5b1a435cf007370c.js\"></script><script defer=\"\" src=\"/_next/static/chunks/7934-6a16bfb92855fc80.js\"></script><script defer=\"\" src=\"/_next/static/chunks/3614-9f118c2cf00983ec.js\"></script><script defer=\"\" src=\"/_next/static/chunks/1102-ee04e3ed9dc32389.js\"></script><script defer=\"\" src=\"/_next/static/chunks/1462-73f3725a048fc8e3.js\"></script><script defer=\"\" src=\"/_next/static/chunks/5052-444d730694c5baba.js\"></script><script defer=\"\" src=\"/_next/static/chunks/8741-e6a093f02a530bf0.js\"></script><script defer=\"\" src=\"/_next/static/chunks/pages/index-958f9c28a9e372cc.js\"></script><script defer=\"\" src=\"/_next/static/tD4zOO_oFgiVOdZHEwXQm/_buildManifest.js\"></script><script defer=\"\" src=\"/_next/static/tD4zOO_oFgiVOdZHEwXQm/_ssgManifest.js\"></script><script defer=\"\" src=\"/_next/static/tD4zOO_oFgiVOdZHEwXQm/_middlewareManifest.js\"></script><style id=\"__jsx-b35e882c88056c79\">.morph-dropdown-wrapper,.morph-dropdown-wrapper *{max-width:1e4em}.cd-morph-dropdown .morph-dropdown-wrapper{display:block;left:0;position:absolute;width:auto;padding:0;-webkit-box-shadow:none;-moz-box-shadow:none;box-shadow:none;background-color:transparent;-webkit-transform:translateZ(0);-moz-transform:translateZ(0);transform:translateZ(0);will-change:transform;-webkit-transform:translateY(20px);-ms-transform:translateY(20px);-moz-transform:translateY(20px);-o-transform:translateY(20px);transform:translateY(20px);-webkit-transition:-webkit-transform.3s;-moz-transition:-webkit-transform.3s;-o-transition:-webkit-transform.3s;transition:-webkit-transform.3s;-moz-transition:-moz-transform.3s;-o-transition:-o-transform.3s;transition:-webkit-transform.3s;transition:-moz-transform.3s;transition:-o-transform.3s;transition:transform.3s;-moz-transition:-moz-transform.3s,-webkit-transform.3s;-o-transition:-o-transform.3s,-webkit-transform.3s;transition:-webkit-transform.3s,-webkit-transform.3s;transition:-moz-transform.3s,-webkit-transform.3s;transition:-o-transform.3s,-webkit-transform.3s;transition:transform.3s,-webkit-transform.3s}.cd-morph-dropdown.is-dropdown-visible .morph-dropdown-wrapper{-webkit-transform:translateY(0);-ms-transform:translateY(0);-moz-transform:translateY(0);-o-transform:translateY(0);transform:translateY(0)}.cd-morph-dropdown .dropdown-list{-webkit-transform:translateZ(0);-moz-transform:translateZ(0);transform:translateZ(0);will-change:transform,width,height;-webkit-transition:visibility.1s;-moz-transition:visibility.1s;-o-transition:visibility.1s;transition:visibility.1s}.cd-morph-dropdown .dropdown-list::before{content:\"\";position:absolute;bottom:100%;left:50%;right:auto;-webkit-transform:translateX(-50%);-ms-transform:translateX(-50%);-moz-transform:translateX(-50%);-o-transform:translateX(-50%);transform:translateX(-50%);height:0;border:8px solid transparent;border-bottom-color:rgb(110 110 110);width:0;opacity:0;-webkit-transition:opacity.3s;-moz-transition:opacity.3s;-o-transition:opacity.3s;transition:opacity.3s}.cd-morph-dropdown .dropdown-list>ul{position:relative;z-index:1;height:100%;width:100%;overflow:hidden}.cd-morph-dropdown.is-dropdown-visible .dropdown-list{visibility:visible;-webkit-transition:width.3s,height.3s,-webkit-transform.3s;-moz-transition:width.3s,height.3s,-webkit-transform.3s;-o-transition:width.3s,height.3s,-webkit-transform.3s;transition:width.3s,height.3s,-webkit-transform.3s;-moz-transition:-moz-transform.3s,width.3s,height.3s;-o-transition:-o-transform.3s,width.3s,height.3s;transition:-webkit-transform.3s,width.3s,height.3s;transition:-moz-transform.3s,width.3s,height.3s;transition:-o-transform.3s,width.3s,height.3s;transition:transform.3s,width.3s,height.3s;-moz-transition:-moz-transform.3s,width.3s,height.3s,-webkit-transform.3s;-o-transition:-o-transform.3s,width.3s,height.3s,-webkit-transform.3s;transition:-webkit-transform.3s,width.3s,height.3s,-webkit-transform.3s;transition:-moz-transform.3s,width.3s,height.3s,-webkit-transform.3s;transition:-o-transform.3s,width.3s,height.3s,-webkit-transform.3s;transition:transform.3s,width.3s,height.3s,-webkit-transform.3s}.cd-morph-dropdown.is-dropdown-visible .dropdown-list::before{opacity:1}.cd-morph-dropdown .dropdown{position:absolute;left:0;top:0;opacity:0;visibility:hidden;width:100%;-webkit-transition:opacity.3s,visibility.3s;-moz-transition:opacity.3s,visibility.3s;-o-transition:opacity.3s,visibility.3s;transition:opacity.3s,visibility.3s}.cd-morph-dropdown .dropdown.active{opacity:1;visibility:visible}</style></head>\n"
     ]
    }
   ],
   "source": [
    "import requests\n",
    "from bs4 import BeautifulSoup\n",
    "\n",
    "# Make a request\n",
    "page = requests.get(\n",
    "    \"https://codedamn.com\")\n",
    "soup = BeautifulSoup(page.content, 'html.parser')\n",
    "\n",
    "# Extract title of page\n",
    "page_title = soup.title.text\n",
    "\n",
    "# Extract body of page\n",
    "page_body = soup.body\n",
    "\n",
    "# Extract head of page\n",
    "page_head = soup.head\n",
    "\n",
    "# print the result\n",
    "print(page_body, page_head)"
   ]
  },
  {
   "cell_type": "markdown",
   "metadata": {},
   "source": [
    "Now that you have explored some parts of BeautifulSoup, let's look how you can select DOM elements with BeautifulSoup methods.\n",
    "\n",
    "Once you have the soup variable, you can work with .select on it which is a CSS selector inside BeautifulSoup. That is, you can reach down the DOM tree just like how you will select elements with CSS. Let's look at an example:\n",
    "\n",
    ".select returns a Python list of all the elements. This is why you selected only the first element here with the [0] index."
   ]
  },
  {
   "cell_type": "code",
   "execution_count": 59,
   "metadata": {},
   "outputs": [
    {
     "name": "stdout",
     "output_type": "stream",
     "text": [
      "['Test Sites', 'E-commerce training site'] 7 reviews\n"
     ]
    }
   ],
   "source": [
    "import requests\n",
    "from bs4 import BeautifulSoup\n",
    "# Make a request\n",
    "page = requests.get(\n",
    "    \"https://codedamn-classrooms.github.io/webscraper-python-codedamn-classroom-website/\")\n",
    "soup = BeautifulSoup(page.content, 'html.parser')\n",
    "\n",
    "# Create all_h1_tags as empty list\n",
    "all_h1_tags = []\n",
    "\n",
    "# Set all_h1_tags to all h1 tags of the soup\n",
    "for element in soup.select('h1'):\n",
    "    all_h1_tags.append(element.text)\n",
    "\n",
    "# Create seventh_p_text and set it to 7th p element text of the page\n",
    "seventh_p_text = soup.select('p')[6].text\n",
    "\n",
    "print(all_h1_tags, seventh_p_text)"
   ]
  },
  {
   "cell_type": "markdown",
   "metadata": {},
   "source": [
    "Let's go ahead and extract the top items scraped from the URL: https://codedamn-classrooms.github.io/webscraper-python-codedamn-classroom-website/\n",
    "\n",
    "If you open this page in a new tab, you’ll see some top items. In this lab, your task is to scrape out their names and store them in a list called top_items. You will also extract out the reviews for these items as well.\n",
    "\n",
    "To pass this challenge, take care of the following things:\n",
    "\n",
    "Use .select to extract the titles. (Hint: one selector for product titles could be a.title)\n",
    "Use .select to extract the review count label for those product titles. (Hint: one selector for reviews could be div.ratings) Note: this is a complete label (i.e. 2 reviews) and not just a number.\n",
    "Create a new dictionary in the format:\n",
    "\n",
    "```python\n",
    "info = {\n",
    "   \"title\": 'Asus AsusPro Adv...   '.strip(),\n",
    "   \"review\": '2 reviews\\n\\n\\n'.strip()\n",
    "}\n",
    "```\n",
    "\n",
    "Note that you are using the strip method to remove any extra newlines/whitespaces you might have in the output. This is important to pass this lab.\n",
    "Append this dictionary in a list called top_items\n",
    "Print this list at the end"
   ]
  },
  {
   "cell_type": "code",
   "execution_count": 60,
   "metadata": {},
   "outputs": [
    {
     "name": "stdout",
     "output_type": "stream",
     "text": [
      "[{'title': 'Asus AsusPro Adv...', 'review': '7 reviews'}, {'title': 'Asus ROG Strix G...', 'review': '4 reviews'}, {'title': 'Acer Aspire 3 A3...', 'review': '2 reviews'}]\n"
     ]
    }
   ],
   "source": [
    "import requests\n",
    "from bs4 import BeautifulSoup\n",
    "# Make a request\n",
    "page = requests.get(\n",
    "    \"https://codedamn-classrooms.github.io/webscraper-python-codedamn-classroom-website/\")\n",
    "soup = BeautifulSoup(page.content, 'html.parser')\n",
    "\n",
    "# Create top_items as empty list\n",
    "top_items = []\n",
    "\n",
    "# Extract and store in top_items according to instructions on the left\n",
    "products = soup.select('div.thumbnail')\n",
    "for elem in products:\n",
    "    title = elem.select('h4 > a.title')[0].text\n",
    "    review_label = elem.select('div.ratings')[0].text\n",
    "    info = {\n",
    "        \"title\": title.strip(),\n",
    "        \"review\": review_label.strip()\n",
    "    }\n",
    "    top_items.append(info)\n",
    "\n",
    "print(top_items)"
   ]
  },
  {
   "cell_type": "markdown",
   "metadata": {},
   "source": [
    "Note that this is only one of the solutions. You can attempt this in a different way too. In this solution:\n",
    "\n",
    "First of all you select all the div.thumbnail elements which gives you a list of individual products\n",
    "Then you iterate over them\n",
    "Because select allows you to chain over itself, you can use select again to get the title.\n",
    "Note that because you're running inside a loop for div.thumbnail already, the h4 > a.title selector would only give you one result, inside a list. You select that list's 0th element and extract out the text.\n",
    "Finally you strip any extra whitespace and append it to your list."
   ]
  },
  {
   "cell_type": "code",
   "execution_count": 61,
   "metadata": {},
   "outputs": [
    {
     "name": "stdout",
     "output_type": "stream",
     "text": [
      "[{'href': '', 'text': 'Toggle navigation'}, {'href': '/webscraper-python-codedamn-classroom-website/', 'text': ''}, {'href': '#page-top', 'text': ''}, {'href': '/webscraper-python-codedamn-classroom-website/', 'text': 'Web Scraper'}, {'href': '/webscraper-python-codedamn-classroom-website/cloud-scraper', 'text': 'Cloud Scraper'}, {'href': '/webscraper-python-codedamn-classroom-website/pricing', 'text': 'Pricing'}, {'href': '#section3', 'text': 'Learn'}, {'href': '/webscraper-python-codedamn-classroom-website/documentation', 'text': 'Documentation'}, {'href': '/webscraper-python-codedamn-classroom-website/tutorials', 'text': 'Video Tutorials'}, {'href': '/webscraper-python-codedamn-classroom-website/how-to-videos', 'text': 'How to'}, {'href': '/webscraper-python-codedamn-classroom-website/test-sites', 'text': 'Test Sites'}, {'href': 'https://forum.webscraper.io/', 'text': 'Forum'}, {'href': 'https://chrome.google.com/webstore/detail/web-scraper/jnhgnonknehpejjnehehllkliplmbmhn?hl=en', 'text': 'Install'}, {'href': 'https://cloud.webscraper.io/', 'text': 'Login'}, {'href': '/webscraper-python-codedamn-classroom-website/test-sites/e-commerce/allinone', 'text': 'Home'}, {'href': '/webscraper-python-codedamn-classroom-website/test-sites/e-commerce/allinone/computers', 'text': 'Computers'}, {'href': '/webscraper-python-codedamn-classroom-website/test-sites/e-commerce/allinone/phones', 'text': 'Phones'}, {'href': '/webscraper-python-codedamn-classroom-website/test-sites/e-commerce/allinone/product/593', 'text': 'Asus AsusPro Adv...'}, {'href': '/webscraper-python-codedamn-classroom-website/test-sites/e-commerce/allinone/product/583', 'text': 'Asus ROG Strix G...'}, {'href': '/webscraper-python-codedamn-classroom-website/test-sites/e-commerce/allinone/product/576', 'text': 'Acer Aspire 3 A3...'}, {'href': '/webscraper-python-codedamn-classroom-website/', 'text': 'Web Scraper browser extension'}, {'href': '/webscraper-python-codedamn-classroom-website/pricing', 'text': 'Web Scraper Cloud'}, {'href': '/webscraper-python-codedamn-classroom-website/contact', 'text': 'Contact'}, {'href': '/webscraper-python-codedamn-classroom-website/privacy-policy', 'text': 'Website Privacy Policy'}, {'href': '/webscraper-python-codedamn-classroom-website/extension-privacy-policy', 'text': 'Browser Extension Privacy Policy'}, {'href': 'http://webscraperio.us-east-1.elasticbeanstalk.com/downloads/Web_Scraper_Media_Kit.zip', 'text': 'Media kit'}, {'href': '/webscraper-python-codedamn-classroom-website/jobs', 'text': 'Jobs'}, {'href': '/webscraper-python-codedamn-classroom-website/blog', 'text': 'Blog'}, {'href': '/webscraper-python-codedamn-classroom-website/documentation', 'text': 'Documentation'}, {'href': '/webscraper-python-codedamn-classroom-website/tutorials', 'text': 'Video Tutorials'}, {'href': '/webscraper-python-codedamn-classroom-website/screenshots', 'text': 'Screenshots'}, {'href': '/webscraper-python-codedamn-classroom-website/test-sites', 'text': 'Test Sites'}, {'href': 'https://forum.webscraper.io/', 'text': 'Forum'}, {'href': 'mailto:info@webscraper.io', 'text': 'info@webscraper.io'}, {'href': 'https://www.facebook.com/webscraperio/', 'text': ''}, {'href': 'https://twitter.com/webscraperio', 'text': ''}, {'href': '#', 'text': 'Web Scraper'}]\n"
     ]
    }
   ],
   "source": [
    "import requests\n",
    "from bs4 import BeautifulSoup\n",
    "# Make a request\n",
    "page = requests.get(\n",
    "    \"https://codedamn-classrooms.github.io/webscraper-python-codedamn-classroom-website/\")\n",
    "soup = BeautifulSoup(page.content, 'html.parser')\n",
    "\n",
    "# Create top_items as empty list\n",
    "all_links = []\n",
    "\n",
    "# Extract and store in top_items according to instructions on the left\n",
    "links = soup.select('a')\n",
    "for ahref in links:\n",
    "    text = ahref.text\n",
    "    text = text.strip() if text is not None else ''\n",
    "\n",
    "    href = ahref.get('href')\n",
    "    href = href.strip() if href is not None else ''\n",
    "    all_links.append({\"href\": href, \"text\": text})\n",
    "\n",
    "print(all_links)"
   ]
  },
  {
   "cell_type": "markdown",
   "metadata": {},
   "source": [
    "Finally, let's understand how you can generate CSV from a set of data. You will create a CSV with the following headings:\n",
    "\n",
    "Product Name\n",
    "Price\n",
    "Description\n",
    "Reviews\n",
    "Product Image\n",
    "These products are located in the div.thumbnail. The CSV boilerplate is given below:"
   ]
  },
  {
   "cell_type": "code",
   "execution_count": 62,
   "metadata": {},
   "outputs": [],
   "source": [
    "import requests\n",
    "from bs4 import BeautifulSoup\n",
    "import csv\n",
    "# Make a request\n",
    "page = requests.get(\n",
    "    \"https://codedamn-classrooms.github.io/webscraper-python-codedamn-classroom-website/\")\n",
    "soup = BeautifulSoup(page.content, 'html.parser')\n",
    "\n",
    "# Create top_items as empty list\n",
    "all_products = []\n",
    "\n",
    "# Extract and store in top_items according to instructions on the left\n",
    "products = soup.select('div.thumbnail')\n",
    "for product in products:\n",
    "    name = product.select('h4 > a')[0].text.strip()\n",
    "    description = product.select('p.description')[0].text.strip()\n",
    "    price = product.select('h4.price')[0].text.strip()\n",
    "    reviews = product.select('div.ratings')[0].text.strip()\n",
    "    image = product.select('img')[0].get('src')\n",
    "\n",
    "    all_products.append({\n",
    "        \"name\": name,\n",
    "        \"description\": description,\n",
    "        \"price\": price,\n",
    "        \"reviews\": reviews,\n",
    "        \"image\": image\n",
    "    })\n",
    "\n",
    "\n",
    "keys = all_products[0].keys()\n",
    "\n",
    "with open('products.csv', 'w', newline='') as output_file:\n",
    "    dict_writer = csv.DictWriter(output_file, keys)\n",
    "    dict_writer.writeheader()\n",
    "    dict_writer.writerows(all_products)"
   ]
  },
  {
   "cell_type": "code",
   "execution_count": null,
   "metadata": {},
   "outputs": [],
   "source": []
  }
 ],
 "metadata": {
  "kernelspec": {
   "display_name": "Python 3 (ipykernel)",
   "language": "python",
   "name": "python3"
  },
  "language_info": {
   "codemirror_mode": {
    "name": "ipython",
    "version": 3
   },
   "file_extension": ".py",
   "mimetype": "text/x-python",
   "name": "python",
   "nbconvert_exporter": "python",
   "pygments_lexer": "ipython3",
   "version": "3.9.10"
  },
  "toc": {
   "base_numbering": 1,
   "nav_menu": {},
   "number_sections": true,
   "sideBar": true,
   "skip_h1_title": false,
   "title_cell": "Table of Contents",
   "title_sidebar": "Contents",
   "toc_cell": false,
   "toc_position": {},
   "toc_section_display": true,
   "toc_window_display": false
  }
 },
 "nbformat": 4,
 "nbformat_minor": 4
}
