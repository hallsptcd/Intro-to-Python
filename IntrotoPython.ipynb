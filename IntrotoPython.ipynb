{
 "cells": [
  {
   "cell_type": "markdown",
   "metadata": {},
   "source": [
    "# Introduction to Python <a class=\"anchor\" id=\"top\"></a>"
   ]
  },
  {
   "cell_type": "markdown",
   "metadata": {},
   "source": [
    "**Simon Hall**"
   ]
  },
  {
   "cell_type": "markdown",
   "metadata": {},
   "source": [
    "This notebook is an introduction to the world of Python. We'll begin with a review of data types, operators, functions, and then move to the main data structures used in Python: *tuples*, *lists*, *dictionaries* and *sets*. We will also look at more advanced features, such as lambdas and list comprehensions."
   ]
  },
  {
   "cell_type": "markdown",
   "metadata": {},
   "source": [
    "## Contents:\n",
    "* [1. Data Types](#first-bullet)\n",
    "     * [Numbers](#numbers-bullet)\n",
    "     * [Strings](#strings-bullet)\n",
    "     * [Booleans](#bools-bullet)\n",
    "     * [None and NaN](#none-bullet)\n",
    "     * [Coverting Types](#conv-bullet)\n",
    "* [2. Operators](#second-bullet)\n",
    "* [3. Functions](#third-bullet)\n",
    "     * [Chaining Functions](#chains-bullet)\n",
    "     * [Mapping Functions](#maps-bullet)\n",
    "     * [Lambdas](#lambdas-bullet)\n",
    "* [4. IF Statements and Loops](#fourth-bullet)\n",
    "     * [IF Statements](#ifs-bullet)\n",
    "     * [FOR Loops](#fors-bullet)\n",
    "     * [WHILE Loops](#whiles-bullet)\n",
    "* [5. Data Structures](#fifth-bullet)\n",
    "     * [Tuples](#tuples-bullet)\n",
    "     * [Lists](#lists-bullet)\n",
    "     * [Dictionaries](#dicts-bullet)\n",
    "     * [Sets](#sets-bullet)\n",
    "* [6. NumPy and Pandas](#sixth-bullet)\n",
    "     * [NumPy](#numpy-bullet)\n",
    "     * [Pandas](#pandas-bullet)\n",
    "* [7. Classes](#seventh-bullet)"
   ]
  },
  {
   "cell_type": "markdown",
   "metadata": {},
   "source": [
    "## 1. Data Types <a class=\"anchor\" id=\"first-bullet\"></a>"
   ]
  },
  {
   "cell_type": "markdown",
   "metadata": {},
   "source": [
    "[TOP ↑](#top)"
   ]
  },
  {
   "cell_type": "markdown",
   "metadata": {},
   "source": [
    "Python is an object-oriented language, so data is typically stored and manipulated in objects or structures. The data contains values which have their own **type**, which tells us whether that value is a number, a string, or a boolean. You can check the type of a variable using the **type()** function."
   ]
  },
  {
   "cell_type": "markdown",
   "metadata": {},
   "source": [
    "### Numbers <a class=\"anchor\" id=\"numbers-bullet\"></a>"
   ]
  },
  {
   "cell_type": "markdown",
   "metadata": {},
   "source": [
    "[TOP ↑](#top)"
   ]
  },
  {
   "cell_type": "markdown",
   "metadata": {},
   "source": [
    "There are two number types: *integer* and *float*."
   ]
  },
  {
   "cell_type": "code",
   "execution_count": 1,
   "metadata": {},
   "outputs": [
    {
     "data": {
      "text/plain": [
       "int"
      ]
     },
     "execution_count": 1,
     "metadata": {},
     "output_type": "execute_result"
    }
   ],
   "source": [
    "# The integer type is referred to as int\n",
    "count = 8\n",
    "type(count)"
   ]
  },
  {
   "cell_type": "code",
   "execution_count": 2,
   "metadata": {},
   "outputs": [
    {
     "data": {
      "text/plain": [
       "float"
      ]
     },
     "execution_count": 2,
     "metadata": {},
     "output_type": "execute_result"
    }
   ],
   "source": [
    "# All decimals are float type\n",
    "distance = 5\n",
    "time = 8\n",
    "velocity = distance / time\n",
    "type(velocity)"
   ]
  },
  {
   "cell_type": "code",
   "execution_count": 3,
   "metadata": {},
   "outputs": [
    {
     "name": "stdout",
     "output_type": "stream",
     "text": [
      "0.625\n"
     ]
    }
   ],
   "source": [
    "print(velocity)"
   ]
  },
  {
   "cell_type": "markdown",
   "metadata": {},
   "source": [
    "### Strings <a class=\"anchor\" id=\"strings-bullet\"></a>"
   ]
  },
  {
   "cell_type": "markdown",
   "metadata": {},
   "source": [
    "[TOP ↑](#top)"
   ]
  },
  {
   "cell_type": "markdown",
   "metadata": {},
   "source": [
    "A *string* is a character or text type."
   ]
  },
  {
   "cell_type": "code",
   "execution_count": 4,
   "metadata": {},
   "outputs": [
    {
     "data": {
      "text/plain": [
       "str"
      ]
     },
     "execution_count": 4,
     "metadata": {},
     "output_type": "execute_result"
    }
   ],
   "source": [
    "# The string type is referred to as str\n",
    "first_name = \"Simon\"\n",
    "type(first_name)"
   ]
  },
  {
   "cell_type": "code",
   "execution_count": 5,
   "metadata": {},
   "outputs": [
    {
     "data": {
      "text/plain": [
       "str"
      ]
     },
     "execution_count": 5,
     "metadata": {},
     "output_type": "execute_result"
    }
   ],
   "source": [
    "# You can use single or double quotes\n",
    "surname = 'Hall'\n",
    "type(surname)"
   ]
  },
  {
   "cell_type": "markdown",
   "metadata": {},
   "source": [
    "We can output strings using the **print()** function. This requires the output variables to be strings. However, in order to place other variables inside a string for output, we can use format strings or f-strings, generated by putting the letter f just before a string. If we prefix a string with f we can add a variable using curly brackets. The interpreter will then convert the variable to a string."
   ]
  },
  {
   "cell_type": "code",
   "execution_count": 6,
   "metadata": {},
   "outputs": [
    {
     "name": "stdout",
     "output_type": "stream",
     "text": [
      "Hello Simon\n",
      "The answer to life, the universe and everything is 42\n",
      "The answer to life, the universe and everything is 42\n"
     ]
    }
   ],
   "source": [
    "# Formerly, without using f-strings, we could do this:\n",
    "name = \"Simon\"\n",
    "greeting = \"Hello \" + name\n",
    "print(greeting)\n",
    "\n",
    "# The output must be a string, so we often have to convert using str()\n",
    "answer = 42\n",
    "line = \"The answer to life, the universe and everything is \" + str(answer)\n",
    "print(line)\n",
    "\n",
    "# The easiest method is to use an f-string\n",
    "line = f\"The answer to life, the universe and everything is {answer}\"\n",
    "print(line)"
   ]
  },
  {
   "cell_type": "markdown",
   "metadata": {},
   "source": [
    "### Booleans <a class=\"anchor\" id=\"bools-bullet\"></a>"
   ]
  },
  {
   "cell_type": "markdown",
   "metadata": {},
   "source": [
    "[TOP ↑](#top)"
   ]
  },
  {
   "cell_type": "markdown",
   "metadata": {},
   "source": [
    "A *boolean* is a logical True/False data type."
   ]
  },
  {
   "cell_type": "code",
   "execution_count": 7,
   "metadata": {},
   "outputs": [
    {
     "data": {
      "text/plain": [
       "bool"
      ]
     },
     "execution_count": 7,
     "metadata": {},
     "output_type": "execute_result"
    }
   ],
   "source": [
    "# The boolean type is referred to as bool\n",
    "prime = True\n",
    "type(prime)"
   ]
  },
  {
   "cell_type": "markdown",
   "metadata": {},
   "source": [
    "### None <a class=\"anchor\" id=\"none-bullet\"></a>"
   ]
  },
  {
   "cell_type": "markdown",
   "metadata": {},
   "source": [
    "[TOP ↑](#top)"
   ]
  },
  {
   "cell_type": "markdown",
   "metadata": {},
   "source": [
    "The ```None``` keyword is used to define a null value, or no value at all. This is a special data type in Python, called ```NoneType```. It is not equivalent to 0, nor False, nor an empty string. It's its own thing. "
   ]
  },
  {
   "cell_type": "code",
   "execution_count": 8,
   "metadata": {},
   "outputs": [
    {
     "data": {
      "text/plain": [
       "NoneType"
      ]
     },
     "execution_count": 8,
     "metadata": {},
     "output_type": "execute_result"
    }
   ],
   "source": [
    "#None is its own data type\n",
    "x = None\n",
    "type(x)"
   ]
  },
  {
   "cell_type": "markdown",
   "metadata": {},
   "source": [
    "### Converting Types <a class=\"anchor\" id=\"conv-bullet\"></a>"
   ]
  },
  {
   "cell_type": "markdown",
   "metadata": {},
   "source": [
    "[TOP ↑](#top)"
   ]
  },
  {
   "cell_type": "markdown",
   "metadata": {},
   "source": [
    "Each data type has a corresponding function which converts any value to that type so long as there's a sensible way to do so. Python will sometimes automatically convert between types for us. As we have seen, for example, *ints* will automatically be converted to *floats* if a division operation leaves a decimal place. The principle functions are **int()**, **bool()**, **float()** and **str()**."
   ]
  },
  {
   "cell_type": "code",
   "execution_count": 9,
   "metadata": {},
   "outputs": [
    {
     "name": "stdout",
     "output_type": "stream",
     "text": [
      "The population of Ireland is approximately 4 million?\n",
      "Actually, the population of Ireland is approximately 5 million.\n"
     ]
    }
   ],
   "source": [
    "# The int() function converts a value to an integer.\n",
    "# Note that this function completely ignores the decimal place, it doesn't round\n",
    "\n",
    "population_ireland = 4.9\n",
    "\n",
    "population_ireland_int = int(population_ireland)\n",
    "\n",
    "print(f\"The population of Ireland is approximately {population_ireland_int} million?\")\n",
    "\n",
    "population_rounded = round(4.9)\n",
    "print(f\"Actually, the population of Ireland is approximately {population_rounded} million.\")"
   ]
  },
  {
   "cell_type": "code",
   "execution_count": 10,
   "metadata": {},
   "outputs": [
    {
     "name": "stdout",
     "output_type": "stream",
     "text": [
      "In total we flipped 2 heads.\n"
     ]
    }
   ],
   "source": [
    "# An old convention means that bool types can be converted to ints, where False is 0 and True is 1.\n",
    "\n",
    "coin1_heads = True\n",
    "coin2_heads = True\n",
    "coin3_heads = False\n",
    "\n",
    "total_heads = coin1_heads + coin2_heads + coin3_heads\n",
    "\n",
    "print(f\"In total we flipped {total_heads} heads.\")"
   ]
  },
  {
   "cell_type": "code",
   "execution_count": 11,
   "metadata": {},
   "outputs": [
    {
     "name": "stdout",
     "output_type": "stream",
     "text": [
      "sides_of_triangle_string is of data type: <class 'str'>\n",
      "sides_of_triangle is of data type: <class 'int'>\n"
     ]
    }
   ],
   "source": [
    "# Strings can also be converted to numbers\n",
    "\n",
    "sides_of_triangle_string = \"3\"\n",
    "print(f\"sides_of_triangle_string is of data type: {type(sides_of_triangle_string)}\")\n",
    "\n",
    "sides_of_triangle = int(sides_of_triangle_string)\n",
    "print(f\"sides_of_triangle is of data type: {type(sides_of_triangle)}\")"
   ]
  },
  {
   "cell_type": "markdown",
   "metadata": {},
   "source": [
    "You can also use the **bool()**, **float()** and **str()** functions to convert to the other types."
   ]
  },
  {
   "cell_type": "markdown",
   "metadata": {},
   "source": [
    "## 2. Operators <a class=\"anchor\" id=\"second-bullet\"></a>"
   ]
  },
  {
   "cell_type": "markdown",
   "metadata": {},
   "source": [
    "[TOP ↑](#top)"
   ]
  },
  {
   "cell_type": "markdown",
   "metadata": {},
   "source": [
    "Operations are mappings or functions that act on elements to produce other elements. Operators are symbols which represent these operations. They take one or more values and produce some result. The most common operators are things like **+**, **-**, **&ast;** and **/** which add, subtract, multiply and divide values."
   ]
  },
  {
   "cell_type": "code",
   "execution_count": 12,
   "metadata": {},
   "outputs": [
    {
     "name": "stdout",
     "output_type": "stream",
     "text": [
      "When we're working with numbers, 1 + 1 = 2.\n",
      "When we're working with strings, 1 + 1 = 11!\n",
      "If we mix a string and a number we get an error.\n",
      "2\n"
     ]
    }
   ],
   "source": [
    "arithmetic_addition = 1 + 1\n",
    "string_addition = \"1\" + \"1\"\n",
    "\n",
    "print(f\"When we're working with numbers, 1 + 1 = {1 + 1}.\")\n",
    "print(f\"When we're working with strings, 1 + 1 = {'1' + '1'}!\")\n",
    "print(\"If we mix a string and a number we get an error.\")\n",
    "print(1 + int(\"1\"))"
   ]
  },
  {
   "cell_type": "markdown",
   "metadata": {},
   "source": [
    "Python also supports comparison operators. The most common comparison operators are **&gt;**, **&lt;**, **&ge;**, **&le;**, **==**, and **!=**. The one which trips people up the most is remembering the double equals sign. The double equals sign checks for equality, rather than assigning a value. != is the opposite of ==, returning True if the operands are different."
   ]
  },
  {
   "cell_type": "code",
   "execution_count": 13,
   "metadata": {},
   "outputs": [
    {
     "name": "stdout",
     "output_type": "stream",
     "text": [
      "5 > 7 : False\n",
      "6 >= 6 : True\n",
      "14 <= 12 : False\n",
      "5 == 5 : True\n",
      "5 != 5 : False\n",
      "8 == '8' : False\n"
     ]
    }
   ],
   "source": [
    "print(f\"5 > 7 : {5 > 7}\")\n",
    "print(f\"6 >= 6 : {6 >= 6}\")\n",
    "print(f\"14 <= 12 : {14 <= 12}\")\n",
    "print(f\"5 == 5 : {5 == 5}\")\n",
    "print(f\"5 != 5 : {5 != 5}\")\n",
    "print(f\"8 == '8' : {8 == '8'}\")"
   ]
  },
  {
   "cell_type": "markdown",
   "metadata": {},
   "source": [
    "Boolean operators allow us to combine two boolean values using **and**/**or**. Unlike many programming languages which use ampersands, &amp;, and vertical bars, |, for this operator, Python uses the plain English words **and** and **or**. We can use the keyword **not** to flip a bool from True to False or False to True."
   ]
  },
  {
   "cell_type": "code",
   "execution_count": 14,
   "metadata": {},
   "outputs": [
    {
     "name": "stdout",
     "output_type": "stream",
     "text": [
      "*and* returns true if both operands are true: t and f is False, t and t is True\n",
      "*or* returns true if either operand is true: t or f is False, f or not t is False\n"
     ]
    }
   ],
   "source": [
    "t = True\n",
    "f = False\n",
    "\n",
    "print(f\"*and* returns true if both operands are true: t and f is {t and f}, t and t is {t and t}\")\n",
    "print(f\"*or* returns true if either operand is true: t or f is {f or not t}, f or not t is {f or not t}\")"
   ]
  },
  {
   "cell_type": "markdown",
   "metadata": {},
   "source": [
    "### Modulo Arithmetic"
   ]
  },
  {
   "cell_type": "markdown",
   "metadata": {},
   "source": [
    "The modulo operator, **&#37;**, divides the first number by the second and returns the remainder. This operator comes from the days when you couldn't automatically convert types and would need to check the remainder after performing any kind of division."
   ]
  },
  {
   "cell_type": "code",
   "execution_count": 15,
   "metadata": {},
   "outputs": [
    {
     "name": "stdout",
     "output_type": "stream",
     "text": [
      "2\n"
     ]
    }
   ],
   "source": [
    "# 7/5 = 1 with remainder 2 \n",
    "\n",
    "remainder = 7%5\n",
    "print(remainder)"
   ]
  },
  {
   "cell_type": "code",
   "execution_count": 16,
   "metadata": {},
   "outputs": [
    {
     "name": "stdout",
     "output_type": "stream",
     "text": [
      "5 divided by 2 is 2 with 1 left over\n",
      "1 is odd\n",
      "3 is odd\n",
      "4 is even\n",
      "5 is odd\n",
      "12 is even\n"
     ]
    }
   ],
   "source": [
    "print(f\"5 divided by 2 is {int(5 / 2)} with {5 % 2} left over\")\n",
    "\n",
    "# If a % b is 0 then b divides into a evenly\n",
    "\n",
    "for number in [1, 3, 4, 5, 12]:\n",
    "    if number % 2 == 0:\n",
    "        print(f\"{number} is even\")\n",
    "    else:\n",
    "        print(f\"{number} is odd\")"
   ]
  },
  {
   "cell_type": "markdown",
   "metadata": {},
   "source": [
    "## 3. Functions <a class=\"anchor\" id=\"third-bullet\"></a>"
   ]
  },
  {
   "cell_type": "markdown",
   "metadata": {},
   "source": [
    "[TOP ↑](#top)"
   ]
  },
  {
   "cell_type": "markdown",
   "metadata": {},
   "source": [
    "A function is a re-usable block of code. We need to *define* our function using the **def** keyword, followed by the name of the function. If the function is going to take any inputs we also need to give them a name, these are included in parentheses. Functions are useful because they cut down the amount of code we have to write, they make our code more readable, it's easy to re-use functions in other scripts, and they make it easier to test and debug our code."
   ]
  },
  {
   "cell_type": "code",
   "execution_count": 17,
   "metadata": {},
   "outputs": [
    {
     "name": "stdout",
     "output_type": "stream",
     "text": [
      "Before we can use a function we need to define it\n",
      "When we want to use a function we need to call it\n",
      "2 is even? True\n",
      "3 is even? False\n"
     ]
    }
   ],
   "source": [
    "# We can create a function which tells us whether a number is even or not\n",
    "\n",
    "def isEven(number):\n",
    "    if number % 2 == 0:\n",
    "        return True\n",
    "    else:\n",
    "        return False\n",
    "    \n",
    "print(\"Before we can use a function we need to define it\")\n",
    "print(\"When we want to use a function we need to call it\")\n",
    "print(f\"2 is even? {isEven(2)}\")\n",
    "print(f\"3 is even? {isEven(3)}\")"
   ]
  },
  {
   "cell_type": "code",
   "execution_count": 18,
   "metadata": {},
   "outputs": [
    {
     "name": "stdout",
     "output_type": "stream",
     "text": [
      "The larger number of 2 and 12 is 12\n",
      "The larger number of 8 and 3 is 8\n",
      "The larger number of 6 and 6 is None\n"
     ]
    },
    {
     "data": {
      "text/plain": [
       "19"
      ]
     },
     "execution_count": 18,
     "metadata": {},
     "output_type": "execute_result"
    }
   ],
   "source": [
    "# We can create another function which takes two inputs and tells us which is largest\n",
    "# If both are the same it returns \"None\", the Python equivalent of null\n",
    "\n",
    "def theLargerOf(first, second):\n",
    "    if first > second:\n",
    "        return first\n",
    "    elif second > first:\n",
    "        return second\n",
    "    else:\n",
    "        return None\n",
    "    \n",
    "print(f\"The larger number of 2 and 12 is {theLargerOf(2, 12)}\")\n",
    "print(f\"The larger number of 8 and 3 is {theLargerOf(8, 3)}\")\n",
    "print(f\"The larger number of 6 and 6 is {theLargerOf(6, 6)}\")\n",
    "\n",
    "# This will become 14 + 5\n",
    "theLargerOf(6, 14) + theLargerOf(3, 5)"
   ]
  },
  {
   "cell_type": "markdown",
   "metadata": {},
   "source": [
    "### Chaining Functions <a class=\"anchor\" id=\"chains-bullet\"></a>"
   ]
  },
  {
   "cell_type": "markdown",
   "metadata": {},
   "source": [
    "[TOP ↑](#top)"
   ]
  },
  {
   "cell_type": "markdown",
   "metadata": {},
   "source": [
    "Pythonic code is terse. Hence, chaining functions is very common."
   ]
  },
  {
   "cell_type": "code",
   "execution_count": 19,
   "metadata": {},
   "outputs": [
    {
     "data": {
      "text/plain": [
       "4"
      ]
     },
     "execution_count": 19,
     "metadata": {},
     "output_type": "execute_result"
    }
   ],
   "source": [
    "def double(number):\n",
    "    return number * 2\n",
    "\n",
    "x = 1\n",
    "x = double(x)\n",
    "x = double(x)\n",
    "x"
   ]
  },
  {
   "cell_type": "markdown",
   "metadata": {},
   "source": [
    "This code assigns a value of 1 to x and then doubles it twice (quadruples it). We can put all of this on a single line using function chaining."
   ]
  },
  {
   "cell_type": "code",
   "execution_count": 20,
   "metadata": {},
   "outputs": [
    {
     "data": {
      "text/plain": [
       "4"
      ]
     },
     "execution_count": 20,
     "metadata": {},
     "output_type": "execute_result"
    }
   ],
   "source": [
    "x = double(double(1))\n",
    "x"
   ]
  },
  {
   "cell_type": "markdown",
   "metadata": {},
   "source": [
    "The python interpreter starts from the innermost function and works its way out. Behind the scenes this line of code unfolds like this\n",
    "\n",
    "```python\n",
    "x = double(double(1))\n",
    "# First the interpreter evaluates double(1) (which gives 2)\n",
    "x = double(2)\n",
    "# Then the interpreter evalues double(2) (which gives 4)\n",
    "x = 4\n",
    "# Finally it assigns the value 4 to the variable x\n",
    "```"
   ]
  },
  {
   "cell_type": "markdown",
   "metadata": {},
   "source": [
    "### Mapping Functions <a class=\"anchor\" id=\"maps-bullet\"></a>"
   ]
  },
  {
   "cell_type": "markdown",
   "metadata": {},
   "source": [
    "[TOP ↑](#top)"
   ]
  },
  {
   "cell_type": "markdown",
   "metadata": {},
   "source": [
    "It's very common in Python to want to apply a function to every element in a list. Lists and other compound data structures will be covered shortly. We come up against this kind of situation when we're normalising data, for example. We could do it using a loop, but it's not very readable and often not very efficient."
   ]
  },
  {
   "cell_type": "code",
   "execution_count": 21,
   "metadata": {},
   "outputs": [
    {
     "data": {
      "text/plain": [
       "[2, 4, 6, 8, 10, 12, 14, 16, 18, 20]"
      ]
     },
     "execution_count": 21,
     "metadata": {},
     "output_type": "execute_result"
    }
   ],
   "source": [
    "# Create a list which doubles the value of every item in numbers\n",
    "numbers = [1, 2, 3, 4, 5, 6, 7, 8, 9, 10]\n",
    "\n",
    "def double(number):\n",
    "    return number * 2\n",
    "\n",
    "# Create a new list to hold our doubled numbers\n",
    "doubles = []\n",
    "for number in numbers:\n",
    "    doubled_number = double(number)\n",
    "    doubles.append(doubled_number)\n",
    "    \n",
    "# Jupyter Notebook prints the last line of a cell.\n",
    "doubles"
   ]
  },
  {
   "cell_type": "markdown",
   "metadata": {},
   "source": [
    "This works just fine, but it's quite a lot of code. It's difficult to tell exactly what's going on without reading through the code line by line. The python **map()** function allows us to take a function and apply it to every value in a list. Using the **map()** function we can reduce the number of lines of code significantly."
   ]
  },
  {
   "cell_type": "code",
   "execution_count": 22,
   "metadata": {},
   "outputs": [],
   "source": [
    "numbers = [1, 2, 3, 4, 5, 6, 7, 8, 9, 10]\n",
    "\n",
    "def double(number):\n",
    "    return number * 2\n",
    "\n",
    "# The first parameter to map is the name of the function we want to apply\n",
    "# The second parameter is a list of values to apply it to\n",
    "doubles = map(double, numbers)"
   ]
  },
  {
   "cell_type": "code",
   "execution_count": 23,
   "metadata": {},
   "outputs": [
    {
     "data": {
      "text/plain": [
       "map"
      ]
     },
     "execution_count": 23,
     "metadata": {},
     "output_type": "execute_result"
    }
   ],
   "source": [
    "type(doubles)"
   ]
  },
  {
   "cell_type": "code",
   "execution_count": 24,
   "metadata": {},
   "outputs": [
    {
     "data": {
      "text/plain": [
       "[2, 4, 6, 8, 10, 12, 14, 16, 18, 20]"
      ]
     },
     "execution_count": 24,
     "metadata": {},
     "output_type": "execute_result"
    }
   ],
   "source": [
    "# We need to convert the output of map() back to a list to print it\n",
    "list(doubles)"
   ]
  },
  {
   "cell_type": "markdown",
   "metadata": {},
   "source": [
    "In the example above we tell the Python interpreter that we'd like to run every number in the numbers list through the *double()* function. The map function will create a new list for us with the output of that function for each item. Note that when we want to print the output we need to convert it back to a list using the **list()** function."
   ]
  },
  {
   "cell_type": "markdown",
   "metadata": {},
   "source": [
    "### Lambdas <a class=\"anchor\" id=\"lambdas-bullet\"></a>"
   ]
  },
  {
   "cell_type": "markdown",
   "metadata": {},
   "source": [
    "[TOP ↑](#top)"
   ]
  },
  {
   "cell_type": "markdown",
   "metadata": {},
   "source": [
    "We can reduce the lines of code here even further using a **lambda**. A lambda is a one-line anonymous function. It gives us a short-hand way to write a function. It has the following syntax:\n",
    "\n",
    "```python\n",
    "lambda x: f(x)\n",
    "````"
   ]
  },
  {
   "cell_type": "markdown",
   "metadata": {},
   "source": [
    "The following are equivalent."
   ]
  },
  {
   "cell_type": "code",
   "execution_count": 25,
   "metadata": {},
   "outputs": [
    {
     "data": {
      "text/plain": [
       "<function __main__.<lambda>(number)>"
      ]
     },
     "execution_count": 25,
     "metadata": {},
     "output_type": "execute_result"
    }
   ],
   "source": [
    "def double(number):\n",
    "    return number * 2\n",
    "\n",
    "lambda number: number * 2"
   ]
  },
  {
   "cell_type": "markdown",
   "metadata": {},
   "source": [
    "You can see above that a lambda leaves out the **def** and **return** keywords. It doesn't have a name so all we have to write is the name of the parameter and what we'd like to return. We use the keyword **lambda** to tell the interpreter this is a lambda function. By convention, people tend to use **x** as the parameter name when writing a lambda. Putting it altogether we have"
   ]
  },
  {
   "cell_type": "code",
   "execution_count": 26,
   "metadata": {},
   "outputs": [
    {
     "data": {
      "text/plain": [
       "[2, 4, 6, 8, 10, 12, 14, 16, 18, 20]"
      ]
     },
     "execution_count": 26,
     "metadata": {},
     "output_type": "execute_result"
    }
   ],
   "source": [
    "numbers = [1, 2, 3, 4, 5, 6, 7, 8, 9, 10]\n",
    "\n",
    "doubles = map(lambda x: x * 2, numbers)\n",
    "\n",
    "# We need to convert the output of map() back to a list to print it\n",
    "list(doubles)"
   ]
  },
  {
   "cell_type": "markdown",
   "metadata": {},
   "source": [
    "## 4. IF Statements and Loops <a class=\"anchor\" id=\"fourth-bullet\"></a>"
   ]
  },
  {
   "cell_type": "markdown",
   "metadata": {},
   "source": [
    "[TOP ↑](#top)"
   ]
  },
  {
   "cell_type": "markdown",
   "metadata": {},
   "source": [
    "As with most programming languages, Python supports the use of conditional ```if``` statements utilising the comparison operators and logical conditioning, as well as the ubiquitous ```for``` and ```while``` loops."
   ]
  },
  {
   "cell_type": "markdown",
   "metadata": {},
   "source": [
    "### IF Statements <a class=\"anchor\" id=\"ifs-bullet\"></a>"
   ]
  },
  {
   "cell_type": "markdown",
   "metadata": {},
   "source": [
    "[TOP ↑](#top)"
   ]
  },
  {
   "cell_type": "markdown",
   "metadata": {},
   "source": [
    "In Python, an ```if``` statement has the following syntax: \n",
    "\n",
    "```python\n",
    "if condition:\n",
    "    do something\n",
    "```\n",
    "\n",
    "We can also choose to use ```elif``` (else if) and ```else``` key words to include other conditions. "
   ]
  },
  {
   "cell_type": "markdown",
   "metadata": {},
   "source": [
    "### FOR Loops <a class=\"anchor\" id=\"fors-bullet\"></a>"
   ]
  },
  {
   "cell_type": "markdown",
   "metadata": {},
   "source": [
    "[TOP ↑](#top)"
   ]
  },
  {
   "cell_type": "markdown",
   "metadata": {},
   "source": [
    "In Python, a ```for``` loop is used for iterating over compound data structures (covered in the next section), either a list, a tuple, a dictionary, a set, or a string, and has the following syntax: \n",
    "\n",
    "```python\n",
    "for variable_name in list:\n",
    "    do something\n",
    "```\n",
    "\n",
    "We can choose any variable name we like in a for loop, though it's best to make it descriptive."
   ]
  },
  {
   "cell_type": "markdown",
   "metadata": {},
   "source": [
    "### WHILE Loops <a class=\"anchor\" id=\"whiles-bullet\"></a>"
   ]
  },
  {
   "cell_type": "markdown",
   "metadata": {},
   "source": [
    "[TOP ↑](#top)"
   ]
  },
  {
   "cell_type": "markdown",
   "metadata": {},
   "source": [
    "In Python, a ```while``` loop can execute a set of statements as long as some condition holds true, and has the following syntax: \n",
    "\n",
    "```python\n",
    "while condition:\n",
    "    do something\n",
    "```\n",
    "\n",
    "We can also use the key word ```break``` to break out from a loop even while the condition remains true, ```continue``` to interrupt the current iteration and move to the next one, and ```else``` to run a block of code once the condition is no longer true."
   ]
  },
  {
   "cell_type": "markdown",
   "metadata": {},
   "source": [
    "## 5. Data Structures <a class=\"anchor\" id=\"fifth-bullet\"></a>"
   ]
  },
  {
   "cell_type": "markdown",
   "metadata": {},
   "source": [
    "[TOP ↑](#top)"
   ]
  },
  {
   "cell_type": "markdown",
   "metadata": {},
   "source": [
    "We've so far mostly been working with fundamental, primitive data types: *int*, *float*, *str*, and *bool*. However, most real-world problems are easier to solve when these simple data types are combined into more complex data structures.\n",
    "\n",
    "A data structure is a collection of data, such as a list of numbers or a record in a database. Python has four built-in data structures: **tuples**, **lists**, **dictionaries**, and **sets**. Each has its own characteristics and features."
   ]
  },
  {
   "cell_type": "markdown",
   "metadata": {},
   "source": [
    "### Tuples <a class=\"anchor\" id=\"tuples-bullet\"></a>"
   ]
  },
  {
   "cell_type": "markdown",
   "metadata": {},
   "source": [
    "[TOP ↑](#top)"
   ]
  },
  {
   "cell_type": "markdown",
   "metadata": {},
   "source": [
    "A tuple is used to store multiple items in a single variable. It's a collection which is ordered, indexed, and which permits duplicate values. However, tuples are immutable. These objects cannot be changed or altered, and are often useful for containing data which must be retained in its original form. A tuple is written with parentheses, or round brackets: **( )**."
   ]
  },
  {
   "cell_type": "code",
   "execution_count": 27,
   "metadata": {},
   "outputs": [],
   "source": [
    "my_tuple = (\"red\", \"green\", \"blue\")"
   ]
  },
  {
   "cell_type": "markdown",
   "metadata": {},
   "source": [
    "You can also use the *tuple()* constructor:"
   ]
  },
  {
   "cell_type": "code",
   "execution_count": 28,
   "metadata": {},
   "outputs": [],
   "source": [
    "new_tuple = tuple((\"red\", \"green\", \"blue\"))"
   ]
  },
  {
   "cell_type": "markdown",
   "metadata": {},
   "source": [
    "### Lists <a class=\"anchor\" id=\"lists-bullet\"></a>"
   ]
  },
  {
   "cell_type": "markdown",
   "metadata": {},
   "source": [
    "[TOP ↑](#top)"
   ]
  },
  {
   "cell_type": "markdown",
   "metadata": {},
   "source": [
    "A list is also used to store multiple items in a single variable. It's a collection which is also ordered, indexed, and which permits duplicate values. However, unlike tuples, lists are very much mutable. A list is written with square brackets: **[ ]**. Each item in the list has an **index**, or position within that list. In Python, we start counting from 0 rather than 1. As a result, python lists are **zero-indexed**."
   ]
  },
  {
   "cell_type": "code",
   "execution_count": 29,
   "metadata": {},
   "outputs": [],
   "source": [
    "my_list = [\"red\", \"green\", \"blue\", \"black\"]"
   ]
  },
  {
   "cell_type": "markdown",
   "metadata": {},
   "source": [
    "#### Indexing"
   ]
  },
  {
   "cell_type": "markdown",
   "metadata": {},
   "source": [
    "Items can be accessed using square bracket notation. Python also allows us to count backwards from the end of the list if we prefer. An index of -1 gives us the last item, -2 gives us the second last item."
   ]
  },
  {
   "cell_type": "code",
   "execution_count": 30,
   "metadata": {},
   "outputs": [
    {
     "name": "stdout",
     "output_type": "stream",
     "text": [
      "The first colour is: red\n",
      "The second colour is: green\n",
      "The third colour is: blue\n",
      "The final colour is: black\n"
     ]
    }
   ],
   "source": [
    "print(f\"The first colour is: {my_list[0]}\")\n",
    "print(f\"The second colour is: {my_list[1]}\")\n",
    "print(f\"The third colour is: {my_list[2]}\")\n",
    "print(f\"The final colour is: {my_list[-1]}\")"
   ]
  },
  {
   "cell_type": "markdown",
   "metadata": {},
   "source": [
    "#### Slicing"
   ]
  },
  {
   "cell_type": "markdown",
   "metadata": {},
   "source": [
    "If we want to access multiple items we can use slicing: my_list[a:b] gives us every item from index a (inclusive) to index b (exclusive)."
   ]
  },
  {
   "cell_type": "code",
   "execution_count": 31,
   "metadata": {},
   "outputs": [
    {
     "name": "stdout",
     "output_type": "stream",
     "text": [
      "We can get the second and third items using [1:3]\n",
      "['green', 'blue']\n"
     ]
    }
   ],
   "source": [
    "print(\"We can get the second and third items using [1:3]\")\n",
    "print(my_list[1:3]) # Gives us items 1 and 2"
   ]
  },
  {
   "cell_type": "markdown",
   "metadata": {},
   "source": [
    "We can get everything up to a specified index by leaving the left-hand-side of the colon blank."
   ]
  },
  {
   "cell_type": "code",
   "execution_count": 32,
   "metadata": {},
   "outputs": [
    {
     "name": "stdout",
     "output_type": "stream",
     "text": [
      "We can get the first three items using [:3]\n",
      "['red', 'green', 'blue']\n"
     ]
    }
   ],
   "source": [
    "print(\"We can get the first three items using [:3]\")\n",
    "print(my_list[:3])"
   ]
  },
  {
   "cell_type": "code",
   "execution_count": 33,
   "metadata": {},
   "outputs": [
    {
     "name": "stdout",
     "output_type": "stream",
     "text": [
      "We can get the first two items using [:-2]\n",
      "['red', 'green']\n"
     ]
    }
   ],
   "source": [
    "print(\"We can get the first two items using [:-2]\")\n",
    "print(my_list[:-2])"
   ]
  },
  {
   "cell_type": "markdown",
   "metadata": {},
   "source": [
    "We can get everything starting from some index to the end by leaving the right-hand-side of the colon blank."
   ]
  },
  {
   "cell_type": "code",
   "execution_count": 34,
   "metadata": {},
   "outputs": [
    {
     "name": "stdout",
     "output_type": "stream",
     "text": [
      "We can get the final two items using [-2:]\n",
      "['blue', 'black']\n"
     ]
    }
   ],
   "source": [
    "print(\"We can get the final two items using [-2:]\")\n",
    "print(my_list[-2:])"
   ]
  },
  {
   "cell_type": "markdown",
   "metadata": {},
   "source": [
    "We can get all items as follows:"
   ]
  },
  {
   "cell_type": "code",
   "execution_count": 35,
   "metadata": {},
   "outputs": [
    {
     "name": "stdout",
     "output_type": "stream",
     "text": [
      "We can get all items using [:]\n",
      "['red', 'green', 'blue', 'black']\n"
     ]
    }
   ],
   "source": [
    "print(\"We can get all items using [:]\")\n",
    "print(my_list[:])"
   ]
  },
  {
   "cell_type": "markdown",
   "metadata": {},
   "source": [
    "#### Dynamic Lists"
   ]
  },
  {
   "cell_type": "markdown",
   "metadata": {},
   "source": [
    "We can create a list using a list *literal*, the square bracket notation. The problem with this method is that we need to know every value at the time we create the list. If we want to create a list *dynamically* we can use the list append() method."
   ]
  },
  {
   "cell_type": "code",
   "execution_count": 36,
   "metadata": {},
   "outputs": [
    {
     "name": "stdout",
     "output_type": "stream",
     "text": [
      "[2, 4, 6, 8, 10, 12, 14, 16, 18, 20]\n"
     ]
    }
   ],
   "source": [
    "numbers = range(1, 21) # This is exclusive: [1, 2, 3,...,19,20]\n",
    "evens = [] # Create an empty list\n",
    "\n",
    "for number in numbers:\n",
    "    if number % 2 == 0:\n",
    "        evens.append(number)\n",
    "        \n",
    "print(evens)"
   ]
  },
  {
   "cell_type": "markdown",
   "metadata": {},
   "source": [
    "The append() method inserts an item at the end of the list. Alternatively, you may want to insert an item into a specific position. The insert() method allows you to specify where you want to insert the item. The syntax is:\n",
    "\n",
    "```python\n",
    "my_list.insert(index, item)\n",
    "````\n",
    "\n",
    "The code above inserts *item* into list *my_list* at position *index*."
   ]
  },
  {
   "cell_type": "markdown",
   "metadata": {},
   "source": [
    "Finally, items can be removed using the remove() method. It looks through the list and deletes the first occurrence of that value.\n",
    "\n",
    "```python\n",
    "my_list.remove(item)\n",
    "````"
   ]
  },
  {
   "cell_type": "markdown",
   "metadata": {},
   "source": [
    "#### List Comprehensions"
   ]
  },
  {
   "cell_type": "markdown",
   "metadata": {},
   "source": [
    "A list comprehension is a short-hand way of defining lists, which is quite similar to a loop. It allows for the construction of a new list based on lists that already exist. The inspiration comes from mathematical set comprehension notation (or set-builder notation), where the set is defined, for example, as {x ∈ ℝ | x > 3}. This is the set of all real numbers x such that x is greater than zero. In Python, we can build a new list in the following way:"
   ]
  },
  {
   "cell_type": "markdown",
   "metadata": {},
   "source": [
    "```python\n",
    "new_set = [f(x) for x in old_set]\n",
    "```"
   ]
  },
  {
   "cell_type": "markdown",
   "metadata": {},
   "source": [
    "We can also include conditions, such as if statments inside the comprehension. Let's take a concrete example:"
   ]
  },
  {
   "cell_type": "code",
   "execution_count": 37,
   "metadata": {},
   "outputs": [
    {
     "name": "stdout",
     "output_type": "stream",
     "text": [
      "[2, 4, 6]\n"
     ]
    }
   ],
   "source": [
    "odds = [1, 3, 5]\n",
    "evens = [x + 1 for x in odds]\n",
    "print(evens)"
   ]
  },
  {
   "cell_type": "code",
   "execution_count": 38,
   "metadata": {},
   "outputs": [
    {
     "name": "stdout",
     "output_type": "stream",
     "text": [
      "[62, 12, 18, 46, 108, 22, 2]\n"
     ]
    }
   ],
   "source": [
    "randoms = [31, 6, 9, 23, 54, 11, 1]\n",
    "doubled_randoms = [x*2 for x in randoms]\n",
    "print(doubled_randoms)"
   ]
  },
  {
   "cell_type": "code",
   "execution_count": 39,
   "metadata": {},
   "outputs": [
    {
     "data": {
      "text/plain": [
       "[62, 12, 18, 46, 108, 22, 2]"
      ]
     },
     "execution_count": 39,
     "metadata": {},
     "output_type": "execute_result"
    }
   ],
   "source": [
    "# The same thing can be accomplished using a lambda\n",
    "\n",
    "doubled_randoms_lambda = map(lambda x: x*2, randoms)\n",
    "\n",
    "# We need to convert the output of map() back to a list to print it\n",
    "list(doubled_randoms_lambda)"
   ]
  },
  {
   "cell_type": "markdown",
   "metadata": {},
   "source": [
    "#### Sorting"
   ]
  },
  {
   "cell_type": "markdown",
   "metadata": {},
   "source": [
    "We can use the sort() method to sort a list. In the example below we are using the random module to generate a list of random numbers, which we then sort."
   ]
  },
  {
   "cell_type": "code",
   "execution_count": 40,
   "metadata": {},
   "outputs": [
    {
     "name": "stdout",
     "output_type": "stream",
     "text": [
      "List of random numbers:\n",
      "[4, 19, 27, 1, 14, 13, 2, 17, 5, 21]\n",
      "Sorted random numbers:\n",
      "[1, 2, 4, 5, 13, 14, 17, 19, 21, 27]\n"
     ]
    }
   ],
   "source": [
    "import random\n",
    "\n",
    "random.randint(0, 30) # This returns a random number between 0 and 30 (inclusive)\n",
    "\n",
    "random_numbers = [random.randint(0, 30) for x in range(0, 10)] # Generates a list of 10 random numbers between 0 and 30\n",
    "\n",
    "print(\"List of random numbers:\")\n",
    "print(random_numbers)\n",
    "\n",
    "print(\"Sorted random numbers:\")\n",
    "random_numbers.sort()\n",
    "print(random_numbers)"
   ]
  },
  {
   "cell_type": "markdown",
   "metadata": {},
   "source": [
    "### Dictionaries <a class=\"anchor\" id=\"dicts-bullet\"></a>"
   ]
  },
  {
   "cell_type": "markdown",
   "metadata": {},
   "source": [
    "[TOP ↑](#top)"
   ]
  },
  {
   "cell_type": "markdown",
   "metadata": {},
   "source": [
    "In Python, a dictionary contains a look-up **key** and a corresponding **value**. It's a collection which is ordered and mutable. It does not permit duplicate items. A dictionary is written with curly brackets: **{ }**. The keys are strings, but the values can take any data type."
   ]
  },
  {
   "cell_type": "markdown",
   "metadata": {},
   "source": [
    "The syntax is:\n",
    "\n",
    "```python\n",
    "{key1: value1, key2: value2, key3: value3}\n",
    "```"
   ]
  },
  {
   "cell_type": "code",
   "execution_count": 41,
   "metadata": {},
   "outputs": [
    {
     "name": "stdout",
     "output_type": "stream",
     "text": [
      "People's first and second names: {'Simon': 'Hall', 'Brad': 'Pitt', 'Tom': 'Hardy'}\n"
     ]
    }
   ],
   "source": [
    "my_dictionary = {\"Simon\": \"Hall\", \"Brad\": \"Pitt\", \"Tom\": \"Hardy\"}\n",
    "print(f\"People's first and second names: {my_dictionary}\")"
   ]
  },
  {
   "cell_type": "markdown",
   "metadata": {},
   "source": [
    "Alternatively, we can use dict()."
   ]
  },
  {
   "cell_type": "code",
   "execution_count": 42,
   "metadata": {},
   "outputs": [
    {
     "name": "stdout",
     "output_type": "stream",
     "text": [
      "People's first and second names: {'Simon': 'Hall', 'Brad': 'Pitt', 'Tom': 'Hardy'}\n"
     ]
    }
   ],
   "source": [
    "surnames = dict()\n",
    "surnames[\"Simon\"] = \"Hall\"\n",
    "surnames[\"Brad\"] = \"Pitt\"\n",
    "surnames[\"Tom\"] = \"Hardy\"\n",
    "print(f\"People's first and second names: {surnames}\")"
   ]
  },
  {
   "cell_type": "markdown",
   "metadata": {},
   "source": [
    "#### Retrieving Values"
   ]
  },
  {
   "cell_type": "markdown",
   "metadata": {},
   "source": [
    "We can retrieve items from a dictionary just like we would from a list, using square brackets and passing in the key."
   ]
  },
  {
   "cell_type": "code",
   "execution_count": 43,
   "metadata": {},
   "outputs": [
    {
     "name": "stdout",
     "output_type": "stream",
     "text": [
      "Pitt\n"
     ]
    }
   ],
   "source": [
    "print(surnames[\"Brad\"])"
   ]
  },
  {
   "cell_type": "markdown",
   "metadata": {},
   "source": [
    "#### Adding Items"
   ]
  },
  {
   "cell_type": "markdown",
   "metadata": {},
   "source": [
    "Adding items to a dictionary is very similar to retrieving them. Again, we use square bracket notation."
   ]
  },
  {
   "cell_type": "code",
   "execution_count": 44,
   "metadata": {},
   "outputs": [
    {
     "name": "stdout",
     "output_type": "stream",
     "text": [
      "{'Simon': 'Hall', 'Brad': 'Pitt', 'Tom': 'Hardy', 'Matt': 'Damon'}\n"
     ]
    }
   ],
   "source": [
    "surnames[\"Matt\"] = \"Damon\"\n",
    "print(surnames)"
   ]
  },
  {
   "cell_type": "markdown",
   "metadata": {},
   "source": [
    "#### Deleting Items"
   ]
  },
  {
   "cell_type": "markdown",
   "metadata": {},
   "source": [
    "We can use the key word, **del**."
   ]
  },
  {
   "cell_type": "code",
   "execution_count": 45,
   "metadata": {},
   "outputs": [
    {
     "name": "stdout",
     "output_type": "stream",
     "text": [
      "{'Simon': 'Hall', 'Tom': 'Hardy', 'Matt': 'Damon'}\n"
     ]
    }
   ],
   "source": [
    "del surnames[\"Brad\"]\n",
    "print(surnames)"
   ]
  },
  {
   "cell_type": "markdown",
   "metadata": {},
   "source": [
    "#### Keys & Values"
   ]
  },
  {
   "cell_type": "markdown",
   "metadata": {},
   "source": [
    "If we want to extract the keys and values from a dictionary we can use .keys() and .values(). We can also use .items() to get both."
   ]
  },
  {
   "cell_type": "code",
   "execution_count": 46,
   "metadata": {},
   "outputs": [
    {
     "name": "stdout",
     "output_type": "stream",
     "text": [
      "Simon\n",
      "Tom\n",
      "Matt\n"
     ]
    }
   ],
   "source": [
    "all_keys = surnames.keys()\n",
    "for key in all_keys:\n",
    "    print(key)"
   ]
  },
  {
   "cell_type": "code",
   "execution_count": 47,
   "metadata": {},
   "outputs": [
    {
     "name": "stdout",
     "output_type": "stream",
     "text": [
      "Hall\n",
      "Hardy\n",
      "Damon\n"
     ]
    }
   ],
   "source": [
    "all_values = surnames.values()\n",
    "for value in all_values:\n",
    "    print(value)"
   ]
  },
  {
   "cell_type": "code",
   "execution_count": 48,
   "metadata": {},
   "outputs": [
    {
     "name": "stdout",
     "output_type": "stream",
     "text": [
      "Simon, Hall\n",
      "Tom, Hardy\n",
      "Matt, Damon\n"
     ]
    }
   ],
   "source": [
    "all_items = surnames.items()\n",
    "for key, value in all_items:\n",
    "    print(f\"{key}, {value}\")"
   ]
  },
  {
   "cell_type": "markdown",
   "metadata": {},
   "source": [
    "We can also use the .get() method. The syntax is:\n",
    "\n",
    "```python\n",
    "dictionary.get(keyname, value)\n",
    "```"
   ]
  },
  {
   "cell_type": "markdown",
   "metadata": {},
   "source": [
    "### Sets <a class=\"anchor\" id=\"sets-bullet\"></a>"
   ]
  },
  {
   "cell_type": "markdown",
   "metadata": {},
   "source": [
    "[TOP ↑](#top)"
   ]
  },
  {
   "cell_type": "markdown",
   "metadata": {},
   "source": [
    "A set is a collection which is unordered and unindexed. The set items are immutable, but items can be added or removed. No duplicate items are permitted. A set is written with curly brackets, **{ }**, like a dictionary, but does not have keys."
   ]
  },
  {
   "cell_type": "code",
   "execution_count": 49,
   "metadata": {},
   "outputs": [
    {
     "name": "stdout",
     "output_type": "stream",
     "text": [
      "{'cherry', 'apple', 'banana'}\n"
     ]
    }
   ],
   "source": [
    "my_set = {\"apple\", \"banana\", \"cherry\"}\n",
    "print(my_set)"
   ]
  },
  {
   "cell_type": "markdown",
   "metadata": {},
   "source": [
    "We can also use the set() method."
   ]
  },
  {
   "cell_type": "code",
   "execution_count": 50,
   "metadata": {},
   "outputs": [
    {
     "name": "stdout",
     "output_type": "stream",
     "text": [
      "{'cherry', 'banana', 'apple'}\n"
     ]
    }
   ],
   "source": [
    "fruits = set([\"apple\", \"banana\", \"cherry\"])\n",
    "print(fruits)"
   ]
  },
  {
   "cell_type": "markdown",
   "metadata": {},
   "source": [
    "We can add() and remove(), etc. "
   ]
  },
  {
   "cell_type": "markdown",
   "metadata": {},
   "source": [
    "#### Searching"
   ]
  },
  {
   "cell_type": "markdown",
   "metadata": {},
   "source": [
    "We can use the key word **in**:"
   ]
  },
  {
   "cell_type": "code",
   "execution_count": 51,
   "metadata": {},
   "outputs": [
    {
     "name": "stdout",
     "output_type": "stream",
     "text": [
      "Does our set contain the fruit 'banana'? True\n"
     ]
    }
   ],
   "source": [
    "print(f\"Does our set contain the fruit 'banana'? {'banana' in fruits}\")"
   ]
  },
  {
   "cell_type": "markdown",
   "metadata": {},
   "source": [
    "#### Operations"
   ]
  },
  {
   "cell_type": "markdown",
   "metadata": {},
   "source": [
    "The set operations *.union()*, *.intersection()*, *.difference()*, and *.symmetric_difference()* can be used to find combinations of sets."
   ]
  },
  {
   "cell_type": "code",
   "execution_count": 52,
   "metadata": {},
   "outputs": [
    {
     "name": "stdout",
     "output_type": "stream",
     "text": [
      "Multiples of three: {3, 6, 9, 12, 15, 18, 21, 24, 27, 30}\n",
      "Multiples of five: {5, 10, 15, 20, 25, 30}\n",
      "Multiples of either 3 or 5: {3, 5, 6, 9, 10, 12, 15, 18, 20, 21, 24, 25, 27, 30}\n"
     ]
    }
   ],
   "source": [
    "threes = set(range(3, 31, 3))\n",
    "print(f\"Multiples of three: {threes}\")\n",
    "\n",
    "fives = set(range(5, 31, 5))\n",
    "print(f\"Multiples of five: {fives}\")\n",
    "\n",
    "print(f\"Multiples of either 3 or 5: {threes.union(fives)}\")"
   ]
  },
  {
   "cell_type": "markdown",
   "metadata": {},
   "source": [
    "## 6. NumPy and Pandas <a class=\"anchor\" id=\"sixth-bullet\"></a>"
   ]
  },
  {
   "cell_type": "markdown",
   "metadata": {},
   "source": [
    "[TOP ↑](#top)"
   ]
  },
  {
   "cell_type": "markdown",
   "metadata": {},
   "source": [
    "Python lists are very versatile, and list items can be anything from floats to strings and even lists themselves.  The NumPy package gives us efficient R-style vectors, called arrays, containing elements of the same type which are optimised for batch processing. NumPy is very useful for data processing in general. NumPy vectors are used as columns in the Pandas package to generate dataframes, similar to R. A Pandas dataframe consists of a collection of columns, where each column is a NumPy vector containing values."
   ]
  },
  {
   "cell_type": "markdown",
   "metadata": {},
   "source": [
    "### NumPy <a class=\"anchor\" id=\"numpy-bullet\"></a>"
   ]
  },
  {
   "cell_type": "markdown",
   "metadata": {},
   "source": [
    "[TOP ↑](#top)"
   ]
  },
  {
   "cell_type": "markdown",
   "metadata": {},
   "source": [
    "A NumPy array is similar to a list. However, there are a some key differences. Arrays have items all of the same type, and they add and multiply element-wise, exactly like vectors but unlike lists."
   ]
  },
  {
   "cell_type": "code",
   "execution_count": 53,
   "metadata": {},
   "outputs": [
    {
     "name": "stdout",
     "output_type": "stream",
     "text": [
      "List Addition:[1, 2, 3, 4, 5, 6]\n",
      "Array Addition:[5 7 9]\n",
      "Array Multiplication:[ 4 10 18]\n"
     ]
    }
   ],
   "source": [
    "import numpy as np\n",
    "\n",
    "l1 = [1,2,3]\n",
    "l2 = [4,5,6]\n",
    "\n",
    "a1 = np.array(l1)\n",
    "a2 = np.array(l2)\n",
    "\n",
    "print(\"List Addition:\" + str(l1+l2))\n",
    "print(\"Array Addition:\" + str(a1+a2))\n",
    "print(\"Array Multiplication:\" + str(a1*a2))"
   ]
  },
  {
   "cell_type": "markdown",
   "metadata": {},
   "source": [
    "**Generating Sequences**"
   ]
  },
  {
   "cell_type": "code",
   "execution_count": 54,
   "metadata": {},
   "outputs": [
    {
     "name": "stdout",
     "output_type": "stream",
     "text": [
      "[ 10.  20.  30.  40.  50.  60.  70.  80.  90. 100.]\n"
     ]
    }
   ],
   "source": [
    "# The linspace() function is inclusive, and produces floats\n",
    "gen = np.linspace(10,100,10)\n",
    "print(gen)"
   ]
  },
  {
   "cell_type": "code",
   "execution_count": 55,
   "metadata": {},
   "outputs": [
    {
     "name": "stdout",
     "output_type": "stream",
     "text": [
      "[ 10  20  30  40  50  60  70  80  90 100]\n"
     ]
    }
   ],
   "source": [
    "# The arange() function is exclusive, and produces ints\n",
    "gen2 = np.arange(10,110,10)\n",
    "print(gen2)"
   ]
  },
  {
   "cell_type": "code",
   "execution_count": 56,
   "metadata": {},
   "outputs": [
    {
     "data": {
      "text/plain": [
       "numpy.int64"
      ]
     },
     "execution_count": 56,
     "metadata": {},
     "output_type": "execute_result"
    }
   ],
   "source": [
    "type(gen2[0])"
   ]
  },
  {
   "cell_type": "markdown",
   "metadata": {},
   "source": [
    "**Array Shape**"
   ]
  },
  {
   "cell_type": "markdown",
   "metadata": {},
   "source": [
    "Arrays can be 1-dimensional lists with a single index. They can also be 2-dimensional arrays, commonly known as a matrix. Matrices consist of rows and columns, so require two indices to poinpoint a value, one for the row and one for the column, (r, c). Dataframes are similar to 2-D arrays, but not exactly the same. Matrices are arrays of pure numbers, for one thing, wherease dataframes can be of mixed data type. You can check a NumPy array's dimensionality using the shape property."
   ]
  },
  {
   "cell_type": "code",
   "execution_count": 57,
   "metadata": {},
   "outputs": [
    {
     "name": "stdout",
     "output_type": "stream",
     "text": [
      "a3 has shape (9,)\n",
      "a4 has shape (3, 3)\n",
      "2D Array: [[1, 2, 3], [4, 5, 6], [7, 8, 9]]\n",
      "Element at (0,0) is 1\n",
      "Element at (1,1) is 5\n",
      "Element at (2,1) is 8\n"
     ]
    }
   ],
   "source": [
    "oneDValues = [1, 2, 3, 4, 5, 6, 7, 8, 9]\n",
    "twoDValues = [[1, 2, 3], [4, 5, 6], [7, 8, 9]]\n",
    "\n",
    "a3 = np.array(oneDValues)\n",
    "a4 = np.array(twoDValues)\n",
    "print(\"a3 has shape \" + str(a3.shape))\n",
    "print(\"a4 has shape \" + str(a4.shape))\n",
    "\n",
    "print(\"2D Array: \" + str(twoDValues))\n",
    "print(\"Element at (0,0) is \" + str(a4[0, 0]))\n",
    "print(\"Element at (1,1) is \" + str(a4[1, 1]))\n",
    "print(\"Element at (2,1) is \" + str(a4[2, 1]))"
   ]
  },
  {
   "cell_type": "markdown",
   "metadata": {},
   "source": [
    "NumPy arrays can be sliced using a similar syntax to regular list slicing. Remember that lists were sliced using [start_index:end_index]. We can also provide an additional step parameter to allow us to choose the step by which we increase the index [start_index:end_index:step]."
   ]
  },
  {
   "cell_type": "code",
   "execution_count": 58,
   "metadata": {},
   "outputs": [
    {
     "name": "stdout",
     "output_type": "stream",
     "text": [
      "[1, 3, 5, 7, 9]\n"
     ]
    }
   ],
   "source": [
    "# Take every second item from the oneDValues array\n",
    "print(oneDValues[0:9:2])"
   ]
  },
  {
   "cell_type": "code",
   "execution_count": 59,
   "metadata": {},
   "outputs": [
    {
     "name": "stdout",
     "output_type": "stream",
     "text": [
      "6\n",
      "[1 4 7]\n",
      "[3 6 9]\n"
     ]
    }
   ],
   "source": [
    "# second row, third column of a4\n",
    "print(a4[1,2])\n",
    "\n",
    "# all rows, first column of a4\n",
    "print(a4[0:3,0])\n",
    "\n",
    "# all rows, last column of a4\n",
    "print(a4[0:3,2])"
   ]
  },
  {
   "cell_type": "markdown",
   "metadata": {},
   "source": [
    "### Pandas <a class=\"anchor\" id=\"pandas-bullet\"></a>"
   ]
  },
  {
   "cell_type": "markdown",
   "metadata": {},
   "source": [
    "[TOP ↑](#top)"
   ]
  },
  {
   "cell_type": "markdown",
   "metadata": {},
   "source": [
    "Pandas, short for Panel Data, is a library in Python which allows for working with dataframes. It's quite similar to the R implementation of dataframes. Pandas represents a table as a dataframe where each column in a is a NumPy array and each row is implemented as a Pandas Series."
   ]
  },
  {
   "cell_type": "markdown",
   "metadata": {},
   "source": [
    "**Data Types**"
   ]
  },
  {
   "cell_type": "markdown",
   "metadata": {},
   "source": [
    "Pandas has several different data types, including integers (```int8```, ```int16```, ```int32```, ```int64```, all of which can be negative or positive, plus ```uint8```, ```uint16```, ```uint32```, and ```uint64``` which are \"unsigned\" and solely positive), floats (```float64```), bools (```bool```), date/time (```datetime64```), date/time differences (```timedelta```), finite categorical data (```category```), and object type (```object```) which is used to store strings and combinations of numeric and non-numeric data. Finally, in addition to ```None```, which is a primitive data type in Python, there is also ```NaN``` (Not-a-Number), which is used to indicate missing values in both NumPy and Pandas. ```NaN``` is an IEEE floating-point value which represents null values in numerical data. In NumPy and Pandas, an object's ```dtype``` specifies the data type and the size of the elements inside a NumPy array or a Pandas column. "
   ]
  },
  {
   "cell_type": "markdown",
   "metadata": {},
   "source": [
    "#### Pandas Series"
   ]
  },
  {
   "cell_type": "markdown",
   "metadata": {},
   "source": [
    "This is the primary data structure in Pandas. A Series is an array-like data structure where each element is assigned a unique label, known as an index, and where each element can be accessed either by name (its label) or by numbered index. \n",
    "\n",
    "In order to create a Series we need to supply both the series values and the labels. We can keep our labels and values in python lists and pass them as parameters to the series function, or we can use a python dictionary, which can be converted directly into a series."
   ]
  },
  {
   "cell_type": "code",
   "execution_count": 60,
   "metadata": {},
   "outputs": [
    {
     "name": "stdout",
     "output_type": "stream",
     "text": [
      "a    10\n",
      "b    20\n",
      "c    30\n",
      "dtype: int64\n"
     ]
    }
   ],
   "source": [
    "import pandas as pd\n",
    "\n",
    "labels = ['a','b','c']\n",
    "values = np.array([10,20,30])\n",
    "\n",
    "s1 = pd.Series(data=values, index=labels)\n",
    "print(s1)"
   ]
  },
  {
   "cell_type": "code",
   "execution_count": 61,
   "metadata": {},
   "outputs": [
    {
     "name": "stdout",
     "output_type": "stream",
     "text": [
      "a    10\n",
      "b    20\n",
      "c    30\n",
      "dtype: int64\n"
     ]
    }
   ],
   "source": [
    "rowDict = dict({'a': 10, 'b': 20, 'c': 30})\n",
    "s2 = pd.Series(rowDict)\n",
    "print(s2)"
   ]
  },
  {
   "cell_type": "markdown",
   "metadata": {},
   "source": [
    "#### Accessing Values"
   ]
  },
  {
   "cell_type": "markdown",
   "metadata": {},
   "source": [
    "We have three ways of accessing values in a series. \n",
    "\n",
    "1. Using the label name with dot notation (like the dollar ($) sign in R).\n",
    "2. Using the label names with square bracket notation.\n",
    "3. Using the label index with square bracket notation."
   ]
  },
  {
   "cell_type": "code",
   "execution_count": 62,
   "metadata": {},
   "outputs": [
    {
     "name": "stdout",
     "output_type": "stream",
     "text": [
      "The label 'a' has value: 10\n",
      "The label 'a' has value: 10\n",
      "The label 'a' has value: 10\n"
     ]
    }
   ],
   "source": [
    "#1 dot notation\n",
    "print(\"The label 'a' has value: \" + str(s1.a))\n",
    "\n",
    "#2 square bracket name notation\n",
    "print(\"The label 'a' has value: \" + str(s1['a']))\n",
    "\n",
    "#3 square bracket column index\n",
    "print(\"The label 'a' has value: \" + str(s1[0]))"
   ]
  },
  {
   "cell_type": "markdown",
   "metadata": {},
   "source": [
    "#### DataFrames"
   ]
  },
  {
   "cell_type": "markdown",
   "metadata": {},
   "source": [
    "A Pandas DataFrame is a two-dimensional table-like data structure consisting of rows and columns, where each column can contain data of a different type (e.g., numeric, string, or boolean), and each row represents a unique observation or record. A DataFrame is made up of a collection of Pandas Series objects, where each Series represents a column of data in the DataFrame.\n",
    "\n",
    "The easiest way to create a a Pandas DataFrame is to use a list of python dictionaries. We've seen above that we can easily create a row (or Series from a python dictionary). The dictionary key is taken to represent the column name while the value represents the value for that row. By creating a list of dictionaries we can gather together our initial data for creating a dataframe."
   ]
  },
  {
   "cell_type": "code",
   "execution_count": 63,
   "metadata": {},
   "outputs": [
    {
     "data": {
      "text/html": [
       "<div>\n",
       "<style scoped>\n",
       "    .dataframe tbody tr th:only-of-type {\n",
       "        vertical-align: middle;\n",
       "    }\n",
       "\n",
       "    .dataframe tbody tr th {\n",
       "        vertical-align: top;\n",
       "    }\n",
       "\n",
       "    .dataframe thead th {\n",
       "        text-align: right;\n",
       "    }\n",
       "</style>\n",
       "<table border=\"1\" class=\"dataframe\">\n",
       "  <thead>\n",
       "    <tr style=\"text-align: right;\">\n",
       "      <th></th>\n",
       "      <th>name</th>\n",
       "      <th>breed</th>\n",
       "      <th>height</th>\n",
       "    </tr>\n",
       "  </thead>\n",
       "  <tbody>\n",
       "    <tr>\n",
       "      <th>0</th>\n",
       "      <td>Mutt</td>\n",
       "      <td>terrier</td>\n",
       "      <td>1.2</td>\n",
       "    </tr>\n",
       "    <tr>\n",
       "      <th>1</th>\n",
       "      <td>Bonnie</td>\n",
       "      <td>bichon</td>\n",
       "      <td>0.6</td>\n",
       "    </tr>\n",
       "  </tbody>\n",
       "</table>\n",
       "</div>"
      ],
      "text/plain": [
       "     name    breed  height\n",
       "0    Mutt  terrier     1.2\n",
       "1  Bonnie   bichon     0.6"
      ]
     },
     "execution_count": 63,
     "metadata": {},
     "output_type": "execute_result"
    }
   ],
   "source": [
    "# Create a dictionary\n",
    "mutt = dict({\"name\": \"Mutt\", \"breed\": \"Terrier\", \"height\": 1.2})\n",
    "\n",
    "# Create another dictionary in an alternative manner\n",
    "bonnie = {}\n",
    "bonnie[\"name\"] = \"Bonnie\"\n",
    "bonnie[\"breed\"] = \"Bichon\"\n",
    "bonnie[\"height\"] = 0.6\n",
    "\n",
    "# Append these dictionaries to a list, and convert to DataFrame\n",
    "dogs = list()\n",
    "dogs.append(mutt)\n",
    "dogs.append(bonnie)\n",
    "pd.DataFrame(dogs)\n",
    "\n",
    "# We could shorten the above code to the following\n",
    "dogs = [{\"name\": \"Mutt\", \"breed\": \"terrier\", \"height\": 1.2}, {\"name\": \"Bonnie\", \"breed\": \"bichon\", \"height\": 0.6}]\n",
    "pd.DataFrame(dogs)"
   ]
  },
  {
   "cell_type": "markdown",
   "metadata": {},
   "source": [
    "We can also create a dataframe directly from a CSV file, using pd.read_csv()."
   ]
  },
  {
   "cell_type": "code",
   "execution_count": 64,
   "metadata": {},
   "outputs": [
    {
     "data": {
      "text/html": [
       "<div>\n",
       "<style scoped>\n",
       "    .dataframe tbody tr th:only-of-type {\n",
       "        vertical-align: middle;\n",
       "    }\n",
       "\n",
       "    .dataframe tbody tr th {\n",
       "        vertical-align: top;\n",
       "    }\n",
       "\n",
       "    .dataframe thead th {\n",
       "        text-align: right;\n",
       "    }\n",
       "</style>\n",
       "<table border=\"1\" class=\"dataframe\">\n",
       "  <thead>\n",
       "    <tr style=\"text-align: right;\">\n",
       "      <th></th>\n",
       "      <th>sepal.length</th>\n",
       "      <th>sepal.width</th>\n",
       "      <th>petal.length</th>\n",
       "      <th>petal.width</th>\n",
       "      <th>variety</th>\n",
       "    </tr>\n",
       "  </thead>\n",
       "  <tbody>\n",
       "    <tr>\n",
       "      <th>0</th>\n",
       "      <td>5.1</td>\n",
       "      <td>3.5</td>\n",
       "      <td>1.4</td>\n",
       "      <td>0.2</td>\n",
       "      <td>Setosa</td>\n",
       "    </tr>\n",
       "    <tr>\n",
       "      <th>1</th>\n",
       "      <td>4.9</td>\n",
       "      <td>3.0</td>\n",
       "      <td>1.4</td>\n",
       "      <td>0.2</td>\n",
       "      <td>Setosa</td>\n",
       "    </tr>\n",
       "    <tr>\n",
       "      <th>2</th>\n",
       "      <td>4.7</td>\n",
       "      <td>3.2</td>\n",
       "      <td>1.3</td>\n",
       "      <td>0.2</td>\n",
       "      <td>Setosa</td>\n",
       "    </tr>\n",
       "    <tr>\n",
       "      <th>3</th>\n",
       "      <td>4.6</td>\n",
       "      <td>3.1</td>\n",
       "      <td>1.5</td>\n",
       "      <td>0.2</td>\n",
       "      <td>Setosa</td>\n",
       "    </tr>\n",
       "    <tr>\n",
       "      <th>4</th>\n",
       "      <td>5.0</td>\n",
       "      <td>3.6</td>\n",
       "      <td>1.4</td>\n",
       "      <td>0.2</td>\n",
       "      <td>Setosa</td>\n",
       "    </tr>\n",
       "    <tr>\n",
       "      <th>...</th>\n",
       "      <td>...</td>\n",
       "      <td>...</td>\n",
       "      <td>...</td>\n",
       "      <td>...</td>\n",
       "      <td>...</td>\n",
       "    </tr>\n",
       "    <tr>\n",
       "      <th>145</th>\n",
       "      <td>6.7</td>\n",
       "      <td>3.0</td>\n",
       "      <td>5.2</td>\n",
       "      <td>2.3</td>\n",
       "      <td>Virginica</td>\n",
       "    </tr>\n",
       "    <tr>\n",
       "      <th>146</th>\n",
       "      <td>6.3</td>\n",
       "      <td>2.5</td>\n",
       "      <td>5.0</td>\n",
       "      <td>1.9</td>\n",
       "      <td>Virginica</td>\n",
       "    </tr>\n",
       "    <tr>\n",
       "      <th>147</th>\n",
       "      <td>6.5</td>\n",
       "      <td>3.0</td>\n",
       "      <td>5.2</td>\n",
       "      <td>2.0</td>\n",
       "      <td>Virginica</td>\n",
       "    </tr>\n",
       "    <tr>\n",
       "      <th>148</th>\n",
       "      <td>6.2</td>\n",
       "      <td>3.4</td>\n",
       "      <td>5.4</td>\n",
       "      <td>2.3</td>\n",
       "      <td>Virginica</td>\n",
       "    </tr>\n",
       "    <tr>\n",
       "      <th>149</th>\n",
       "      <td>5.9</td>\n",
       "      <td>3.0</td>\n",
       "      <td>5.1</td>\n",
       "      <td>1.8</td>\n",
       "      <td>Virginica</td>\n",
       "    </tr>\n",
       "  </tbody>\n",
       "</table>\n",
       "<p>150 rows × 5 columns</p>\n",
       "</div>"
      ],
      "text/plain": [
       "     sepal.length  sepal.width  petal.length  petal.width    variety\n",
       "0             5.1          3.5           1.4          0.2     Setosa\n",
       "1             4.9          3.0           1.4          0.2     Setosa\n",
       "2             4.7          3.2           1.3          0.2     Setosa\n",
       "3             4.6          3.1           1.5          0.2     Setosa\n",
       "4             5.0          3.6           1.4          0.2     Setosa\n",
       "..            ...          ...           ...          ...        ...\n",
       "145           6.7          3.0           5.2          2.3  Virginica\n",
       "146           6.3          2.5           5.0          1.9  Virginica\n",
       "147           6.5          3.0           5.2          2.0  Virginica\n",
       "148           6.2          3.4           5.4          2.3  Virginica\n",
       "149           5.9          3.0           5.1          1.8  Virginica\n",
       "\n",
       "[150 rows x 5 columns]"
      ]
     },
     "execution_count": 64,
     "metadata": {},
     "output_type": "execute_result"
    }
   ],
   "source": [
    "df = pd.read_csv(\"iris.csv\")\n",
    "df"
   ]
  },
  {
   "cell_type": "markdown",
   "metadata": {},
   "source": [
    "We can also copy a dataframe using copy(), df2 = df.copy()."
   ]
  },
  {
   "cell_type": "markdown",
   "metadata": {},
   "source": [
    "#### Exploration"
   ]
  },
  {
   "cell_type": "code",
   "execution_count": 65,
   "metadata": {},
   "outputs": [
    {
     "data": {
      "text/plain": [
       "(150, 5)"
      ]
     },
     "execution_count": 65,
     "metadata": {},
     "output_type": "execute_result"
    }
   ],
   "source": [
    "df.shape"
   ]
  },
  {
   "cell_type": "code",
   "execution_count": 66,
   "metadata": {},
   "outputs": [
    {
     "data": {
      "text/html": [
       "<div>\n",
       "<style scoped>\n",
       "    .dataframe tbody tr th:only-of-type {\n",
       "        vertical-align: middle;\n",
       "    }\n",
       "\n",
       "    .dataframe tbody tr th {\n",
       "        vertical-align: top;\n",
       "    }\n",
       "\n",
       "    .dataframe thead th {\n",
       "        text-align: right;\n",
       "    }\n",
       "</style>\n",
       "<table border=\"1\" class=\"dataframe\">\n",
       "  <thead>\n",
       "    <tr style=\"text-align: right;\">\n",
       "      <th></th>\n",
       "      <th>sepal.length</th>\n",
       "      <th>sepal.width</th>\n",
       "      <th>petal.length</th>\n",
       "      <th>petal.width</th>\n",
       "      <th>variety</th>\n",
       "    </tr>\n",
       "  </thead>\n",
       "  <tbody>\n",
       "    <tr>\n",
       "      <th>0</th>\n",
       "      <td>5.1</td>\n",
       "      <td>3.5</td>\n",
       "      <td>1.4</td>\n",
       "      <td>0.2</td>\n",
       "      <td>Setosa</td>\n",
       "    </tr>\n",
       "    <tr>\n",
       "      <th>1</th>\n",
       "      <td>4.9</td>\n",
       "      <td>3.0</td>\n",
       "      <td>1.4</td>\n",
       "      <td>0.2</td>\n",
       "      <td>Setosa</td>\n",
       "    </tr>\n",
       "    <tr>\n",
       "      <th>2</th>\n",
       "      <td>4.7</td>\n",
       "      <td>3.2</td>\n",
       "      <td>1.3</td>\n",
       "      <td>0.2</td>\n",
       "      <td>Setosa</td>\n",
       "    </tr>\n",
       "    <tr>\n",
       "      <th>3</th>\n",
       "      <td>4.6</td>\n",
       "      <td>3.1</td>\n",
       "      <td>1.5</td>\n",
       "      <td>0.2</td>\n",
       "      <td>Setosa</td>\n",
       "    </tr>\n",
       "    <tr>\n",
       "      <th>4</th>\n",
       "      <td>5.0</td>\n",
       "      <td>3.6</td>\n",
       "      <td>1.4</td>\n",
       "      <td>0.2</td>\n",
       "      <td>Setosa</td>\n",
       "    </tr>\n",
       "  </tbody>\n",
       "</table>\n",
       "</div>"
      ],
      "text/plain": [
       "   sepal.length  sepal.width  petal.length  petal.width variety\n",
       "0           5.1          3.5           1.4          0.2  Setosa\n",
       "1           4.9          3.0           1.4          0.2  Setosa\n",
       "2           4.7          3.2           1.3          0.2  Setosa\n",
       "3           4.6          3.1           1.5          0.2  Setosa\n",
       "4           5.0          3.6           1.4          0.2  Setosa"
      ]
     },
     "execution_count": 66,
     "metadata": {},
     "output_type": "execute_result"
    }
   ],
   "source": [
    "df.head()"
   ]
  },
  {
   "cell_type": "code",
   "execution_count": 67,
   "metadata": {},
   "outputs": [
    {
     "data": {
      "text/html": [
       "<div>\n",
       "<style scoped>\n",
       "    .dataframe tbody tr th:only-of-type {\n",
       "        vertical-align: middle;\n",
       "    }\n",
       "\n",
       "    .dataframe tbody tr th {\n",
       "        vertical-align: top;\n",
       "    }\n",
       "\n",
       "    .dataframe thead th {\n",
       "        text-align: right;\n",
       "    }\n",
       "</style>\n",
       "<table border=\"1\" class=\"dataframe\">\n",
       "  <thead>\n",
       "    <tr style=\"text-align: right;\">\n",
       "      <th></th>\n",
       "      <th>sepal.length</th>\n",
       "      <th>sepal.width</th>\n",
       "      <th>petal.length</th>\n",
       "      <th>petal.width</th>\n",
       "      <th>variety</th>\n",
       "    </tr>\n",
       "  </thead>\n",
       "  <tbody>\n",
       "    <tr>\n",
       "      <th>145</th>\n",
       "      <td>6.7</td>\n",
       "      <td>3.0</td>\n",
       "      <td>5.2</td>\n",
       "      <td>2.3</td>\n",
       "      <td>Virginica</td>\n",
       "    </tr>\n",
       "    <tr>\n",
       "      <th>146</th>\n",
       "      <td>6.3</td>\n",
       "      <td>2.5</td>\n",
       "      <td>5.0</td>\n",
       "      <td>1.9</td>\n",
       "      <td>Virginica</td>\n",
       "    </tr>\n",
       "    <tr>\n",
       "      <th>147</th>\n",
       "      <td>6.5</td>\n",
       "      <td>3.0</td>\n",
       "      <td>5.2</td>\n",
       "      <td>2.0</td>\n",
       "      <td>Virginica</td>\n",
       "    </tr>\n",
       "    <tr>\n",
       "      <th>148</th>\n",
       "      <td>6.2</td>\n",
       "      <td>3.4</td>\n",
       "      <td>5.4</td>\n",
       "      <td>2.3</td>\n",
       "      <td>Virginica</td>\n",
       "    </tr>\n",
       "    <tr>\n",
       "      <th>149</th>\n",
       "      <td>5.9</td>\n",
       "      <td>3.0</td>\n",
       "      <td>5.1</td>\n",
       "      <td>1.8</td>\n",
       "      <td>Virginica</td>\n",
       "    </tr>\n",
       "  </tbody>\n",
       "</table>\n",
       "</div>"
      ],
      "text/plain": [
       "     sepal.length  sepal.width  petal.length  petal.width    variety\n",
       "145           6.7          3.0           5.2          2.3  Virginica\n",
       "146           6.3          2.5           5.0          1.9  Virginica\n",
       "147           6.5          3.0           5.2          2.0  Virginica\n",
       "148           6.2          3.4           5.4          2.3  Virginica\n",
       "149           5.9          3.0           5.1          1.8  Virginica"
      ]
     },
     "execution_count": 67,
     "metadata": {},
     "output_type": "execute_result"
    }
   ],
   "source": [
    "df.tail()"
   ]
  },
  {
   "cell_type": "markdown",
   "metadata": {},
   "source": [
    "#### Accessing Values"
   ]
  },
  {
   "cell_type": "code",
   "execution_count": 68,
   "metadata": {},
   "outputs": [
    {
     "data": {
      "text/plain": [
       "0         Setosa\n",
       "1         Setosa\n",
       "2         Setosa\n",
       "3         Setosa\n",
       "4         Setosa\n",
       "         ...    \n",
       "145    Virginica\n",
       "146    Virginica\n",
       "147    Virginica\n",
       "148    Virginica\n",
       "149    Virginica\n",
       "Name: variety, Length: 150, dtype: object"
      ]
     },
     "execution_count": 68,
     "metadata": {},
     "output_type": "execute_result"
    }
   ],
   "source": [
    "df.variety"
   ]
  },
  {
   "cell_type": "code",
   "execution_count": 69,
   "metadata": {},
   "outputs": [
    {
     "data": {
      "text/plain": [
       "0         Setosa\n",
       "1         Setosa\n",
       "2         Setosa\n",
       "3         Setosa\n",
       "4         Setosa\n",
       "         ...    \n",
       "145    Virginica\n",
       "146    Virginica\n",
       "147    Virginica\n",
       "148    Virginica\n",
       "149    Virginica\n",
       "Name: variety, Length: 150, dtype: object"
      ]
     },
     "execution_count": 69,
     "metadata": {},
     "output_type": "execute_result"
    }
   ],
   "source": [
    "df[\"variety\"]"
   ]
  },
  {
   "cell_type": "code",
   "execution_count": 70,
   "metadata": {},
   "outputs": [
    {
     "data": {
      "text/html": [
       "<div>\n",
       "<style scoped>\n",
       "    .dataframe tbody tr th:only-of-type {\n",
       "        vertical-align: middle;\n",
       "    }\n",
       "\n",
       "    .dataframe tbody tr th {\n",
       "        vertical-align: top;\n",
       "    }\n",
       "\n",
       "    .dataframe thead th {\n",
       "        text-align: right;\n",
       "    }\n",
       "</style>\n",
       "<table border=\"1\" class=\"dataframe\">\n",
       "  <thead>\n",
       "    <tr style=\"text-align: right;\">\n",
       "      <th></th>\n",
       "      <th>variety</th>\n",
       "      <th>sepal.length</th>\n",
       "    </tr>\n",
       "  </thead>\n",
       "  <tbody>\n",
       "    <tr>\n",
       "      <th>0</th>\n",
       "      <td>Setosa</td>\n",
       "      <td>5.1</td>\n",
       "    </tr>\n",
       "    <tr>\n",
       "      <th>1</th>\n",
       "      <td>Setosa</td>\n",
       "      <td>4.9</td>\n",
       "    </tr>\n",
       "    <tr>\n",
       "      <th>2</th>\n",
       "      <td>Setosa</td>\n",
       "      <td>4.7</td>\n",
       "    </tr>\n",
       "    <tr>\n",
       "      <th>3</th>\n",
       "      <td>Setosa</td>\n",
       "      <td>4.6</td>\n",
       "    </tr>\n",
       "    <tr>\n",
       "      <th>4</th>\n",
       "      <td>Setosa</td>\n",
       "      <td>5.0</td>\n",
       "    </tr>\n",
       "    <tr>\n",
       "      <th>...</th>\n",
       "      <td>...</td>\n",
       "      <td>...</td>\n",
       "    </tr>\n",
       "    <tr>\n",
       "      <th>145</th>\n",
       "      <td>Virginica</td>\n",
       "      <td>6.7</td>\n",
       "    </tr>\n",
       "    <tr>\n",
       "      <th>146</th>\n",
       "      <td>Virginica</td>\n",
       "      <td>6.3</td>\n",
       "    </tr>\n",
       "    <tr>\n",
       "      <th>147</th>\n",
       "      <td>Virginica</td>\n",
       "      <td>6.5</td>\n",
       "    </tr>\n",
       "    <tr>\n",
       "      <th>148</th>\n",
       "      <td>Virginica</td>\n",
       "      <td>6.2</td>\n",
       "    </tr>\n",
       "    <tr>\n",
       "      <th>149</th>\n",
       "      <td>Virginica</td>\n",
       "      <td>5.9</td>\n",
       "    </tr>\n",
       "  </tbody>\n",
       "</table>\n",
       "<p>150 rows × 2 columns</p>\n",
       "</div>"
      ],
      "text/plain": [
       "       variety  sepal.length\n",
       "0       Setosa           5.1\n",
       "1       Setosa           4.9\n",
       "2       Setosa           4.7\n",
       "3       Setosa           4.6\n",
       "4       Setosa           5.0\n",
       "..         ...           ...\n",
       "145  Virginica           6.7\n",
       "146  Virginica           6.3\n",
       "147  Virginica           6.5\n",
       "148  Virginica           6.2\n",
       "149  Virginica           5.9\n",
       "\n",
       "[150 rows x 2 columns]"
      ]
     },
     "execution_count": 70,
     "metadata": {},
     "output_type": "execute_result"
    }
   ],
   "source": [
    "df[[\"variety\", \"sepal.length\"]]"
   ]
  },
  {
   "cell_type": "markdown",
   "metadata": {},
   "source": [
    "#### Indexing and Slicing"
   ]
  },
  {
   "cell_type": "markdown",
   "metadata": {},
   "source": [
    "We can select rows from a pandas dataframe using the .loc and .iloc properties. The .loc method allows us to select rows and columns by name, whereas .iloc allows us to select rows and columns by index. Usually rows have a numeric index, although it is possible to give rows a named index. If the index is numeric (as is default) we can use row indexing with .loc."
   ]
  },
  {
   "cell_type": "code",
   "execution_count": 71,
   "metadata": {},
   "outputs": [
    {
     "data": {
      "text/html": [
       "<div>\n",
       "<style scoped>\n",
       "    .dataframe tbody tr th:only-of-type {\n",
       "        vertical-align: middle;\n",
       "    }\n",
       "\n",
       "    .dataframe tbody tr th {\n",
       "        vertical-align: top;\n",
       "    }\n",
       "\n",
       "    .dataframe thead th {\n",
       "        text-align: right;\n",
       "    }\n",
       "</style>\n",
       "<table border=\"1\" class=\"dataframe\">\n",
       "  <thead>\n",
       "    <tr style=\"text-align: right;\">\n",
       "      <th></th>\n",
       "      <th>variety</th>\n",
       "      <th>sepal.length</th>\n",
       "      <th>sepal.width</th>\n",
       "    </tr>\n",
       "  </thead>\n",
       "  <tbody>\n",
       "    <tr>\n",
       "      <th>0</th>\n",
       "      <td>Setosa</td>\n",
       "      <td>5.1</td>\n",
       "      <td>3.5</td>\n",
       "    </tr>\n",
       "    <tr>\n",
       "      <th>1</th>\n",
       "      <td>Setosa</td>\n",
       "      <td>4.9</td>\n",
       "      <td>3.0</td>\n",
       "    </tr>\n",
       "    <tr>\n",
       "      <th>2</th>\n",
       "      <td>Setosa</td>\n",
       "      <td>4.7</td>\n",
       "      <td>3.2</td>\n",
       "    </tr>\n",
       "    <tr>\n",
       "      <th>3</th>\n",
       "      <td>Setosa</td>\n",
       "      <td>4.6</td>\n",
       "      <td>3.1</td>\n",
       "    </tr>\n",
       "    <tr>\n",
       "      <th>4</th>\n",
       "      <td>Setosa</td>\n",
       "      <td>5.0</td>\n",
       "      <td>3.6</td>\n",
       "    </tr>\n",
       "  </tbody>\n",
       "</table>\n",
       "</div>"
      ],
      "text/plain": [
       "  variety  sepal.length  sepal.width\n",
       "0  Setosa           5.1          3.5\n",
       "1  Setosa           4.9          3.0\n",
       "2  Setosa           4.7          3.2\n",
       "3  Setosa           4.6          3.1\n",
       "4  Setosa           5.0          3.6"
      ]
     },
     "execution_count": 71,
     "metadata": {},
     "output_type": "execute_result"
    }
   ],
   "source": [
    "# Get the first five rows with .loc, selecting the columns we want by name\n",
    "# Note that .loc is inclusive\n",
    "df.loc[0:4, [\"variety\", \"sepal.length\", \"sepal.width\"]]"
   ]
  },
  {
   "cell_type": "code",
   "execution_count": 72,
   "metadata": {},
   "outputs": [
    {
     "data": {
      "text/html": [
       "<div>\n",
       "<style scoped>\n",
       "    .dataframe tbody tr th:only-of-type {\n",
       "        vertical-align: middle;\n",
       "    }\n",
       "\n",
       "    .dataframe tbody tr th {\n",
       "        vertical-align: top;\n",
       "    }\n",
       "\n",
       "    .dataframe thead th {\n",
       "        text-align: right;\n",
       "    }\n",
       "</style>\n",
       "<table border=\"1\" class=\"dataframe\">\n",
       "  <thead>\n",
       "    <tr style=\"text-align: right;\">\n",
       "      <th></th>\n",
       "      <th>variety</th>\n",
       "      <th>sepal.length</th>\n",
       "      <th>sepal.width</th>\n",
       "    </tr>\n",
       "  </thead>\n",
       "  <tbody>\n",
       "    <tr>\n",
       "      <th>0</th>\n",
       "      <td>Setosa</td>\n",
       "      <td>5.1</td>\n",
       "      <td>3.5</td>\n",
       "    </tr>\n",
       "    <tr>\n",
       "      <th>1</th>\n",
       "      <td>Setosa</td>\n",
       "      <td>4.9</td>\n",
       "      <td>3.0</td>\n",
       "    </tr>\n",
       "    <tr>\n",
       "      <th>2</th>\n",
       "      <td>Setosa</td>\n",
       "      <td>4.7</td>\n",
       "      <td>3.2</td>\n",
       "    </tr>\n",
       "    <tr>\n",
       "      <th>3</th>\n",
       "      <td>Setosa</td>\n",
       "      <td>4.6</td>\n",
       "      <td>3.1</td>\n",
       "    </tr>\n",
       "    <tr>\n",
       "      <th>4</th>\n",
       "      <td>Setosa</td>\n",
       "      <td>5.0</td>\n",
       "      <td>3.6</td>\n",
       "    </tr>\n",
       "  </tbody>\n",
       "</table>\n",
       "</div>"
      ],
      "text/plain": [
       "  variety  sepal.length  sepal.width\n",
       "0  Setosa           5.1          3.5\n",
       "1  Setosa           4.9          3.0\n",
       "2  Setosa           4.7          3.2\n",
       "3  Setosa           4.6          3.1\n",
       "4  Setosa           5.0          3.6"
      ]
     },
     "execution_count": 72,
     "metadata": {},
     "output_type": "execute_result"
    }
   ],
   "source": [
    "# Get the first five rows with .iloc, selecting the columns we want by index\n",
    "# Note that .iloc is exclusive\n",
    "df.iloc[0:5, [4,0,1]]"
   ]
  },
  {
   "cell_type": "markdown",
   "metadata": {},
   "source": [
    "We can also use Boolean logic to access information. This is known as logical indexing. It's much more common that we might want to select all rows meeting a certain condition (e.g. all rows where the label is True). The .loc function also lets us pass an array of True/False values, and will return only rows corresponding to True in the array."
   ]
  },
  {
   "cell_type": "code",
   "execution_count": 73,
   "metadata": {},
   "outputs": [
    {
     "name": "stdout",
     "output_type": "stream",
     "text": [
      "   StudentNo FirstName LastName\n",
      "0  d19122334      John    Smith\n",
      "2  c18155334      Enda    Smith\n"
     ]
    }
   ],
   "source": [
    "# Use logical indexing to select the first and third rows only\n",
    "students = pd.DataFrame([['d19122334', 'John', 'Smith'], ['d19155667', 'Jane', 'Doe'], ['c18155334', 'Enda', 'Smith']], columns=[\"StudentNo\", \"FirstName\", \"LastName\"])\n",
    "print(students.loc[[True, False, True]])"
   ]
  },
  {
   "cell_type": "markdown",
   "metadata": {},
   "source": [
    "We can use this to create complex queries to retrieve certain rows in our dataset."
   ]
  },
  {
   "cell_type": "code",
   "execution_count": 74,
   "metadata": {},
   "outputs": [
    {
     "name": "stdout",
     "output_type": "stream",
     "text": [
      "0     True\n",
      "1    False\n",
      "2     True\n",
      "Name: LastName, dtype: bool\n",
      "   StudentNo FirstName LastName\n",
      "0  d19122334      John    Smith\n",
      "2  c18155334      Enda    Smith\n"
     ]
    },
    {
     "data": {
      "text/html": [
       "<div>\n",
       "<style scoped>\n",
       "    .dataframe tbody tr th:only-of-type {\n",
       "        vertical-align: middle;\n",
       "    }\n",
       "\n",
       "    .dataframe tbody tr th {\n",
       "        vertical-align: top;\n",
       "    }\n",
       "\n",
       "    .dataframe thead th {\n",
       "        text-align: right;\n",
       "    }\n",
       "</style>\n",
       "<table border=\"1\" class=\"dataframe\">\n",
       "  <thead>\n",
       "    <tr style=\"text-align: right;\">\n",
       "      <th></th>\n",
       "      <th>StudentNo</th>\n",
       "      <th>FirstName</th>\n",
       "      <th>LastName</th>\n",
       "    </tr>\n",
       "  </thead>\n",
       "  <tbody>\n",
       "    <tr>\n",
       "      <th>0</th>\n",
       "      <td>d19122334</td>\n",
       "      <td>John</td>\n",
       "      <td>Smith</td>\n",
       "    </tr>\n",
       "    <tr>\n",
       "      <th>2</th>\n",
       "      <td>c18155334</td>\n",
       "      <td>Enda</td>\n",
       "      <td>Smith</td>\n",
       "    </tr>\n",
       "  </tbody>\n",
       "</table>\n",
       "</div>"
      ],
      "text/plain": [
       "   StudentNo FirstName LastName\n",
       "0  d19122334      John    Smith\n",
       "2  c18155334      Enda    Smith"
      ]
     },
     "execution_count": 74,
     "metadata": {},
     "output_type": "execute_result"
    }
   ],
   "source": [
    "isSmith = students[\"LastName\"] == \"Smith\"\n",
    "\n",
    "# Gives us [True, False, True]\n",
    "print(isSmith)\n",
    "\n",
    "print(students.loc[isSmith])\n",
    "\n",
    "# Putting all of this together in one row we get\n",
    "students.loc[students[\"LastName\"] == \"Smith\"]"
   ]
  },
  {
   "cell_type": "markdown",
   "metadata": {},
   "source": [
    "We can build up complex queries using the python logical-and and logical-or operators. If combinations are used,  we must put both sides of the equation inside parentheses."
   ]
  },
  {
   "cell_type": "code",
   "execution_count": 75,
   "metadata": {},
   "outputs": [
    {
     "data": {
      "text/html": [
       "<div>\n",
       "<style scoped>\n",
       "    .dataframe tbody tr th:only-of-type {\n",
       "        vertical-align: middle;\n",
       "    }\n",
       "\n",
       "    .dataframe tbody tr th {\n",
       "        vertical-align: top;\n",
       "    }\n",
       "\n",
       "    .dataframe thead th {\n",
       "        text-align: right;\n",
       "    }\n",
       "</style>\n",
       "<table border=\"1\" class=\"dataframe\">\n",
       "  <thead>\n",
       "    <tr style=\"text-align: right;\">\n",
       "      <th></th>\n",
       "      <th>StudentNo</th>\n",
       "      <th>FirstName</th>\n",
       "      <th>LastName</th>\n",
       "    </tr>\n",
       "  </thead>\n",
       "  <tbody>\n",
       "    <tr>\n",
       "      <th>0</th>\n",
       "      <td>d19122334</td>\n",
       "      <td>John</td>\n",
       "      <td>Smith</td>\n",
       "    </tr>\n",
       "    <tr>\n",
       "      <th>1</th>\n",
       "      <td>d19155667</td>\n",
       "      <td>Jane</td>\n",
       "      <td>Doe</td>\n",
       "    </tr>\n",
       "  </tbody>\n",
       "</table>\n",
       "</div>"
      ],
      "text/plain": [
       "   StudentNo FirstName LastName\n",
       "0  d19122334      John    Smith\n",
       "1  d19155667      Jane      Doe"
      ]
     },
     "execution_count": 75,
     "metadata": {},
     "output_type": "execute_result"
    }
   ],
   "source": [
    "students.loc[(students[\"LastName\"]==\"Doe\")|(students[\"FirstName\"]==\"John\")]"
   ]
  },
  {
   "cell_type": "code",
   "execution_count": 76,
   "metadata": {},
   "outputs": [
    {
     "data": {
      "text/html": [
       "<div>\n",
       "<style scoped>\n",
       "    .dataframe tbody tr th:only-of-type {\n",
       "        vertical-align: middle;\n",
       "    }\n",
       "\n",
       "    .dataframe tbody tr th {\n",
       "        vertical-align: top;\n",
       "    }\n",
       "\n",
       "    .dataframe thead th {\n",
       "        text-align: right;\n",
       "    }\n",
       "</style>\n",
       "<table border=\"1\" class=\"dataframe\">\n",
       "  <thead>\n",
       "    <tr style=\"text-align: right;\">\n",
       "      <th></th>\n",
       "      <th>sepal.length</th>\n",
       "      <th>sepal.width</th>\n",
       "      <th>petal.length</th>\n",
       "      <th>petal.width</th>\n",
       "      <th>variety</th>\n",
       "    </tr>\n",
       "  </thead>\n",
       "  <tbody>\n",
       "    <tr>\n",
       "      <th>0</th>\n",
       "      <td>5.1</td>\n",
       "      <td>3.5</td>\n",
       "      <td>1.4</td>\n",
       "      <td>0.2</td>\n",
       "      <td>Setosa</td>\n",
       "    </tr>\n",
       "    <tr>\n",
       "      <th>1</th>\n",
       "      <td>4.9</td>\n",
       "      <td>3.0</td>\n",
       "      <td>1.4</td>\n",
       "      <td>0.2</td>\n",
       "      <td>Setosa</td>\n",
       "    </tr>\n",
       "    <tr>\n",
       "      <th>2</th>\n",
       "      <td>4.7</td>\n",
       "      <td>3.2</td>\n",
       "      <td>1.3</td>\n",
       "      <td>0.2</td>\n",
       "      <td>Setosa</td>\n",
       "    </tr>\n",
       "    <tr>\n",
       "      <th>3</th>\n",
       "      <td>4.6</td>\n",
       "      <td>3.1</td>\n",
       "      <td>1.5</td>\n",
       "      <td>0.2</td>\n",
       "      <td>Setosa</td>\n",
       "    </tr>\n",
       "    <tr>\n",
       "      <th>4</th>\n",
       "      <td>5.0</td>\n",
       "      <td>3.6</td>\n",
       "      <td>1.4</td>\n",
       "      <td>0.2</td>\n",
       "      <td>Setosa</td>\n",
       "    </tr>\n",
       "    <tr>\n",
       "      <th>...</th>\n",
       "      <td>...</td>\n",
       "      <td>...</td>\n",
       "      <td>...</td>\n",
       "      <td>...</td>\n",
       "      <td>...</td>\n",
       "    </tr>\n",
       "    <tr>\n",
       "      <th>113</th>\n",
       "      <td>5.7</td>\n",
       "      <td>2.5</td>\n",
       "      <td>5.0</td>\n",
       "      <td>2.0</td>\n",
       "      <td>Virginica</td>\n",
       "    </tr>\n",
       "    <tr>\n",
       "      <th>114</th>\n",
       "      <td>5.8</td>\n",
       "      <td>2.8</td>\n",
       "      <td>5.1</td>\n",
       "      <td>2.4</td>\n",
       "      <td>Virginica</td>\n",
       "    </tr>\n",
       "    <tr>\n",
       "      <th>121</th>\n",
       "      <td>5.6</td>\n",
       "      <td>2.8</td>\n",
       "      <td>4.9</td>\n",
       "      <td>2.0</td>\n",
       "      <td>Virginica</td>\n",
       "    </tr>\n",
       "    <tr>\n",
       "      <th>142</th>\n",
       "      <td>5.8</td>\n",
       "      <td>2.7</td>\n",
       "      <td>5.1</td>\n",
       "      <td>1.9</td>\n",
       "      <td>Virginica</td>\n",
       "    </tr>\n",
       "    <tr>\n",
       "      <th>149</th>\n",
       "      <td>5.9</td>\n",
       "      <td>3.0</td>\n",
       "      <td>5.1</td>\n",
       "      <td>1.8</td>\n",
       "      <td>Virginica</td>\n",
       "    </tr>\n",
       "  </tbody>\n",
       "</table>\n",
       "<p>83 rows × 5 columns</p>\n",
       "</div>"
      ],
      "text/plain": [
       "     sepal.length  sepal.width  petal.length  petal.width    variety\n",
       "0             5.1          3.5           1.4          0.2     Setosa\n",
       "1             4.9          3.0           1.4          0.2     Setosa\n",
       "2             4.7          3.2           1.3          0.2     Setosa\n",
       "3             4.6          3.1           1.5          0.2     Setosa\n",
       "4             5.0          3.6           1.4          0.2     Setosa\n",
       "..            ...          ...           ...          ...        ...\n",
       "113           5.7          2.5           5.0          2.0  Virginica\n",
       "114           5.8          2.8           5.1          2.4  Virginica\n",
       "121           5.6          2.8           4.9          2.0  Virginica\n",
       "142           5.8          2.7           5.1          1.9  Virginica\n",
       "149           5.9          3.0           5.1          1.8  Virginica\n",
       "\n",
       "[83 rows x 5 columns]"
      ]
     },
     "execution_count": 76,
     "metadata": {},
     "output_type": "execute_result"
    }
   ],
   "source": [
    "# Get all rows in the iris dataset with sepal length less than 6.0\n",
    "df.loc[df[\"sepal.length\"]<6.0]"
   ]
  },
  {
   "cell_type": "code",
   "execution_count": 77,
   "metadata": {},
   "outputs": [
    {
     "name": "stdout",
     "output_type": "stream",
     "text": [
      "     sepal.length  sepal.width  petal.length  petal.width     variety\n",
      "50            7.0          3.2           4.7          1.4  Versicolor\n",
      "51            6.4          3.2           4.5          1.5  Versicolor\n",
      "52            6.9          3.1           4.9          1.5  Versicolor\n",
      "54            6.5          2.8           4.6          1.5  Versicolor\n",
      "55            5.7          2.8           4.5          1.3  Versicolor\n",
      "..            ...          ...           ...          ...         ...\n",
      "145           6.7          3.0           5.2          2.3   Virginica\n",
      "146           6.3          2.5           5.0          1.9   Virginica\n",
      "147           6.5          3.0           5.2          2.0   Virginica\n",
      "148           6.2          3.4           5.4          2.3   Virginica\n",
      "149           5.9          3.0           5.1          1.8   Virginica\n",
      "\n",
      "[84 rows x 5 columns]\n"
     ]
    }
   ],
   "source": [
    "# We can also filter the dataset using query method\n",
    "filtered_iris = df.query(\"`petal.length` > 4\")\n",
    "\n",
    "# Print the filtered dataset\n",
    "print(filtered_iris)"
   ]
  },
  {
   "cell_type": "markdown",
   "metadata": {},
   "source": [
    "#### Dropping Rows & Columns"
   ]
  },
  {
   "cell_type": "markdown",
   "metadata": {},
   "source": [
    "We can drop rows and columns using the drop() method. If we're dropping a columns we need to set the axis parameter to tell Pandas we're dropping a column and not a row. In general axis 0 mean rows and axis 1 means columns."
   ]
  },
  {
   "cell_type": "code",
   "execution_count": 78,
   "metadata": {},
   "outputs": [
    {
     "data": {
      "text/html": [
       "<div>\n",
       "<style scoped>\n",
       "    .dataframe tbody tr th:only-of-type {\n",
       "        vertical-align: middle;\n",
       "    }\n",
       "\n",
       "    .dataframe tbody tr th {\n",
       "        vertical-align: top;\n",
       "    }\n",
       "\n",
       "    .dataframe thead th {\n",
       "        text-align: right;\n",
       "    }\n",
       "</style>\n",
       "<table border=\"1\" class=\"dataframe\">\n",
       "  <thead>\n",
       "    <tr style=\"text-align: right;\">\n",
       "      <th></th>\n",
       "      <th>sepal.length</th>\n",
       "      <th>sepal.width</th>\n",
       "      <th>petal.length</th>\n",
       "      <th>petal.width</th>\n",
       "    </tr>\n",
       "  </thead>\n",
       "  <tbody>\n",
       "    <tr>\n",
       "      <th>0</th>\n",
       "      <td>5.1</td>\n",
       "      <td>3.5</td>\n",
       "      <td>1.4</td>\n",
       "      <td>0.2</td>\n",
       "    </tr>\n",
       "    <tr>\n",
       "      <th>1</th>\n",
       "      <td>4.9</td>\n",
       "      <td>3.0</td>\n",
       "      <td>1.4</td>\n",
       "      <td>0.2</td>\n",
       "    </tr>\n",
       "    <tr>\n",
       "      <th>2</th>\n",
       "      <td>4.7</td>\n",
       "      <td>3.2</td>\n",
       "      <td>1.3</td>\n",
       "      <td>0.2</td>\n",
       "    </tr>\n",
       "    <tr>\n",
       "      <th>3</th>\n",
       "      <td>4.6</td>\n",
       "      <td>3.1</td>\n",
       "      <td>1.5</td>\n",
       "      <td>0.2</td>\n",
       "    </tr>\n",
       "    <tr>\n",
       "      <th>4</th>\n",
       "      <td>5.0</td>\n",
       "      <td>3.6</td>\n",
       "      <td>1.4</td>\n",
       "      <td>0.2</td>\n",
       "    </tr>\n",
       "    <tr>\n",
       "      <th>...</th>\n",
       "      <td>...</td>\n",
       "      <td>...</td>\n",
       "      <td>...</td>\n",
       "      <td>...</td>\n",
       "    </tr>\n",
       "    <tr>\n",
       "      <th>145</th>\n",
       "      <td>6.7</td>\n",
       "      <td>3.0</td>\n",
       "      <td>5.2</td>\n",
       "      <td>2.3</td>\n",
       "    </tr>\n",
       "    <tr>\n",
       "      <th>146</th>\n",
       "      <td>6.3</td>\n",
       "      <td>2.5</td>\n",
       "      <td>5.0</td>\n",
       "      <td>1.9</td>\n",
       "    </tr>\n",
       "    <tr>\n",
       "      <th>147</th>\n",
       "      <td>6.5</td>\n",
       "      <td>3.0</td>\n",
       "      <td>5.2</td>\n",
       "      <td>2.0</td>\n",
       "    </tr>\n",
       "    <tr>\n",
       "      <th>148</th>\n",
       "      <td>6.2</td>\n",
       "      <td>3.4</td>\n",
       "      <td>5.4</td>\n",
       "      <td>2.3</td>\n",
       "    </tr>\n",
       "    <tr>\n",
       "      <th>149</th>\n",
       "      <td>5.9</td>\n",
       "      <td>3.0</td>\n",
       "      <td>5.1</td>\n",
       "      <td>1.8</td>\n",
       "    </tr>\n",
       "  </tbody>\n",
       "</table>\n",
       "<p>150 rows × 4 columns</p>\n",
       "</div>"
      ],
      "text/plain": [
       "     sepal.length  sepal.width  petal.length  petal.width\n",
       "0             5.1          3.5           1.4          0.2\n",
       "1             4.9          3.0           1.4          0.2\n",
       "2             4.7          3.2           1.3          0.2\n",
       "3             4.6          3.1           1.5          0.2\n",
       "4             5.0          3.6           1.4          0.2\n",
       "..            ...          ...           ...          ...\n",
       "145           6.7          3.0           5.2          2.3\n",
       "146           6.3          2.5           5.0          1.9\n",
       "147           6.5          3.0           5.2          2.0\n",
       "148           6.2          3.4           5.4          2.3\n",
       "149           5.9          3.0           5.1          1.8\n",
       "\n",
       "[150 rows x 4 columns]"
      ]
     },
     "execution_count": 78,
     "metadata": {},
     "output_type": "execute_result"
    }
   ],
   "source": [
    "df2 = df.copy()\n",
    "df2 = df.drop(\"variety\", axis=1)\n",
    "df2"
   ]
  },
  {
   "cell_type": "markdown",
   "metadata": {},
   "source": [
    "#### Summary Statistics"
   ]
  },
  {
   "cell_type": "markdown",
   "metadata": {},
   "source": [
    "We can find summary statistics using min(), max(), mean(), median(), mode(), std(), sum(). We can also call NumPy functions, such as percentile."
   ]
  },
  {
   "cell_type": "code",
   "execution_count": 79,
   "metadata": {},
   "outputs": [
    {
     "data": {
      "text/plain": [
       "sepal.length    5.843333\n",
       "sepal.width     3.057333\n",
       "petal.length    3.758000\n",
       "petal.width     1.199333\n",
       "dtype: float64"
      ]
     },
     "execution_count": 79,
     "metadata": {},
     "output_type": "execute_result"
    }
   ],
   "source": [
    "df2.mean()"
   ]
  },
  {
   "cell_type": "code",
   "execution_count": 80,
   "metadata": {},
   "outputs": [
    {
     "data": {
      "text/plain": [
       "6.4"
      ]
     },
     "execution_count": 80,
     "metadata": {},
     "output_type": "execute_result"
    }
   ],
   "source": [
    "np.percentile(df[\"sepal.length\"], 75)"
   ]
  },
  {
   "cell_type": "markdown",
   "metadata": {},
   "source": [
    "**Dealing with NaNs**\n",
    "\n",
    "We need to watch out for missing values. NaNs in the dataset can cause issues. We can remove rows or columns containing NaN values using the **dropna()** method. By default, this method drops any row containing at least one NaN value. You can also specify the axis and threshold for dropping NaN values. However, dropping NaNs can lead to loss of valuable information and may not always be the best strategy. We can also replace NaN values with a specified value using the **fillna()** method. For example, you can replace all NaN values with 0 using **df.fillna(0)**. You can also use other methods, such as forward or backward filling, where missing values are replaced by the value from the preceding or proceeding row or column. You can also interpolate NaN values using **interpolate()** to fill in missing values with interpolated values based on neighboring data points. This can be useful when dealing with time-series data. Finally, we can simply keep the NaN values and work around them by using logical operations like **isna()** and **notna()** to check for missing values in your data."
   ]
  },
  {
   "cell_type": "markdown",
   "metadata": {},
   "source": [
    "## 7. Classes <a class=\"anchor\" id=\"seventh-bullet\"></a>"
   ]
  },
  {
   "cell_type": "markdown",
   "metadata": {},
   "source": [
    "[TOP ↑](#top)"
   ]
  },
  {
   "cell_type": "markdown",
   "metadata": {},
   "source": [
    "Python is an object-oriented programming language. Therefore, almost everything in Python is an object, with its associated properties and methods. A **class** is an object constructor, or a \"blueprint\" for creating new objects."
   ]
  },
  {
   "cell_type": "markdown",
   "metadata": {},
   "source": [
    "In order to create a new object, we must use the class keyword, with the following syntax:\n",
    "\n",
    "```python\n",
    "class NameOfClass:\n",
    "    body\n",
    "```"
   ]
  },
  {
   "cell_type": "markdown",
   "metadata": {},
   "source": [
    "All classes have a special function, `__init__()`, which is executed when the class is being initiated. It's used to assign values to object properties, or other operations that are necessary when the object is being created. We can, for example, create a class named Company, to which we assign values for its name and year of establishment:"
   ]
  },
  {
   "cell_type": "markdown",
   "metadata": {},
   "source": [
    "```python\n",
    "class Company:\n",
    "  def __init__(self, name, established):\n",
    "    self.name = name\n",
    "    self.established = established\n",
    "\n",
    "company1 = Company(\"KPMG\", 1987)\n",
    "\n",
    "print(p1.name)\n",
    "print(p1.established)\n",
    "```"
   ]
  },
  {
   "cell_type": "markdown",
   "metadata": {},
   "source": [
    "The `__init__()` function is called automatically every time the class is being used to create a new object. The `self` parameter is a reference to the current instance of the class, and is used to access variables that belongs to the class."
   ]
  },
  {
   "cell_type": "markdown",
   "metadata": {},
   "source": [
    "Objects in Python can also contain methods, which are functions that belong to the object."
   ]
  },
  {
   "cell_type": "markdown",
   "metadata": {},
   "source": [
    "```python\n",
    "class Company:\n",
    "  def __init__(self, name, established):\n",
    "    self.name = name\n",
    "    self.established = established\n",
    "    \n",
    "  def myfunc(self):\n",
    "    print(\"The company name is \" + self.name)\n",
    "\n",
    "company1 = Company(\"KPMG\", 1987)\n",
    "\n",
    "p1.myfunc()\n",
    "```"
   ]
  }
 ],
 "metadata": {
  "kernelspec": {
   "display_name": "Python 3 (ipykernel)",
   "language": "python",
   "name": "python3"
  },
  "language_info": {
   "codemirror_mode": {
    "name": "ipython",
    "version": 3
   },
   "file_extension": ".py",
   "mimetype": "text/x-python",
   "name": "python",
   "nbconvert_exporter": "python",
   "pygments_lexer": "ipython3",
   "version": "3.10.9"
  },
  "toc": {
   "base_numbering": 1,
   "nav_menu": {},
   "number_sections": true,
   "sideBar": true,
   "skip_h1_title": false,
   "title_cell": "Table of Contents",
   "title_sidebar": "Contents",
   "toc_cell": false,
   "toc_position": {},
   "toc_section_display": true,
   "toc_window_display": false
  }
 },
 "nbformat": 4,
 "nbformat_minor": 4
}
